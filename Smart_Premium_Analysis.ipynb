{
 "cells": [
  {
   "cell_type": "markdown",
   "id": "1720ff6b",
   "metadata": {},
   "source": [
    "# SMART PREMIUM ANALYSIS"
   ]
  },
  {
   "cell_type": "markdown",
   "id": "6c62f838",
   "metadata": {},
   "source": [
    "### **Problem Statement**\n",
    "    **- Insurance companies use various factors such as age, income, health status, and claim history to estimate premiums for customers. The goal of this project is to build a machine learning model that accurately predicts insurance premiums based on customer characteristics and policy details.**"
   ]
  },
  {
   "cell_type": "markdown",
   "id": "466444be",
   "metadata": {},
   "source": [
    "### Importing and understanding the data"
   ]
  },
  {
   "cell_type": "code",
   "execution_count": 36,
   "id": "50c630d3",
   "metadata": {},
   "outputs": [],
   "source": [
    "# import libraries which are used in the code\n",
    "import pandas as pd\n",
    "import seaborn as sns\n",
    "import matplotlib.pyplot as plt\n",
    "import numpy as np\n",
    "import plotly.express as px\n",
    "import plotly.graph_objects as go\n",
    "import os\n",
    "import joblib\n",
    "import mlflow\n",
    "# import        .sklearn\n",
    "\n",
    "from sklearn.model_selection import GridSearchCV , RandomizedSearchCV \n",
    "from sklearn.linear_model import LinearRegression\n",
    "from sklearn.tree import DecisionTreeRegressor\n",
    "from sklearn.ensemble import RandomForestRegressor\n",
    "from xgboost import XGBRegressor\n",
    "from sklearn.preprocessing import  OneHotEncoder\n",
    "from sklearn.pipeline import Pipeline\n",
    "from sklearn.compose import ColumnTransformer\n",
    "\n",
    "\n",
    "from sklearn.metrics import mean_squared_error, mean_absolute_error, r2_score\n",
    "from sklearn.model_selection import train_test_split\n",
    "\n",
    "# ignore all the warning messages\n",
    "import warnings\n",
    "warnings.filterwarnings(\"ignore\")\n"
   ]
  },
  {
   "cell_type": "code",
   "execution_count": 2,
   "id": "7686057d",
   "metadata": {},
   "outputs": [
    {
     "data": {
      "application/vnd.microsoft.datawrangler.viewer.v0+json": {
       "columns": [
        {
         "name": "id",
         "rawType": "int64",
         "type": "integer"
        },
        {
         "name": "Age",
         "rawType": "float64",
         "type": "float"
        },
        {
         "name": "Gender",
         "rawType": "object",
         "type": "string"
        },
        {
         "name": "Annual Income",
         "rawType": "float64",
         "type": "float"
        },
        {
         "name": "Marital Status",
         "rawType": "object",
         "type": "string"
        },
        {
         "name": "Number of Dependents",
         "rawType": "float64",
         "type": "float"
        },
        {
         "name": "Education Level",
         "rawType": "object",
         "type": "string"
        },
        {
         "name": "Occupation",
         "rawType": "object",
         "type": "unknown"
        },
        {
         "name": "Health Score",
         "rawType": "float64",
         "type": "float"
        },
        {
         "name": "Location",
         "rawType": "object",
         "type": "string"
        },
        {
         "name": "Policy Type",
         "rawType": "object",
         "type": "string"
        },
        {
         "name": "Previous Claims",
         "rawType": "float64",
         "type": "float"
        },
        {
         "name": "Vehicle Age",
         "rawType": "float64",
         "type": "float"
        },
        {
         "name": "Credit Score",
         "rawType": "float64",
         "type": "float"
        },
        {
         "name": "Insurance Duration",
         "rawType": "float64",
         "type": "float"
        },
        {
         "name": "Policy Start Date",
         "rawType": "object",
         "type": "string"
        },
        {
         "name": "Customer Feedback",
         "rawType": "object",
         "type": "string"
        },
        {
         "name": "Smoking Status",
         "rawType": "object",
         "type": "string"
        },
        {
         "name": "Exercise Frequency",
         "rawType": "object",
         "type": "string"
        },
        {
         "name": "Property Type",
         "rawType": "object",
         "type": "string"
        },
        {
         "name": "Premium Amount",
         "rawType": "float64",
         "type": "float"
        }
       ],
       "ref": "a9c1f53e-f113-4fba-ae7b-295877fa4d49",
       "rows": [
        [
         "0",
         "19.0",
         "Female",
         "10049.0",
         "Married",
         "1.0",
         "Bachelor's",
         "Self-Employed",
         "22.59876067181393",
         "Urban",
         "Premium",
         "2.0",
         "17.0",
         "372.0",
         "5.0",
         "2023-12-23 15:21:39.134960",
         "Poor",
         "No",
         "Weekly",
         "House",
         "2869.0"
        ],
        [
         "1",
         "39.0",
         "Female",
         "31678.0",
         "Divorced",
         "3.0",
         "Master's",
         null,
         "15.569730989408043",
         "Rural",
         "Comprehensive",
         "1.0",
         "12.0",
         "694.0",
         "2.0",
         "2023-06-12 15:21:39.111551",
         "Average",
         "Yes",
         "Monthly",
         "House",
         "1483.0"
        ],
        [
         "2",
         "23.0",
         "Male",
         "25602.0",
         "Divorced",
         "3.0",
         "High School",
         "Self-Employed",
         "47.17754928786464",
         "Suburban",
         "Premium",
         "1.0",
         "14.0",
         null,
         "3.0",
         "2023-09-30 15:21:39.221386",
         "Good",
         "Yes",
         "Weekly",
         "House",
         "567.0"
        ],
        [
         "3",
         "21.0",
         "Male",
         "141855.0",
         "Married",
         "2.0",
         "Bachelor's",
         null,
         "10.938144158664583",
         "Rural",
         "Basic",
         "1.0",
         "0.0",
         "367.0",
         "1.0",
         "2024-06-12 15:21:39.226954",
         "Poor",
         "Yes",
         "Daily",
         "Apartment",
         "765.0"
        ],
        [
         "4",
         "21.0",
         "Male",
         "39651.0",
         "Single",
         "1.0",
         "Bachelor's",
         "Self-Employed",
         "20.376093627736925",
         "Rural",
         "Premium",
         "0.0",
         "8.0",
         "598.0",
         "4.0",
         "2021-12-01 15:21:39.252145",
         "Poor",
         "Yes",
         "Weekly",
         "House",
         "2022.0"
        ],
        [
         "5",
         "29.0",
         "Male",
         "45963.0",
         "Married",
         "1.0",
         "Bachelor's",
         null,
         "33.05319768402281",
         "Urban",
         "Premium",
         "2.0",
         "4.0",
         "614.0",
         "5.0",
         "2022-05-20 15:21:39.207847",
         "Average",
         "No",
         "Weekly",
         "House",
         "3202.0"
        ],
        [
         "6",
         "41.0",
         "Male",
         "40336.0",
         "Married",
         "0.0",
         "PhD",
         null,
         null,
         "Rural",
         "Basic",
         "2.0",
         "8.0",
         "807.0",
         "6.0",
         "2020-02-21 15:21:39.219432",
         "Poor",
         "No",
         "Weekly",
         "House",
         "439.0"
        ],
        [
         "7",
         "48.0",
         "Female",
         "127237.0",
         "Divorced",
         "2.0",
         "High School",
         "Employed",
         "5.769783092512088",
         "Suburban",
         "Comprehensive",
         "1.0",
         "11.0",
         "398.0",
         "5.0",
         "2022-08-08 15:21:39.181605",
         "Average",
         "No",
         "Rarely",
         "Condo",
         "111.0"
        ],
        [
         "8",
         "21.0",
         "Male",
         "1733.0",
         "Divorced",
         "3.0",
         "Bachelor's",
         null,
         "17.869550814826297",
         "Urban",
         "Premium",
         "1.0",
         "10.0",
         "685.0",
         "8.0",
         "2020-12-14 15:21:39.198406",
         "Average",
         "No",
         "Monthly",
         "Condo",
         "213.0"
        ],
        [
         "9",
         "44.0",
         "Male",
         "52447.0",
         "Married",
         "2.0",
         "Master's",
         "Employed",
         "20.47371785695596",
         "Urban",
         "Comprehensive",
         "1.0",
         "9.0",
         "635.0",
         "3.0",
         "2020-08-02 15:21:39.144722",
         "Poor",
         "No",
         "Daily",
         "Condo",
         "64.0"
        ],
        [
         "10",
         "56.0",
         "Female",
         "8054.0",
         "Married",
         "1.0",
         "Bachelor's",
         "Unemployed",
         null,
         "Rural",
         "Premium",
         "1.0",
         "8.0",
         "431.0",
         "8.0",
         "2021-05-12 15:21:39.134960",
         "Average",
         "No",
         "Monthly",
         "Condo",
         "857.0"
        ],
        [
         "11",
         "23.0",
         "Male",
         "30983.0",
         "Single",
         "3.0",
         "Master's",
         null,
         "5.813128940949042",
         "Urban",
         "Premium",
         null,
         "6.0",
         "597.0",
         "8.0",
         "2020-03-22 15:21:39.155231",
         "Good",
         "No",
         "Rarely",
         "Condo",
         "1447.0"
        ],
        [
         "12",
         "25.0",
         "Female",
         "23706.0",
         "Single",
         "4.0",
         "Master's",
         "Employed",
         "4.090538023921365",
         "Urban",
         "Comprehensive",
         "2.0",
         "19.0",
         null,
         "2.0",
         "2021-10-28 15:21:39.086123",
         "Poor",
         "Yes",
         "Weekly",
         "Apartment",
         "703.0"
        ],
        [
         "13",
         "44.0",
         "Female",
         "70893.0",
         "Single",
         "0.0",
         "Bachelor's",
         null,
         "55.89632239159919",
         "Suburban",
         "Premium",
         "0.0",
         "3.0",
         "511.0",
         "6.0",
         "2023-01-20 15:21:39.132191",
         "Good",
         "Yes",
         "Weekly",
         "House",
         "1847.0"
        ],
        [
         "14",
         "40.0",
         "Female",
         "23897.0",
         "Divorced",
         null,
         "High School",
         "Self-Employed",
         "29.08203615642357",
         "Suburban",
         "Basic",
         "2.0",
         "15.0",
         "498.0",
         "1.0",
         "2021-08-14 15:21:39.233998",
         "Good",
         "No",
         "Rarely",
         "Condo",
         "30.0"
        ],
        [
         "15",
         "18.0",
         "Male",
         "6076.0",
         "Married",
         "2.0",
         "High School",
         "Employed",
         "7.442964015746718",
         "Urban",
         "Premium",
         "1.0",
         "12.0",
         "584.0",
         "5.0",
         "2020-10-17 15:21:39.209847",
         "Good",
         "Yes",
         "Monthly",
         "Apartment",
         "849.0"
        ],
        [
         "16",
         "59.0",
         "Female",
         "28266.0",
         "Divorced",
         "2.0",
         "PhD",
         "Unemployed",
         "21.67346054211263",
         "Urban",
         "Basic",
         "0.0",
         "16.0",
         null,
         "3.0",
         "2024-04-22 15:21:39.255696",
         "Average",
         "Yes",
         "Weekly",
         "Condo",
         "183.0"
        ],
        [
         "17",
         "34.0",
         "Female",
         "45907.0",
         "Divorced",
         "4.0",
         "High School",
         "Self-Employed",
         "24.0596387644636",
         "Suburban",
         "Comprehensive",
         "0.0",
         "0.0",
         "694.0",
         "8.0",
         "2020-12-27 15:21:39.090124",
         "Poor",
         "Yes",
         "Daily",
         "Condo",
         "643.0"
        ],
        [
         "18",
         "18.0",
         "Male",
         "29071.0",
         "Married",
         null,
         "Bachelor's",
         "Employed",
         "20.8389765352726",
         "Rural",
         "Premium",
         "1.0",
         "5.0",
         null,
         "3.0",
         "2021-10-13 15:21:39.094752",
         "Poor",
         "Yes",
         "Rarely",
         "Apartment",
         "787.0"
        ],
        [
         "19",
         "40.0",
         "Female",
         "123751.0",
         "Single",
         "2.0",
         "Master's",
         "Self-Employed",
         "24.95531647911226",
         "Suburban",
         "Premium",
         "0.0",
         "8.0",
         "420.0",
         "2.0",
         "2020-06-25 15:21:39.152732",
         "Good",
         "Yes",
         "Rarely",
         "Condo",
         "40.0"
        ],
        [
         "20",
         "39.0",
         "Male",
         "6837.0",
         "Divorced",
         "2.0",
         "High School",
         "Self-Employed",
         "17.814458917250235",
         "Urban",
         "Premium",
         null,
         "7.0",
         "595.0",
         "2.0",
         "2024-06-25 15:21:39.272456",
         "Good",
         "Yes",
         "Daily",
         "Apartment",
         "1204.0"
        ],
        [
         "21",
         "44.0",
         "Female",
         "14042.0",
         "Divorced",
         "2.0",
         "Master's",
         null,
         "4.551825118494738",
         "Urban",
         "Basic",
         null,
         "6.0",
         "799.0",
         "5.0",
         "2023-07-31 15:21:39.237118",
         "Good",
         "Yes",
         "Weekly",
         "Apartment",
         "2670.0"
        ],
        [
         "22",
         "22.0",
         "Male",
         null,
         "Divorced",
         "4.0",
         "PhD",
         null,
         "25.58378995160535",
         "Urban",
         "Comprehensive",
         null,
         "5.0",
         "773.0",
         "5.0",
         "2021-10-09 15:21:39.258696",
         "Good",
         "Yes",
         "Monthly",
         "House",
         "202.0"
        ],
        [
         "23",
         "34.0",
         "Female",
         "32762.0",
         "Divorced",
         "1.0",
         "Bachelor's",
         null,
         "21.96760938053775",
         "Rural",
         "Premium",
         "0.0",
         "10.0",
         "798.0",
         "1.0",
         "2020-01-16 15:21:39.096739",
         "Average",
         "Yes",
         "Monthly",
         "Condo",
         "3869.0"
        ],
        [
         "24",
         "46.0",
         "Male",
         "24708.0",
         "Married",
         "3.0",
         "High School",
         "Employed",
         "26.3412591810326",
         "Urban",
         "Premium",
         null,
         "0.0",
         "543.0",
         "4.0",
         "2021-08-30 15:21:39.134960",
         "Average",
         "No",
         "Daily",
         "House",
         "1136.0"
        ]
       ],
       "shape": {
        "columns": 20,
        "rows": 25
       }
      },
      "text/html": [
       "<div>\n",
       "<style scoped>\n",
       "    .dataframe tbody tr th:only-of-type {\n",
       "        vertical-align: middle;\n",
       "    }\n",
       "\n",
       "    .dataframe tbody tr th {\n",
       "        vertical-align: top;\n",
       "    }\n",
       "\n",
       "    .dataframe thead th {\n",
       "        text-align: right;\n",
       "    }\n",
       "</style>\n",
       "<table border=\"1\" class=\"dataframe\">\n",
       "  <thead>\n",
       "    <tr style=\"text-align: right;\">\n",
       "      <th></th>\n",
       "      <th>Age</th>\n",
       "      <th>Gender</th>\n",
       "      <th>Annual Income</th>\n",
       "      <th>Marital Status</th>\n",
       "      <th>Number of Dependents</th>\n",
       "      <th>Education Level</th>\n",
       "      <th>Occupation</th>\n",
       "      <th>Health Score</th>\n",
       "      <th>Location</th>\n",
       "      <th>Policy Type</th>\n",
       "      <th>Previous Claims</th>\n",
       "      <th>Vehicle Age</th>\n",
       "      <th>Credit Score</th>\n",
       "      <th>Insurance Duration</th>\n",
       "      <th>Policy Start Date</th>\n",
       "      <th>Customer Feedback</th>\n",
       "      <th>Smoking Status</th>\n",
       "      <th>Exercise Frequency</th>\n",
       "      <th>Property Type</th>\n",
       "      <th>Premium Amount</th>\n",
       "    </tr>\n",
       "    <tr>\n",
       "      <th>id</th>\n",
       "      <th></th>\n",
       "      <th></th>\n",
       "      <th></th>\n",
       "      <th></th>\n",
       "      <th></th>\n",
       "      <th></th>\n",
       "      <th></th>\n",
       "      <th></th>\n",
       "      <th></th>\n",
       "      <th></th>\n",
       "      <th></th>\n",
       "      <th></th>\n",
       "      <th></th>\n",
       "      <th></th>\n",
       "      <th></th>\n",
       "      <th></th>\n",
       "      <th></th>\n",
       "      <th></th>\n",
       "      <th></th>\n",
       "      <th></th>\n",
       "    </tr>\n",
       "  </thead>\n",
       "  <tbody>\n",
       "    <tr>\n",
       "      <th>0</th>\n",
       "      <td>19.0</td>\n",
       "      <td>Female</td>\n",
       "      <td>10049.0</td>\n",
       "      <td>Married</td>\n",
       "      <td>1.0</td>\n",
       "      <td>Bachelor's</td>\n",
       "      <td>Self-Employed</td>\n",
       "      <td>22.598761</td>\n",
       "      <td>Urban</td>\n",
       "      <td>Premium</td>\n",
       "      <td>2.0</td>\n",
       "      <td>17.0</td>\n",
       "      <td>372.0</td>\n",
       "      <td>5.0</td>\n",
       "      <td>2023-12-23 15:21:39.134960</td>\n",
       "      <td>Poor</td>\n",
       "      <td>No</td>\n",
       "      <td>Weekly</td>\n",
       "      <td>House</td>\n",
       "      <td>2869.0</td>\n",
       "    </tr>\n",
       "    <tr>\n",
       "      <th>1</th>\n",
       "      <td>39.0</td>\n",
       "      <td>Female</td>\n",
       "      <td>31678.0</td>\n",
       "      <td>Divorced</td>\n",
       "      <td>3.0</td>\n",
       "      <td>Master's</td>\n",
       "      <td>NaN</td>\n",
       "      <td>15.569731</td>\n",
       "      <td>Rural</td>\n",
       "      <td>Comprehensive</td>\n",
       "      <td>1.0</td>\n",
       "      <td>12.0</td>\n",
       "      <td>694.0</td>\n",
       "      <td>2.0</td>\n",
       "      <td>2023-06-12 15:21:39.111551</td>\n",
       "      <td>Average</td>\n",
       "      <td>Yes</td>\n",
       "      <td>Monthly</td>\n",
       "      <td>House</td>\n",
       "      <td>1483.0</td>\n",
       "    </tr>\n",
       "    <tr>\n",
       "      <th>2</th>\n",
       "      <td>23.0</td>\n",
       "      <td>Male</td>\n",
       "      <td>25602.0</td>\n",
       "      <td>Divorced</td>\n",
       "      <td>3.0</td>\n",
       "      <td>High School</td>\n",
       "      <td>Self-Employed</td>\n",
       "      <td>47.177549</td>\n",
       "      <td>Suburban</td>\n",
       "      <td>Premium</td>\n",
       "      <td>1.0</td>\n",
       "      <td>14.0</td>\n",
       "      <td>NaN</td>\n",
       "      <td>3.0</td>\n",
       "      <td>2023-09-30 15:21:39.221386</td>\n",
       "      <td>Good</td>\n",
       "      <td>Yes</td>\n",
       "      <td>Weekly</td>\n",
       "      <td>House</td>\n",
       "      <td>567.0</td>\n",
       "    </tr>\n",
       "    <tr>\n",
       "      <th>3</th>\n",
       "      <td>21.0</td>\n",
       "      <td>Male</td>\n",
       "      <td>141855.0</td>\n",
       "      <td>Married</td>\n",
       "      <td>2.0</td>\n",
       "      <td>Bachelor's</td>\n",
       "      <td>NaN</td>\n",
       "      <td>10.938144</td>\n",
       "      <td>Rural</td>\n",
       "      <td>Basic</td>\n",
       "      <td>1.0</td>\n",
       "      <td>0.0</td>\n",
       "      <td>367.0</td>\n",
       "      <td>1.0</td>\n",
       "      <td>2024-06-12 15:21:39.226954</td>\n",
       "      <td>Poor</td>\n",
       "      <td>Yes</td>\n",
       "      <td>Daily</td>\n",
       "      <td>Apartment</td>\n",
       "      <td>765.0</td>\n",
       "    </tr>\n",
       "    <tr>\n",
       "      <th>4</th>\n",
       "      <td>21.0</td>\n",
       "      <td>Male</td>\n",
       "      <td>39651.0</td>\n",
       "      <td>Single</td>\n",
       "      <td>1.0</td>\n",
       "      <td>Bachelor's</td>\n",
       "      <td>Self-Employed</td>\n",
       "      <td>20.376094</td>\n",
       "      <td>Rural</td>\n",
       "      <td>Premium</td>\n",
       "      <td>0.0</td>\n",
       "      <td>8.0</td>\n",
       "      <td>598.0</td>\n",
       "      <td>4.0</td>\n",
       "      <td>2021-12-01 15:21:39.252145</td>\n",
       "      <td>Poor</td>\n",
       "      <td>Yes</td>\n",
       "      <td>Weekly</td>\n",
       "      <td>House</td>\n",
       "      <td>2022.0</td>\n",
       "    </tr>\n",
       "    <tr>\n",
       "      <th>5</th>\n",
       "      <td>29.0</td>\n",
       "      <td>Male</td>\n",
       "      <td>45963.0</td>\n",
       "      <td>Married</td>\n",
       "      <td>1.0</td>\n",
       "      <td>Bachelor's</td>\n",
       "      <td>NaN</td>\n",
       "      <td>33.053198</td>\n",
       "      <td>Urban</td>\n",
       "      <td>Premium</td>\n",
       "      <td>2.0</td>\n",
       "      <td>4.0</td>\n",
       "      <td>614.0</td>\n",
       "      <td>5.0</td>\n",
       "      <td>2022-05-20 15:21:39.207847</td>\n",
       "      <td>Average</td>\n",
       "      <td>No</td>\n",
       "      <td>Weekly</td>\n",
       "      <td>House</td>\n",
       "      <td>3202.0</td>\n",
       "    </tr>\n",
       "    <tr>\n",
       "      <th>6</th>\n",
       "      <td>41.0</td>\n",
       "      <td>Male</td>\n",
       "      <td>40336.0</td>\n",
       "      <td>Married</td>\n",
       "      <td>0.0</td>\n",
       "      <td>PhD</td>\n",
       "      <td>NaN</td>\n",
       "      <td>NaN</td>\n",
       "      <td>Rural</td>\n",
       "      <td>Basic</td>\n",
       "      <td>2.0</td>\n",
       "      <td>8.0</td>\n",
       "      <td>807.0</td>\n",
       "      <td>6.0</td>\n",
       "      <td>2020-02-21 15:21:39.219432</td>\n",
       "      <td>Poor</td>\n",
       "      <td>No</td>\n",
       "      <td>Weekly</td>\n",
       "      <td>House</td>\n",
       "      <td>439.0</td>\n",
       "    </tr>\n",
       "    <tr>\n",
       "      <th>7</th>\n",
       "      <td>48.0</td>\n",
       "      <td>Female</td>\n",
       "      <td>127237.0</td>\n",
       "      <td>Divorced</td>\n",
       "      <td>2.0</td>\n",
       "      <td>High School</td>\n",
       "      <td>Employed</td>\n",
       "      <td>5.769783</td>\n",
       "      <td>Suburban</td>\n",
       "      <td>Comprehensive</td>\n",
       "      <td>1.0</td>\n",
       "      <td>11.0</td>\n",
       "      <td>398.0</td>\n",
       "      <td>5.0</td>\n",
       "      <td>2022-08-08 15:21:39.181605</td>\n",
       "      <td>Average</td>\n",
       "      <td>No</td>\n",
       "      <td>Rarely</td>\n",
       "      <td>Condo</td>\n",
       "      <td>111.0</td>\n",
       "    </tr>\n",
       "    <tr>\n",
       "      <th>8</th>\n",
       "      <td>21.0</td>\n",
       "      <td>Male</td>\n",
       "      <td>1733.0</td>\n",
       "      <td>Divorced</td>\n",
       "      <td>3.0</td>\n",
       "      <td>Bachelor's</td>\n",
       "      <td>NaN</td>\n",
       "      <td>17.869551</td>\n",
       "      <td>Urban</td>\n",
       "      <td>Premium</td>\n",
       "      <td>1.0</td>\n",
       "      <td>10.0</td>\n",
       "      <td>685.0</td>\n",
       "      <td>8.0</td>\n",
       "      <td>2020-12-14 15:21:39.198406</td>\n",
       "      <td>Average</td>\n",
       "      <td>No</td>\n",
       "      <td>Monthly</td>\n",
       "      <td>Condo</td>\n",
       "      <td>213.0</td>\n",
       "    </tr>\n",
       "    <tr>\n",
       "      <th>9</th>\n",
       "      <td>44.0</td>\n",
       "      <td>Male</td>\n",
       "      <td>52447.0</td>\n",
       "      <td>Married</td>\n",
       "      <td>2.0</td>\n",
       "      <td>Master's</td>\n",
       "      <td>Employed</td>\n",
       "      <td>20.473718</td>\n",
       "      <td>Urban</td>\n",
       "      <td>Comprehensive</td>\n",
       "      <td>1.0</td>\n",
       "      <td>9.0</td>\n",
       "      <td>635.0</td>\n",
       "      <td>3.0</td>\n",
       "      <td>2020-08-02 15:21:39.144722</td>\n",
       "      <td>Poor</td>\n",
       "      <td>No</td>\n",
       "      <td>Daily</td>\n",
       "      <td>Condo</td>\n",
       "      <td>64.0</td>\n",
       "    </tr>\n",
       "    <tr>\n",
       "      <th>10</th>\n",
       "      <td>56.0</td>\n",
       "      <td>Female</td>\n",
       "      <td>8054.0</td>\n",
       "      <td>Married</td>\n",
       "      <td>1.0</td>\n",
       "      <td>Bachelor's</td>\n",
       "      <td>Unemployed</td>\n",
       "      <td>NaN</td>\n",
       "      <td>Rural</td>\n",
       "      <td>Premium</td>\n",
       "      <td>1.0</td>\n",
       "      <td>8.0</td>\n",
       "      <td>431.0</td>\n",
       "      <td>8.0</td>\n",
       "      <td>2021-05-12 15:21:39.134960</td>\n",
       "      <td>Average</td>\n",
       "      <td>No</td>\n",
       "      <td>Monthly</td>\n",
       "      <td>Condo</td>\n",
       "      <td>857.0</td>\n",
       "    </tr>\n",
       "    <tr>\n",
       "      <th>11</th>\n",
       "      <td>23.0</td>\n",
       "      <td>Male</td>\n",
       "      <td>30983.0</td>\n",
       "      <td>Single</td>\n",
       "      <td>3.0</td>\n",
       "      <td>Master's</td>\n",
       "      <td>NaN</td>\n",
       "      <td>5.813129</td>\n",
       "      <td>Urban</td>\n",
       "      <td>Premium</td>\n",
       "      <td>NaN</td>\n",
       "      <td>6.0</td>\n",
       "      <td>597.0</td>\n",
       "      <td>8.0</td>\n",
       "      <td>2020-03-22 15:21:39.155231</td>\n",
       "      <td>Good</td>\n",
       "      <td>No</td>\n",
       "      <td>Rarely</td>\n",
       "      <td>Condo</td>\n",
       "      <td>1447.0</td>\n",
       "    </tr>\n",
       "    <tr>\n",
       "      <th>12</th>\n",
       "      <td>25.0</td>\n",
       "      <td>Female</td>\n",
       "      <td>23706.0</td>\n",
       "      <td>Single</td>\n",
       "      <td>4.0</td>\n",
       "      <td>Master's</td>\n",
       "      <td>Employed</td>\n",
       "      <td>4.090538</td>\n",
       "      <td>Urban</td>\n",
       "      <td>Comprehensive</td>\n",
       "      <td>2.0</td>\n",
       "      <td>19.0</td>\n",
       "      <td>NaN</td>\n",
       "      <td>2.0</td>\n",
       "      <td>2021-10-28 15:21:39.086123</td>\n",
       "      <td>Poor</td>\n",
       "      <td>Yes</td>\n",
       "      <td>Weekly</td>\n",
       "      <td>Apartment</td>\n",
       "      <td>703.0</td>\n",
       "    </tr>\n",
       "    <tr>\n",
       "      <th>13</th>\n",
       "      <td>44.0</td>\n",
       "      <td>Female</td>\n",
       "      <td>70893.0</td>\n",
       "      <td>Single</td>\n",
       "      <td>0.0</td>\n",
       "      <td>Bachelor's</td>\n",
       "      <td>NaN</td>\n",
       "      <td>55.896322</td>\n",
       "      <td>Suburban</td>\n",
       "      <td>Premium</td>\n",
       "      <td>0.0</td>\n",
       "      <td>3.0</td>\n",
       "      <td>511.0</td>\n",
       "      <td>6.0</td>\n",
       "      <td>2023-01-20 15:21:39.132191</td>\n",
       "      <td>Good</td>\n",
       "      <td>Yes</td>\n",
       "      <td>Weekly</td>\n",
       "      <td>House</td>\n",
       "      <td>1847.0</td>\n",
       "    </tr>\n",
       "    <tr>\n",
       "      <th>14</th>\n",
       "      <td>40.0</td>\n",
       "      <td>Female</td>\n",
       "      <td>23897.0</td>\n",
       "      <td>Divorced</td>\n",
       "      <td>NaN</td>\n",
       "      <td>High School</td>\n",
       "      <td>Self-Employed</td>\n",
       "      <td>29.082036</td>\n",
       "      <td>Suburban</td>\n",
       "      <td>Basic</td>\n",
       "      <td>2.0</td>\n",
       "      <td>15.0</td>\n",
       "      <td>498.0</td>\n",
       "      <td>1.0</td>\n",
       "      <td>2021-08-14 15:21:39.233998</td>\n",
       "      <td>Good</td>\n",
       "      <td>No</td>\n",
       "      <td>Rarely</td>\n",
       "      <td>Condo</td>\n",
       "      <td>30.0</td>\n",
       "    </tr>\n",
       "    <tr>\n",
       "      <th>15</th>\n",
       "      <td>18.0</td>\n",
       "      <td>Male</td>\n",
       "      <td>6076.0</td>\n",
       "      <td>Married</td>\n",
       "      <td>2.0</td>\n",
       "      <td>High School</td>\n",
       "      <td>Employed</td>\n",
       "      <td>7.442964</td>\n",
       "      <td>Urban</td>\n",
       "      <td>Premium</td>\n",
       "      <td>1.0</td>\n",
       "      <td>12.0</td>\n",
       "      <td>584.0</td>\n",
       "      <td>5.0</td>\n",
       "      <td>2020-10-17 15:21:39.209847</td>\n",
       "      <td>Good</td>\n",
       "      <td>Yes</td>\n",
       "      <td>Monthly</td>\n",
       "      <td>Apartment</td>\n",
       "      <td>849.0</td>\n",
       "    </tr>\n",
       "    <tr>\n",
       "      <th>16</th>\n",
       "      <td>59.0</td>\n",
       "      <td>Female</td>\n",
       "      <td>28266.0</td>\n",
       "      <td>Divorced</td>\n",
       "      <td>2.0</td>\n",
       "      <td>PhD</td>\n",
       "      <td>Unemployed</td>\n",
       "      <td>21.673461</td>\n",
       "      <td>Urban</td>\n",
       "      <td>Basic</td>\n",
       "      <td>0.0</td>\n",
       "      <td>16.0</td>\n",
       "      <td>NaN</td>\n",
       "      <td>3.0</td>\n",
       "      <td>2024-04-22 15:21:39.255696</td>\n",
       "      <td>Average</td>\n",
       "      <td>Yes</td>\n",
       "      <td>Weekly</td>\n",
       "      <td>Condo</td>\n",
       "      <td>183.0</td>\n",
       "    </tr>\n",
       "    <tr>\n",
       "      <th>17</th>\n",
       "      <td>34.0</td>\n",
       "      <td>Female</td>\n",
       "      <td>45907.0</td>\n",
       "      <td>Divorced</td>\n",
       "      <td>4.0</td>\n",
       "      <td>High School</td>\n",
       "      <td>Self-Employed</td>\n",
       "      <td>24.059639</td>\n",
       "      <td>Suburban</td>\n",
       "      <td>Comprehensive</td>\n",
       "      <td>0.0</td>\n",
       "      <td>0.0</td>\n",
       "      <td>694.0</td>\n",
       "      <td>8.0</td>\n",
       "      <td>2020-12-27 15:21:39.090124</td>\n",
       "      <td>Poor</td>\n",
       "      <td>Yes</td>\n",
       "      <td>Daily</td>\n",
       "      <td>Condo</td>\n",
       "      <td>643.0</td>\n",
       "    </tr>\n",
       "    <tr>\n",
       "      <th>18</th>\n",
       "      <td>18.0</td>\n",
       "      <td>Male</td>\n",
       "      <td>29071.0</td>\n",
       "      <td>Married</td>\n",
       "      <td>NaN</td>\n",
       "      <td>Bachelor's</td>\n",
       "      <td>Employed</td>\n",
       "      <td>20.838977</td>\n",
       "      <td>Rural</td>\n",
       "      <td>Premium</td>\n",
       "      <td>1.0</td>\n",
       "      <td>5.0</td>\n",
       "      <td>NaN</td>\n",
       "      <td>3.0</td>\n",
       "      <td>2021-10-13 15:21:39.094752</td>\n",
       "      <td>Poor</td>\n",
       "      <td>Yes</td>\n",
       "      <td>Rarely</td>\n",
       "      <td>Apartment</td>\n",
       "      <td>787.0</td>\n",
       "    </tr>\n",
       "    <tr>\n",
       "      <th>19</th>\n",
       "      <td>40.0</td>\n",
       "      <td>Female</td>\n",
       "      <td>123751.0</td>\n",
       "      <td>Single</td>\n",
       "      <td>2.0</td>\n",
       "      <td>Master's</td>\n",
       "      <td>Self-Employed</td>\n",
       "      <td>24.955316</td>\n",
       "      <td>Suburban</td>\n",
       "      <td>Premium</td>\n",
       "      <td>0.0</td>\n",
       "      <td>8.0</td>\n",
       "      <td>420.0</td>\n",
       "      <td>2.0</td>\n",
       "      <td>2020-06-25 15:21:39.152732</td>\n",
       "      <td>Good</td>\n",
       "      <td>Yes</td>\n",
       "      <td>Rarely</td>\n",
       "      <td>Condo</td>\n",
       "      <td>40.0</td>\n",
       "    </tr>\n",
       "    <tr>\n",
       "      <th>20</th>\n",
       "      <td>39.0</td>\n",
       "      <td>Male</td>\n",
       "      <td>6837.0</td>\n",
       "      <td>Divorced</td>\n",
       "      <td>2.0</td>\n",
       "      <td>High School</td>\n",
       "      <td>Self-Employed</td>\n",
       "      <td>17.814459</td>\n",
       "      <td>Urban</td>\n",
       "      <td>Premium</td>\n",
       "      <td>NaN</td>\n",
       "      <td>7.0</td>\n",
       "      <td>595.0</td>\n",
       "      <td>2.0</td>\n",
       "      <td>2024-06-25 15:21:39.272456</td>\n",
       "      <td>Good</td>\n",
       "      <td>Yes</td>\n",
       "      <td>Daily</td>\n",
       "      <td>Apartment</td>\n",
       "      <td>1204.0</td>\n",
       "    </tr>\n",
       "    <tr>\n",
       "      <th>21</th>\n",
       "      <td>44.0</td>\n",
       "      <td>Female</td>\n",
       "      <td>14042.0</td>\n",
       "      <td>Divorced</td>\n",
       "      <td>2.0</td>\n",
       "      <td>Master's</td>\n",
       "      <td>NaN</td>\n",
       "      <td>4.551825</td>\n",
       "      <td>Urban</td>\n",
       "      <td>Basic</td>\n",
       "      <td>NaN</td>\n",
       "      <td>6.0</td>\n",
       "      <td>799.0</td>\n",
       "      <td>5.0</td>\n",
       "      <td>2023-07-31 15:21:39.237118</td>\n",
       "      <td>Good</td>\n",
       "      <td>Yes</td>\n",
       "      <td>Weekly</td>\n",
       "      <td>Apartment</td>\n",
       "      <td>2670.0</td>\n",
       "    </tr>\n",
       "    <tr>\n",
       "      <th>22</th>\n",
       "      <td>22.0</td>\n",
       "      <td>Male</td>\n",
       "      <td>NaN</td>\n",
       "      <td>Divorced</td>\n",
       "      <td>4.0</td>\n",
       "      <td>PhD</td>\n",
       "      <td>NaN</td>\n",
       "      <td>25.583790</td>\n",
       "      <td>Urban</td>\n",
       "      <td>Comprehensive</td>\n",
       "      <td>NaN</td>\n",
       "      <td>5.0</td>\n",
       "      <td>773.0</td>\n",
       "      <td>5.0</td>\n",
       "      <td>2021-10-09 15:21:39.258696</td>\n",
       "      <td>Good</td>\n",
       "      <td>Yes</td>\n",
       "      <td>Monthly</td>\n",
       "      <td>House</td>\n",
       "      <td>202.0</td>\n",
       "    </tr>\n",
       "    <tr>\n",
       "      <th>23</th>\n",
       "      <td>34.0</td>\n",
       "      <td>Female</td>\n",
       "      <td>32762.0</td>\n",
       "      <td>Divorced</td>\n",
       "      <td>1.0</td>\n",
       "      <td>Bachelor's</td>\n",
       "      <td>NaN</td>\n",
       "      <td>21.967609</td>\n",
       "      <td>Rural</td>\n",
       "      <td>Premium</td>\n",
       "      <td>0.0</td>\n",
       "      <td>10.0</td>\n",
       "      <td>798.0</td>\n",
       "      <td>1.0</td>\n",
       "      <td>2020-01-16 15:21:39.096739</td>\n",
       "      <td>Average</td>\n",
       "      <td>Yes</td>\n",
       "      <td>Monthly</td>\n",
       "      <td>Condo</td>\n",
       "      <td>3869.0</td>\n",
       "    </tr>\n",
       "    <tr>\n",
       "      <th>24</th>\n",
       "      <td>46.0</td>\n",
       "      <td>Male</td>\n",
       "      <td>24708.0</td>\n",
       "      <td>Married</td>\n",
       "      <td>3.0</td>\n",
       "      <td>High School</td>\n",
       "      <td>Employed</td>\n",
       "      <td>26.341259</td>\n",
       "      <td>Urban</td>\n",
       "      <td>Premium</td>\n",
       "      <td>NaN</td>\n",
       "      <td>0.0</td>\n",
       "      <td>543.0</td>\n",
       "      <td>4.0</td>\n",
       "      <td>2021-08-30 15:21:39.134960</td>\n",
       "      <td>Average</td>\n",
       "      <td>No</td>\n",
       "      <td>Daily</td>\n",
       "      <td>House</td>\n",
       "      <td>1136.0</td>\n",
       "    </tr>\n",
       "  </tbody>\n",
       "</table>\n",
       "</div>"
      ],
      "text/plain": [
       "     Age  Gender  Annual Income Marital Status  Number of Dependents  \\\n",
       "id                                                                     \n",
       "0   19.0  Female        10049.0        Married                   1.0   \n",
       "1   39.0  Female        31678.0       Divorced                   3.0   \n",
       "2   23.0    Male        25602.0       Divorced                   3.0   \n",
       "3   21.0    Male       141855.0        Married                   2.0   \n",
       "4   21.0    Male        39651.0         Single                   1.0   \n",
       "5   29.0    Male        45963.0        Married                   1.0   \n",
       "6   41.0    Male        40336.0        Married                   0.0   \n",
       "7   48.0  Female       127237.0       Divorced                   2.0   \n",
       "8   21.0    Male         1733.0       Divorced                   3.0   \n",
       "9   44.0    Male        52447.0        Married                   2.0   \n",
       "10  56.0  Female         8054.0        Married                   1.0   \n",
       "11  23.0    Male        30983.0         Single                   3.0   \n",
       "12  25.0  Female        23706.0         Single                   4.0   \n",
       "13  44.0  Female        70893.0         Single                   0.0   \n",
       "14  40.0  Female        23897.0       Divorced                   NaN   \n",
       "15  18.0    Male         6076.0        Married                   2.0   \n",
       "16  59.0  Female        28266.0       Divorced                   2.0   \n",
       "17  34.0  Female        45907.0       Divorced                   4.0   \n",
       "18  18.0    Male        29071.0        Married                   NaN   \n",
       "19  40.0  Female       123751.0         Single                   2.0   \n",
       "20  39.0    Male         6837.0       Divorced                   2.0   \n",
       "21  44.0  Female        14042.0       Divorced                   2.0   \n",
       "22  22.0    Male            NaN       Divorced                   4.0   \n",
       "23  34.0  Female        32762.0       Divorced                   1.0   \n",
       "24  46.0    Male        24708.0        Married                   3.0   \n",
       "\n",
       "   Education Level     Occupation  Health Score  Location    Policy Type  \\\n",
       "id                                                                         \n",
       "0       Bachelor's  Self-Employed     22.598761     Urban        Premium   \n",
       "1         Master's            NaN     15.569731     Rural  Comprehensive   \n",
       "2      High School  Self-Employed     47.177549  Suburban        Premium   \n",
       "3       Bachelor's            NaN     10.938144     Rural          Basic   \n",
       "4       Bachelor's  Self-Employed     20.376094     Rural        Premium   \n",
       "5       Bachelor's            NaN     33.053198     Urban        Premium   \n",
       "6              PhD            NaN           NaN     Rural          Basic   \n",
       "7      High School       Employed      5.769783  Suburban  Comprehensive   \n",
       "8       Bachelor's            NaN     17.869551     Urban        Premium   \n",
       "9         Master's       Employed     20.473718     Urban  Comprehensive   \n",
       "10      Bachelor's     Unemployed           NaN     Rural        Premium   \n",
       "11        Master's            NaN      5.813129     Urban        Premium   \n",
       "12        Master's       Employed      4.090538     Urban  Comprehensive   \n",
       "13      Bachelor's            NaN     55.896322  Suburban        Premium   \n",
       "14     High School  Self-Employed     29.082036  Suburban          Basic   \n",
       "15     High School       Employed      7.442964     Urban        Premium   \n",
       "16             PhD     Unemployed     21.673461     Urban          Basic   \n",
       "17     High School  Self-Employed     24.059639  Suburban  Comprehensive   \n",
       "18      Bachelor's       Employed     20.838977     Rural        Premium   \n",
       "19        Master's  Self-Employed     24.955316  Suburban        Premium   \n",
       "20     High School  Self-Employed     17.814459     Urban        Premium   \n",
       "21        Master's            NaN      4.551825     Urban          Basic   \n",
       "22             PhD            NaN     25.583790     Urban  Comprehensive   \n",
       "23      Bachelor's            NaN     21.967609     Rural        Premium   \n",
       "24     High School       Employed     26.341259     Urban        Premium   \n",
       "\n",
       "    Previous Claims  Vehicle Age  Credit Score  Insurance Duration  \\\n",
       "id                                                                   \n",
       "0               2.0         17.0         372.0                 5.0   \n",
       "1               1.0         12.0         694.0                 2.0   \n",
       "2               1.0         14.0           NaN                 3.0   \n",
       "3               1.0          0.0         367.0                 1.0   \n",
       "4               0.0          8.0         598.0                 4.0   \n",
       "5               2.0          4.0         614.0                 5.0   \n",
       "6               2.0          8.0         807.0                 6.0   \n",
       "7               1.0         11.0         398.0                 5.0   \n",
       "8               1.0         10.0         685.0                 8.0   \n",
       "9               1.0          9.0         635.0                 3.0   \n",
       "10              1.0          8.0         431.0                 8.0   \n",
       "11              NaN          6.0         597.0                 8.0   \n",
       "12              2.0         19.0           NaN                 2.0   \n",
       "13              0.0          3.0         511.0                 6.0   \n",
       "14              2.0         15.0         498.0                 1.0   \n",
       "15              1.0         12.0         584.0                 5.0   \n",
       "16              0.0         16.0           NaN                 3.0   \n",
       "17              0.0          0.0         694.0                 8.0   \n",
       "18              1.0          5.0           NaN                 3.0   \n",
       "19              0.0          8.0         420.0                 2.0   \n",
       "20              NaN          7.0         595.0                 2.0   \n",
       "21              NaN          6.0         799.0                 5.0   \n",
       "22              NaN          5.0         773.0                 5.0   \n",
       "23              0.0         10.0         798.0                 1.0   \n",
       "24              NaN          0.0         543.0                 4.0   \n",
       "\n",
       "             Policy Start Date Customer Feedback Smoking Status  \\\n",
       "id                                                                \n",
       "0   2023-12-23 15:21:39.134960              Poor             No   \n",
       "1   2023-06-12 15:21:39.111551           Average            Yes   \n",
       "2   2023-09-30 15:21:39.221386              Good            Yes   \n",
       "3   2024-06-12 15:21:39.226954              Poor            Yes   \n",
       "4   2021-12-01 15:21:39.252145              Poor            Yes   \n",
       "5   2022-05-20 15:21:39.207847           Average             No   \n",
       "6   2020-02-21 15:21:39.219432              Poor             No   \n",
       "7   2022-08-08 15:21:39.181605           Average             No   \n",
       "8   2020-12-14 15:21:39.198406           Average             No   \n",
       "9   2020-08-02 15:21:39.144722              Poor             No   \n",
       "10  2021-05-12 15:21:39.134960           Average             No   \n",
       "11  2020-03-22 15:21:39.155231              Good             No   \n",
       "12  2021-10-28 15:21:39.086123              Poor            Yes   \n",
       "13  2023-01-20 15:21:39.132191              Good            Yes   \n",
       "14  2021-08-14 15:21:39.233998              Good             No   \n",
       "15  2020-10-17 15:21:39.209847              Good            Yes   \n",
       "16  2024-04-22 15:21:39.255696           Average            Yes   \n",
       "17  2020-12-27 15:21:39.090124              Poor            Yes   \n",
       "18  2021-10-13 15:21:39.094752              Poor            Yes   \n",
       "19  2020-06-25 15:21:39.152732              Good            Yes   \n",
       "20  2024-06-25 15:21:39.272456              Good            Yes   \n",
       "21  2023-07-31 15:21:39.237118              Good            Yes   \n",
       "22  2021-10-09 15:21:39.258696              Good            Yes   \n",
       "23  2020-01-16 15:21:39.096739           Average            Yes   \n",
       "24  2021-08-30 15:21:39.134960           Average             No   \n",
       "\n",
       "   Exercise Frequency Property Type  Premium Amount  \n",
       "id                                                   \n",
       "0              Weekly         House          2869.0  \n",
       "1             Monthly         House          1483.0  \n",
       "2              Weekly         House           567.0  \n",
       "3               Daily     Apartment           765.0  \n",
       "4              Weekly         House          2022.0  \n",
       "5              Weekly         House          3202.0  \n",
       "6              Weekly         House           439.0  \n",
       "7              Rarely         Condo           111.0  \n",
       "8             Monthly         Condo           213.0  \n",
       "9               Daily         Condo            64.0  \n",
       "10            Monthly         Condo           857.0  \n",
       "11             Rarely         Condo          1447.0  \n",
       "12             Weekly     Apartment           703.0  \n",
       "13             Weekly         House          1847.0  \n",
       "14             Rarely         Condo            30.0  \n",
       "15            Monthly     Apartment           849.0  \n",
       "16             Weekly         Condo           183.0  \n",
       "17              Daily         Condo           643.0  \n",
       "18             Rarely     Apartment           787.0  \n",
       "19             Rarely         Condo            40.0  \n",
       "20              Daily     Apartment          1204.0  \n",
       "21             Weekly     Apartment          2670.0  \n",
       "22            Monthly         House           202.0  \n",
       "23            Monthly         Condo          3869.0  \n",
       "24              Daily         House          1136.0  "
      ]
     },
     "execution_count": 2,
     "metadata": {},
     "output_type": "execute_result"
    }
   ],
   "source": [
    "data = pd.read_csv(\"/Users/muralidharanv/Documents/GUVI /PROJECTS/Smart Premium/DATA/playground-series-s4e12 (1)/train.csv\",index_col=0)\n",
    "data.head(25)"
   ]
  },
  {
   "cell_type": "markdown",
   "id": "529f2d94",
   "metadata": {},
   "source": [
    "## DATA CLEANING"
   ]
  },
  {
   "cell_type": "markdown",
   "id": "d42be057",
   "metadata": {},
   "source": [
    "<h3 style=\"color:#00ccff\">Characteristics of the Data</h3>"
   ]
  },
  {
   "cell_type": "code",
   "execution_count": 3,
   "id": "25a240f8",
   "metadata": {},
   "outputs": [
    {
     "data": {
      "application/vnd.microsoft.datawrangler.viewer.v0+json": {
       "columns": [
        {
         "name": "id",
         "rawType": "int64",
         "type": "integer"
        },
        {
         "name": "Age",
         "rawType": "float64",
         "type": "float"
        },
        {
         "name": "Gender",
         "rawType": "object",
         "type": "string"
        },
        {
         "name": "Annual Income",
         "rawType": "float64",
         "type": "float"
        },
        {
         "name": "Marital Status",
         "rawType": "object",
         "type": "string"
        },
        {
         "name": "Number of Dependents",
         "rawType": "float64",
         "type": "float"
        },
        {
         "name": "Education Level",
         "rawType": "object",
         "type": "string"
        },
        {
         "name": "Occupation",
         "rawType": "object",
         "type": "unknown"
        },
        {
         "name": "Health Score",
         "rawType": "float64",
         "type": "float"
        },
        {
         "name": "Location",
         "rawType": "object",
         "type": "string"
        },
        {
         "name": "Policy Type",
         "rawType": "object",
         "type": "string"
        },
        {
         "name": "Previous Claims",
         "rawType": "float64",
         "type": "float"
        },
        {
         "name": "Vehicle Age",
         "rawType": "float64",
         "type": "float"
        },
        {
         "name": "Credit Score",
         "rawType": "float64",
         "type": "float"
        },
        {
         "name": "Insurance Duration",
         "rawType": "float64",
         "type": "float"
        },
        {
         "name": "Policy Start Date",
         "rawType": "object",
         "type": "string"
        },
        {
         "name": "Customer Feedback",
         "rawType": "object",
         "type": "string"
        },
        {
         "name": "Smoking Status",
         "rawType": "object",
         "type": "string"
        },
        {
         "name": "Exercise Frequency",
         "rawType": "object",
         "type": "string"
        },
        {
         "name": "Property Type",
         "rawType": "object",
         "type": "string"
        },
        {
         "name": "Premium Amount",
         "rawType": "float64",
         "type": "float"
        }
       ],
       "ref": "1944474e-00fd-4d02-86d1-1f225493f69f",
       "rows": [
        [
         "0",
         "19.0",
         "Female",
         "10049.0",
         "Married",
         "1.0",
         "Bachelor's",
         "Self-Employed",
         "22.59876067181393",
         "Urban",
         "Premium",
         "2.0",
         "17.0",
         "372.0",
         "5.0",
         "2023-12-23 15:21:39.134960",
         "Poor",
         "No",
         "Weekly",
         "House",
         "2869.0"
        ],
        [
         "1",
         "39.0",
         "Female",
         "31678.0",
         "Divorced",
         "3.0",
         "Master's",
         null,
         "15.569730989408043",
         "Rural",
         "Comprehensive",
         "1.0",
         "12.0",
         "694.0",
         "2.0",
         "2023-06-12 15:21:39.111551",
         "Average",
         "Yes",
         "Monthly",
         "House",
         "1483.0"
        ],
        [
         "2",
         "23.0",
         "Male",
         "25602.0",
         "Divorced",
         "3.0",
         "High School",
         "Self-Employed",
         "47.17754928786464",
         "Suburban",
         "Premium",
         "1.0",
         "14.0",
         null,
         "3.0",
         "2023-09-30 15:21:39.221386",
         "Good",
         "Yes",
         "Weekly",
         "House",
         "567.0"
        ],
        [
         "3",
         "21.0",
         "Male",
         "141855.0",
         "Married",
         "2.0",
         "Bachelor's",
         null,
         "10.938144158664583",
         "Rural",
         "Basic",
         "1.0",
         "0.0",
         "367.0",
         "1.0",
         "2024-06-12 15:21:39.226954",
         "Poor",
         "Yes",
         "Daily",
         "Apartment",
         "765.0"
        ],
        [
         "4",
         "21.0",
         "Male",
         "39651.0",
         "Single",
         "1.0",
         "Bachelor's",
         "Self-Employed",
         "20.376093627736925",
         "Rural",
         "Premium",
         "0.0",
         "8.0",
         "598.0",
         "4.0",
         "2021-12-01 15:21:39.252145",
         "Poor",
         "Yes",
         "Weekly",
         "House",
         "2022.0"
        ],
        [
         "5",
         "29.0",
         "Male",
         "45963.0",
         "Married",
         "1.0",
         "Bachelor's",
         null,
         "33.05319768402281",
         "Urban",
         "Premium",
         "2.0",
         "4.0",
         "614.0",
         "5.0",
         "2022-05-20 15:21:39.207847",
         "Average",
         "No",
         "Weekly",
         "House",
         "3202.0"
        ],
        [
         "6",
         "41.0",
         "Male",
         "40336.0",
         "Married",
         "0.0",
         "PhD",
         null,
         null,
         "Rural",
         "Basic",
         "2.0",
         "8.0",
         "807.0",
         "6.0",
         "2020-02-21 15:21:39.219432",
         "Poor",
         "No",
         "Weekly",
         "House",
         "439.0"
        ],
        [
         "7",
         "48.0",
         "Female",
         "127237.0",
         "Divorced",
         "2.0",
         "High School",
         "Employed",
         "5.769783092512088",
         "Suburban",
         "Comprehensive",
         "1.0",
         "11.0",
         "398.0",
         "5.0",
         "2022-08-08 15:21:39.181605",
         "Average",
         "No",
         "Rarely",
         "Condo",
         "111.0"
        ],
        [
         "8",
         "21.0",
         "Male",
         "1733.0",
         "Divorced",
         "3.0",
         "Bachelor's",
         null,
         "17.869550814826297",
         "Urban",
         "Premium",
         "1.0",
         "10.0",
         "685.0",
         "8.0",
         "2020-12-14 15:21:39.198406",
         "Average",
         "No",
         "Monthly",
         "Condo",
         "213.0"
        ],
        [
         "9",
         "44.0",
         "Male",
         "52447.0",
         "Married",
         "2.0",
         "Master's",
         "Employed",
         "20.47371785695596",
         "Urban",
         "Comprehensive",
         "1.0",
         "9.0",
         "635.0",
         "3.0",
         "2020-08-02 15:21:39.144722",
         "Poor",
         "No",
         "Daily",
         "Condo",
         "64.0"
        ],
        [
         "10",
         "56.0",
         "Female",
         "8054.0",
         "Married",
         "1.0",
         "Bachelor's",
         "Unemployed",
         null,
         "Rural",
         "Premium",
         "1.0",
         "8.0",
         "431.0",
         "8.0",
         "2021-05-12 15:21:39.134960",
         "Average",
         "No",
         "Monthly",
         "Condo",
         "857.0"
        ],
        [
         "11",
         "23.0",
         "Male",
         "30983.0",
         "Single",
         "3.0",
         "Master's",
         null,
         "5.813128940949042",
         "Urban",
         "Premium",
         null,
         "6.0",
         "597.0",
         "8.0",
         "2020-03-22 15:21:39.155231",
         "Good",
         "No",
         "Rarely",
         "Condo",
         "1447.0"
        ],
        [
         "12",
         "25.0",
         "Female",
         "23706.0",
         "Single",
         "4.0",
         "Master's",
         "Employed",
         "4.090538023921365",
         "Urban",
         "Comprehensive",
         "2.0",
         "19.0",
         null,
         "2.0",
         "2021-10-28 15:21:39.086123",
         "Poor",
         "Yes",
         "Weekly",
         "Apartment",
         "703.0"
        ],
        [
         "13",
         "44.0",
         "Female",
         "70893.0",
         "Single",
         "0.0",
         "Bachelor's",
         null,
         "55.89632239159919",
         "Suburban",
         "Premium",
         "0.0",
         "3.0",
         "511.0",
         "6.0",
         "2023-01-20 15:21:39.132191",
         "Good",
         "Yes",
         "Weekly",
         "House",
         "1847.0"
        ],
        [
         "14",
         "40.0",
         "Female",
         "23897.0",
         "Divorced",
         null,
         "High School",
         "Self-Employed",
         "29.08203615642357",
         "Suburban",
         "Basic",
         "2.0",
         "15.0",
         "498.0",
         "1.0",
         "2021-08-14 15:21:39.233998",
         "Good",
         "No",
         "Rarely",
         "Condo",
         "30.0"
        ],
        [
         "15",
         "18.0",
         "Male",
         "6076.0",
         "Married",
         "2.0",
         "High School",
         "Employed",
         "7.442964015746718",
         "Urban",
         "Premium",
         "1.0",
         "12.0",
         "584.0",
         "5.0",
         "2020-10-17 15:21:39.209847",
         "Good",
         "Yes",
         "Monthly",
         "Apartment",
         "849.0"
        ],
        [
         "16",
         "59.0",
         "Female",
         "28266.0",
         "Divorced",
         "2.0",
         "PhD",
         "Unemployed",
         "21.67346054211263",
         "Urban",
         "Basic",
         "0.0",
         "16.0",
         null,
         "3.0",
         "2024-04-22 15:21:39.255696",
         "Average",
         "Yes",
         "Weekly",
         "Condo",
         "183.0"
        ],
        [
         "17",
         "34.0",
         "Female",
         "45907.0",
         "Divorced",
         "4.0",
         "High School",
         "Self-Employed",
         "24.0596387644636",
         "Suburban",
         "Comprehensive",
         "0.0",
         "0.0",
         "694.0",
         "8.0",
         "2020-12-27 15:21:39.090124",
         "Poor",
         "Yes",
         "Daily",
         "Condo",
         "643.0"
        ],
        [
         "18",
         "18.0",
         "Male",
         "29071.0",
         "Married",
         null,
         "Bachelor's",
         "Employed",
         "20.8389765352726",
         "Rural",
         "Premium",
         "1.0",
         "5.0",
         null,
         "3.0",
         "2021-10-13 15:21:39.094752",
         "Poor",
         "Yes",
         "Rarely",
         "Apartment",
         "787.0"
        ],
        [
         "19",
         "40.0",
         "Female",
         "123751.0",
         "Single",
         "2.0",
         "Master's",
         "Self-Employed",
         "24.95531647911226",
         "Suburban",
         "Premium",
         "0.0",
         "8.0",
         "420.0",
         "2.0",
         "2020-06-25 15:21:39.152732",
         "Good",
         "Yes",
         "Rarely",
         "Condo",
         "40.0"
        ],
        [
         "20",
         "39.0",
         "Male",
         "6837.0",
         "Divorced",
         "2.0",
         "High School",
         "Self-Employed",
         "17.814458917250235",
         "Urban",
         "Premium",
         null,
         "7.0",
         "595.0",
         "2.0",
         "2024-06-25 15:21:39.272456",
         "Good",
         "Yes",
         "Daily",
         "Apartment",
         "1204.0"
        ],
        [
         "21",
         "44.0",
         "Female",
         "14042.0",
         "Divorced",
         "2.0",
         "Master's",
         null,
         "4.551825118494738",
         "Urban",
         "Basic",
         null,
         "6.0",
         "799.0",
         "5.0",
         "2023-07-31 15:21:39.237118",
         "Good",
         "Yes",
         "Weekly",
         "Apartment",
         "2670.0"
        ],
        [
         "22",
         "22.0",
         "Male",
         null,
         "Divorced",
         "4.0",
         "PhD",
         null,
         "25.58378995160535",
         "Urban",
         "Comprehensive",
         null,
         "5.0",
         "773.0",
         "5.0",
         "2021-10-09 15:21:39.258696",
         "Good",
         "Yes",
         "Monthly",
         "House",
         "202.0"
        ],
        [
         "23",
         "34.0",
         "Female",
         "32762.0",
         "Divorced",
         "1.0",
         "Bachelor's",
         null,
         "21.96760938053775",
         "Rural",
         "Premium",
         "0.0",
         "10.0",
         "798.0",
         "1.0",
         "2020-01-16 15:21:39.096739",
         "Average",
         "Yes",
         "Monthly",
         "Condo",
         "3869.0"
        ],
        [
         "24",
         "46.0",
         "Male",
         "24708.0",
         "Married",
         "3.0",
         "High School",
         "Employed",
         "26.3412591810326",
         "Urban",
         "Premium",
         null,
         "0.0",
         "543.0",
         "4.0",
         "2021-08-30 15:21:39.134960",
         "Average",
         "No",
         "Daily",
         "House",
         "1136.0"
        ]
       ],
       "shape": {
        "columns": 20,
        "rows": 25
       }
      },
      "text/html": [
       "<div>\n",
       "<style scoped>\n",
       "    .dataframe tbody tr th:only-of-type {\n",
       "        vertical-align: middle;\n",
       "    }\n",
       "\n",
       "    .dataframe tbody tr th {\n",
       "        vertical-align: top;\n",
       "    }\n",
       "\n",
       "    .dataframe thead th {\n",
       "        text-align: right;\n",
       "    }\n",
       "</style>\n",
       "<table border=\"1\" class=\"dataframe\">\n",
       "  <thead>\n",
       "    <tr style=\"text-align: right;\">\n",
       "      <th></th>\n",
       "      <th>Age</th>\n",
       "      <th>Gender</th>\n",
       "      <th>Annual Income</th>\n",
       "      <th>Marital Status</th>\n",
       "      <th>Number of Dependents</th>\n",
       "      <th>Education Level</th>\n",
       "      <th>Occupation</th>\n",
       "      <th>Health Score</th>\n",
       "      <th>Location</th>\n",
       "      <th>Policy Type</th>\n",
       "      <th>Previous Claims</th>\n",
       "      <th>Vehicle Age</th>\n",
       "      <th>Credit Score</th>\n",
       "      <th>Insurance Duration</th>\n",
       "      <th>Policy Start Date</th>\n",
       "      <th>Customer Feedback</th>\n",
       "      <th>Smoking Status</th>\n",
       "      <th>Exercise Frequency</th>\n",
       "      <th>Property Type</th>\n",
       "      <th>Premium Amount</th>\n",
       "    </tr>\n",
       "    <tr>\n",
       "      <th>id</th>\n",
       "      <th></th>\n",
       "      <th></th>\n",
       "      <th></th>\n",
       "      <th></th>\n",
       "      <th></th>\n",
       "      <th></th>\n",
       "      <th></th>\n",
       "      <th></th>\n",
       "      <th></th>\n",
       "      <th></th>\n",
       "      <th></th>\n",
       "      <th></th>\n",
       "      <th></th>\n",
       "      <th></th>\n",
       "      <th></th>\n",
       "      <th></th>\n",
       "      <th></th>\n",
       "      <th></th>\n",
       "      <th></th>\n",
       "      <th></th>\n",
       "    </tr>\n",
       "  </thead>\n",
       "  <tbody>\n",
       "    <tr>\n",
       "      <th>0</th>\n",
       "      <td>19.0</td>\n",
       "      <td>Female</td>\n",
       "      <td>10049.0</td>\n",
       "      <td>Married</td>\n",
       "      <td>1.0</td>\n",
       "      <td>Bachelor's</td>\n",
       "      <td>Self-Employed</td>\n",
       "      <td>22.598761</td>\n",
       "      <td>Urban</td>\n",
       "      <td>Premium</td>\n",
       "      <td>2.0</td>\n",
       "      <td>17.0</td>\n",
       "      <td>372.0</td>\n",
       "      <td>5.0</td>\n",
       "      <td>2023-12-23 15:21:39.134960</td>\n",
       "      <td>Poor</td>\n",
       "      <td>No</td>\n",
       "      <td>Weekly</td>\n",
       "      <td>House</td>\n",
       "      <td>2869.0</td>\n",
       "    </tr>\n",
       "    <tr>\n",
       "      <th>1</th>\n",
       "      <td>39.0</td>\n",
       "      <td>Female</td>\n",
       "      <td>31678.0</td>\n",
       "      <td>Divorced</td>\n",
       "      <td>3.0</td>\n",
       "      <td>Master's</td>\n",
       "      <td>NaN</td>\n",
       "      <td>15.569731</td>\n",
       "      <td>Rural</td>\n",
       "      <td>Comprehensive</td>\n",
       "      <td>1.0</td>\n",
       "      <td>12.0</td>\n",
       "      <td>694.0</td>\n",
       "      <td>2.0</td>\n",
       "      <td>2023-06-12 15:21:39.111551</td>\n",
       "      <td>Average</td>\n",
       "      <td>Yes</td>\n",
       "      <td>Monthly</td>\n",
       "      <td>House</td>\n",
       "      <td>1483.0</td>\n",
       "    </tr>\n",
       "    <tr>\n",
       "      <th>2</th>\n",
       "      <td>23.0</td>\n",
       "      <td>Male</td>\n",
       "      <td>25602.0</td>\n",
       "      <td>Divorced</td>\n",
       "      <td>3.0</td>\n",
       "      <td>High School</td>\n",
       "      <td>Self-Employed</td>\n",
       "      <td>47.177549</td>\n",
       "      <td>Suburban</td>\n",
       "      <td>Premium</td>\n",
       "      <td>1.0</td>\n",
       "      <td>14.0</td>\n",
       "      <td>NaN</td>\n",
       "      <td>3.0</td>\n",
       "      <td>2023-09-30 15:21:39.221386</td>\n",
       "      <td>Good</td>\n",
       "      <td>Yes</td>\n",
       "      <td>Weekly</td>\n",
       "      <td>House</td>\n",
       "      <td>567.0</td>\n",
       "    </tr>\n",
       "    <tr>\n",
       "      <th>3</th>\n",
       "      <td>21.0</td>\n",
       "      <td>Male</td>\n",
       "      <td>141855.0</td>\n",
       "      <td>Married</td>\n",
       "      <td>2.0</td>\n",
       "      <td>Bachelor's</td>\n",
       "      <td>NaN</td>\n",
       "      <td>10.938144</td>\n",
       "      <td>Rural</td>\n",
       "      <td>Basic</td>\n",
       "      <td>1.0</td>\n",
       "      <td>0.0</td>\n",
       "      <td>367.0</td>\n",
       "      <td>1.0</td>\n",
       "      <td>2024-06-12 15:21:39.226954</td>\n",
       "      <td>Poor</td>\n",
       "      <td>Yes</td>\n",
       "      <td>Daily</td>\n",
       "      <td>Apartment</td>\n",
       "      <td>765.0</td>\n",
       "    </tr>\n",
       "    <tr>\n",
       "      <th>4</th>\n",
       "      <td>21.0</td>\n",
       "      <td>Male</td>\n",
       "      <td>39651.0</td>\n",
       "      <td>Single</td>\n",
       "      <td>1.0</td>\n",
       "      <td>Bachelor's</td>\n",
       "      <td>Self-Employed</td>\n",
       "      <td>20.376094</td>\n",
       "      <td>Rural</td>\n",
       "      <td>Premium</td>\n",
       "      <td>0.0</td>\n",
       "      <td>8.0</td>\n",
       "      <td>598.0</td>\n",
       "      <td>4.0</td>\n",
       "      <td>2021-12-01 15:21:39.252145</td>\n",
       "      <td>Poor</td>\n",
       "      <td>Yes</td>\n",
       "      <td>Weekly</td>\n",
       "      <td>House</td>\n",
       "      <td>2022.0</td>\n",
       "    </tr>\n",
       "    <tr>\n",
       "      <th>5</th>\n",
       "      <td>29.0</td>\n",
       "      <td>Male</td>\n",
       "      <td>45963.0</td>\n",
       "      <td>Married</td>\n",
       "      <td>1.0</td>\n",
       "      <td>Bachelor's</td>\n",
       "      <td>NaN</td>\n",
       "      <td>33.053198</td>\n",
       "      <td>Urban</td>\n",
       "      <td>Premium</td>\n",
       "      <td>2.0</td>\n",
       "      <td>4.0</td>\n",
       "      <td>614.0</td>\n",
       "      <td>5.0</td>\n",
       "      <td>2022-05-20 15:21:39.207847</td>\n",
       "      <td>Average</td>\n",
       "      <td>No</td>\n",
       "      <td>Weekly</td>\n",
       "      <td>House</td>\n",
       "      <td>3202.0</td>\n",
       "    </tr>\n",
       "    <tr>\n",
       "      <th>6</th>\n",
       "      <td>41.0</td>\n",
       "      <td>Male</td>\n",
       "      <td>40336.0</td>\n",
       "      <td>Married</td>\n",
       "      <td>0.0</td>\n",
       "      <td>PhD</td>\n",
       "      <td>NaN</td>\n",
       "      <td>NaN</td>\n",
       "      <td>Rural</td>\n",
       "      <td>Basic</td>\n",
       "      <td>2.0</td>\n",
       "      <td>8.0</td>\n",
       "      <td>807.0</td>\n",
       "      <td>6.0</td>\n",
       "      <td>2020-02-21 15:21:39.219432</td>\n",
       "      <td>Poor</td>\n",
       "      <td>No</td>\n",
       "      <td>Weekly</td>\n",
       "      <td>House</td>\n",
       "      <td>439.0</td>\n",
       "    </tr>\n",
       "    <tr>\n",
       "      <th>7</th>\n",
       "      <td>48.0</td>\n",
       "      <td>Female</td>\n",
       "      <td>127237.0</td>\n",
       "      <td>Divorced</td>\n",
       "      <td>2.0</td>\n",
       "      <td>High School</td>\n",
       "      <td>Employed</td>\n",
       "      <td>5.769783</td>\n",
       "      <td>Suburban</td>\n",
       "      <td>Comprehensive</td>\n",
       "      <td>1.0</td>\n",
       "      <td>11.0</td>\n",
       "      <td>398.0</td>\n",
       "      <td>5.0</td>\n",
       "      <td>2022-08-08 15:21:39.181605</td>\n",
       "      <td>Average</td>\n",
       "      <td>No</td>\n",
       "      <td>Rarely</td>\n",
       "      <td>Condo</td>\n",
       "      <td>111.0</td>\n",
       "    </tr>\n",
       "    <tr>\n",
       "      <th>8</th>\n",
       "      <td>21.0</td>\n",
       "      <td>Male</td>\n",
       "      <td>1733.0</td>\n",
       "      <td>Divorced</td>\n",
       "      <td>3.0</td>\n",
       "      <td>Bachelor's</td>\n",
       "      <td>NaN</td>\n",
       "      <td>17.869551</td>\n",
       "      <td>Urban</td>\n",
       "      <td>Premium</td>\n",
       "      <td>1.0</td>\n",
       "      <td>10.0</td>\n",
       "      <td>685.0</td>\n",
       "      <td>8.0</td>\n",
       "      <td>2020-12-14 15:21:39.198406</td>\n",
       "      <td>Average</td>\n",
       "      <td>No</td>\n",
       "      <td>Monthly</td>\n",
       "      <td>Condo</td>\n",
       "      <td>213.0</td>\n",
       "    </tr>\n",
       "    <tr>\n",
       "      <th>9</th>\n",
       "      <td>44.0</td>\n",
       "      <td>Male</td>\n",
       "      <td>52447.0</td>\n",
       "      <td>Married</td>\n",
       "      <td>2.0</td>\n",
       "      <td>Master's</td>\n",
       "      <td>Employed</td>\n",
       "      <td>20.473718</td>\n",
       "      <td>Urban</td>\n",
       "      <td>Comprehensive</td>\n",
       "      <td>1.0</td>\n",
       "      <td>9.0</td>\n",
       "      <td>635.0</td>\n",
       "      <td>3.0</td>\n",
       "      <td>2020-08-02 15:21:39.144722</td>\n",
       "      <td>Poor</td>\n",
       "      <td>No</td>\n",
       "      <td>Daily</td>\n",
       "      <td>Condo</td>\n",
       "      <td>64.0</td>\n",
       "    </tr>\n",
       "    <tr>\n",
       "      <th>10</th>\n",
       "      <td>56.0</td>\n",
       "      <td>Female</td>\n",
       "      <td>8054.0</td>\n",
       "      <td>Married</td>\n",
       "      <td>1.0</td>\n",
       "      <td>Bachelor's</td>\n",
       "      <td>Unemployed</td>\n",
       "      <td>NaN</td>\n",
       "      <td>Rural</td>\n",
       "      <td>Premium</td>\n",
       "      <td>1.0</td>\n",
       "      <td>8.0</td>\n",
       "      <td>431.0</td>\n",
       "      <td>8.0</td>\n",
       "      <td>2021-05-12 15:21:39.134960</td>\n",
       "      <td>Average</td>\n",
       "      <td>No</td>\n",
       "      <td>Monthly</td>\n",
       "      <td>Condo</td>\n",
       "      <td>857.0</td>\n",
       "    </tr>\n",
       "    <tr>\n",
       "      <th>11</th>\n",
       "      <td>23.0</td>\n",
       "      <td>Male</td>\n",
       "      <td>30983.0</td>\n",
       "      <td>Single</td>\n",
       "      <td>3.0</td>\n",
       "      <td>Master's</td>\n",
       "      <td>NaN</td>\n",
       "      <td>5.813129</td>\n",
       "      <td>Urban</td>\n",
       "      <td>Premium</td>\n",
       "      <td>NaN</td>\n",
       "      <td>6.0</td>\n",
       "      <td>597.0</td>\n",
       "      <td>8.0</td>\n",
       "      <td>2020-03-22 15:21:39.155231</td>\n",
       "      <td>Good</td>\n",
       "      <td>No</td>\n",
       "      <td>Rarely</td>\n",
       "      <td>Condo</td>\n",
       "      <td>1447.0</td>\n",
       "    </tr>\n",
       "    <tr>\n",
       "      <th>12</th>\n",
       "      <td>25.0</td>\n",
       "      <td>Female</td>\n",
       "      <td>23706.0</td>\n",
       "      <td>Single</td>\n",
       "      <td>4.0</td>\n",
       "      <td>Master's</td>\n",
       "      <td>Employed</td>\n",
       "      <td>4.090538</td>\n",
       "      <td>Urban</td>\n",
       "      <td>Comprehensive</td>\n",
       "      <td>2.0</td>\n",
       "      <td>19.0</td>\n",
       "      <td>NaN</td>\n",
       "      <td>2.0</td>\n",
       "      <td>2021-10-28 15:21:39.086123</td>\n",
       "      <td>Poor</td>\n",
       "      <td>Yes</td>\n",
       "      <td>Weekly</td>\n",
       "      <td>Apartment</td>\n",
       "      <td>703.0</td>\n",
       "    </tr>\n",
       "    <tr>\n",
       "      <th>13</th>\n",
       "      <td>44.0</td>\n",
       "      <td>Female</td>\n",
       "      <td>70893.0</td>\n",
       "      <td>Single</td>\n",
       "      <td>0.0</td>\n",
       "      <td>Bachelor's</td>\n",
       "      <td>NaN</td>\n",
       "      <td>55.896322</td>\n",
       "      <td>Suburban</td>\n",
       "      <td>Premium</td>\n",
       "      <td>0.0</td>\n",
       "      <td>3.0</td>\n",
       "      <td>511.0</td>\n",
       "      <td>6.0</td>\n",
       "      <td>2023-01-20 15:21:39.132191</td>\n",
       "      <td>Good</td>\n",
       "      <td>Yes</td>\n",
       "      <td>Weekly</td>\n",
       "      <td>House</td>\n",
       "      <td>1847.0</td>\n",
       "    </tr>\n",
       "    <tr>\n",
       "      <th>14</th>\n",
       "      <td>40.0</td>\n",
       "      <td>Female</td>\n",
       "      <td>23897.0</td>\n",
       "      <td>Divorced</td>\n",
       "      <td>NaN</td>\n",
       "      <td>High School</td>\n",
       "      <td>Self-Employed</td>\n",
       "      <td>29.082036</td>\n",
       "      <td>Suburban</td>\n",
       "      <td>Basic</td>\n",
       "      <td>2.0</td>\n",
       "      <td>15.0</td>\n",
       "      <td>498.0</td>\n",
       "      <td>1.0</td>\n",
       "      <td>2021-08-14 15:21:39.233998</td>\n",
       "      <td>Good</td>\n",
       "      <td>No</td>\n",
       "      <td>Rarely</td>\n",
       "      <td>Condo</td>\n",
       "      <td>30.0</td>\n",
       "    </tr>\n",
       "    <tr>\n",
       "      <th>15</th>\n",
       "      <td>18.0</td>\n",
       "      <td>Male</td>\n",
       "      <td>6076.0</td>\n",
       "      <td>Married</td>\n",
       "      <td>2.0</td>\n",
       "      <td>High School</td>\n",
       "      <td>Employed</td>\n",
       "      <td>7.442964</td>\n",
       "      <td>Urban</td>\n",
       "      <td>Premium</td>\n",
       "      <td>1.0</td>\n",
       "      <td>12.0</td>\n",
       "      <td>584.0</td>\n",
       "      <td>5.0</td>\n",
       "      <td>2020-10-17 15:21:39.209847</td>\n",
       "      <td>Good</td>\n",
       "      <td>Yes</td>\n",
       "      <td>Monthly</td>\n",
       "      <td>Apartment</td>\n",
       "      <td>849.0</td>\n",
       "    </tr>\n",
       "    <tr>\n",
       "      <th>16</th>\n",
       "      <td>59.0</td>\n",
       "      <td>Female</td>\n",
       "      <td>28266.0</td>\n",
       "      <td>Divorced</td>\n",
       "      <td>2.0</td>\n",
       "      <td>PhD</td>\n",
       "      <td>Unemployed</td>\n",
       "      <td>21.673461</td>\n",
       "      <td>Urban</td>\n",
       "      <td>Basic</td>\n",
       "      <td>0.0</td>\n",
       "      <td>16.0</td>\n",
       "      <td>NaN</td>\n",
       "      <td>3.0</td>\n",
       "      <td>2024-04-22 15:21:39.255696</td>\n",
       "      <td>Average</td>\n",
       "      <td>Yes</td>\n",
       "      <td>Weekly</td>\n",
       "      <td>Condo</td>\n",
       "      <td>183.0</td>\n",
       "    </tr>\n",
       "    <tr>\n",
       "      <th>17</th>\n",
       "      <td>34.0</td>\n",
       "      <td>Female</td>\n",
       "      <td>45907.0</td>\n",
       "      <td>Divorced</td>\n",
       "      <td>4.0</td>\n",
       "      <td>High School</td>\n",
       "      <td>Self-Employed</td>\n",
       "      <td>24.059639</td>\n",
       "      <td>Suburban</td>\n",
       "      <td>Comprehensive</td>\n",
       "      <td>0.0</td>\n",
       "      <td>0.0</td>\n",
       "      <td>694.0</td>\n",
       "      <td>8.0</td>\n",
       "      <td>2020-12-27 15:21:39.090124</td>\n",
       "      <td>Poor</td>\n",
       "      <td>Yes</td>\n",
       "      <td>Daily</td>\n",
       "      <td>Condo</td>\n",
       "      <td>643.0</td>\n",
       "    </tr>\n",
       "    <tr>\n",
       "      <th>18</th>\n",
       "      <td>18.0</td>\n",
       "      <td>Male</td>\n",
       "      <td>29071.0</td>\n",
       "      <td>Married</td>\n",
       "      <td>NaN</td>\n",
       "      <td>Bachelor's</td>\n",
       "      <td>Employed</td>\n",
       "      <td>20.838977</td>\n",
       "      <td>Rural</td>\n",
       "      <td>Premium</td>\n",
       "      <td>1.0</td>\n",
       "      <td>5.0</td>\n",
       "      <td>NaN</td>\n",
       "      <td>3.0</td>\n",
       "      <td>2021-10-13 15:21:39.094752</td>\n",
       "      <td>Poor</td>\n",
       "      <td>Yes</td>\n",
       "      <td>Rarely</td>\n",
       "      <td>Apartment</td>\n",
       "      <td>787.0</td>\n",
       "    </tr>\n",
       "    <tr>\n",
       "      <th>19</th>\n",
       "      <td>40.0</td>\n",
       "      <td>Female</td>\n",
       "      <td>123751.0</td>\n",
       "      <td>Single</td>\n",
       "      <td>2.0</td>\n",
       "      <td>Master's</td>\n",
       "      <td>Self-Employed</td>\n",
       "      <td>24.955316</td>\n",
       "      <td>Suburban</td>\n",
       "      <td>Premium</td>\n",
       "      <td>0.0</td>\n",
       "      <td>8.0</td>\n",
       "      <td>420.0</td>\n",
       "      <td>2.0</td>\n",
       "      <td>2020-06-25 15:21:39.152732</td>\n",
       "      <td>Good</td>\n",
       "      <td>Yes</td>\n",
       "      <td>Rarely</td>\n",
       "      <td>Condo</td>\n",
       "      <td>40.0</td>\n",
       "    </tr>\n",
       "    <tr>\n",
       "      <th>20</th>\n",
       "      <td>39.0</td>\n",
       "      <td>Male</td>\n",
       "      <td>6837.0</td>\n",
       "      <td>Divorced</td>\n",
       "      <td>2.0</td>\n",
       "      <td>High School</td>\n",
       "      <td>Self-Employed</td>\n",
       "      <td>17.814459</td>\n",
       "      <td>Urban</td>\n",
       "      <td>Premium</td>\n",
       "      <td>NaN</td>\n",
       "      <td>7.0</td>\n",
       "      <td>595.0</td>\n",
       "      <td>2.0</td>\n",
       "      <td>2024-06-25 15:21:39.272456</td>\n",
       "      <td>Good</td>\n",
       "      <td>Yes</td>\n",
       "      <td>Daily</td>\n",
       "      <td>Apartment</td>\n",
       "      <td>1204.0</td>\n",
       "    </tr>\n",
       "    <tr>\n",
       "      <th>21</th>\n",
       "      <td>44.0</td>\n",
       "      <td>Female</td>\n",
       "      <td>14042.0</td>\n",
       "      <td>Divorced</td>\n",
       "      <td>2.0</td>\n",
       "      <td>Master's</td>\n",
       "      <td>NaN</td>\n",
       "      <td>4.551825</td>\n",
       "      <td>Urban</td>\n",
       "      <td>Basic</td>\n",
       "      <td>NaN</td>\n",
       "      <td>6.0</td>\n",
       "      <td>799.0</td>\n",
       "      <td>5.0</td>\n",
       "      <td>2023-07-31 15:21:39.237118</td>\n",
       "      <td>Good</td>\n",
       "      <td>Yes</td>\n",
       "      <td>Weekly</td>\n",
       "      <td>Apartment</td>\n",
       "      <td>2670.0</td>\n",
       "    </tr>\n",
       "    <tr>\n",
       "      <th>22</th>\n",
       "      <td>22.0</td>\n",
       "      <td>Male</td>\n",
       "      <td>NaN</td>\n",
       "      <td>Divorced</td>\n",
       "      <td>4.0</td>\n",
       "      <td>PhD</td>\n",
       "      <td>NaN</td>\n",
       "      <td>25.583790</td>\n",
       "      <td>Urban</td>\n",
       "      <td>Comprehensive</td>\n",
       "      <td>NaN</td>\n",
       "      <td>5.0</td>\n",
       "      <td>773.0</td>\n",
       "      <td>5.0</td>\n",
       "      <td>2021-10-09 15:21:39.258696</td>\n",
       "      <td>Good</td>\n",
       "      <td>Yes</td>\n",
       "      <td>Monthly</td>\n",
       "      <td>House</td>\n",
       "      <td>202.0</td>\n",
       "    </tr>\n",
       "    <tr>\n",
       "      <th>23</th>\n",
       "      <td>34.0</td>\n",
       "      <td>Female</td>\n",
       "      <td>32762.0</td>\n",
       "      <td>Divorced</td>\n",
       "      <td>1.0</td>\n",
       "      <td>Bachelor's</td>\n",
       "      <td>NaN</td>\n",
       "      <td>21.967609</td>\n",
       "      <td>Rural</td>\n",
       "      <td>Premium</td>\n",
       "      <td>0.0</td>\n",
       "      <td>10.0</td>\n",
       "      <td>798.0</td>\n",
       "      <td>1.0</td>\n",
       "      <td>2020-01-16 15:21:39.096739</td>\n",
       "      <td>Average</td>\n",
       "      <td>Yes</td>\n",
       "      <td>Monthly</td>\n",
       "      <td>Condo</td>\n",
       "      <td>3869.0</td>\n",
       "    </tr>\n",
       "    <tr>\n",
       "      <th>24</th>\n",
       "      <td>46.0</td>\n",
       "      <td>Male</td>\n",
       "      <td>24708.0</td>\n",
       "      <td>Married</td>\n",
       "      <td>3.0</td>\n",
       "      <td>High School</td>\n",
       "      <td>Employed</td>\n",
       "      <td>26.341259</td>\n",
       "      <td>Urban</td>\n",
       "      <td>Premium</td>\n",
       "      <td>NaN</td>\n",
       "      <td>0.0</td>\n",
       "      <td>543.0</td>\n",
       "      <td>4.0</td>\n",
       "      <td>2021-08-30 15:21:39.134960</td>\n",
       "      <td>Average</td>\n",
       "      <td>No</td>\n",
       "      <td>Daily</td>\n",
       "      <td>House</td>\n",
       "      <td>1136.0</td>\n",
       "    </tr>\n",
       "  </tbody>\n",
       "</table>\n",
       "</div>"
      ],
      "text/plain": [
       "     Age  Gender  Annual Income Marital Status  Number of Dependents  \\\n",
       "id                                                                     \n",
       "0   19.0  Female        10049.0        Married                   1.0   \n",
       "1   39.0  Female        31678.0       Divorced                   3.0   \n",
       "2   23.0    Male        25602.0       Divorced                   3.0   \n",
       "3   21.0    Male       141855.0        Married                   2.0   \n",
       "4   21.0    Male        39651.0         Single                   1.0   \n",
       "5   29.0    Male        45963.0        Married                   1.0   \n",
       "6   41.0    Male        40336.0        Married                   0.0   \n",
       "7   48.0  Female       127237.0       Divorced                   2.0   \n",
       "8   21.0    Male         1733.0       Divorced                   3.0   \n",
       "9   44.0    Male        52447.0        Married                   2.0   \n",
       "10  56.0  Female         8054.0        Married                   1.0   \n",
       "11  23.0    Male        30983.0         Single                   3.0   \n",
       "12  25.0  Female        23706.0         Single                   4.0   \n",
       "13  44.0  Female        70893.0         Single                   0.0   \n",
       "14  40.0  Female        23897.0       Divorced                   NaN   \n",
       "15  18.0    Male         6076.0        Married                   2.0   \n",
       "16  59.0  Female        28266.0       Divorced                   2.0   \n",
       "17  34.0  Female        45907.0       Divorced                   4.0   \n",
       "18  18.0    Male        29071.0        Married                   NaN   \n",
       "19  40.0  Female       123751.0         Single                   2.0   \n",
       "20  39.0    Male         6837.0       Divorced                   2.0   \n",
       "21  44.0  Female        14042.0       Divorced                   2.0   \n",
       "22  22.0    Male            NaN       Divorced                   4.0   \n",
       "23  34.0  Female        32762.0       Divorced                   1.0   \n",
       "24  46.0    Male        24708.0        Married                   3.0   \n",
       "\n",
       "   Education Level     Occupation  Health Score  Location    Policy Type  \\\n",
       "id                                                                         \n",
       "0       Bachelor's  Self-Employed     22.598761     Urban        Premium   \n",
       "1         Master's            NaN     15.569731     Rural  Comprehensive   \n",
       "2      High School  Self-Employed     47.177549  Suburban        Premium   \n",
       "3       Bachelor's            NaN     10.938144     Rural          Basic   \n",
       "4       Bachelor's  Self-Employed     20.376094     Rural        Premium   \n",
       "5       Bachelor's            NaN     33.053198     Urban        Premium   \n",
       "6              PhD            NaN           NaN     Rural          Basic   \n",
       "7      High School       Employed      5.769783  Suburban  Comprehensive   \n",
       "8       Bachelor's            NaN     17.869551     Urban        Premium   \n",
       "9         Master's       Employed     20.473718     Urban  Comprehensive   \n",
       "10      Bachelor's     Unemployed           NaN     Rural        Premium   \n",
       "11        Master's            NaN      5.813129     Urban        Premium   \n",
       "12        Master's       Employed      4.090538     Urban  Comprehensive   \n",
       "13      Bachelor's            NaN     55.896322  Suburban        Premium   \n",
       "14     High School  Self-Employed     29.082036  Suburban          Basic   \n",
       "15     High School       Employed      7.442964     Urban        Premium   \n",
       "16             PhD     Unemployed     21.673461     Urban          Basic   \n",
       "17     High School  Self-Employed     24.059639  Suburban  Comprehensive   \n",
       "18      Bachelor's       Employed     20.838977     Rural        Premium   \n",
       "19        Master's  Self-Employed     24.955316  Suburban        Premium   \n",
       "20     High School  Self-Employed     17.814459     Urban        Premium   \n",
       "21        Master's            NaN      4.551825     Urban          Basic   \n",
       "22             PhD            NaN     25.583790     Urban  Comprehensive   \n",
       "23      Bachelor's            NaN     21.967609     Rural        Premium   \n",
       "24     High School       Employed     26.341259     Urban        Premium   \n",
       "\n",
       "    Previous Claims  Vehicle Age  Credit Score  Insurance Duration  \\\n",
       "id                                                                   \n",
       "0               2.0         17.0         372.0                 5.0   \n",
       "1               1.0         12.0         694.0                 2.0   \n",
       "2               1.0         14.0           NaN                 3.0   \n",
       "3               1.0          0.0         367.0                 1.0   \n",
       "4               0.0          8.0         598.0                 4.0   \n",
       "5               2.0          4.0         614.0                 5.0   \n",
       "6               2.0          8.0         807.0                 6.0   \n",
       "7               1.0         11.0         398.0                 5.0   \n",
       "8               1.0         10.0         685.0                 8.0   \n",
       "9               1.0          9.0         635.0                 3.0   \n",
       "10              1.0          8.0         431.0                 8.0   \n",
       "11              NaN          6.0         597.0                 8.0   \n",
       "12              2.0         19.0           NaN                 2.0   \n",
       "13              0.0          3.0         511.0                 6.0   \n",
       "14              2.0         15.0         498.0                 1.0   \n",
       "15              1.0         12.0         584.0                 5.0   \n",
       "16              0.0         16.0           NaN                 3.0   \n",
       "17              0.0          0.0         694.0                 8.0   \n",
       "18              1.0          5.0           NaN                 3.0   \n",
       "19              0.0          8.0         420.0                 2.0   \n",
       "20              NaN          7.0         595.0                 2.0   \n",
       "21              NaN          6.0         799.0                 5.0   \n",
       "22              NaN          5.0         773.0                 5.0   \n",
       "23              0.0         10.0         798.0                 1.0   \n",
       "24              NaN          0.0         543.0                 4.0   \n",
       "\n",
       "             Policy Start Date Customer Feedback Smoking Status  \\\n",
       "id                                                                \n",
       "0   2023-12-23 15:21:39.134960              Poor             No   \n",
       "1   2023-06-12 15:21:39.111551           Average            Yes   \n",
       "2   2023-09-30 15:21:39.221386              Good            Yes   \n",
       "3   2024-06-12 15:21:39.226954              Poor            Yes   \n",
       "4   2021-12-01 15:21:39.252145              Poor            Yes   \n",
       "5   2022-05-20 15:21:39.207847           Average             No   \n",
       "6   2020-02-21 15:21:39.219432              Poor             No   \n",
       "7   2022-08-08 15:21:39.181605           Average             No   \n",
       "8   2020-12-14 15:21:39.198406           Average             No   \n",
       "9   2020-08-02 15:21:39.144722              Poor             No   \n",
       "10  2021-05-12 15:21:39.134960           Average             No   \n",
       "11  2020-03-22 15:21:39.155231              Good             No   \n",
       "12  2021-10-28 15:21:39.086123              Poor            Yes   \n",
       "13  2023-01-20 15:21:39.132191              Good            Yes   \n",
       "14  2021-08-14 15:21:39.233998              Good             No   \n",
       "15  2020-10-17 15:21:39.209847              Good            Yes   \n",
       "16  2024-04-22 15:21:39.255696           Average            Yes   \n",
       "17  2020-12-27 15:21:39.090124              Poor            Yes   \n",
       "18  2021-10-13 15:21:39.094752              Poor            Yes   \n",
       "19  2020-06-25 15:21:39.152732              Good            Yes   \n",
       "20  2024-06-25 15:21:39.272456              Good            Yes   \n",
       "21  2023-07-31 15:21:39.237118              Good            Yes   \n",
       "22  2021-10-09 15:21:39.258696              Good            Yes   \n",
       "23  2020-01-16 15:21:39.096739           Average            Yes   \n",
       "24  2021-08-30 15:21:39.134960           Average             No   \n",
       "\n",
       "   Exercise Frequency Property Type  Premium Amount  \n",
       "id                                                   \n",
       "0              Weekly         House          2869.0  \n",
       "1             Monthly         House          1483.0  \n",
       "2              Weekly         House           567.0  \n",
       "3               Daily     Apartment           765.0  \n",
       "4              Weekly         House          2022.0  \n",
       "5              Weekly         House          3202.0  \n",
       "6              Weekly         House           439.0  \n",
       "7              Rarely         Condo           111.0  \n",
       "8             Monthly         Condo           213.0  \n",
       "9               Daily         Condo            64.0  \n",
       "10            Monthly         Condo           857.0  \n",
       "11             Rarely         Condo          1447.0  \n",
       "12             Weekly     Apartment           703.0  \n",
       "13             Weekly         House          1847.0  \n",
       "14             Rarely         Condo            30.0  \n",
       "15            Monthly     Apartment           849.0  \n",
       "16             Weekly         Condo           183.0  \n",
       "17              Daily         Condo           643.0  \n",
       "18             Rarely     Apartment           787.0  \n",
       "19             Rarely         Condo            40.0  \n",
       "20              Daily     Apartment          1204.0  \n",
       "21             Weekly     Apartment          2670.0  \n",
       "22            Monthly         House           202.0  \n",
       "23            Monthly         Condo          3869.0  \n",
       "24              Daily         House          1136.0  "
      ]
     },
     "execution_count": 3,
     "metadata": {},
     "output_type": "execute_result"
    }
   ],
   "source": [
    "df = data.copy()\n",
    "df.head(25)"
   ]
  },
  {
   "cell_type": "code",
   "execution_count": 4,
   "id": "68cfce1e",
   "metadata": {},
   "outputs": [
    {
     "name": "stdout",
     "output_type": "stream",
     "text": [
      "Shape of dataset: (1200000, 20)\n",
      "<class 'pandas.core.frame.DataFrame'>\n",
      "Index: 1200000 entries, 0 to 1199999\n",
      "Data columns (total 20 columns):\n",
      " #   Column                Non-Null Count    Dtype  \n",
      "---  ------                --------------    -----  \n",
      " 0   Age                   1181295 non-null  float64\n",
      " 1   Gender                1200000 non-null  object \n",
      " 2   Annual Income         1155051 non-null  float64\n",
      " 3   Marital Status        1181471 non-null  object \n",
      " 4   Number of Dependents  1090328 non-null  float64\n",
      " 5   Education Level       1200000 non-null  object \n",
      " 6   Occupation            841925 non-null   object \n",
      " 7   Health Score          1125924 non-null  float64\n",
      " 8   Location              1200000 non-null  object \n",
      " 9   Policy Type           1200000 non-null  object \n",
      " 10  Previous Claims       835971 non-null   float64\n",
      " 11  Vehicle Age           1199994 non-null  float64\n",
      " 12  Credit Score          1062118 non-null  float64\n",
      " 13  Insurance Duration    1199999 non-null  float64\n",
      " 14  Policy Start Date     1200000 non-null  object \n",
      " 15  Customer Feedback     1122176 non-null  object \n",
      " 16  Smoking Status        1200000 non-null  object \n",
      " 17  Exercise Frequency    1200000 non-null  object \n",
      " 18  Property Type         1200000 non-null  object \n",
      " 19  Premium Amount        1200000 non-null  float64\n",
      "dtypes: float64(9), object(11)\n",
      "memory usage: 192.3+ MB\n"
     ]
    },
    {
     "data": {
      "application/vnd.microsoft.datawrangler.viewer.v0+json": {
       "columns": [
        {
         "name": "index",
         "rawType": "object",
         "type": "string"
        },
        {
         "name": "count",
         "rawType": "float64",
         "type": "float"
        },
        {
         "name": "mean",
         "rawType": "float64",
         "type": "float"
        },
        {
         "name": "std",
         "rawType": "float64",
         "type": "float"
        },
        {
         "name": "min",
         "rawType": "float64",
         "type": "float"
        },
        {
         "name": "25%",
         "rawType": "float64",
         "type": "float"
        },
        {
         "name": "50%",
         "rawType": "float64",
         "type": "float"
        },
        {
         "name": "75%",
         "rawType": "float64",
         "type": "float"
        },
        {
         "name": "max",
         "rawType": "float64",
         "type": "float"
        }
       ],
       "ref": "5e57b6b5-0c21-4158-a90e-216d0c6333f5",
       "rows": [
        [
         "Age",
         "1181295.0",
         "41.145563131986506",
         "13.539949792477266",
         "18.0",
         "30.0",
         "41.0",
         "53.0",
         "64.0"
        ],
        [
         "Annual Income",
         "1155051.0",
         "32745.21777653108",
         "32179.50612417937",
         "1.0",
         "8001.0",
         "23911.0",
         "44634.0",
         "149997.0"
        ],
        [
         "Number of Dependents",
         "1090328.0",
         "2.0099337080218063",
         "1.4173377664726137",
         "0.0",
         "1.0",
         "2.0",
         "3.0",
         "4.0"
        ],
        [
         "Health Score",
         "1125924.0",
         "25.613907692519252",
         "12.203461881250204",
         "2.0122371818911766",
         "15.918958725500936",
         "24.57864816412784",
         "34.52720946408295",
         "58.97591405405534"
        ],
        [
         "Previous Claims",
         "835971.0",
         "1.002689088497089",
         "0.9828401709548066",
         "0.0",
         "0.0",
         "1.0",
         "2.0",
         "9.0"
        ],
        [
         "Vehicle Age",
         "1199994.0",
         "9.569888682776748",
         "5.776188677537848",
         "0.0",
         "5.0",
         "10.0",
         "15.0",
         "19.0"
        ],
        [
         "Credit Score",
         "1062118.0",
         "592.9243502134415",
         "149.98194529226188",
         "300.0",
         "468.0",
         "595.0",
         "721.0",
         "849.0"
        ],
        [
         "Insurance Duration",
         "1199999.0",
         "5.018219181849318",
         "2.5943313421023433",
         "1.0",
         "3.0",
         "5.0",
         "7.0",
         "9.0"
        ],
        [
         "Premium Amount",
         "1200000.0",
         "1102.5448216666666",
         "864.9988587527381",
         "20.0",
         "514.0",
         "872.0",
         "1509.0",
         "4999.0"
        ]
       ],
       "shape": {
        "columns": 8,
        "rows": 9
       }
      },
      "text/html": [
       "<div>\n",
       "<style scoped>\n",
       "    .dataframe tbody tr th:only-of-type {\n",
       "        vertical-align: middle;\n",
       "    }\n",
       "\n",
       "    .dataframe tbody tr th {\n",
       "        vertical-align: top;\n",
       "    }\n",
       "\n",
       "    .dataframe thead th {\n",
       "        text-align: right;\n",
       "    }\n",
       "</style>\n",
       "<table border=\"1\" class=\"dataframe\">\n",
       "  <thead>\n",
       "    <tr style=\"text-align: right;\">\n",
       "      <th></th>\n",
       "      <th>count</th>\n",
       "      <th>mean</th>\n",
       "      <th>std</th>\n",
       "      <th>min</th>\n",
       "      <th>25%</th>\n",
       "      <th>50%</th>\n",
       "      <th>75%</th>\n",
       "      <th>max</th>\n",
       "    </tr>\n",
       "  </thead>\n",
       "  <tbody>\n",
       "    <tr>\n",
       "      <th>Age</th>\n",
       "      <td>1181295.0</td>\n",
       "      <td>41.145563</td>\n",
       "      <td>13.539950</td>\n",
       "      <td>18.000000</td>\n",
       "      <td>30.000000</td>\n",
       "      <td>41.000000</td>\n",
       "      <td>53.000000</td>\n",
       "      <td>64.000000</td>\n",
       "    </tr>\n",
       "    <tr>\n",
       "      <th>Annual Income</th>\n",
       "      <td>1155051.0</td>\n",
       "      <td>32745.217777</td>\n",
       "      <td>32179.506124</td>\n",
       "      <td>1.000000</td>\n",
       "      <td>8001.000000</td>\n",
       "      <td>23911.000000</td>\n",
       "      <td>44634.000000</td>\n",
       "      <td>149997.000000</td>\n",
       "    </tr>\n",
       "    <tr>\n",
       "      <th>Number of Dependents</th>\n",
       "      <td>1090328.0</td>\n",
       "      <td>2.009934</td>\n",
       "      <td>1.417338</td>\n",
       "      <td>0.000000</td>\n",
       "      <td>1.000000</td>\n",
       "      <td>2.000000</td>\n",
       "      <td>3.000000</td>\n",
       "      <td>4.000000</td>\n",
       "    </tr>\n",
       "    <tr>\n",
       "      <th>Health Score</th>\n",
       "      <td>1125924.0</td>\n",
       "      <td>25.613908</td>\n",
       "      <td>12.203462</td>\n",
       "      <td>2.012237</td>\n",
       "      <td>15.918959</td>\n",
       "      <td>24.578648</td>\n",
       "      <td>34.527209</td>\n",
       "      <td>58.975914</td>\n",
       "    </tr>\n",
       "    <tr>\n",
       "      <th>Previous Claims</th>\n",
       "      <td>835971.0</td>\n",
       "      <td>1.002689</td>\n",
       "      <td>0.982840</td>\n",
       "      <td>0.000000</td>\n",
       "      <td>0.000000</td>\n",
       "      <td>1.000000</td>\n",
       "      <td>2.000000</td>\n",
       "      <td>9.000000</td>\n",
       "    </tr>\n",
       "    <tr>\n",
       "      <th>Vehicle Age</th>\n",
       "      <td>1199994.0</td>\n",
       "      <td>9.569889</td>\n",
       "      <td>5.776189</td>\n",
       "      <td>0.000000</td>\n",
       "      <td>5.000000</td>\n",
       "      <td>10.000000</td>\n",
       "      <td>15.000000</td>\n",
       "      <td>19.000000</td>\n",
       "    </tr>\n",
       "    <tr>\n",
       "      <th>Credit Score</th>\n",
       "      <td>1062118.0</td>\n",
       "      <td>592.924350</td>\n",
       "      <td>149.981945</td>\n",
       "      <td>300.000000</td>\n",
       "      <td>468.000000</td>\n",
       "      <td>595.000000</td>\n",
       "      <td>721.000000</td>\n",
       "      <td>849.000000</td>\n",
       "    </tr>\n",
       "    <tr>\n",
       "      <th>Insurance Duration</th>\n",
       "      <td>1199999.0</td>\n",
       "      <td>5.018219</td>\n",
       "      <td>2.594331</td>\n",
       "      <td>1.000000</td>\n",
       "      <td>3.000000</td>\n",
       "      <td>5.000000</td>\n",
       "      <td>7.000000</td>\n",
       "      <td>9.000000</td>\n",
       "    </tr>\n",
       "    <tr>\n",
       "      <th>Premium Amount</th>\n",
       "      <td>1200000.0</td>\n",
       "      <td>1102.544822</td>\n",
       "      <td>864.998859</td>\n",
       "      <td>20.000000</td>\n",
       "      <td>514.000000</td>\n",
       "      <td>872.000000</td>\n",
       "      <td>1509.000000</td>\n",
       "      <td>4999.000000</td>\n",
       "    </tr>\n",
       "  </tbody>\n",
       "</table>\n",
       "</div>"
      ],
      "text/plain": [
       "                          count          mean           std         min  \\\n",
       "Age                   1181295.0     41.145563     13.539950   18.000000   \n",
       "Annual Income         1155051.0  32745.217777  32179.506124    1.000000   \n",
       "Number of Dependents  1090328.0      2.009934      1.417338    0.000000   \n",
       "Health Score          1125924.0     25.613908     12.203462    2.012237   \n",
       "Previous Claims        835971.0      1.002689      0.982840    0.000000   \n",
       "Vehicle Age           1199994.0      9.569889      5.776189    0.000000   \n",
       "Credit Score          1062118.0    592.924350    149.981945  300.000000   \n",
       "Insurance Duration    1199999.0      5.018219      2.594331    1.000000   \n",
       "Premium Amount        1200000.0   1102.544822    864.998859   20.000000   \n",
       "\n",
       "                              25%           50%           75%            max  \n",
       "Age                     30.000000     41.000000     53.000000      64.000000  \n",
       "Annual Income         8001.000000  23911.000000  44634.000000  149997.000000  \n",
       "Number of Dependents     1.000000      2.000000      3.000000       4.000000  \n",
       "Health Score            15.918959     24.578648     34.527209      58.975914  \n",
       "Previous Claims          0.000000      1.000000      2.000000       9.000000  \n",
       "Vehicle Age              5.000000     10.000000     15.000000      19.000000  \n",
       "Credit Score           468.000000    595.000000    721.000000     849.000000  \n",
       "Insurance Duration       3.000000      5.000000      7.000000       9.000000  \n",
       "Premium Amount         514.000000    872.000000   1509.000000    4999.000000  "
      ]
     },
     "execution_count": 4,
     "metadata": {},
     "output_type": "execute_result"
    }
   ],
   "source": [
    "# Shape and info\n",
    "print(\"Shape of dataset:\", df.shape)\n",
    "df.info()\n",
    "\n",
    "# Summary statistics\n",
    "df.describe().T\n"
   ]
  },
  {
   "cell_type": "markdown",
   "id": "63db8117",
   "metadata": {},
   "source": [
    "<h2 style=\"color:#b32d00\">Missing values count</h3>\n"
   ]
  },
  {
   "cell_type": "code",
   "execution_count": 5,
   "id": "03b2ddf1",
   "metadata": {},
   "outputs": [
    {
     "name": "stdout",
     "output_type": "stream",
     "text": [
      "                      Missing Count  Missing %\n",
      "Previous Claims              364029  30.335750\n",
      "Occupation                   358075  29.839583\n",
      "Credit Score                 137882  11.490167\n",
      "Number of Dependents         109672   9.139333\n",
      "Customer Feedback             77824   6.485333\n",
      "Health Score                  74076   6.173000\n",
      "Annual Income                 44949   3.745750\n",
      "Age                           18705   1.558750\n",
      "Marital Status                18529   1.544083\n",
      "Vehicle Age                       6   0.000500\n",
      "Insurance Duration                1   0.000083\n",
      "Location                          0   0.000000\n",
      "Policy Type                       0   0.000000\n",
      "Gender                            0   0.000000\n",
      "Education Level                   0   0.000000\n",
      "Policy Start Date                 0   0.000000\n",
      "Smoking Status                    0   0.000000\n",
      "Exercise Frequency                0   0.000000\n",
      "Property Type                     0   0.000000\n",
      "Premium Amount                    0   0.000000\n"
     ]
    }
   ],
   "source": [
    "# Missing values count\n",
    "missing_counts = df.isnull().sum()\n",
    "missing_percent = (missing_counts / len(df)) * 100\n",
    "\n",
    "missing_df = pd.DataFrame({\n",
    "    'Missing Count': missing_counts,\n",
    "    'Missing %': missing_percent\n",
    "}).sort_values(by='Missing %', ascending=False)\n",
    "\n",
    "print(missing_df)\n"
   ]
  },
  {
   "cell_type": "markdown",
   "id": "a8db6362",
   "metadata": {},
   "source": [
    "<h2 style=\"color:#2eb82e\">Handling Missing values</h3>\n"
   ]
  },
  {
   "cell_type": "code",
   "execution_count": 6,
   "id": "ced5125c",
   "metadata": {},
   "outputs": [
    {
     "name": "stdout",
     "output_type": "stream",
     "text": [
      "Numeric columns:\n",
      "Index(['Age', 'Annual Income', 'Number of Dependents', 'Health Score',\n",
      "       'Previous Claims', 'Vehicle Age', 'Credit Score', 'Insurance Duration',\n",
      "       'Premium Amount'],\n",
      "      dtype='object')\n",
      "\n",
      "Categorical columns:\n",
      "Index(['Gender', 'Marital Status', 'Education Level', 'Occupation', 'Location',\n",
      "       'Policy Type', 'Policy Start Date', 'Customer Feedback',\n",
      "       'Smoking Status', 'Exercise Frequency', 'Property Type'],\n",
      "      dtype='object')\n",
      "                      Missing Count  Missing %\n",
      "Age                               0        0.0\n",
      "Gender                            0        0.0\n",
      "Property Type                     0        0.0\n",
      "Exercise Frequency                0        0.0\n",
      "Smoking Status                    0        0.0\n",
      "Customer Feedback                 0        0.0\n",
      "Policy Start Date                 0        0.0\n",
      "Insurance Duration                0        0.0\n",
      "Credit Score                      0        0.0\n",
      "Vehicle Age                       0        0.0\n",
      "Previous Claims                   0        0.0\n",
      "Policy Type                       0        0.0\n",
      "Location                          0        0.0\n",
      "Health Score                      0        0.0\n",
      "Occupation                        0        0.0\n",
      "Education Level                   0        0.0\n",
      "Number of Dependents              0        0.0\n",
      "Marital Status                    0        0.0\n",
      "Annual Income                     0        0.0\n",
      "Premium Amount                    0        0.0\n"
     ]
    }
   ],
   "source": [
    "numeric_cols = df.select_dtypes(include='number').columns\n",
    "categorical_cols = df.select_dtypes(include='object').columns\n",
    "\n",
    "print(\"Numeric columns:\")\n",
    "print(numeric_cols)\n",
    "print(\"\\nCategorical columns:\")\n",
    "print(categorical_cols)\n",
    "\n",
    "# Impute numeric columns with median\n",
    "df[numeric_cols] = df[numeric_cols].fillna(df[numeric_cols].median())\n",
    "\n",
    "# Impute categorical with mode\n",
    "for col in categorical_cols:\n",
    "    df[col].fillna(df[col].mode()[0], inplace=True)\n",
    "\n",
    "missing_counts = df.isnull().sum()\n",
    "missing_percent = (missing_counts / len(df)) * 100\n",
    "\n",
    "missing_df = pd.DataFrame({\n",
    "    'Missing Count': missing_counts,\n",
    "    'Missing %': missing_percent\n",
    "}).sort_values(by='Missing %', ascending=False)\n",
    "\n",
    "print(missing_df)\n"
   ]
  },
  {
   "cell_type": "code",
   "execution_count": 7,
   "id": "db771ab7",
   "metadata": {},
   "outputs": [
    {
     "name": "stdout",
     "output_type": "stream",
     "text": [
      "Age                            float64\n",
      "Gender                          object\n",
      "Annual Income                  float64\n",
      "Marital Status                  object\n",
      "Number of Dependents           float64\n",
      "Education Level                 object\n",
      "Occupation                      object\n",
      "Health Score                   float64\n",
      "Location                        object\n",
      "Policy Type                     object\n",
      "Previous Claims                float64\n",
      "Vehicle Age                    float64\n",
      "Credit Score                   float64\n",
      "Insurance Duration             float64\n",
      "Policy Start Date       datetime64[ns]\n",
      "Customer Feedback               object\n",
      "Smoking Status                  object\n",
      "Exercise Frequency              object\n",
      "Property Type                   object\n",
      "Premium Amount                 float64\n",
      "dtype: object\n"
     ]
    }
   ],
   "source": [
    "df['Policy Start Date'] = pd.to_datetime(df['Policy Start Date'], errors='coerce')\n",
    "print(df.dtypes)"
   ]
  },
  {
   "cell_type": "markdown",
   "id": "1981be7e",
   "metadata": {},
   "source": [
    "<h2 style=\"color:#3377ff\">Finding Duplicates</h3>\n"
   ]
  },
  {
   "cell_type": "code",
   "execution_count": 8,
   "id": "93639f7f",
   "metadata": {},
   "outputs": [
    {
     "name": "stdout",
     "output_type": "stream",
     "text": [
      "Duplicate rows: 0\n"
     ]
    }
   ],
   "source": [
    "print(\"Duplicate rows:\", df.duplicated().sum())\n"
   ]
  },
  {
   "cell_type": "markdown",
   "id": "80b5b2d4",
   "metadata": {},
   "source": [
    "<h2 style=\"color:#40ff00\">Finding Outliers</h3>\n"
   ]
  },
  {
   "cell_type": "code",
   "execution_count": 9,
   "id": "ce6ecf96",
   "metadata": {},
   "outputs": [
    {
     "name": "stdout",
     "output_type": "stream",
     "text": [
      "Numeric columns after removing 'Premium Amount':\n",
      "Index(['Age', 'Annual Income', 'Number of Dependents', 'Health Score',\n",
      "       'Previous Claims', 'Vehicle Age', 'Credit Score', 'Insurance Duration'],\n",
      "      dtype='object')\n"
     ]
    }
   ],
   "source": [
    "## remove premimum amount column from the numeric columns\n",
    "numeric_cols = numeric_cols[numeric_cols != 'Premium Amount']\n",
    "print(\"Numeric columns after removing 'Premium Amount':\")\n",
    "print(numeric_cols)"
   ]
  },
  {
   "cell_type": "code",
   "execution_count": 10,
   "id": "3fd88417",
   "metadata": {},
   "outputs": [
    {
     "data": {
      "image/png": "[encoded data removed]",
      "text/plain": [
       "<Figure size 640x480 with 1 Axes>"
      ]
     },
     "metadata": {},
     "output_type": "display_data"
    },
    {
     "data": {
      "image/png": "[encoded data removed]",
      "text/plain": [
       "<Figure size 640x480 with 1 Axes>"
      ]
     },
     "metadata": {},
     "output_type": "display_data"
    },
    {
     "data": {
      "image/png": "[encoded data removed]",
      "text/plain": [
       "<Figure size 640x480 with 1 Axes>"
      ]
     },
     "metadata": {},
     "output_type": "display_data"
    },
    {
     "data": {
      "image/png": "[encoded data removed]",
      "text/plain": [
       "<Figure size 640x480 with 1 Axes>"
      ]
     },
     "metadata": {},
     "output_type": "display_data"
    },
    {
     "data": {
      "image/png": "[encoded data removed]",
      "text/plain": [
       "<Figure size 640x480 with 1 Axes>"
      ]
     },
     "metadata": {},
     "output_type": "display_data"
    },
    {
     "data": {
      "image/png": "[encoded data removed]",
      "text/plain": [
       "<Figure size 640x480 with 1 Axes>"
      ]
     },
     "metadata": {},
     "output_type": "display_data"
    },
    {
     "data": {
      "image/png": "[encoded data removed]",
      "text/plain": [
       "<Figure size 640x480 with 1 Axes>"
      ]
     },
     "metadata": {},
     "output_type": "display_data"
    },
    {
     "data": {
      "image/png": "[encoded data removed]",
      "text/plain": [
       "<Figure size 640x480 with 1 Axes>"
      ]
     },
     "metadata": {},
     "output_type": "display_data"
    }
   ],
   "source": [
    "# Visual check for outliers\n",
    "for col in numeric_cols:\n",
    "    sns.boxplot(data=df, x=col)\n",
    "    plt.title(f\"Boxplot of {col}\")\n",
    "    plt.show()"
   ]
  },
  {
   "cell_type": "markdown",
   "id": "e2ff5181",
   "metadata": {},
   "source": [
    "<h2 style=\"color:#3377ff\">Removing Outliers</h3>\n"
   ]
  },
  {
   "cell_type": "code",
   "execution_count": 11,
   "id": "8c14050d",
   "metadata": {},
   "outputs": [],
   "source": [
    "for col in numeric_cols:\n",
    "    Q1 = df[col].quantile(0.25)\n",
    "    Q3 = df[col].quantile(0.75)\n",
    "    IQR = Q3 - Q1\n",
    "    lower = Q1 - 1.5 * IQR\n",
    "    upper = Q3 + 1.5 * IQR\n",
    "    df = df[(df[col] >= lower) & (df[col] <= upper)]"
   ]
  },
  {
   "cell_type": "code",
   "execution_count": 12,
   "id": "d2c82d68",
   "metadata": {},
   "outputs": [
    {
     "data": {
      "image/png": "[encoded data removed]",
      "text/plain": [
       "<Figure size 640x480 with 1 Axes>"
      ]
     },
     "metadata": {},
     "output_type": "display_data"
    },
    {
     "data": {
      "image/png": "[encoded data removed]",
      "text/plain": [
       "<Figure size 640x480 with 1 Axes>"
      ]
     },
     "metadata": {},
     "output_type": "display_data"
    },
    {
     "data": {
      "image/png": "[encoded data removed]",
      "text/plain": [
       "<Figure size 640x480 with 1 Axes>"
      ]
     },
     "metadata": {},
     "output_type": "display_data"
    },
    {
     "data": {
      "image/png": "[encoded data removed]",
      "text/plain": [
       "<Figure size 640x480 with 1 Axes>"
      ]
     },
     "metadata": {},
     "output_type": "display_data"
    },
    {
     "data": {
      "image/png": "[encoded data removed]",
      "text/plain": [
       "<Figure size 640x480 with 1 Axes>"
      ]
     },
     "metadata": {},
     "output_type": "display_data"
    },
    {
     "data": {
      "image/png": "[encoded data removed]",
      "text/plain": [
       "<Figure size 640x480 with 1 Axes>"
      ]
     },
     "metadata": {},
     "output_type": "display_data"
    },
    {
     "data": {
      "image/png": "[encoded data removed]",
      "text/plain": [
       "<Figure size 640x480 with 1 Axes>"
      ]
     },
     "metadata": {},
     "output_type": "display_data"
    },
    {
     "data": {
      "image/png": "[encoded data removed]",
      "text/plain": [
       "<Figure size 640x480 with 1 Axes>"
      ]
     },
     "metadata": {},
     "output_type": "display_data"
    }
   ],
   "source": [
    "# Visual check for outliers\n",
    "for col in numeric_cols:\n",
    "    sns.boxplot(data=df, x=col)\n",
    "    plt.title(f\"Boxplot of {col}\")\n",
    "    plt.show()"
   ]
  },
  {
   "cell_type": "markdown",
   "id": "e57a420f",
   "metadata": {},
   "source": [
    "<h2 style=\"color:#2E8B57\">📊 Exploratory Data Analysis -- EDA </h2>\n"
   ]
  },
  {
   "cell_type": "markdown",
   "id": "0b1b9122",
   "metadata": {},
   "source": [
    "#### EDA helps understand:\n",
    "\n",
    "* Distribution of values\n",
    "\n",
    "* Relationships between variables\n",
    "\n",
    "* Trends, anomalies, and patterns\n",
    "\n",
    "* Key business insights"
   ]
  },
  {
   "cell_type": "markdown",
   "id": "8ea7a8e0",
   "metadata": {},
   "source": []
  },
  {
   "cell_type": "code",
   "execution_count": 13,
   "id": "e02b6968",
   "metadata": {},
   "outputs": [
    {
     "data": {
      "application/vnd.plotly.v1+json": {
       "config": {
        "plotlyServerURL": "https://plot.ly"
       },
       "data": [
        {
         "alignmentgroup": "True",
         "hovertemplate": "Gender=Female<br>Age Group=%{x}<br>Average Premium=%{y}<extra></extra>",
         "legendgroup": "Female",
         "marker": {
          "color": "#636efa",
          "pattern": {
           "shape": ""
          }
         },
         "name": "Female",
         "offsetgroup": "Female",
         "orientation": "v",
         "showlegend": true,
         "textposition": "auto",
         "type": "bar",
         "x": [
          "18-25",
          "26-35",
          "36-45",
          "46-60",
          "60+"
         ],
         "xaxis": "x",
         "y": {
          "bdata": "+x4+ynYvkUA7/GT/vSqRQPCbqE+mE5FALzjTYFwWkUBYiJmfgwmRQA==",
          "dtype": "f8"
         },
         "yaxis": "y"
        },
        {
         "alignmentgroup": "True",
         "hovertemplate": "Gender=Male<br>Age Group=%{x}<br>Average Premium=%{y}<extra></extra>",
         "legendgroup": "Male",
         "marker": {
          "color": "#EF553B",
          "pattern": {
           "shape": ""
          }
         },
         "name": "Male",
         "offsetgroup": "Male",
         "orientation": "v",
         "showlegend": true,
         "textposition": "auto",
         "type": "bar",
         "x": [
          "18-25",
          "26-35",
          "36-45",
          "46-60",
          "60+"
         ],
         "xaxis": "x",
         "y": {
          "bdata": "ppDAXVgRkUCfHMxpYTeRQPw3kk1+LpFAXbGp160TkUDQPArC0xaRQA==",
          "dtype": "f8"
         },
         "yaxis": "y"
        }
       ],
       "layout": {
        "barmode": "group",
        "legend": {
         "title": {
          "text": "Gender"
         },
         "tracegroupgap": 0
        },
        "template": {
         "data": {
          "bar": [
           {
            "error_x": {
             "color": "#2a3f5f"
            },
            "error_y": {
             "color": "#2a3f5f"
            },
            "marker": {
             "line": {
              "color": "white",
              "width": 0.5
             },
             "pattern": {
              "fillmode": "overlay",
              "size": 10,
              "solidity": 0.2
             }
            },
            "type": "bar"
           }
          ],
          "barpolar": [
           {
            "marker": {
             "line": {
              "color": "white",
              "width": 0.5
             },
             "pattern": {
              "fillmode": "overlay",
              "size": 10,
              "solidity": 0.2
             }
            },
            "type": "barpolar"
           }
          ],
          "carpet": [
           {
            "aaxis": {
             "endlinecolor": "#2a3f5f",
             "gridcolor": "#C8D4E3",
             "linecolor": "#C8D4E3",
             "minorgridcolor": "#C8D4E3",
             "startlinecolor": "#2a3f5f"
            },
            "baxis": {
             "endlinecolor": "#2a3f5f",
             "gridcolor": "#C8D4E3",
             "linecolor": "#C8D4E3",
             "minorgridcolor": "#C8D4E3",
             "startlinecolor": "#2a3f5f"
            },
            "type": "carpet"
           }
          ],
          "choropleth": [
           {
            "colorbar": {
             "outlinewidth": 0,
             "ticks": ""
            },
            "type": "choropleth"
           }
          ],
          "contour": [
           {
            "colorbar": {
             "outlinewidth": 0,
             "ticks": ""
            },
            "colorscale": [
             [
              0,
              "#0d0887"
             ],
             [
              0.1111111111111111,
              "#46039f"
             ],
             [
              0.2222222222222222,
              "#7201a8"
             ],
             [
              0.3333333333333333,
              "#9c179e"
             ],
             [
              0.4444444444444444,
              "#bd3786"
             ],
             [
              0.5555555555555556,
              "#d8576b"
             ],
             [
              0.6666666666666666,
              "#ed7953"
             ],
             [
              0.7777777777777778,
              "#fb9f3a"
             ],
             [
              0.8888888888888888,
              "#fdca26"
             ],
             [
              1,
              "#f0f921"
             ]
            ],
            "type": "contour"
           }
          ],
          "contourcarpet": [
           {
            "colorbar": {
             "outlinewidth": 0,
             "ticks": ""
            },
            "type": "contourcarpet"
           }
          ],
          "heatmap": [
           {
            "colorbar": {
             "outlinewidth": 0,
             "ticks": ""
            },
            "colorscale": [
             [
              0,
              "#0d0887"
             ],
             [
              0.1111111111111111,
              "#46039f"
             ],
             [
              0.2222222222222222,
              "#7201a8"
             ],
             [
              0.3333333333333333,
              "#9c179e"
             ],
             [
              0.4444444444444444,
              "#bd3786"
             ],
             [
              0.5555555555555556,
              "#d8576b"
             ],
             [
              0.6666666666666666,
              "#ed7953"
             ],
             [
              0.7777777777777778,
              "#fb9f3a"
             ],
             [
              0.8888888888888888,
              "#fdca26"
             ],
             [
              1,
              "#f0f921"
             ]
            ],
            "type": "heatmap"
           }
          ],
          "histogram": [
           {
            "marker": {
             "pattern": {
              "fillmode": "overlay",
              "size": 10,
              "solidity": 0.2
             }
            },
            "type": "histogram"
           }
          ],
          "histogram2d": [
           {
            "colorbar": {
             "outlinewidth": 0,
             "ticks": ""
            },
            "colorscale": [
             [
              0,
              "#0d0887"
             ],
             [
              0.1111111111111111,
              "#46039f"
             ],
             [
              0.2222222222222222,
              "#7201a8"
             ],
             [
              0.3333333333333333,
              "#9c179e"
             ],
             [
              0.4444444444444444,
              "#bd3786"
             ],
             [
              0.5555555555555556,
              "#d8576b"
             ],
             [
              0.6666666666666666,
              "#ed7953"
             ],
             [
              0.7777777777777778,
              "#fb9f3a"
             ],
             [
              0.8888888888888888,
              "#fdca26"
             ],
             [
              1,
              "#f0f921"
             ]
            ],
            "type": "histogram2d"
           }
          ],
          "histogram2dcontour": [
           {
            "colorbar": {
             "outlinewidth": 0,
             "ticks": ""
            },
            "colorscale": [
             [
              0,
              "#0d0887"
             ],
             [
              0.1111111111111111,
              "#46039f"
             ],
             [
              0.2222222222222222,
              "#7201a8"
             ],
             [
              0.3333333333333333,
              "#9c179e"
             ],
             [
              0.4444444444444444,
              "#bd3786"
             ],
             [
              0.5555555555555556,
              "#d8576b"
             ],
             [
              0.6666666666666666,
              "#ed7953"
             ],
             [
              0.7777777777777778,
              "#fb9f3a"
             ],
             [
              0.8888888888888888,
              "#fdca26"
             ],
             [
              1,
              "#f0f921"
             ]
            ],
            "type": "histogram2dcontour"
           }
          ],
          "mesh3d": [
           {
            "colorbar": {
             "outlinewidth": 0,
             "ticks": ""
            },
            "type": "mesh3d"
           }
          ],
          "parcoords": [
           {
            "line": {
             "colorbar": {
              "outlinewidth": 0,
              "ticks": ""
             }
            },
            "type": "parcoords"
           }
          ],
          "pie": [
           {
            "automargin": true,
            "type": "pie"
           }
          ],
          "scatter": [
           {
            "fillpattern": {
             "fillmode": "overlay",
             "size": 10,
             "solidity": 0.2
            },
            "type": "scatter"
           }
          ],
          "scatter3d": [
           {
            "line": {
             "colorbar": {
              "outlinewidth": 0,
              "ticks": ""
             }
            },
            "marker": {
             "colorbar": {
              "outlinewidth": 0,
              "ticks": ""
             }
            },
            "type": "scatter3d"
           }
          ],
          "scattercarpet": [
           {
            "marker": {
             "colorbar": {
              "outlinewidth": 0,
              "ticks": ""
             }
            },
            "type": "scattercarpet"
           }
          ],
          "scattergeo": [
           {
            "marker": {
             "colorbar": {
              "outlinewidth": 0,
              "ticks": ""
             }
            },
            "type": "scattergeo"
           }
          ],
          "scattergl": [
           {
            "marker": {
             "colorbar": {
              "outlinewidth": 0,
              "ticks": ""
             }
            },
            "type": "scattergl"
           }
          ],
          "scattermap": [
           {
            "marker": {
             "colorbar": {
              "outlinewidth": 0,
              "ticks": ""
             }
            },
            "type": "scattermap"
           }
          ],
          "scattermapbox": [
           {
            "marker": {
             "colorbar": {
              "outlinewidth": 0,
              "ticks": ""
             }
            },
            "type": "scattermapbox"
           }
          ],
          "scatterpolar": [
           {
            "marker": {
             "colorbar": {
              "outlinewidth": 0,
              "ticks": ""
             }
            },
            "type": "scatterpolar"
           }
          ],
          "scatterpolargl": [
           {
            "marker": {
             "colorbar": {
              "outlinewidth": 0,
              "ticks": ""
             }
            },
            "type": "scatterpolargl"
           }
          ],
          "scatterternary": [
           {
            "marker": {
             "colorbar": {
              "outlinewidth": 0,
              "ticks": ""
             }
            },
            "type": "scatterternary"
           }
          ],
          "surface": [
           {
            "colorbar": {
             "outlinewidth": 0,
             "ticks": ""
            },
            "colorscale": [
             [
              0,
              "#0d0887"
             ],
             [
              0.1111111111111111,
              "#46039f"
             ],
             [
              0.2222222222222222,
              "#7201a8"
             ],
             [
              0.3333333333333333,
              "#9c179e"
             ],
             [
              0.4444444444444444,
              "#bd3786"
             ],
             [
              0.5555555555555556,
              "#d8576b"
             ],
             [
              0.6666666666666666,
              "#ed7953"
             ],
             [
              0.7777777777777778,
              "#fb9f3a"
             ],
             [
              0.8888888888888888,
              "#fdca26"
             ],
             [
              1,
              "#f0f921"
             ]
            ],
            "type": "surface"
           }
          ],
          "table": [
           {
            "cells": {
             "fill": {
              "color": "#EBF0F8"
             },
             "line": {
              "color": "white"
             }
            },
            "header": {
             "fill": {
              "color": "#C8D4E3"
             },
             "line": {
              "color": "white"
             }
            },
            "type": "table"
           }
          ]
         },
         "layout": {
          "annotationdefaults": {
           "arrowcolor": "#2a3f5f",
           "arrowhead": 0,
           "arrowwidth": 1
          },
          "autotypenumbers": "strict",
          "coloraxis": {
           "colorbar": {
            "outlinewidth": 0,
            "ticks": ""
           }
          },
          "colorscale": {
           "diverging": [
            [
             0,
             "#8e0152"
            ],
            [
             0.1,
             "#c51b7d"
            ],
            [
             0.2,
             "#de77ae"
            ],
            [
             0.3,
             "#f1b6da"
            ],
            [
             0.4,
             "#fde0ef"
            ],
            [
             0.5,
             "#f7f7f7"
            ],
            [
             0.6,
             "#e6f5d0"
            ],
            [
             0.7,
             "#b8e186"
            ],
            [
             0.8,
             "#7fbc41"
            ],
            [
             0.9,
             "#4d9221"
            ],
            [
             1,
             "#276419"
            ]
           ],
           "sequential": [
            [
             0,
             "#0d0887"
            ],
            [
             0.1111111111111111,
             "#46039f"
            ],
            [
             0.2222222222222222,
             "#7201a8"
            ],
            [
             0.3333333333333333,
             "#9c179e"
            ],
            [
             0.4444444444444444,
             "#bd3786"
            ],
            [
             0.5555555555555556,
             "#d8576b"
            ],
            [
             0.6666666666666666,
             "#ed7953"
            ],
            [
             0.7777777777777778,
             "#fb9f3a"
            ],
            [
             0.8888888888888888,
             "#fdca26"
            ],
            [
             1,
             "#f0f921"
            ]
           ],
           "sequentialminus": [
            [
             0,
             "#0d0887"
            ],
            [
             0.1111111111111111,
             "#46039f"
            ],
            [
             0.2222222222222222,
             "#7201a8"
            ],
            [
             0.3333333333333333,
             "#9c179e"
            ],
            [
             0.4444444444444444,
             "#bd3786"
            ],
            [
             0.5555555555555556,
             "#d8576b"
            ],
            [
             0.6666666666666666,
             "#ed7953"
            ],
            [
             0.7777777777777778,
             "#fb9f3a"
            ],
            [
             0.8888888888888888,
             "#fdca26"
            ],
            [
             1,
             "#f0f921"
            ]
           ]
          },
          "colorway": [
           "#636efa",
           "#EF553B",
           "#00cc96",
           "#ab63fa",
           "#FFA15A",
           "#19d3f3",
           "#FF6692",
           "#B6E880",
           "#FF97FF",
           "#FECB52"
          ],
          "font": {
           "color": "#2a3f5f"
          },
          "geo": {
           "bgcolor": "white",
           "lakecolor": "white",
           "landcolor": "white",
           "showlakes": true,
           "showland": true,
           "subunitcolor": "#C8D4E3"
          },
          "hoverlabel": {
           "align": "left"
          },
          "hovermode": "closest",
          "mapbox": {
           "style": "light"
          },
          "paper_bgcolor": "white",
          "plot_bgcolor": "white",
          "polar": {
           "angularaxis": {
            "gridcolor": "#EBF0F8",
            "linecolor": "#EBF0F8",
            "ticks": ""
           },
           "bgcolor": "white",
           "radialaxis": {
            "gridcolor": "#EBF0F8",
            "linecolor": "#EBF0F8",
            "ticks": ""
           }
          },
          "scene": {
           "xaxis": {
            "backgroundcolor": "white",
            "gridcolor": "#DFE8F3",
            "gridwidth": 2,
            "linecolor": "#EBF0F8",
            "showbackground": true,
            "ticks": "",
            "zerolinecolor": "#EBF0F8"
           },
           "yaxis": {
            "backgroundcolor": "white",
            "gridcolor": "#DFE8F3",
            "gridwidth": 2,
            "linecolor": "#EBF0F8",
            "showbackground": true,
            "ticks": "",
            "zerolinecolor": "#EBF0F8"
           },
           "zaxis": {
            "backgroundcolor": "white",
            "gridcolor": "#DFE8F3",
            "gridwidth": 2,
            "linecolor": "#EBF0F8",
            "showbackground": true,
            "ticks": "",
            "zerolinecolor": "#EBF0F8"
           }
          },
          "shapedefaults": {
           "line": {
            "color": "#2a3f5f"
           }
          },
          "ternary": {
           "aaxis": {
            "gridcolor": "#DFE8F3",
            "linecolor": "#A2B1C6",
            "ticks": ""
           },
           "baxis": {
            "gridcolor": "#DFE8F3",
            "linecolor": "#A2B1C6",
            "ticks": ""
           },
           "bgcolor": "white",
           "caxis": {
            "gridcolor": "#DFE8F3",
            "linecolor": "#A2B1C6",
            "ticks": ""
           }
          },
          "title": {
           "x": 0.05
          },
          "xaxis": {
           "automargin": true,
           "gridcolor": "#EBF0F8",
           "linecolor": "#EBF0F8",
           "ticks": "",
           "title": {
            "standoff": 15
           },
           "zerolinecolor": "#EBF0F8",
           "zerolinewidth": 2
          },
          "yaxis": {
           "automargin": true,
           "gridcolor": "#EBF0F8",
           "linecolor": "#EBF0F8",
           "ticks": "",
           "title": {
            "standoff": 15
           },
           "zerolinecolor": "#EBF0F8",
           "zerolinewidth": 2
          }
         }
        },
        "title": {
         "text": "Average Premium Amount by Age Group and Gender"
        },
        "xaxis": {
         "anchor": "y",
         "domain": [
          0,
          1
         ],
         "title": {
          "text": "Age Group"
         }
        },
        "yaxis": {
         "anchor": "x",
         "domain": [
          0,
          1
         ],
         "title": {
          "text": "Average Premium"
         }
        }
       }
      }
     },
     "metadata": {},
     "output_type": "display_data"
    }
   ],
   "source": [
    "df['Age Group'] = pd.cut(df['Age'], \n",
    "                         bins=[18, 25, 35, 45, 60, 100],\n",
    "                         labels=['18-25', '26-35', '36-45', '46-60', '60+'],\n",
    "                         include_lowest=True)\n",
    "\n",
    "# Drop missing values for critical columns\n",
    "df_cleaned = df.dropna(subset=['Age Group', 'Gender', 'Premium Amount'])\n",
    "\n",
    "# Group by Age Group and Gender, then calculate mean Premium\n",
    "grouped = df_cleaned.groupby(['Age Group', 'Gender'])['Premium Amount'].mean().reset_index()\n",
    "\n",
    "# Plot\n",
    "fig = px.bar(grouped, x='Age Group', y='Premium Amount', color='Gender', barmode='group',\n",
    "             labels={'Premium Amount': 'Average Premium'}, \n",
    "             title='Average Premium Amount by Age Group and Gender')\n",
    "\n",
    "fig.update_layout(xaxis_title='Age Group', yaxis_title='Average Premium', \n",
    "                  legend_title='Gender', template='plotly_white')\n",
    "\n",
    "fig.show()"
   ]
  },
  {
   "cell_type": "code",
   "execution_count": null,
   "id": "2d7c1439",
   "metadata": {},
   "outputs": [],
   "source": []
  },
  {
   "cell_type": "code",
   "execution_count": 14,
   "id": "8a640f77",
   "metadata": {},
   "outputs": [
    {
     "data": {
      "application/vnd.microsoft.datawrangler.viewer.v0+json": {
       "columns": [
        {
         "name": "id",
         "rawType": "int64",
         "type": "integer"
        },
        {
         "name": "Age",
         "rawType": "float64",
         "type": "float"
        },
        {
         "name": "Gender",
         "rawType": "object",
         "type": "string"
        },
        {
         "name": "Annual Income",
         "rawType": "float64",
         "type": "float"
        },
        {
         "name": "Marital Status",
         "rawType": "object",
         "type": "string"
        },
        {
         "name": "Number of Dependents",
         "rawType": "float64",
         "type": "float"
        },
        {
         "name": "Education Level",
         "rawType": "object",
         "type": "string"
        },
        {
         "name": "Occupation",
         "rawType": "object",
         "type": "string"
        },
        {
         "name": "Health Score",
         "rawType": "float64",
         "type": "float"
        },
        {
         "name": "Location",
         "rawType": "object",
         "type": "string"
        },
        {
         "name": "Policy Type",
         "rawType": "object",
         "type": "string"
        },
        {
         "name": "Previous Claims",
         "rawType": "float64",
         "type": "float"
        },
        {
         "name": "Vehicle Age",
         "rawType": "float64",
         "type": "float"
        },
        {
         "name": "Credit Score",
         "rawType": "float64",
         "type": "float"
        },
        {
         "name": "Insurance Duration",
         "rawType": "float64",
         "type": "float"
        },
        {
         "name": "Policy Start Date",
         "rawType": "datetime64[ns]",
         "type": "datetime"
        },
        {
         "name": "Customer Feedback",
         "rawType": "object",
         "type": "string"
        },
        {
         "name": "Smoking Status",
         "rawType": "object",
         "type": "string"
        },
        {
         "name": "Exercise Frequency",
         "rawType": "object",
         "type": "string"
        },
        {
         "name": "Property Type",
         "rawType": "object",
         "type": "string"
        },
        {
         "name": "Premium Amount",
         "rawType": "float64",
         "type": "float"
        },
        {
         "name": "Age Group",
         "rawType": "category",
         "type": "unknown"
        }
       ],
       "ref": "4ce70bf5-f66e-4384-a164-49385c876d27",
       "rows": [
        [
         "848669",
         "19.0",
         "Male",
         "14900.0",
         "Single",
         "0.0",
         "High School",
         "Employed",
         "23.24688636601668",
         "Urban",
         "Basic",
         "0.0",
         "17.0",
         "552.0",
         "6.0",
         "2022-11-11 15:21:39.170099",
         "Good",
         "No",
         "Rarely",
         "House",
         "4999.0",
         "18-25"
        ],
        [
         "767167",
         "51.0",
         "Male",
         "38988.0",
         "Divorced",
         "2.0",
         "High School",
         "Unemployed",
         "26.00246901161892",
         "Rural",
         "Basic",
         "0.0",
         "10.0",
         "778.0",
         "2.0",
         "2020-07-06 15:21:39.134960",
         "Good",
         "Yes",
         "Rarely",
         "Condo",
         "4997.0",
         "46-60"
        ],
        [
         "877994",
         "26.0",
         "Female",
         "79801.0",
         "Single",
         "3.0",
         "Master's",
         "Unemployed",
         "19.739326996864627",
         "Rural",
         "Premium",
         "1.0",
         "5.0",
         "571.0",
         "3.0",
         "2021-06-30 15:21:39.155231",
         "Average",
         "Yes",
         "Weekly",
         "Apartment",
         "4997.0",
         "26-35"
        ],
        [
         "1169248",
         "62.0",
         "Female",
         "8440.0",
         "Married",
         "3.0",
         "Master's",
         "Unemployed",
         "21.997464776344643",
         "Urban",
         "Premium",
         "0.0",
         "1.0",
         "581.0",
         "5.0",
         "2020-01-04 15:21:39.092127",
         "Good",
         "Yes",
         "Daily",
         "Apartment",
         "4996.0",
         "60+"
        ],
        [
         "75643",
         "52.0",
         "Female",
         "23435.0",
         "Single",
         "1.0",
         "Master's",
         "Employed",
         "13.285972277906478",
         "Urban",
         "Basic",
         "1.0",
         "15.0",
         "340.0",
         "8.0",
         "2021-10-16 15:21:39.237118",
         "Average",
         "No",
         "Daily",
         "Apartment",
         "4994.0",
         "46-60"
        ],
        [
         "556721",
         "48.0",
         "Male",
         "38517.0",
         "Married",
         "2.0",
         "Master's",
         "Employed",
         "9.54785078277274",
         "Urban",
         "Comprehensive",
         "1.0",
         "6.0",
         "712.0",
         "8.0",
         "2021-01-13 15:21:39.279729",
         "Poor",
         "Yes",
         "Monthly",
         "House",
         "4992.0",
         "46-60"
        ],
        [
         "1045482",
         "46.0",
         "Male",
         "2914.0",
         "Married",
         "0.0",
         "PhD",
         "Employed",
         "29.829604671131616",
         "Urban",
         "Premium",
         "1.0",
         "2.0",
         "815.0",
         "4.0",
         "2021-10-10 15:21:39.261856",
         "Poor",
         "No",
         "Monthly",
         "Apartment",
         "4991.0",
         "46-60"
        ],
        [
         "351335",
         "30.0",
         "Male",
         "16087.0",
         "Married",
         "1.0",
         "Bachelor's",
         "Employed",
         "40.96413962504029",
         "Rural",
         "Premium",
         "1.0",
         "10.0",
         "650.0",
         "1.0",
         "2020-06-03 15:21:39.279729",
         "Good",
         "No",
         "Weekly",
         "Apartment",
         "4988.0",
         "26-35"
        ],
        [
         "307139",
         "52.0",
         "Male",
         "8892.0",
         "Married",
         "4.0",
         "Bachelor's",
         "Self-Employed",
         "30.01191102675048",
         "Suburban",
         "Premium",
         "0.0",
         "19.0",
         "595.0",
         "4.0",
         "2021-05-15 15:21:39.265513",
         "Poor",
         "No",
         "Monthly",
         "Condo",
         "4988.0",
         "46-60"
        ],
        [
         "119186",
         "23.0",
         "Female",
         "52418.0",
         "Single",
         "2.0",
         "PhD",
         "Unemployed",
         "23.86589401552256",
         "Urban",
         "Comprehensive",
         "2.0",
         "19.0",
         "376.0",
         "2.0",
         "2022-08-15 15:21:39.089116",
         "Average",
         "Yes",
         "Monthly",
         "Condo",
         "4988.0",
         "18-25"
        ],
        [
         "840921",
         "42.0",
         "Female",
         "17604.0",
         "Single",
         "3.0",
         "Bachelor's",
         "Self-Employed",
         "18.84719099204712",
         "Suburban",
         "Basic",
         "1.0",
         "7.0",
         "765.0",
         "7.0",
         "2019-09-20 15:21:39.134960",
         "Poor",
         "No",
         "Rarely",
         "Apartment",
         "4988.0",
         "36-45"
        ],
        [
         "348356",
         "23.0",
         "Female",
         "59829.0",
         "Married",
         "3.0",
         "PhD",
         "Employed",
         "23.035577856134143",
         "Rural",
         "Comprehensive",
         "1.0",
         "11.0",
         "595.0",
         "7.0",
         "2023-05-15 15:21:39.134960",
         "Average",
         "No",
         "Daily",
         "Apartment",
         "4988.0",
         "18-25"
        ],
        [
         "267649",
         "48.0",
         "Male",
         "2428.0",
         "Single",
         "1.0",
         "Bachelor's",
         "Employed",
         "40.98879774872569",
         "Rural",
         "Comprehensive",
         "1.0",
         "11.0",
         "696.0",
         "5.0",
         "2021-08-15 15:21:39.278402",
         "Average",
         "Yes",
         "Rarely",
         "House",
         "4988.0",
         "46-60"
        ],
        [
         "995321",
         "47.0",
         "Female",
         "28399.0",
         "Married",
         "4.0",
         "High School",
         "Unemployed",
         "47.33002923078337",
         "Rural",
         "Comprehensive",
         "1.0",
         "11.0",
         "486.0",
         "5.0",
         "2024-08-02 15:21:39.254678",
         "Good",
         "No",
         "Weekly",
         "House",
         "4988.0",
         "46-60"
        ],
        [
         "1196798",
         "63.0",
         "Female",
         "72961.0",
         "Divorced",
         "2.0",
         "High School",
         "Employed",
         "17.443469236316076",
         "Rural",
         "Comprehensive",
         "2.0",
         "14.0",
         "634.0",
         "5.0",
         "2019-11-29 15:21:39.118178",
         "Average",
         "No",
         "Monthly",
         "Condo",
         "4988.0",
         "60+"
        ],
        [
         "669083",
         "24.0",
         "Female",
         "53868.0",
         "Single",
         "1.0",
         "Master's",
         "Employed",
         "31.25564582671865",
         "Urban",
         "Premium",
         "1.0",
         "1.0",
         "303.0",
         "9.0",
         "2022-03-20 15:21:39.218388",
         "Good",
         "No",
         "Monthly",
         "Apartment",
         "4988.0",
         "18-25"
        ],
        [
         "378477",
         "31.0",
         "Male",
         "65382.0",
         "Married",
         "2.0",
         "Master's",
         "Employed",
         "31.25564582671865",
         "Urban",
         "Comprehensive",
         "1.0",
         "14.0",
         "303.0",
         "3.0",
         "2021-12-12 15:21:39.208842",
         "Good",
         "No",
         "Rarely",
         "House",
         "4988.0",
         "26-35"
        ],
        [
         "1079127",
         "52.0",
         "Female",
         "47207.0",
         "Divorced",
         "1.0",
         "Bachelor's",
         "Employed",
         "23.8138392076086",
         "Suburban",
         "Premium",
         "0.0",
         "11.0",
         "319.0",
         "5.0",
         "2022-09-18 15:21:39.155231",
         "Good",
         "Yes",
         "Rarely",
         "House",
         "4987.0",
         "46-60"
        ],
        [
         "61875",
         "37.0",
         "Female",
         "17086.0",
         "Divorced",
         "1.0",
         "Master's",
         "Employed",
         "50.865026692819136",
         "Suburban",
         "Premium",
         "0.0",
         "10.0",
         "591.0",
         "5.0",
         "2023-01-30 15:21:39.288099",
         "Poor",
         "Yes",
         "Daily",
         "Condo",
         "4987.0",
         "36-45"
        ],
        [
         "333906",
         "19.0",
         "Female",
         "55739.0",
         "Single",
         "1.0",
         "High School",
         "Unemployed",
         "39.19116599759048",
         "Urban",
         "Comprehensive",
         "1.0",
         "10.0",
         "303.0",
         "5.0",
         "2022-03-06 15:21:39.082499",
         "Good",
         "Yes",
         "Monthly",
         "Apartment",
         "4987.0",
         "18-25"
        ],
        [
         "155275",
         "35.0",
         "Male",
         "7692.0",
         "Divorced",
         "3.0",
         "Master's",
         "Employed",
         "38.12304928886767",
         "Suburban",
         "Comprehensive",
         "2.0",
         "19.0",
         "516.0",
         "9.0",
         "2019-11-04 15:21:39.188220",
         "Poor",
         "Yes",
         "Monthly",
         "House",
         "4986.0",
         "26-35"
        ],
        [
         "641059",
         "28.0",
         "Male",
         "31495.0",
         "Divorced",
         "2.0",
         "Bachelor's",
         "Unemployed",
         "20.938995050436752",
         "Suburban",
         "Premium",
         "1.0",
         "1.0",
         "595.0",
         "5.0",
         "2020-11-12 15:21:39.134960",
         "Average",
         "No",
         "Rarely",
         "Condo",
         "4986.0",
         "26-35"
        ],
        [
         "487447",
         "35.0",
         "Male",
         "22191.0",
         "Single",
         "1.0",
         "High School",
         "Unemployed",
         "8.689547765039105",
         "Suburban",
         "Basic",
         "1.0",
         "6.0",
         "717.0",
         "9.0",
         "2019-11-11 15:21:39.270454",
         "Good",
         "Yes",
         "Monthly",
         "House",
         "4986.0",
         "26-35"
        ],
        [
         "145709",
         "22.0",
         "Male",
         "15122.0",
         "Single",
         "0.0",
         "Master's",
         "Self-Employed",
         "10.73904435484758",
         "Rural",
         "Premium",
         "0.0",
         "0.0",
         "539.0",
         "4.0",
         "2022-06-13 15:21:39.254678",
         "Good",
         "No",
         "Daily",
         "Apartment",
         "4985.0",
         "18-25"
        ],
        [
         "895877",
         "53.0",
         "Female",
         "13141.0",
         "Divorced",
         "2.0",
         "PhD",
         "Unemployed",
         "51.18559639822343",
         "Rural",
         "Comprehensive",
         "2.0",
         "5.0",
         "307.0",
         "4.0",
         "2023-03-12 15:21:39.268507",
         "Good",
         "No",
         "Weekly",
         "Condo",
         "4985.0",
         "46-60"
        ],
        [
         "54982",
         "48.0",
         "Male",
         "83825.0",
         "Divorced",
         "4.0",
         "PhD",
         "Self-Employed",
         "25.835117857794103",
         "Suburban",
         "Premium",
         "2.0",
         "11.0",
         "731.0",
         "7.0",
         "2019-10-22 15:21:39.176717",
         "Good",
         "Yes",
         "Rarely",
         "Apartment",
         "4984.0",
         "46-60"
        ],
        [
         "1097643",
         "51.0",
         "Male",
         "11928.0",
         "Divorced",
         "0.0",
         "High School",
         "Self-Employed",
         "23.06780447991916",
         "Urban",
         "Basic",
         "1.0",
         "5.0",
         "331.0",
         "8.0",
         "2021-12-21 15:21:39.182597",
         "Average",
         "Yes",
         "Weekly",
         "Apartment",
         "4984.0",
         "46-60"
        ],
        [
         "1094272",
         "52.0",
         "Female",
         "3133.0",
         "Single",
         "2.0",
         "PhD",
         "Self-Employed",
         "24.281648687787264",
         "Urban",
         "Premium",
         "1.0",
         "1.0",
         "438.0",
         "1.0",
         "2023-04-16 15:21:39.086123",
         "Poor",
         "Yes",
         "Monthly",
         "Apartment",
         "4983.0",
         "46-60"
        ],
        [
         "336983",
         "58.0",
         "Male",
         "27983.0",
         "Divorced",
         "3.0",
         "Bachelor's",
         "Unemployed",
         "31.3735990942235",
         "Rural",
         "Basic",
         "2.0",
         "3.0",
         "722.0",
         "9.0",
         "2023-06-15 15:21:39.229482",
         "Poor",
         "Yes",
         "Daily",
         "Condo",
         "4983.0",
         "46-60"
        ],
        [
         "846918",
         "48.0",
         "Male",
         "733.0",
         "Single",
         "2.0",
         "Bachelor's",
         "Employed",
         "23.95599809400483",
         "Urban",
         "Premium",
         "2.0",
         "18.0",
         "600.0",
         "4.0",
         "2020-12-30 15:21:39.126661",
         "Average",
         "No",
         "Daily",
         "House",
         "4983.0",
         "46-60"
        ],
        [
         "1054164",
         "21.0",
         "Male",
         "53325.0",
         "Married",
         "1.0",
         "Bachelor's",
         "Employed",
         "24.57864816412784",
         "Rural",
         "Basic",
         "2.0",
         "15.0",
         "813.0",
         "3.0",
         "2022-08-12 15:21:39.094752",
         "Average",
         "No",
         "Rarely",
         "House",
         "4983.0",
         "18-25"
        ],
        [
         "211089",
         "57.0",
         "Male",
         "1223.0",
         "Divorced",
         "4.0",
         "Bachelor's",
         "Employed",
         "3.790344743716808",
         "Rural",
         "Premium",
         "0.0",
         "2.0",
         "494.0",
         "8.0",
         "2021-11-17 15:21:39.202448",
         "Poor",
         "Yes",
         "Rarely",
         "Apartment",
         "4983.0",
         "46-60"
        ],
        [
         "1067816",
         "21.0",
         "Female",
         "42797.0",
         "Married",
         "2.0",
         "Bachelor's",
         "Employed",
         "12.242136880367251",
         "Suburban",
         "Basic",
         "1.0",
         "16.0",
         "777.0",
         "3.0",
         "2023-10-06 15:21:39.226954",
         "Good",
         "Yes",
         "Rarely",
         "Condo",
         "4982.0",
         "18-25"
        ],
        [
         "647840",
         "63.0",
         "Female",
         "62495.0",
         "Married",
         "4.0",
         "Bachelor's",
         "Unemployed",
         "36.80786848247447",
         "Urban",
         "Comprehensive",
         "1.0",
         "1.0",
         "582.0",
         "7.0",
         "2024-05-09 15:21:39.143708",
         "Average",
         "No",
         "Rarely",
         "Apartment",
         "4982.0",
         "60+"
        ],
        [
         "70754",
         "31.0",
         "Female",
         "76298.0",
         "Married",
         "3.0",
         "High School",
         "Employed",
         "24.57864816412784",
         "Suburban",
         "Comprehensive",
         "1.0",
         "16.0",
         "595.0",
         "5.0",
         "2022-02-15 15:21:39.246098",
         "Average",
         "No",
         "Weekly",
         "House",
         "4982.0",
         "26-35"
        ],
        [
         "663274",
         "58.0",
         "Female",
         "72572.0",
         "Divorced",
         "0.0",
         "High School",
         "Unemployed",
         "19.69662602408873",
         "Urban",
         "Basic",
         "1.0",
         "10.0",
         "595.0",
         "1.0",
         "2022-01-26 15:21:39.134960",
         "Poor",
         "Yes",
         "Monthly",
         "Condo",
         "4982.0",
         "46-60"
        ],
        [
         "1059869",
         "50.0",
         "Male",
         "7983.0",
         "Divorced",
         "2.0",
         "PhD",
         "Employed",
         "15.813912998141303",
         "Urban",
         "Premium",
         "1.0",
         "18.0",
         "595.0",
         "8.0",
         "2021-02-07 15:21:39.257696",
         "Poor",
         "No",
         "Monthly",
         "House",
         "4982.0",
         "46-60"
        ],
        [
         "12013",
         "47.0",
         "Female",
         "4941.0",
         "Married",
         "4.0",
         "High School",
         "Self-Employed",
         "34.06862159789772",
         "Suburban",
         "Basic",
         "1.0",
         "15.0",
         "587.0",
         "7.0",
         "2020-03-18 15:21:39.213373",
         "Average",
         "No",
         "Monthly",
         "Condo",
         "4982.0",
         "46-60"
        ],
        [
         "174743",
         "34.0",
         "Female",
         "5682.0",
         "Single",
         "3.0",
         "Master's",
         "Employed",
         "16.704714265788223",
         "Rural",
         "Basic",
         "1.0",
         "7.0",
         "400.0",
         "7.0",
         "2022-12-01 15:21:39.147735",
         "Good",
         "No",
         "Daily",
         "Condo",
         "4982.0",
         "26-35"
        ],
        [
         "90462",
         "59.0",
         "Male",
         "19133.0",
         "Married",
         "2.0",
         "High School",
         "Self-Employed",
         "23.17595755692444",
         "Suburban",
         "Premium",
         "1.0",
         "6.0",
         "330.0",
         "6.0",
         "2024-05-15 15:21:39.118178",
         "Average",
         "Yes",
         "Rarely",
         "Apartment",
         "4982.0",
         "46-60"
        ],
        [
         "476041",
         "53.0",
         "Male",
         "48836.0",
         "Married",
         "0.0",
         "Master's",
         "Employed",
         "21.07977251553391",
         "Rural",
         "Comprehensive",
         "2.0",
         "13.0",
         "516.0",
         "9.0",
         "2022-06-05 15:21:39.190215",
         "Poor",
         "Yes",
         "Rarely",
         "Condo",
         "4982.0",
         "46-60"
        ],
        [
         "1068027",
         "43.0",
         "Female",
         "26791.0",
         "Single",
         "3.0",
         "Master's",
         "Unemployed",
         "32.232282158743544",
         "Urban",
         "Basic",
         "1.0",
         "17.0",
         "632.0",
         "7.0",
         "2023-02-23 15:21:39.167099",
         "Average",
         "No",
         "Weekly",
         "Condo",
         "4982.0",
         "36-45"
        ],
        [
         "807641",
         "21.0",
         "Female",
         "41003.0",
         "Married",
         "0.0",
         "PhD",
         "Employed",
         "25.54722274241176",
         "Rural",
         "Basic",
         "1.0",
         "15.0",
         "613.0",
         "2.0",
         "2021-06-27 15:21:39.085129",
         "Good",
         "No",
         "Weekly",
         "Condo",
         "4982.0",
         "18-25"
        ],
        [
         "1184212",
         "51.0",
         "Female",
         "44633.0",
         "Married",
         "4.0",
         "Master's",
         "Employed",
         "18.798920235524545",
         "Suburban",
         "Comprehensive",
         "0.0",
         "9.0",
         "595.0",
         "4.0",
         "2023-09-22 15:21:39.219432",
         "Good",
         "No",
         "Rarely",
         "House",
         "4982.0",
         "46-60"
        ],
        [
         "225443",
         "50.0",
         "Female",
         "12239.0",
         "Divorced",
         "0.0",
         "Master's",
         "Employed",
         "18.252350327591945",
         "Suburban",
         "Premium",
         "1.0",
         "1.0",
         "316.0",
         "7.0",
         "2022-01-04 15:21:39.132191",
         "Average",
         "Yes",
         "Weekly",
         "Apartment",
         "4982.0",
         "46-60"
        ],
        [
         "46065",
         "39.0",
         "Female",
         "16894.0",
         "Single",
         "1.0",
         "Bachelor's",
         "Self-Employed",
         "12.776778588470592",
         "Rural",
         "Basic",
         "1.0",
         "18.0",
         "644.0",
         "7.0",
         "2022-06-17 15:21:39.273973",
         "Average",
         "No",
         "Daily",
         "Apartment",
         "4982.0",
         "36-45"
        ],
        [
         "979106",
         "28.0",
         "Male",
         "75530.0",
         "Married",
         "2.0",
         "PhD",
         "Employed",
         "7.059414524780379",
         "Rural",
         "Premium",
         "1.0",
         "17.0",
         "494.0",
         "8.0",
         "2021-04-02 15:21:39.282785",
         "Average",
         "Yes",
         "Monthly",
         "Condo",
         "4981.0",
         "26-35"
        ],
        [
         "234124",
         "49.0",
         "Female",
         "6925.0",
         "Single",
         "2.0",
         "PhD",
         "Employed",
         "41.694652621552144",
         "Rural",
         "Premium",
         "0.0",
         "6.0",
         "757.0",
         "2.0",
         "2020-11-29 15:21:39.134960",
         "Average",
         "Yes",
         "Weekly",
         "House",
         "4981.0",
         "46-60"
        ],
        [
         "293832",
         "60.0",
         "Male",
         "11975.0",
         "Single",
         "2.0",
         "Bachelor's",
         "Employed",
         "24.09575913459451",
         "Urban",
         "Comprehensive",
         "1.0",
         "13.0",
         "829.0",
         "7.0",
         "2020-08-12 15:21:39.235012",
         "Average",
         "No",
         "Daily",
         "Apartment",
         "4981.0",
         "46-60"
        ],
        [
         "455369",
         "22.0",
         "Female",
         "14092.0",
         "Single",
         "2.0",
         "Master's",
         "Employed",
         "40.2837252211712",
         "Suburban",
         "Comprehensive",
         "2.0",
         "3.0",
         "751.0",
         "8.0",
         "2024-03-07 15:21:39.134960",
         "Average",
         "No",
         "Rarely",
         "House",
         "4981.0",
         "18-25"
        ]
       ],
       "shape": {
        "columns": 21,
        "rows": 1072844
       }
      },
      "text/html": [
       "<div>\n",
       "<style scoped>\n",
       "    .dataframe tbody tr th:only-of-type {\n",
       "        vertical-align: middle;\n",
       "    }\n",
       "\n",
       "    .dataframe tbody tr th {\n",
       "        vertical-align: top;\n",
       "    }\n",
       "\n",
       "    .dataframe thead th {\n",
       "        text-align: right;\n",
       "    }\n",
       "</style>\n",
       "<table border=\"1\" class=\"dataframe\">\n",
       "  <thead>\n",
       "    <tr style=\"text-align: right;\">\n",
       "      <th></th>\n",
       "      <th>Age</th>\n",
       "      <th>Gender</th>\n",
       "      <th>Annual Income</th>\n",
       "      <th>Marital Status</th>\n",
       "      <th>Number of Dependents</th>\n",
       "      <th>Education Level</th>\n",
       "      <th>Occupation</th>\n",
       "      <th>Health Score</th>\n",
       "      <th>Location</th>\n",
       "      <th>Policy Type</th>\n",
       "      <th>...</th>\n",
       "      <th>Vehicle Age</th>\n",
       "      <th>Credit Score</th>\n",
       "      <th>Insurance Duration</th>\n",
       "      <th>Policy Start Date</th>\n",
       "      <th>Customer Feedback</th>\n",
       "      <th>Smoking Status</th>\n",
       "      <th>Exercise Frequency</th>\n",
       "      <th>Property Type</th>\n",
       "      <th>Premium Amount</th>\n",
       "      <th>Age Group</th>\n",
       "    </tr>\n",
       "    <tr>\n",
       "      <th>id</th>\n",
       "      <th></th>\n",
       "      <th></th>\n",
       "      <th></th>\n",
       "      <th></th>\n",
       "      <th></th>\n",
       "      <th></th>\n",
       "      <th></th>\n",
       "      <th></th>\n",
       "      <th></th>\n",
       "      <th></th>\n",
       "      <th></th>\n",
       "      <th></th>\n",
       "      <th></th>\n",
       "      <th></th>\n",
       "      <th></th>\n",
       "      <th></th>\n",
       "      <th></th>\n",
       "      <th></th>\n",
       "      <th></th>\n",
       "      <th></th>\n",
       "      <th></th>\n",
       "    </tr>\n",
       "  </thead>\n",
       "  <tbody>\n",
       "    <tr>\n",
       "      <th>848669</th>\n",
       "      <td>19.0</td>\n",
       "      <td>Male</td>\n",
       "      <td>14900.0</td>\n",
       "      <td>Single</td>\n",
       "      <td>0.0</td>\n",
       "      <td>High School</td>\n",
       "      <td>Employed</td>\n",
       "      <td>23.246886</td>\n",
       "      <td>Urban</td>\n",
       "      <td>Basic</td>\n",
       "      <td>...</td>\n",
       "      <td>17.0</td>\n",
       "      <td>552.0</td>\n",
       "      <td>6.0</td>\n",
       "      <td>2022-11-11 15:21:39.170099</td>\n",
       "      <td>Good</td>\n",
       "      <td>No</td>\n",
       "      <td>Rarely</td>\n",
       "      <td>House</td>\n",
       "      <td>4999.0</td>\n",
       "      <td>18-25</td>\n",
       "    </tr>\n",
       "    <tr>\n",
       "      <th>767167</th>\n",
       "      <td>51.0</td>\n",
       "      <td>Male</td>\n",
       "      <td>38988.0</td>\n",
       "      <td>Divorced</td>\n",
       "      <td>2.0</td>\n",
       "      <td>High School</td>\n",
       "      <td>Unemployed</td>\n",
       "      <td>26.002469</td>\n",
       "      <td>Rural</td>\n",
       "      <td>Basic</td>\n",
       "      <td>...</td>\n",
       "      <td>10.0</td>\n",
       "      <td>778.0</td>\n",
       "      <td>2.0</td>\n",
       "      <td>2020-07-06 15:21:39.134960</td>\n",
       "      <td>Good</td>\n",
       "      <td>Yes</td>\n",
       "      <td>Rarely</td>\n",
       "      <td>Condo</td>\n",
       "      <td>4997.0</td>\n",
       "      <td>46-60</td>\n",
       "    </tr>\n",
       "    <tr>\n",
       "      <th>877994</th>\n",
       "      <td>26.0</td>\n",
       "      <td>Female</td>\n",
       "      <td>79801.0</td>\n",
       "      <td>Single</td>\n",
       "      <td>3.0</td>\n",
       "      <td>Master's</td>\n",
       "      <td>Unemployed</td>\n",
       "      <td>19.739327</td>\n",
       "      <td>Rural</td>\n",
       "      <td>Premium</td>\n",
       "      <td>...</td>\n",
       "      <td>5.0</td>\n",
       "      <td>571.0</td>\n",
       "      <td>3.0</td>\n",
       "      <td>2021-06-30 15:21:39.155231</td>\n",
       "      <td>Average</td>\n",
       "      <td>Yes</td>\n",
       "      <td>Weekly</td>\n",
       "      <td>Apartment</td>\n",
       "      <td>4997.0</td>\n",
       "      <td>26-35</td>\n",
       "    </tr>\n",
       "    <tr>\n",
       "      <th>1169248</th>\n",
       "      <td>62.0</td>\n",
       "      <td>Female</td>\n",
       "      <td>8440.0</td>\n",
       "      <td>Married</td>\n",
       "      <td>3.0</td>\n",
       "      <td>Master's</td>\n",
       "      <td>Unemployed</td>\n",
       "      <td>21.997465</td>\n",
       "      <td>Urban</td>\n",
       "      <td>Premium</td>\n",
       "      <td>...</td>\n",
       "      <td>1.0</td>\n",
       "      <td>581.0</td>\n",
       "      <td>5.0</td>\n",
       "      <td>2020-01-04 15:21:39.092127</td>\n",
       "      <td>Good</td>\n",
       "      <td>Yes</td>\n",
       "      <td>Daily</td>\n",
       "      <td>Apartment</td>\n",
       "      <td>4996.0</td>\n",
       "      <td>60+</td>\n",
       "    </tr>\n",
       "    <tr>\n",
       "      <th>75643</th>\n",
       "      <td>52.0</td>\n",
       "      <td>Female</td>\n",
       "      <td>23435.0</td>\n",
       "      <td>Single</td>\n",
       "      <td>1.0</td>\n",
       "      <td>Master's</td>\n",
       "      <td>Employed</td>\n",
       "      <td>13.285972</td>\n",
       "      <td>Urban</td>\n",
       "      <td>Basic</td>\n",
       "      <td>...</td>\n",
       "      <td>15.0</td>\n",
       "      <td>340.0</td>\n",
       "      <td>8.0</td>\n",
       "      <td>2021-10-16 15:21:39.237118</td>\n",
       "      <td>Average</td>\n",
       "      <td>No</td>\n",
       "      <td>Daily</td>\n",
       "      <td>Apartment</td>\n",
       "      <td>4994.0</td>\n",
       "      <td>46-60</td>\n",
       "    </tr>\n",
       "    <tr>\n",
       "      <th>...</th>\n",
       "      <td>...</td>\n",
       "      <td>...</td>\n",
       "      <td>...</td>\n",
       "      <td>...</td>\n",
       "      <td>...</td>\n",
       "      <td>...</td>\n",
       "      <td>...</td>\n",
       "      <td>...</td>\n",
       "      <td>...</td>\n",
       "      <td>...</td>\n",
       "      <td>...</td>\n",
       "      <td>...</td>\n",
       "      <td>...</td>\n",
       "      <td>...</td>\n",
       "      <td>...</td>\n",
       "      <td>...</td>\n",
       "      <td>...</td>\n",
       "      <td>...</td>\n",
       "      <td>...</td>\n",
       "      <td>...</td>\n",
       "      <td>...</td>\n",
       "    </tr>\n",
       "    <tr>\n",
       "      <th>481123</th>\n",
       "      <td>60.0</td>\n",
       "      <td>Male</td>\n",
       "      <td>3347.0</td>\n",
       "      <td>Divorced</td>\n",
       "      <td>0.0</td>\n",
       "      <td>PhD</td>\n",
       "      <td>Unemployed</td>\n",
       "      <td>10.759581</td>\n",
       "      <td>Rural</td>\n",
       "      <td>Basic</td>\n",
       "      <td>...</td>\n",
       "      <td>12.0</td>\n",
       "      <td>775.0</td>\n",
       "      <td>3.0</td>\n",
       "      <td>2024-02-21 15:21:39.237118</td>\n",
       "      <td>Average</td>\n",
       "      <td>Yes</td>\n",
       "      <td>Monthly</td>\n",
       "      <td>Condo</td>\n",
       "      <td>20.0</td>\n",
       "      <td>46-60</td>\n",
       "    </tr>\n",
       "    <tr>\n",
       "      <th>7366</th>\n",
       "      <td>50.0</td>\n",
       "      <td>Male</td>\n",
       "      <td>23911.0</td>\n",
       "      <td>Married</td>\n",
       "      <td>0.0</td>\n",
       "      <td>High School</td>\n",
       "      <td>Employed</td>\n",
       "      <td>23.939043</td>\n",
       "      <td>Urban</td>\n",
       "      <td>Basic</td>\n",
       "      <td>...</td>\n",
       "      <td>14.0</td>\n",
       "      <td>493.0</td>\n",
       "      <td>8.0</td>\n",
       "      <td>2021-06-13 15:21:39.190215</td>\n",
       "      <td>Good</td>\n",
       "      <td>No</td>\n",
       "      <td>Daily</td>\n",
       "      <td>Apartment</td>\n",
       "      <td>20.0</td>\n",
       "      <td>46-60</td>\n",
       "    </tr>\n",
       "    <tr>\n",
       "      <th>919749</th>\n",
       "      <td>62.0</td>\n",
       "      <td>Female</td>\n",
       "      <td>27991.0</td>\n",
       "      <td>Married</td>\n",
       "      <td>4.0</td>\n",
       "      <td>PhD</td>\n",
       "      <td>Self-Employed</td>\n",
       "      <td>30.938164</td>\n",
       "      <td>Suburban</td>\n",
       "      <td>Basic</td>\n",
       "      <td>...</td>\n",
       "      <td>2.0</td>\n",
       "      <td>307.0</td>\n",
       "      <td>7.0</td>\n",
       "      <td>2022-08-29 15:21:39.081504</td>\n",
       "      <td>Average</td>\n",
       "      <td>Yes</td>\n",
       "      <td>Daily</td>\n",
       "      <td>Condo</td>\n",
       "      <td>20.0</td>\n",
       "      <td>60+</td>\n",
       "    </tr>\n",
       "    <tr>\n",
       "      <th>347948</th>\n",
       "      <td>36.0</td>\n",
       "      <td>Female</td>\n",
       "      <td>1289.0</td>\n",
       "      <td>Married</td>\n",
       "      <td>4.0</td>\n",
       "      <td>Bachelor's</td>\n",
       "      <td>Employed</td>\n",
       "      <td>19.552905</td>\n",
       "      <td>Suburban</td>\n",
       "      <td>Basic</td>\n",
       "      <td>...</td>\n",
       "      <td>13.0</td>\n",
       "      <td>836.0</td>\n",
       "      <td>7.0</td>\n",
       "      <td>2024-08-13 15:21:39.274993</td>\n",
       "      <td>Poor</td>\n",
       "      <td>Yes</td>\n",
       "      <td>Rarely</td>\n",
       "      <td>Apartment</td>\n",
       "      <td>20.0</td>\n",
       "      <td>36-45</td>\n",
       "    </tr>\n",
       "    <tr>\n",
       "      <th>834982</th>\n",
       "      <td>36.0</td>\n",
       "      <td>Male</td>\n",
       "      <td>8006.0</td>\n",
       "      <td>Divorced</td>\n",
       "      <td>3.0</td>\n",
       "      <td>PhD</td>\n",
       "      <td>Employed</td>\n",
       "      <td>28.146047</td>\n",
       "      <td>Urban</td>\n",
       "      <td>Basic</td>\n",
       "      <td>...</td>\n",
       "      <td>2.0</td>\n",
       "      <td>814.0</td>\n",
       "      <td>1.0</td>\n",
       "      <td>2023-10-28 15:21:39.256696</td>\n",
       "      <td>Average</td>\n",
       "      <td>Yes</td>\n",
       "      <td>Rarely</td>\n",
       "      <td>Condo</td>\n",
       "      <td>20.0</td>\n",
       "      <td>36-45</td>\n",
       "    </tr>\n",
       "  </tbody>\n",
       "</table>\n",
       "<p>1072844 rows × 21 columns</p>\n",
       "</div>"
      ],
      "text/plain": [
       "          Age  Gender  Annual Income Marital Status  Number of Dependents  \\\n",
       "id                                                                          \n",
       "848669   19.0    Male        14900.0         Single                   0.0   \n",
       "767167   51.0    Male        38988.0       Divorced                   2.0   \n",
       "877994   26.0  Female        79801.0         Single                   3.0   \n",
       "1169248  62.0  Female         8440.0        Married                   3.0   \n",
       "75643    52.0  Female        23435.0         Single                   1.0   \n",
       "...       ...     ...            ...            ...                   ...   \n",
       "481123   60.0    Male         3347.0       Divorced                   0.0   \n",
       "7366     50.0    Male        23911.0        Married                   0.0   \n",
       "919749   62.0  Female        27991.0        Married                   4.0   \n",
       "347948   36.0  Female         1289.0        Married                   4.0   \n",
       "834982   36.0    Male         8006.0       Divorced                   3.0   \n",
       "\n",
       "        Education Level     Occupation  Health Score  Location Policy Type  \\\n",
       "id                                                                           \n",
       "848669      High School       Employed     23.246886     Urban       Basic   \n",
       "767167      High School     Unemployed     26.002469     Rural       Basic   \n",
       "877994         Master's     Unemployed     19.739327     Rural     Premium   \n",
       "1169248        Master's     Unemployed     21.997465     Urban     Premium   \n",
       "75643          Master's       Employed     13.285972     Urban       Basic   \n",
       "...                 ...            ...           ...       ...         ...   \n",
       "481123              PhD     Unemployed     10.759581     Rural       Basic   \n",
       "7366        High School       Employed     23.939043     Urban       Basic   \n",
       "919749              PhD  Self-Employed     30.938164  Suburban       Basic   \n",
       "347948       Bachelor's       Employed     19.552905  Suburban       Basic   \n",
       "834982              PhD       Employed     28.146047     Urban       Basic   \n",
       "\n",
       "         ...  Vehicle Age  Credit Score  Insurance Duration  \\\n",
       "id       ...                                                  \n",
       "848669   ...         17.0         552.0                 6.0   \n",
       "767167   ...         10.0         778.0                 2.0   \n",
       "877994   ...          5.0         571.0                 3.0   \n",
       "1169248  ...          1.0         581.0                 5.0   \n",
       "75643    ...         15.0         340.0                 8.0   \n",
       "...      ...          ...           ...                 ...   \n",
       "481123   ...         12.0         775.0                 3.0   \n",
       "7366     ...         14.0         493.0                 8.0   \n",
       "919749   ...          2.0         307.0                 7.0   \n",
       "347948   ...         13.0         836.0                 7.0   \n",
       "834982   ...          2.0         814.0                 1.0   \n",
       "\n",
       "                 Policy Start Date Customer Feedback Smoking Status  \\\n",
       "id                                                                    \n",
       "848669  2022-11-11 15:21:39.170099              Good             No   \n",
       "767167  2020-07-06 15:21:39.134960              Good            Yes   \n",
       "877994  2021-06-30 15:21:39.155231           Average            Yes   \n",
       "1169248 2020-01-04 15:21:39.092127              Good            Yes   \n",
       "75643   2021-10-16 15:21:39.237118           Average             No   \n",
       "...                            ...               ...            ...   \n",
       "481123  2024-02-21 15:21:39.237118           Average            Yes   \n",
       "7366    2021-06-13 15:21:39.190215              Good             No   \n",
       "919749  2022-08-29 15:21:39.081504           Average            Yes   \n",
       "347948  2024-08-13 15:21:39.274993              Poor            Yes   \n",
       "834982  2023-10-28 15:21:39.256696           Average            Yes   \n",
       "\n",
       "        Exercise Frequency Property Type Premium Amount  Age Group  \n",
       "id                                                                  \n",
       "848669              Rarely         House         4999.0      18-25  \n",
       "767167              Rarely         Condo         4997.0      46-60  \n",
       "877994              Weekly     Apartment         4997.0      26-35  \n",
       "1169248              Daily     Apartment         4996.0        60+  \n",
       "75643                Daily     Apartment         4994.0      46-60  \n",
       "...                    ...           ...            ...        ...  \n",
       "481123             Monthly         Condo           20.0      46-60  \n",
       "7366                 Daily     Apartment           20.0      46-60  \n",
       "919749               Daily         Condo           20.0        60+  \n",
       "347948              Rarely     Apartment           20.0      36-45  \n",
       "834982              Rarely         Condo           20.0      36-45  \n",
       "\n",
       "[1072844 rows x 21 columns]"
      ]
     },
     "execution_count": 14,
     "metadata": {},
     "output_type": "execute_result"
    }
   ],
   "source": [
    "\"\"\"\n",
    "# Capping extreme outliers in Premium Amount at 1st and 99th percentiles\n",
    "q_low = df['Premium Amount'].quantile(0.01)\n",
    "q_high = df['Premium Amount'].quantile(0.99)\n",
    "\n",
    "df['Premium_Capped'] = df['Premium Amount'].clip(lower=q_low, upper=q_high) # Capping the outliers at 1st and 99th percentile\n",
    "\"\"\"\n",
    "\n",
    "## sort the df by premium amount in descending order\n",
    "df.sort_values(by='Premium Amount', ascending=False, inplace=True)\n",
    "df"
   ]
  },
  {
   "cell_type": "code",
   "execution_count": 15,
   "id": "9ff6dc2b",
   "metadata": {},
   "outputs": [
    {
     "data": {
      "application/vnd.plotly.v1+json": {
       "config": {
        "plotlyServerURL": "https://plot.ly"
       },
       "data": [
        {
         "coloraxis": "coloraxis",
         "hovertemplate": "Insurance Duration: %{x}<br>Policy Type: %{y}<br>Avg Premium: %{z}<extra></extra>",
         "name": "0",
         "texttemplate": "%{z}",
         "type": "heatmap",
         "x": {
          "bdata": "AAAAAAAA8D8AAAAAAAAAQAAAAAAAAAhAAAAAAAAAEEAAAAAAAAAUQAAAAAAAABhAAAAAAAAAHEAAAAAAAAAgQAAAAAAAACJA",
          "dtype": "f8"
         },
         "xaxis": "x",
         "y": [
          "Basic",
          "Comprehensive",
          "Premium"
         ],
         "yaxis": "y",
         "z": {
          "bdata": "35ScRx0EkUDVRyAZXjCRQNHMA1nsH5FAScez3Zg5kUADWz8psBeRQIRbDXvRLZFAeAHvJiMikUDETUdolTuRQEP4eG3/EZFAhvxlY+cdkUC9sZg1XkSRQG8b6X3LCpFAfJVHU7MbkUDAa2bINw2RQFf6FUGGI5FAaDVY4aUekUBsX5GAszWRQJlmeWivDZFApP6s2kMGkUAP7L/I0yORQCvgxw5MHpFA+5jJRMEpkUAZrBSgfyaRQKCPP8P0FZFAR+ye0lQ9kUDdib7N8RmRQLGE2bue5pBA",
          "dtype": "f8",
          "shape": "3, 9"
         }
        }
       ],
       "layout": {
        "coloraxis": {
         "colorbar": {
          "title": {
           "text": "Avg Premium"
          }
         },
         "colorscale": [
          [
           0,
           "rgb(255,255,217)"
          ],
          [
           0.125,
           "rgb(237,248,177)"
          ],
          [
           0.25,
           "rgb(199,233,180)"
          ],
          [
           0.375,
           "rgb(127,205,187)"
          ],
          [
           0.5,
           "rgb(65,182,196)"
          ],
          [
           0.625,
           "rgb(29,145,192)"
          ],
          [
           0.75,
           "rgb(34,94,168)"
          ],
          [
           0.875,
           "rgb(37,52,148)"
          ],
          [
           1,
           "rgb(8,29,88)"
          ]
         ]
        },
        "template": {
         "data": {
          "bar": [
           {
            "error_x": {
             "color": "#2a3f5f"
            },
            "error_y": {
             "color": "#2a3f5f"
            },
            "marker": {
             "line": {
              "color": "white",
              "width": 0.5
             },
             "pattern": {
              "fillmode": "overlay",
              "size": 10,
              "solidity": 0.2
             }
            },
            "type": "bar"
           }
          ],
          "barpolar": [
           {
            "marker": {
             "line": {
              "color": "white",
              "width": 0.5
             },
             "pattern": {
              "fillmode": "overlay",
              "size": 10,
              "solidity": 0.2
             }
            },
            "type": "barpolar"
           }
          ],
          "carpet": [
           {
            "aaxis": {
             "endlinecolor": "#2a3f5f",
             "gridcolor": "#C8D4E3",
             "linecolor": "#C8D4E3",
             "minorgridcolor": "#C8D4E3",
             "startlinecolor": "#2a3f5f"
            },
            "baxis": {
             "endlinecolor": "#2a3f5f",
             "gridcolor": "#C8D4E3",
             "linecolor": "#C8D4E3",
             "minorgridcolor": "#C8D4E3",
             "startlinecolor": "#2a3f5f"
            },
            "type": "carpet"
           }
          ],
          "choropleth": [
           {
            "colorbar": {
             "outlinewidth": 0,
             "ticks": ""
            },
            "type": "choropleth"
           }
          ],
          "contour": [
           {
            "colorbar": {
             "outlinewidth": 0,
             "ticks": ""
            },
            "colorscale": [
             [
              0,
              "#0d0887"
             ],
             [
              0.1111111111111111,
              "#46039f"
             ],
             [
              0.2222222222222222,
              "#7201a8"
             ],
             [
              0.3333333333333333,
              "#9c179e"
             ],
             [
              0.4444444444444444,
              "#bd3786"
             ],
             [
              0.5555555555555556,
              "#d8576b"
             ],
             [
              0.6666666666666666,
              "#ed7953"
             ],
             [
              0.7777777777777778,
              "#fb9f3a"
             ],
             [
              0.8888888888888888,
              "#fdca26"
             ],
             [
              1,
              "#f0f921"
             ]
            ],
            "type": "contour"
           }
          ],
          "contourcarpet": [
           {
            "colorbar": {
             "outlinewidth": 0,
             "ticks": ""
            },
            "type": "contourcarpet"
           }
          ],
          "heatmap": [
           {
            "colorbar": {
             "outlinewidth": 0,
             "ticks": ""
            },
            "colorscale": [
             [
              0,
              "#0d0887"
             ],
             [
              0.1111111111111111,
              "#46039f"
             ],
             [
              0.2222222222222222,
              "#7201a8"
             ],
             [
              0.3333333333333333,
              "#9c179e"
             ],
             [
              0.4444444444444444,
              "#bd3786"
             ],
             [
              0.5555555555555556,
              "#d8576b"
             ],
             [
              0.6666666666666666,
              "#ed7953"
             ],
             [
              0.7777777777777778,
              "#fb9f3a"
             ],
             [
              0.8888888888888888,
              "#fdca26"
             ],
             [
              1,
              "#f0f921"
             ]
            ],
            "type": "heatmap"
           }
          ],
          "histogram": [
           {
            "marker": {
             "pattern": {
              "fillmode": "overlay",
              "size": 10,
              "solidity": 0.2
             }
            },
            "type": "histogram"
           }
          ],
          "histogram2d": [
           {
            "colorbar": {
             "outlinewidth": 0,
             "ticks": ""
            },
            "colorscale": [
             [
              0,
              "#0d0887"
             ],
             [
              0.1111111111111111,
              "#46039f"
             ],
             [
              0.2222222222222222,
              "#7201a8"
             ],
             [
              0.3333333333333333,
              "#9c179e"
             ],
             [
              0.4444444444444444,
              "#bd3786"
             ],
             [
              0.5555555555555556,
              "#d8576b"
             ],
             [
              0.6666666666666666,
              "#ed7953"
             ],
             [
              0.7777777777777778,
              "#fb9f3a"
             ],
             [
              0.8888888888888888,
              "#fdca26"
             ],
             [
              1,
              "#f0f921"
             ]
            ],
            "type": "histogram2d"
           }
          ],
          "histogram2dcontour": [
           {
            "colorbar": {
             "outlinewidth": 0,
             "ticks": ""
            },
            "colorscale": [
             [
              0,
              "#0d0887"
             ],
             [
              0.1111111111111111,
              "#46039f"
             ],
             [
              0.2222222222222222,
              "#7201a8"
             ],
             [
              0.3333333333333333,
              "#9c179e"
             ],
             [
              0.4444444444444444,
              "#bd3786"
             ],
             [
              0.5555555555555556,
              "#d8576b"
             ],
             [
              0.6666666666666666,
              "#ed7953"
             ],
             [
              0.7777777777777778,
              "#fb9f3a"
             ],
             [
              0.8888888888888888,
              "#fdca26"
             ],
             [
              1,
              "#f0f921"
             ]
            ],
            "type": "histogram2dcontour"
           }
          ],
          "mesh3d": [
           {
            "colorbar": {
             "outlinewidth": 0,
             "ticks": ""
            },
            "type": "mesh3d"
           }
          ],
          "parcoords": [
           {
            "line": {
             "colorbar": {
              "outlinewidth": 0,
              "ticks": ""
             }
            },
            "type": "parcoords"
           }
          ],
          "pie": [
           {
            "automargin": true,
            "type": "pie"
           }
          ],
          "scatter": [
           {
            "fillpattern": {
             "fillmode": "overlay",
             "size": 10,
             "solidity": 0.2
            },
            "type": "scatter"
           }
          ],
          "scatter3d": [
           {
            "line": {
             "colorbar": {
              "outlinewidth": 0,
              "ticks": ""
             }
            },
            "marker": {
             "colorbar": {
              "outlinewidth": 0,
              "ticks": ""
             }
            },
            "type": "scatter3d"
           }
          ],
          "scattercarpet": [
           {
            "marker": {
             "colorbar": {
              "outlinewidth": 0,
              "ticks": ""
             }
            },
            "type": "scattercarpet"
           }
          ],
          "scattergeo": [
           {
            "marker": {
             "colorbar": {
              "outlinewidth": 0,
              "ticks": ""
             }
            },
            "type": "scattergeo"
           }
          ],
          "scattergl": [
           {
            "marker": {
             "colorbar": {
              "outlinewidth": 0,
              "ticks": ""
             }
            },
            "type": "scattergl"
           }
          ],
          "scattermap": [
           {
            "marker": {
             "colorbar": {
              "outlinewidth": 0,
              "ticks": ""
             }
            },
            "type": "scattermap"
           }
          ],
          "scattermapbox": [
           {
            "marker": {
             "colorbar": {
              "outlinewidth": 0,
              "ticks": ""
             }
            },
            "type": "scattermapbox"
           }
          ],
          "scatterpolar": [
           {
            "marker": {
             "colorbar": {
              "outlinewidth": 0,
              "ticks": ""
             }
            },
            "type": "scatterpolar"
           }
          ],
          "scatterpolargl": [
           {
            "marker": {
             "colorbar": {
              "outlinewidth": 0,
              "ticks": ""
             }
            },
            "type": "scatterpolargl"
           }
          ],
          "scatterternary": [
           {
            "marker": {
             "colorbar": {
              "outlinewidth": 0,
              "ticks": ""
             }
            },
            "type": "scatterternary"
           }
          ],
          "surface": [
           {
            "colorbar": {
             "outlinewidth": 0,
             "ticks": ""
            },
            "colorscale": [
             [
              0,
              "#0d0887"
             ],
             [
              0.1111111111111111,
              "#46039f"
             ],
             [
              0.2222222222222222,
              "#7201a8"
             ],
             [
              0.3333333333333333,
              "#9c179e"
             ],
             [
              0.4444444444444444,
              "#bd3786"
             ],
             [
              0.5555555555555556,
              "#d8576b"
             ],
             [
              0.6666666666666666,
              "#ed7953"
             ],
             [
              0.7777777777777778,
              "#fb9f3a"
             ],
             [
              0.8888888888888888,
              "#fdca26"
             ],
             [
              1,
              "#f0f921"
             ]
            ],
            "type": "surface"
           }
          ],
          "table": [
           {
            "cells": {
             "fill": {
              "color": "#EBF0F8"
             },
             "line": {
              "color": "white"
             }
            },
            "header": {
             "fill": {
              "color": "#C8D4E3"
             },
             "line": {
              "color": "white"
             }
            },
            "type": "table"
           }
          ]
         },
         "layout": {
          "annotationdefaults": {
           "arrowcolor": "#2a3f5f",
           "arrowhead": 0,
           "arrowwidth": 1
          },
          "autotypenumbers": "strict",
          "coloraxis": {
           "colorbar": {
            "outlinewidth": 0,
            "ticks": ""
           }
          },
          "colorscale": {
           "diverging": [
            [
             0,
             "#8e0152"
            ],
            [
             0.1,
             "#c51b7d"
            ],
            [
             0.2,
             "#de77ae"
            ],
            [
             0.3,
             "#f1b6da"
            ],
            [
             0.4,
             "#fde0ef"
            ],
            [
             0.5,
             "#f7f7f7"
            ],
            [
             0.6,
             "#e6f5d0"
            ],
            [
             0.7,
             "#b8e186"
            ],
            [
             0.8,
             "#7fbc41"
            ],
            [
             0.9,
             "#4d9221"
            ],
            [
             1,
             "#276419"
            ]
           ],
           "sequential": [
            [
             0,
             "#0d0887"
            ],
            [
             0.1111111111111111,
             "#46039f"
            ],
            [
             0.2222222222222222,
             "#7201a8"
            ],
            [
             0.3333333333333333,
             "#9c179e"
            ],
            [
             0.4444444444444444,
             "#bd3786"
            ],
            [
             0.5555555555555556,
             "#d8576b"
            ],
            [
             0.6666666666666666,
             "#ed7953"
            ],
            [
             0.7777777777777778,
             "#fb9f3a"
            ],
            [
             0.8888888888888888,
             "#fdca26"
            ],
            [
             1,
             "#f0f921"
            ]
           ],
           "sequentialminus": [
            [
             0,
             "#0d0887"
            ],
            [
             0.1111111111111111,
             "#46039f"
            ],
            [
             0.2222222222222222,
             "#7201a8"
            ],
            [
             0.3333333333333333,
             "#9c179e"
            ],
            [
             0.4444444444444444,
             "#bd3786"
            ],
            [
             0.5555555555555556,
             "#d8576b"
            ],
            [
             0.6666666666666666,
             "#ed7953"
            ],
            [
             0.7777777777777778,
             "#fb9f3a"
            ],
            [
             0.8888888888888888,
             "#fdca26"
            ],
            [
             1,
             "#f0f921"
            ]
           ]
          },
          "colorway": [
           "#636efa",
           "#EF553B",
           "#00cc96",
           "#ab63fa",
           "#FFA15A",
           "#19d3f3",
           "#FF6692",
           "#B6E880",
           "#FF97FF",
           "#FECB52"
          ],
          "font": {
           "color": "#2a3f5f"
          },
          "geo": {
           "bgcolor": "white",
           "lakecolor": "white",
           "landcolor": "white",
           "showlakes": true,
           "showland": true,
           "subunitcolor": "#C8D4E3"
          },
          "hoverlabel": {
           "align": "left"
          },
          "hovermode": "closest",
          "mapbox": {
           "style": "light"
          },
          "paper_bgcolor": "white",
          "plot_bgcolor": "white",
          "polar": {
           "angularaxis": {
            "gridcolor": "#EBF0F8",
            "linecolor": "#EBF0F8",
            "ticks": ""
           },
           "bgcolor": "white",
           "radialaxis": {
            "gridcolor": "#EBF0F8",
            "linecolor": "#EBF0F8",
            "ticks": ""
           }
          },
          "scene": {
           "xaxis": {
            "backgroundcolor": "white",
            "gridcolor": "#DFE8F3",
            "gridwidth": 2,
            "linecolor": "#EBF0F8",
            "showbackground": true,
            "ticks": "",
            "zerolinecolor": "#EBF0F8"
           },
           "yaxis": {
            "backgroundcolor": "white",
            "gridcolor": "#DFE8F3",
            "gridwidth": 2,
            "linecolor": "#EBF0F8",
            "showbackground": true,
            "ticks": "",
            "zerolinecolor": "#EBF0F8"
           },
           "zaxis": {
            "backgroundcolor": "white",
            "gridcolor": "#DFE8F3",
            "gridwidth": 2,
            "linecolor": "#EBF0F8",
            "showbackground": true,
            "ticks": "",
            "zerolinecolor": "#EBF0F8"
           }
          },
          "shapedefaults": {
           "line": {
            "color": "#2a3f5f"
           }
          },
          "ternary": {
           "aaxis": {
            "gridcolor": "#DFE8F3",
            "linecolor": "#A2B1C6",
            "ticks": ""
           },
           "baxis": {
            "gridcolor": "#DFE8F3",
            "linecolor": "#A2B1C6",
            "ticks": ""
           },
           "bgcolor": "white",
           "caxis": {
            "gridcolor": "#DFE8F3",
            "linecolor": "#A2B1C6",
            "ticks": ""
           }
          },
          "title": {
           "x": 0.05
          },
          "xaxis": {
           "automargin": true,
           "gridcolor": "#EBF0F8",
           "linecolor": "#EBF0F8",
           "ticks": "",
           "title": {
            "standoff": 15
           },
           "zerolinecolor": "#EBF0F8",
           "zerolinewidth": 2
          },
          "yaxis": {
           "automargin": true,
           "gridcolor": "#EBF0F8",
           "linecolor": "#EBF0F8",
           "ticks": "",
           "title": {
            "standoff": 15
           },
           "zerolinecolor": "#EBF0F8",
           "zerolinewidth": 2
          }
         }
        },
        "title": {
         "text": "Average Premium by Policy Type and Insurance Duration"
        },
        "xaxis": {
         "anchor": "y",
         "constrain": "domain",
         "domain": [
          0,
          1
         ],
         "scaleanchor": "y",
         "title": {
          "text": "Insurance Duration (Years)"
         }
        },
        "yaxis": {
         "anchor": "x",
         "autorange": "reversed",
         "constrain": "domain",
         "domain": [
          0,
          1
         ],
         "title": {
          "text": "Policy Type"
         }
        }
       }
      }
     },
     "metadata": {},
     "output_type": "display_data"
    }
   ],
   "source": [
    "pivot_table = df_cleaned.pivot_table(index='Policy Type',\n",
    "                                     columns='Insurance Duration',\n",
    "                                     values='Premium Amount',\n",
    "                                     aggfunc='mean')\n",
    "\n",
    "# Plot using Plotly\n",
    "fig = px.imshow(pivot_table,\n",
    "                text_auto=True,\n",
    "                color_continuous_scale='YlGnBu',\n",
    "                labels=dict(color='Avg Premium'),\n",
    "                title='Average Premium by Policy Type and Insurance Duration')\n",
    "\n",
    "fig.update_layout(xaxis_title='Insurance Duration (Years)',\n",
    "                  yaxis_title='Policy Type',\n",
    "                  template='plotly_white')\n",
    "\n",
    "fig.show()"
   ]
  },
  {
   "cell_type": "code",
   "execution_count": 16,
   "id": "cbe7478f",
   "metadata": {},
   "outputs": [
    {
     "name": "stdout",
     "output_type": "stream",
     "text": [
      "   Policy Month  avg_premium  policy_count\n",
      "0       2019-08  1177.180360          7668\n",
      "1       2019-09  1161.617339         17164\n",
      "2       2019-10  1173.385611         16846\n",
      "3       2019-11  1175.708575         15661\n",
      "4       2019-12  1168.498099         16304\n",
      "..          ...          ...           ...\n",
      "56      2024-04  1098.790601         17235\n",
      "57      2024-05  1093.916799         18882\n",
      "58      2024-06  1101.065467         16176\n",
      "59      2024-07  1100.957051         16671\n",
      "60      2024-08  1120.896542          7317\n",
      "\n",
      "[61 rows x 3 columns]\n"
     ]
    }
   ],
   "source": [
    "df['Policy Month'] = df['Policy Start Date'].dt.to_period('M').astype(str)\n",
    "\n",
    "monthly_summary = df.groupby('Policy Month').agg(\n",
    "    avg_premium=('Premium Amount', 'mean'),\n",
    "    policy_count=('Policy Type', 'count')\n",
    ").reset_index()\n",
    "\n",
    "print(monthly_summary)"
   ]
  },
  {
   "cell_type": "code",
   "execution_count": 17,
   "id": "c761b201",
   "metadata": {},
   "outputs": [
    {
     "data": {
      "application/vnd.plotly.v1+json": {
       "config": {
        "plotlyServerURL": "https://plot.ly"
       },
       "data": [
        {
         "line": {
          "color": "blue"
         },
         "mode": "lines+markers",
         "name": "Average Premium",
         "type": "scatter",
         "x": [
          "2019-08",
          "2019-09",
          "2019-10",
          "2019-11",
          "2019-12",
          "2020-01",
          "2020-02",
          "2020-03",
          "2020-04",
          "2020-05",
          "2020-06",
          "2020-07",
          "2020-08",
          "2020-09",
          "2020-10",
          "2020-11",
          "2020-12",
          "2021-01",
          "2021-02",
          "2021-03",
          "2021-04",
          "2021-05",
          "2021-06",
          "2021-07",
          "2021-08",
          "2021-09",
          "2021-10",
          "2021-11",
          "2021-12",
          "2022-01",
          "2022-02",
          "2022-03",
          "2022-04",
          "2022-05",
          "2022-06",
          "2022-07",
          "2022-08",
          "2022-09",
          "2022-10",
          "2022-11",
          "2022-12",
          "2023-01",
          "2023-02",
          "2023-03",
          "2023-04",
          "2023-05",
          "2023-06",
          "2023-07",
          "2023-08",
          "2023-09",
          "2023-10",
          "2023-11",
          "2023-12",
          "2024-01",
          "2024-02",
          "2024-03",
          "2024-04",
          "2024-05",
          "2024-06",
          "2024-07",
          "2024-08"
         ],
         "y": {
          "bdata": "m4JGsLhkkkAVNJ0neCaSQFGUkN2KVZJAq/vMlNVekkAy9ZAN/kGSQB/MUMV4EpFAVxZoiOgdkUBAyhKg7TCRQPHVvZca/pBA79YsDeELkUCEjgp8kQeRQLWwdkrf5pBAJToUncnrkEAFF7DB2hqRQAdHzk2ZA5FAAJF6f5cBkUAUQf/V/wSRQOvJ68qPEJFAi65ocYMLkUD/KXGVSP+QQLGuY9yK+pBAoqdGAkvqkEBVbj2ywSCRQIGfWFf39JBAXiKCaZQSkUDw9VSk6RmRQABIbj5665BAB0FqM/ECkUBk48R+gNuQQEhsE+Sd4pBA4w7TSccTkUAYbf6tC+6QQHZOL0yoy5BA/aPuGyH7kEAy1WIUkQaRQCkLqpb3/5BAaoNo6UfokEBtKDJPD+qQQKlzs6cVEJFA+t/M1oMGkUDVURyI9vWQQGz1+ze8IJFAIB8hBdsLkUCBwck5UhqRQPWj24usBpFAaoR8V734kEB5RycX8iKRQHqY9Vw4D5FAk/YzCX7pkEA1xWZSXhSRQJ3TGLMbCZFAHIsOjOrXkEDVkzxlQQWRQFq/o7TDTpFAY7fouSdCkUCx5exeEjyRQBXsLpMpK5FAdfZfzaoXkUBPGOAJQzSRQD6WOAXUM5FAjjIvD5aDkUA=",
          "dtype": "f8"
         }
        },
        {
         "marker": {
          "color": "orange"
         },
         "name": "Number of Policies",
         "type": "bar",
         "x": [
          "2019-08",
          "2019-09",
          "2019-10",
          "2019-11",
          "2019-12",
          "2020-01",
          "2020-02",
          "2020-03",
          "2020-04",
          "2020-05",
          "2020-06",
          "2020-07",
          "2020-08",
          "2020-09",
          "2020-10",
          "2020-11",
          "2020-12",
          "2021-01",
          "2021-02",
          "2021-03",
          "2021-04",
          "2021-05",
          "2021-06",
          "2021-07",
          "2021-08",
          "2021-09",
          "2021-10",
          "2021-11",
          "2021-12",
          "2022-01",
          "2022-02",
          "2022-03",
          "2022-04",
          "2022-05",
          "2022-06",
          "2022-07",
          "2022-08",
          "2022-09",
          "2022-10",
          "2022-11",
          "2022-12",
          "2023-01",
          "2023-02",
          "2023-03",
          "2023-04",
          "2023-05",
          "2023-06",
          "2023-07",
          "2023-08",
          "2023-09",
          "2023-10",
          "2023-11",
          "2023-12",
          "2024-01",
          "2024-02",
          "2024-03",
          "2024-04",
          "2024-05",
          "2024-06",
          "2024-07",
          "2024-08"
         ],
         "y": {
          "bdata": "9B0MQ85BLT2wP4xGVEPTRW1Io0jASPtFgUpISOdEB0YLQ75H+0QOSCdJvUYKRy9LGEnGRQ5HrkauRmdFcUJvSDJHp01pRcJIbUtTRHxHwkpXRk5DF0KfSxlEE0mWRBtFSEcgRetEyUcURLZBqEKtRVNDwkkwPx9BlRw=",
          "dtype": "i2"
         },
         "yaxis": "y2"
        }
       ],
       "layout": {
        "height": 500,
        "legend": {
         "orientation": "h",
         "x": 0.5,
         "xanchor": "center"
        },
        "template": {
         "data": {
          "bar": [
           {
            "error_x": {
             "color": "#2a3f5f"
            },
            "error_y": {
             "color": "#2a3f5f"
            },
            "marker": {
             "line": {
              "color": "white",
              "width": 0.5
             },
             "pattern": {
              "fillmode": "overlay",
              "size": 10,
              "solidity": 0.2
             }
            },
            "type": "bar"
           }
          ],
          "barpolar": [
           {
            "marker": {
             "line": {
              "color": "white",
              "width": 0.5
             },
             "pattern": {
              "fillmode": "overlay",
              "size": 10,
              "solidity": 0.2
             }
            },
            "type": "barpolar"
           }
          ],
          "carpet": [
           {
            "aaxis": {
             "endlinecolor": "#2a3f5f",
             "gridcolor": "#C8D4E3",
             "linecolor": "#C8D4E3",
             "minorgridcolor": "#C8D4E3",
             "startlinecolor": "#2a3f5f"
            },
            "baxis": {
             "endlinecolor": "#2a3f5f",
             "gridcolor": "#C8D4E3",
             "linecolor": "#C8D4E3",
             "minorgridcolor": "#C8D4E3",
             "startlinecolor": "#2a3f5f"
            },
            "type": "carpet"
           }
          ],
          "choropleth": [
           {
            "colorbar": {
             "outlinewidth": 0,
             "ticks": ""
            },
            "type": "choropleth"
           }
          ],
          "contour": [
           {
            "colorbar": {
             "outlinewidth": 0,
             "ticks": ""
            },
            "colorscale": [
             [
              0,
              "#0d0887"
             ],
             [
              0.1111111111111111,
              "#46039f"
             ],
             [
              0.2222222222222222,
              "#7201a8"
             ],
             [
              0.3333333333333333,
              "#9c179e"
             ],
             [
              0.4444444444444444,
              "#bd3786"
             ],
             [
              0.5555555555555556,
              "#d8576b"
             ],
             [
              0.6666666666666666,
              "#ed7953"
             ],
             [
              0.7777777777777778,
              "#fb9f3a"
             ],
             [
              0.8888888888888888,
              "#fdca26"
             ],
             [
              1,
              "#f0f921"
             ]
            ],
            "type": "contour"
           }
          ],
          "contourcarpet": [
           {
            "colorbar": {
             "outlinewidth": 0,
             "ticks": ""
            },
            "type": "contourcarpet"
           }
          ],
          "heatmap": [
           {
            "colorbar": {
             "outlinewidth": 0,
             "ticks": ""
            },
            "colorscale": [
             [
              0,
              "#0d0887"
             ],
             [
              0.1111111111111111,
              "#46039f"
             ],
             [
              0.2222222222222222,
              "#7201a8"
             ],
             [
              0.3333333333333333,
              "#9c179e"
             ],
             [
              0.4444444444444444,
              "#bd3786"
             ],
             [
              0.5555555555555556,
              "#d8576b"
             ],
             [
              0.6666666666666666,
              "#ed7953"
             ],
             [
              0.7777777777777778,
              "#fb9f3a"
             ],
             [
              0.8888888888888888,
              "#fdca26"
             ],
             [
              1,
              "#f0f921"
             ]
            ],
            "type": "heatmap"
           }
          ],
          "histogram": [
           {
            "marker": {
             "pattern": {
              "fillmode": "overlay",
              "size": 10,
              "solidity": 0.2
             }
            },
            "type": "histogram"
           }
          ],
          "histogram2d": [
           {
            "colorbar": {
             "outlinewidth": 0,
             "ticks": ""
            },
            "colorscale": [
             [
              0,
              "#0d0887"
             ],
             [
              0.1111111111111111,
              "#46039f"
             ],
             [
              0.2222222222222222,
              "#7201a8"
             ],
             [
              0.3333333333333333,
              "#9c179e"
             ],
             [
              0.4444444444444444,
              "#bd3786"
             ],
             [
              0.5555555555555556,
              "#d8576b"
             ],
             [
              0.6666666666666666,
              "#ed7953"
             ],
             [
              0.7777777777777778,
              "#fb9f3a"
             ],
             [
              0.8888888888888888,
              "#fdca26"
             ],
             [
              1,
              "#f0f921"
             ]
            ],
            "type": "histogram2d"
           }
          ],
          "histogram2dcontour": [
           {
            "colorbar": {
             "outlinewidth": 0,
             "ticks": ""
            },
            "colorscale": [
             [
              0,
              "#0d0887"
             ],
             [
              0.1111111111111111,
              "#46039f"
             ],
             [
              0.2222222222222222,
              "#7201a8"
             ],
             [
              0.3333333333333333,
              "#9c179e"
             ],
             [
              0.4444444444444444,
              "#bd3786"
             ],
             [
              0.5555555555555556,
              "#d8576b"
             ],
             [
              0.6666666666666666,
              "#ed7953"
             ],
             [
              0.7777777777777778,
              "#fb9f3a"
             ],
             [
              0.8888888888888888,
              "#fdca26"
             ],
             [
              1,
              "#f0f921"
             ]
            ],
            "type": "histogram2dcontour"
           }
          ],
          "mesh3d": [
           {
            "colorbar": {
             "outlinewidth": 0,
             "ticks": ""
            },
            "type": "mesh3d"
           }
          ],
          "parcoords": [
           {
            "line": {
             "colorbar": {
              "outlinewidth": 0,
              "ticks": ""
             }
            },
            "type": "parcoords"
           }
          ],
          "pie": [
           {
            "automargin": true,
            "type": "pie"
           }
          ],
          "scatter": [
           {
            "fillpattern": {
             "fillmode": "overlay",
             "size": 10,
             "solidity": 0.2
            },
            "type": "scatter"
           }
          ],
          "scatter3d": [
           {
            "line": {
             "colorbar": {
              "outlinewidth": 0,
              "ticks": ""
             }
            },
            "marker": {
             "colorbar": {
              "outlinewidth": 0,
              "ticks": ""
             }
            },
            "type": "scatter3d"
           }
          ],
          "scattercarpet": [
           {
            "marker": {
             "colorbar": {
              "outlinewidth": 0,
              "ticks": ""
             }
            },
            "type": "scattercarpet"
           }
          ],
          "scattergeo": [
           {
            "marker": {
             "colorbar": {
              "outlinewidth": 0,
              "ticks": ""
             }
            },
            "type": "scattergeo"
           }
          ],
          "scattergl": [
           {
            "marker": {
             "colorbar": {
              "outlinewidth": 0,
              "ticks": ""
             }
            },
            "type": "scattergl"
           }
          ],
          "scattermap": [
           {
            "marker": {
             "colorbar": {
              "outlinewidth": 0,
              "ticks": ""
             }
            },
            "type": "scattermap"
           }
          ],
          "scattermapbox": [
           {
            "marker": {
             "colorbar": {
              "outlinewidth": 0,
              "ticks": ""
             }
            },
            "type": "scattermapbox"
           }
          ],
          "scatterpolar": [
           {
            "marker": {
             "colorbar": {
              "outlinewidth": 0,
              "ticks": ""
             }
            },
            "type": "scatterpolar"
           }
          ],
          "scatterpolargl": [
           {
            "marker": {
             "colorbar": {
              "outlinewidth": 0,
              "ticks": ""
             }
            },
            "type": "scatterpolargl"
           }
          ],
          "scatterternary": [
           {
            "marker": {
             "colorbar": {
              "outlinewidth": 0,
              "ticks": ""
             }
            },
            "type": "scatterternary"
           }
          ],
          "surface": [
           {
            "colorbar": {
             "outlinewidth": 0,
             "ticks": ""
            },
            "colorscale": [
             [
              0,
              "#0d0887"
             ],
             [
              0.1111111111111111,
              "#46039f"
             ],
             [
              0.2222222222222222,
              "#7201a8"
             ],
             [
              0.3333333333333333,
              "#9c179e"
             ],
             [
              0.4444444444444444,
              "#bd3786"
             ],
             [
              0.5555555555555556,
              "#d8576b"
             ],
             [
              0.6666666666666666,
              "#ed7953"
             ],
             [
              0.7777777777777778,
              "#fb9f3a"
             ],
             [
              0.8888888888888888,
              "#fdca26"
             ],
             [
              1,
              "#f0f921"
             ]
            ],
            "type": "surface"
           }
          ],
          "table": [
           {
            "cells": {
             "fill": {
              "color": "#EBF0F8"
             },
             "line": {
              "color": "white"
             }
            },
            "header": {
             "fill": {
              "color": "#C8D4E3"
             },
             "line": {
              "color": "white"
             }
            },
            "type": "table"
           }
          ]
         },
         "layout": {
          "annotationdefaults": {
           "arrowcolor": "#2a3f5f",
           "arrowhead": 0,
           "arrowwidth": 1
          },
          "autotypenumbers": "strict",
          "coloraxis": {
           "colorbar": {
            "outlinewidth": 0,
            "ticks": ""
           }
          },
          "colorscale": {
           "diverging": [
            [
             0,
             "#8e0152"
            ],
            [
             0.1,
             "#c51b7d"
            ],
            [
             0.2,
             "#de77ae"
            ],
            [
             0.3,
             "#f1b6da"
            ],
            [
             0.4,
             "#fde0ef"
            ],
            [
             0.5,
             "#f7f7f7"
            ],
            [
             0.6,
             "#e6f5d0"
            ],
            [
             0.7,
             "#b8e186"
            ],
            [
             0.8,
             "#7fbc41"
            ],
            [
             0.9,
             "#4d9221"
            ],
            [
             1,
             "#276419"
            ]
           ],
           "sequential": [
            [
             0,
             "#0d0887"
            ],
            [
             0.1111111111111111,
             "#46039f"
            ],
            [
             0.2222222222222222,
             "#7201a8"
            ],
            [
             0.3333333333333333,
             "#9c179e"
            ],
            [
             0.4444444444444444,
             "#bd3786"
            ],
            [
             0.5555555555555556,
             "#d8576b"
            ],
            [
             0.6666666666666666,
             "#ed7953"
            ],
            [
             0.7777777777777778,
             "#fb9f3a"
            ],
            [
             0.8888888888888888,
             "#fdca26"
            ],
            [
             1,
             "#f0f921"
            ]
           ],
           "sequentialminus": [
            [
             0,
             "#0d0887"
            ],
            [
             0.1111111111111111,
             "#46039f"
            ],
            [
             0.2222222222222222,
             "#7201a8"
            ],
            [
             0.3333333333333333,
             "#9c179e"
            ],
            [
             0.4444444444444444,
             "#bd3786"
            ],
            [
             0.5555555555555556,
             "#d8576b"
            ],
            [
             0.6666666666666666,
             "#ed7953"
            ],
            [
             0.7777777777777778,
             "#fb9f3a"
            ],
            [
             0.8888888888888888,
             "#fdca26"
            ],
            [
             1,
             "#f0f921"
            ]
           ]
          },
          "colorway": [
           "#636efa",
           "#EF553B",
           "#00cc96",
           "#ab63fa",
           "#FFA15A",
           "#19d3f3",
           "#FF6692",
           "#B6E880",
           "#FF97FF",
           "#FECB52"
          ],
          "font": {
           "color": "#2a3f5f"
          },
          "geo": {
           "bgcolor": "white",
           "lakecolor": "white",
           "landcolor": "white",
           "showlakes": true,
           "showland": true,
           "subunitcolor": "#C8D4E3"
          },
          "hoverlabel": {
           "align": "left"
          },
          "hovermode": "closest",
          "mapbox": {
           "style": "light"
          },
          "paper_bgcolor": "white",
          "plot_bgcolor": "white",
          "polar": {
           "angularaxis": {
            "gridcolor": "#EBF0F8",
            "linecolor": "#EBF0F8",
            "ticks": ""
           },
           "bgcolor": "white",
           "radialaxis": {
            "gridcolor": "#EBF0F8",
            "linecolor": "#EBF0F8",
            "ticks": ""
           }
          },
          "scene": {
           "xaxis": {
            "backgroundcolor": "white",
            "gridcolor": "#DFE8F3",
            "gridwidth": 2,
            "linecolor": "#EBF0F8",
            "showbackground": true,
            "ticks": "",
            "zerolinecolor": "#EBF0F8"
           },
           "yaxis": {
            "backgroundcolor": "white",
            "gridcolor": "#DFE8F3",
            "gridwidth": 2,
            "linecolor": "#EBF0F8",
            "showbackground": true,
            "ticks": "",
            "zerolinecolor": "#EBF0F8"
           },
           "zaxis": {
            "backgroundcolor": "white",
            "gridcolor": "#DFE8F3",
            "gridwidth": 2,
            "linecolor": "#EBF0F8",
            "showbackground": true,
            "ticks": "",
            "zerolinecolor": "#EBF0F8"
           }
          },
          "shapedefaults": {
           "line": {
            "color": "#2a3f5f"
           }
          },
          "ternary": {
           "aaxis": {
            "gridcolor": "#DFE8F3",
            "linecolor": "#A2B1C6",
            "ticks": ""
           },
           "baxis": {
            "gridcolor": "#DFE8F3",
            "linecolor": "#A2B1C6",
            "ticks": ""
           },
           "bgcolor": "white",
           "caxis": {
            "gridcolor": "#DFE8F3",
            "linecolor": "#A2B1C6",
            "ticks": ""
           }
          },
          "title": {
           "x": 0.05
          },
          "xaxis": {
           "automargin": true,
           "gridcolor": "#EBF0F8",
           "linecolor": "#EBF0F8",
           "ticks": "",
           "title": {
            "standoff": 15
           },
           "zerolinecolor": "#EBF0F8",
           "zerolinewidth": 2
          },
          "yaxis": {
           "automargin": true,
           "gridcolor": "#EBF0F8",
           "linecolor": "#EBF0F8",
           "ticks": "",
           "title": {
            "standoff": 15
           },
           "zerolinecolor": "#EBF0F8",
           "zerolinewidth": 2
          }
         }
        },
        "title": {
         "text": "Monthly Trends: Average Premium & Number of Policies"
        },
        "xaxis": {
         "title": {
          "text": "Policy Start Month"
         }
        },
        "yaxis": {
         "side": "left",
         "title": {
          "text": "Average Premium"
         }
        },
        "yaxis2": {
         "overlaying": "y",
         "showgrid": false,
         "side": "right",
         "title": {
          "text": "Policy Count"
         }
        }
       }
      }
     },
     "metadata": {},
     "output_type": "display_data"
    }
   ],
   "source": [
    "fig = go.Figure()\n",
    "\n",
    "# Line for average premium\n",
    "fig.add_trace(go.Scatter(\n",
    "    x=monthly_summary['Policy Month'],\n",
    "    y=monthly_summary['avg_premium'],\n",
    "    mode='lines+markers',\n",
    "    name='Average Premium',\n",
    "    line=dict(color='blue')\n",
    "))\n",
    "\n",
    "# Bar for number of policies\n",
    "fig.add_trace(go.Bar(\n",
    "    x=monthly_summary['Policy Month'],\n",
    "    y=monthly_summary['policy_count'],\n",
    "    name='Number of Policies',\n",
    "    marker_color='orange',\n",
    "    yaxis='y2'\n",
    "))\n",
    "\n",
    "\n",
    "# Layout with dual y-axes\n",
    "fig.update_layout(\n",
    "    title='Monthly Trends: Average Premium & Number of Policies',\n",
    "    xaxis_title='Policy Start Month',\n",
    "    yaxis=dict(title='Average Premium', side='left'),\n",
    "    yaxis2=dict(title='Policy Count', overlaying='y', side='right', showgrid=False),\n",
    "    legend=dict(x=0.5, xanchor='center', orientation='h'),\n",
    "    template='plotly_white',\n",
    "    height=500\n",
    ")\n",
    "\n",
    "fig.show()"
   ]
  },
  {
   "cell_type": "code",
   "execution_count": 18,
   "id": "b95915c9",
   "metadata": {},
   "outputs": [
    {
     "data": {
      "application/vnd.plotly.v1+json": {
       "config": {
        "plotlyServerURL": "https://plot.ly"
       },
       "data": [
        {
         "hovertemplate": "Marital Status=Divorced<br>Credit Score Bin=%{x}<br>Premium Amount=%{y}<extra></extra>",
         "legendgroup": "Divorced",
         "marker": {
          "color": "#636efa",
          "pattern": {
           "shape": ""
          }
         },
         "name": "Divorced",
         "orientation": "v",
         "showlegend": true,
         "textposition": "auto",
         "type": "bar",
         "x": [
          "300-500",
          "500-650",
          "650-750",
          "750-850"
         ],
         "xaxis": "x",
         "y": {
          "bdata": "6YpGbnjokUC7ckjtfMmQQOtawp6hupBAWI5jf53lkEA=",
          "dtype": "f8"
         },
         "yaxis": "y"
        },
        {
         "hovertemplate": "Marital Status=Married<br>Credit Score Bin=%{x}<br>Premium Amount=%{y}<extra></extra>",
         "legendgroup": "Married",
         "marker": {
          "color": "#EF553B",
          "pattern": {
           "shape": ""
          }
         },
         "name": "Married",
         "orientation": "v",
         "showlegend": true,
         "textposition": "auto",
         "type": "bar",
         "x": [
          "300-500",
          "500-650",
          "650-750",
          "750-850"
         ],
         "xaxis": "x",
         "y": {
          "bdata": "9YLaiBTUkUCpbRsT5smQQO0goxw+tJBAnGSWN/MMkUA=",
          "dtype": "f8"
         },
         "yaxis": "y"
        },
        {
         "hovertemplate": "Marital Status=Single<br>Credit Score Bin=%{x}<br>Premium Amount=%{y}<extra></extra>",
         "legendgroup": "Single",
         "marker": {
          "color": "#00cc96",
          "pattern": {
           "shape": ""
          }
         },
         "name": "Single",
         "orientation": "v",
         "showlegend": true,
         "textposition": "auto",
         "type": "bar",
         "x": [
          "300-500",
          "500-650",
          "650-750",
          "750-850"
         ],
         "xaxis": "x",
         "y": {
          "bdata": "9BnOWBnrkUBXWkQk1eSQQFWEYy1tu5BAlInJ1VEekUA=",
          "dtype": "f8"
         },
         "yaxis": "y"
        }
       ],
       "layout": {
        "barmode": "stack",
        "legend": {
         "title": {
          "text": "Marital Status"
         },
         "tracegroupgap": 0
        },
        "template": {
         "data": {
          "bar": [
           {
            "error_x": {
             "color": "#2a3f5f"
            },
            "error_y": {
             "color": "#2a3f5f"
            },
            "marker": {
             "line": {
              "color": "white",
              "width": 0.5
             },
             "pattern": {
              "fillmode": "overlay",
              "size": 10,
              "solidity": 0.2
             }
            },
            "type": "bar"
           }
          ],
          "barpolar": [
           {
            "marker": {
             "line": {
              "color": "white",
              "width": 0.5
             },
             "pattern": {
              "fillmode": "overlay",
              "size": 10,
              "solidity": 0.2
             }
            },
            "type": "barpolar"
           }
          ],
          "carpet": [
           {
            "aaxis": {
             "endlinecolor": "#2a3f5f",
             "gridcolor": "#C8D4E3",
             "linecolor": "#C8D4E3",
             "minorgridcolor": "#C8D4E3",
             "startlinecolor": "#2a3f5f"
            },
            "baxis": {
             "endlinecolor": "#2a3f5f",
             "gridcolor": "#C8D4E3",
             "linecolor": "#C8D4E3",
             "minorgridcolor": "#C8D4E3",
             "startlinecolor": "#2a3f5f"
            },
            "type": "carpet"
           }
          ],
          "choropleth": [
           {
            "colorbar": {
             "outlinewidth": 0,
             "ticks": ""
            },
            "type": "choropleth"
           }
          ],
          "contour": [
           {
            "colorbar": {
             "outlinewidth": 0,
             "ticks": ""
            },
            "colorscale": [
             [
              0,
              "#0d0887"
             ],
             [
              0.1111111111111111,
              "#46039f"
             ],
             [
              0.2222222222222222,
              "#7201a8"
             ],
             [
              0.3333333333333333,
              "#9c179e"
             ],
             [
              0.4444444444444444,
              "#bd3786"
             ],
             [
              0.5555555555555556,
              "#d8576b"
             ],
             [
              0.6666666666666666,
              "#ed7953"
             ],
             [
              0.7777777777777778,
              "#fb9f3a"
             ],
             [
              0.8888888888888888,
              "#fdca26"
             ],
             [
              1,
              "#f0f921"
             ]
            ],
            "type": "contour"
           }
          ],
          "contourcarpet": [
           {
            "colorbar": {
             "outlinewidth": 0,
             "ticks": ""
            },
            "type": "contourcarpet"
           }
          ],
          "heatmap": [
           {
            "colorbar": {
             "outlinewidth": 0,
             "ticks": ""
            },
            "colorscale": [
             [
              0,
              "#0d0887"
             ],
             [
              0.1111111111111111,
              "#46039f"
             ],
             [
              0.2222222222222222,
              "#7201a8"
             ],
             [
              0.3333333333333333,
              "#9c179e"
             ],
             [
              0.4444444444444444,
              "#bd3786"
             ],
             [
              0.5555555555555556,
              "#d8576b"
             ],
             [
              0.6666666666666666,
              "#ed7953"
             ],
             [
              0.7777777777777778,
              "#fb9f3a"
             ],
             [
              0.8888888888888888,
              "#fdca26"
             ],
             [
              1,
              "#f0f921"
             ]
            ],
            "type": "heatmap"
           }
          ],
          "histogram": [
           {
            "marker": {
             "pattern": {
              "fillmode": "overlay",
              "size": 10,
              "solidity": 0.2
             }
            },
            "type": "histogram"
           }
          ],
          "histogram2d": [
           {
            "colorbar": {
             "outlinewidth": 0,
             "ticks": ""
            },
            "colorscale": [
             [
              0,
              "#0d0887"
             ],
             [
              0.1111111111111111,
              "#46039f"
             ],
             [
              0.2222222222222222,
              "#7201a8"
             ],
             [
              0.3333333333333333,
              "#9c179e"
             ],
             [
              0.4444444444444444,
              "#bd3786"
             ],
             [
              0.5555555555555556,
              "#d8576b"
             ],
             [
              0.6666666666666666,
              "#ed7953"
             ],
             [
              0.7777777777777778,
              "#fb9f3a"
             ],
             [
              0.8888888888888888,
              "#fdca26"
             ],
             [
              1,
              "#f0f921"
             ]
            ],
            "type": "histogram2d"
           }
          ],
          "histogram2dcontour": [
           {
            "colorbar": {
             "outlinewidth": 0,
             "ticks": ""
            },
            "colorscale": [
             [
              0,
              "#0d0887"
             ],
             [
              0.1111111111111111,
              "#46039f"
             ],
             [
              0.2222222222222222,
              "#7201a8"
             ],
             [
              0.3333333333333333,
              "#9c179e"
             ],
             [
              0.4444444444444444,
              "#bd3786"
             ],
             [
              0.5555555555555556,
              "#d8576b"
             ],
             [
              0.6666666666666666,
              "#ed7953"
             ],
             [
              0.7777777777777778,
              "#fb9f3a"
             ],
             [
              0.8888888888888888,
              "#fdca26"
             ],
             [
              1,
              "#f0f921"
             ]
            ],
            "type": "histogram2dcontour"
           }
          ],
          "mesh3d": [
           {
            "colorbar": {
             "outlinewidth": 0,
             "ticks": ""
            },
            "type": "mesh3d"
           }
          ],
          "parcoords": [
           {
            "line": {
             "colorbar": {
              "outlinewidth": 0,
              "ticks": ""
             }
            },
            "type": "parcoords"
           }
          ],
          "pie": [
           {
            "automargin": true,
            "type": "pie"
           }
          ],
          "scatter": [
           {
            "fillpattern": {
             "fillmode": "overlay",
             "size": 10,
             "solidity": 0.2
            },
            "type": "scatter"
           }
          ],
          "scatter3d": [
           {
            "line": {
             "colorbar": {
              "outlinewidth": 0,
              "ticks": ""
             }
            },
            "marker": {
             "colorbar": {
              "outlinewidth": 0,
              "ticks": ""
             }
            },
            "type": "scatter3d"
           }
          ],
          "scattercarpet": [
           {
            "marker": {
             "colorbar": {
              "outlinewidth": 0,
              "ticks": ""
             }
            },
            "type": "scattercarpet"
           }
          ],
          "scattergeo": [
           {
            "marker": {
             "colorbar": {
              "outlinewidth": 0,
              "ticks": ""
             }
            },
            "type": "scattergeo"
           }
          ],
          "scattergl": [
           {
            "marker": {
             "colorbar": {
              "outlinewidth": 0,
              "ticks": ""
             }
            },
            "type": "scattergl"
           }
          ],
          "scattermap": [
           {
            "marker": {
             "colorbar": {
              "outlinewidth": 0,
              "ticks": ""
             }
            },
            "type": "scattermap"
           }
          ],
          "scattermapbox": [
           {
            "marker": {
             "colorbar": {
              "outlinewidth": 0,
              "ticks": ""
             }
            },
            "type": "scattermapbox"
           }
          ],
          "scatterpolar": [
           {
            "marker": {
             "colorbar": {
              "outlinewidth": 0,
              "ticks": ""
             }
            },
            "type": "scatterpolar"
           }
          ],
          "scatterpolargl": [
           {
            "marker": {
             "colorbar": {
              "outlinewidth": 0,
              "ticks": ""
             }
            },
            "type": "scatterpolargl"
           }
          ],
          "scatterternary": [
           {
            "marker": {
             "colorbar": {
              "outlinewidth": 0,
              "ticks": ""
             }
            },
            "type": "scatterternary"
           }
          ],
          "surface": [
           {
            "colorbar": {
             "outlinewidth": 0,
             "ticks": ""
            },
            "colorscale": [
             [
              0,
              "#0d0887"
             ],
             [
              0.1111111111111111,
              "#46039f"
             ],
             [
              0.2222222222222222,
              "#7201a8"
             ],
             [
              0.3333333333333333,
              "#9c179e"
             ],
             [
              0.4444444444444444,
              "#bd3786"
             ],
             [
              0.5555555555555556,
              "#d8576b"
             ],
             [
              0.6666666666666666,
              "#ed7953"
             ],
             [
              0.7777777777777778,
              "#fb9f3a"
             ],
             [
              0.8888888888888888,
              "#fdca26"
             ],
             [
              1,
              "#f0f921"
             ]
            ],
            "type": "surface"
           }
          ],
          "table": [
           {
            "cells": {
             "fill": {
              "color": "#EBF0F8"
             },
             "line": {
              "color": "white"
             }
            },
            "header": {
             "fill": {
              "color": "#C8D4E3"
             },
             "line": {
              "color": "white"
             }
            },
            "type": "table"
           }
          ]
         },
         "layout": {
          "annotationdefaults": {
           "arrowcolor": "#2a3f5f",
           "arrowhead": 0,
           "arrowwidth": 1
          },
          "autotypenumbers": "strict",
          "coloraxis": {
           "colorbar": {
            "outlinewidth": 0,
            "ticks": ""
           }
          },
          "colorscale": {
           "diverging": [
            [
             0,
             "#8e0152"
            ],
            [
             0.1,
             "#c51b7d"
            ],
            [
             0.2,
             "#de77ae"
            ],
            [
             0.3,
             "#f1b6da"
            ],
            [
             0.4,
             "#fde0ef"
            ],
            [
             0.5,
             "#f7f7f7"
            ],
            [
             0.6,
             "#e6f5d0"
            ],
            [
             0.7,
             "#b8e186"
            ],
            [
             0.8,
             "#7fbc41"
            ],
            [
             0.9,
             "#4d9221"
            ],
            [
             1,
             "#276419"
            ]
           ],
           "sequential": [
            [
             0,
             "#0d0887"
            ],
            [
             0.1111111111111111,
             "#46039f"
            ],
            [
             0.2222222222222222,
             "#7201a8"
            ],
            [
             0.3333333333333333,
             "#9c179e"
            ],
            [
             0.4444444444444444,
             "#bd3786"
            ],
            [
             0.5555555555555556,
             "#d8576b"
            ],
            [
             0.6666666666666666,
             "#ed7953"
            ],
            [
             0.7777777777777778,
             "#fb9f3a"
            ],
            [
             0.8888888888888888,
             "#fdca26"
            ],
            [
             1,
             "#f0f921"
            ]
           ],
           "sequentialminus": [
            [
             0,
             "#0d0887"
            ],
            [
             0.1111111111111111,
             "#46039f"
            ],
            [
             0.2222222222222222,
             "#7201a8"
            ],
            [
             0.3333333333333333,
             "#9c179e"
            ],
            [
             0.4444444444444444,
             "#bd3786"
            ],
            [
             0.5555555555555556,
             "#d8576b"
            ],
            [
             0.6666666666666666,
             "#ed7953"
            ],
            [
             0.7777777777777778,
             "#fb9f3a"
            ],
            [
             0.8888888888888888,
             "#fdca26"
            ],
            [
             1,
             "#f0f921"
            ]
           ]
          },
          "colorway": [
           "#636efa",
           "#EF553B",
           "#00cc96",
           "#ab63fa",
           "#FFA15A",
           "#19d3f3",
           "#FF6692",
           "#B6E880",
           "#FF97FF",
           "#FECB52"
          ],
          "font": {
           "color": "#2a3f5f"
          },
          "geo": {
           "bgcolor": "white",
           "lakecolor": "white",
           "landcolor": "white",
           "showlakes": true,
           "showland": true,
           "subunitcolor": "#C8D4E3"
          },
          "hoverlabel": {
           "align": "left"
          },
          "hovermode": "closest",
          "mapbox": {
           "style": "light"
          },
          "paper_bgcolor": "white",
          "plot_bgcolor": "white",
          "polar": {
           "angularaxis": {
            "gridcolor": "#EBF0F8",
            "linecolor": "#EBF0F8",
            "ticks": ""
           },
           "bgcolor": "white",
           "radialaxis": {
            "gridcolor": "#EBF0F8",
            "linecolor": "#EBF0F8",
            "ticks": ""
           }
          },
          "scene": {
           "xaxis": {
            "backgroundcolor": "white",
            "gridcolor": "#DFE8F3",
            "gridwidth": 2,
            "linecolor": "#EBF0F8",
            "showbackground": true,
            "ticks": "",
            "zerolinecolor": "#EBF0F8"
           },
           "yaxis": {
            "backgroundcolor": "white",
            "gridcolor": "#DFE8F3",
            "gridwidth": 2,
            "linecolor": "#EBF0F8",
            "showbackground": true,
            "ticks": "",
            "zerolinecolor": "#EBF0F8"
           },
           "zaxis": {
            "backgroundcolor": "white",
            "gridcolor": "#DFE8F3",
            "gridwidth": 2,
            "linecolor": "#EBF0F8",
            "showbackground": true,
            "ticks": "",
            "zerolinecolor": "#EBF0F8"
           }
          },
          "shapedefaults": {
           "line": {
            "color": "#2a3f5f"
           }
          },
          "ternary": {
           "aaxis": {
            "gridcolor": "#DFE8F3",
            "linecolor": "#A2B1C6",
            "ticks": ""
           },
           "baxis": {
            "gridcolor": "#DFE8F3",
            "linecolor": "#A2B1C6",
            "ticks": ""
           },
           "bgcolor": "white",
           "caxis": {
            "gridcolor": "#DFE8F3",
            "linecolor": "#A2B1C6",
            "ticks": ""
           }
          },
          "title": {
           "x": 0.05
          },
          "xaxis": {
           "automargin": true,
           "gridcolor": "#EBF0F8",
           "linecolor": "#EBF0F8",
           "ticks": "",
           "title": {
            "standoff": 15
           },
           "zerolinecolor": "#EBF0F8",
           "zerolinewidth": 2
          },
          "yaxis": {
           "automargin": true,
           "gridcolor": "#EBF0F8",
           "linecolor": "#EBF0F8",
           "ticks": "",
           "title": {
            "standoff": 15
           },
           "zerolinecolor": "#EBF0F8",
           "zerolinewidth": 2
          }
         }
        },
        "title": {
         "text": "Stacked Premium Amount by Credit Score Range and Marital Status"
        },
        "xaxis": {
         "anchor": "y",
         "domain": [
          0,
          1
         ],
         "title": {
          "text": "Credit Score Range"
         }
        },
        "yaxis": {
         "anchor": "x",
         "domain": [
          0,
          1
         ],
         "title": {
          "text": "Average Premium Amount"
         }
        }
       }
      }
     },
     "metadata": {},
     "output_type": "display_data"
    }
   ],
   "source": [
    "# Define bins and labels\n",
    "bins = [300, 500, 650, 750, 850]\n",
    "labels = ['300-500', '500-650', '650-750', '750-850']\n",
    "\n",
    "# Create a new column for bins\n",
    "df['Credit Score Bin'] = pd.cut(df['Credit Score'], bins=bins, labels=labels, include_lowest=True)\n",
    "# Group and aggregate\n",
    "grouped_data = df.groupby(['Credit Score Bin', 'Marital Status'])['Premium Amount'].mean().reset_index()\n",
    "\n",
    "fig = px.bar(grouped_data,\n",
    "             x='Credit Score Bin',\n",
    "             y='Premium Amount',\n",
    "             color='Marital Status',\n",
    "             barmode='stack',\n",
    "             title='Stacked Premium Amount by Credit Score Range and Marital Status',\n",
    "             template='plotly_white')\n",
    "\n",
    "fig.update_layout(xaxis_title='Credit Score Range',\n",
    "                  yaxis_title='Average Premium Amount',\n",
    "                  legend_title='Marital Status')\n",
    "\n",
    "fig.show()\n"
   ]
  },
  {
   "cell_type": "code",
   "execution_count": 19,
   "id": "04946bfe",
   "metadata": {},
   "outputs": [],
   "source": [
    "## Which policy type premium amount increases or decreases over a period of time."
   ]
  },
  {
   "cell_type": "code",
   "execution_count": 20,
   "id": "42d309b6",
   "metadata": {},
   "outputs": [
    {
     "data": {
      "application/vnd.plotly.v1+json": {
       "config": {
        "plotlyServerURL": "https://plot.ly"
       },
       "data": [
        {
         "hovertemplate": "Policy Type=Basic<br>Policy Month=%{x}<br>Premium Amount=%{y}<extra></extra>",
         "legendgroup": "Basic",
         "line": {
          "color": "#636efa",
          "dash": "solid"
         },
         "marker": {
          "symbol": "circle"
         },
         "mode": "lines+markers",
         "name": "Basic",
         "orientation": "v",
         "showlegend": true,
         "type": "scatter",
         "x": [
          "2019-08",
          "2019-09",
          "2019-10",
          "2019-11",
          "2019-12",
          "2020-01",
          "2020-02",
          "2020-03",
          "2020-04",
          "2020-05",
          "2020-06",
          "2020-07",
          "2020-08",
          "2020-09",
          "2020-10",
          "2020-11",
          "2020-12",
          "2021-01",
          "2021-02",
          "2021-03",
          "2021-04",
          "2021-05",
          "2021-06",
          "2021-07",
          "2021-08",
          "2021-09",
          "2021-10",
          "2021-11",
          "2021-12",
          "2022-01",
          "2022-02",
          "2022-03",
          "2022-04",
          "2022-05",
          "2022-06",
          "2022-07",
          "2022-08",
          "2022-09",
          "2022-10",
          "2022-11",
          "2022-12",
          "2023-01",
          "2023-02",
          "2023-03",
          "2023-04",
          "2023-05",
          "2023-06",
          "2023-07",
          "2023-08",
          "2023-09",
          "2023-10",
          "2023-11",
          "2023-12",
          "2024-01",
          "2024-02",
          "2024-03",
          "2024-04",
          "2024-05",
          "2024-06",
          "2024-07",
          "2024-08"
         ],
         "xaxis": "x",
         "y": {
          "bdata": "nBTODICokkAvswP3Xh6SQDfQaQOd/pFAriPJMzdBkkAKQ+dEz12SQOK8Db98VZFA33kSmKhXkUDBWz6a2zqRQEI49lHTFJFAOxpARr35kEA9UkJOhdiQQC/HGphVv5BAqXLHjQ/SkEDG3BExYE+RQMeXKv1fEpFAVyyAmlYqkUBFrgU9hwiRQH4rCZHsCJFAWchCFqYBkUB5xTR4H/OQQAX/86zG9ZBAYoCsBbP+kEBebSSlZx6RQHG1MoCSBZFA1liE5F4JkUDznpWIyjKRQEEkDOE8+pBAvjK4yvHpkEDkCrau9/2QQMELApmtyJBAEZ7duo0fkUB6oQxTuu2QQLIikFpW0ZBAjDLRNJb7kECNfZobvvmQQKTA/5xP75BAoeprBYsDkUDoH3TyLxSRQKdU0S1t85BABzVpDxsPkUDBmYZYstGQQNmH3O+ZFJFAyBUR2+1ZkUC5IgJ6Wx+RQLWjptJmHZFAXe60vg7+kEC8L6vYEViRQElEV3+3/JBAP746sJD9kECyymu/ARSRQD8F47CX6pBAAU49uj3MkEAn1dBkWMyQQD5EfiQodpFAnHsXYutgkUAFSqZlnH2RQH+zdehHKZFATi7JRtsYkUBjgnN6u2KRQPxGzUMJBpFAmPlBpSZtkUA=",
          "dtype": "f8"
         },
         "yaxis": "y"
        },
        {
         "hovertemplate": "Policy Type=Comprehensive<br>Policy Month=%{x}<br>Premium Amount=%{y}<extra></extra>",
         "legendgroup": "Comprehensive",
         "line": {
          "color": "#EF553B",
          "dash": "solid"
         },
         "marker": {
          "symbol": "circle"
         },
         "mode": "lines+markers",
         "name": "Comprehensive",
         "orientation": "v",
         "showlegend": true,
         "type": "scatter",
         "x": [
          "2019-08",
          "2019-09",
          "2019-10",
          "2019-11",
          "2019-12",
          "2020-01",
          "2020-02",
          "2020-03",
          "2020-04",
          "2020-05",
          "2020-06",
          "2020-07",
          "2020-08",
          "2020-09",
          "2020-10",
          "2020-11",
          "2020-12",
          "2021-01",
          "2021-02",
          "2021-03",
          "2021-04",
          "2021-05",
          "2021-06",
          "2021-07",
          "2021-08",
          "2021-09",
          "2021-10",
          "2021-11",
          "2021-12",
          "2022-01",
          "2022-02",
          "2022-03",
          "2022-04",
          "2022-05",
          "2022-06",
          "2022-07",
          "2022-08",
          "2022-09",
          "2022-10",
          "2022-11",
          "2022-12",
          "2023-01",
          "2023-02",
          "2023-03",
          "2023-04",
          "2023-05",
          "2023-06",
          "2023-07",
          "2023-08",
          "2023-09",
          "2023-10",
          "2023-11",
          "2023-12",
          "2024-01",
          "2024-02",
          "2024-03",
          "2024-04",
          "2024-05",
          "2024-06",
          "2024-07",
          "2024-08"
         ],
         "xaxis": "x",
         "y": {
          "bdata": "xwGHFBhMkkAR+E+ORQeSQLxMDPK3kpJAnzWRFZb4kUCgzvDTGTySQGsC+B4V/ZBAY1ps3kngkECsLXRBZk2RQDi96U3v0JBABqtwouAHkUCMFpnoPxeRQFACGcyVw5BAs5J8tDPOkEAVBrdr8yqRQO+gXuvX/JBA4bA0z9/hkEBgtRiOHAmRQCMhlYQfFJFAFI13gow2kUCTQP3ZHPOQQK0XsM3pCpFApsaQes0DkUAHdVAHdSaRQNQ8Ps3jy5BAATQXQHMVkUDYD+iN0OCQQCifMuiX/5BALRInnr9OkUAWtpzftbuQQPEHNnXrz5BA1rwj5l86kUD+IfHB3uGQQNbIaCDO4ZBACyHmzbwIkUD0/dR4KSORQC9mQ7iLI5FAarocI/khkUCx0ClW27mQQOWf6m49ZpFAii3zHr4ekUDpmNCTODCRQETVeNb5LZFAXjQU9hgDkUChZcdzyhSRQGKxfIFNKpFAaWhScJIOkUAPOFI0xCWRQGWiC3gcIpFANOTbMhvKkEB+BPcRXACRQMmqqMxoBZFAeb/BfKkCkUCu5mquJiiRQCQfLzXfFpFA2SA0JmlEkUDT/4hwXPyQQMQWn/j5DJFAJj5T7t4JkUDsqpIASuGQQDwZBJHlWZFAJXR6VY/LkUA=",
          "dtype": "f8"
         },
         "yaxis": "y"
        },
        {
         "hovertemplate": "Policy Type=Premium<br>Policy Month=%{x}<br>Premium Amount=%{y}<extra></extra>",
         "legendgroup": "Premium",
         "line": {
          "color": "#00cc96",
          "dash": "solid"
         },
         "marker": {
          "symbol": "circle"
         },
         "mode": "lines+markers",
         "name": "Premium",
         "orientation": "v",
         "showlegend": true,
         "type": "scatter",
         "x": [
          "2019-08",
          "2019-09",
          "2019-10",
          "2019-11",
          "2019-12",
          "2020-01",
          "2020-02",
          "2020-03",
          "2020-04",
          "2020-05",
          "2020-06",
          "2020-07",
          "2020-08",
          "2020-09",
          "2020-10",
          "2020-11",
          "2020-12",
          "2021-01",
          "2021-02",
          "2021-03",
          "2021-04",
          "2021-05",
          "2021-06",
          "2021-07",
          "2021-08",
          "2021-09",
          "2021-10",
          "2021-11",
          "2021-12",
          "2022-01",
          "2022-02",
          "2022-03",
          "2022-04",
          "2022-05",
          "2022-06",
          "2022-07",
          "2022-08",
          "2022-09",
          "2022-10",
          "2022-11",
          "2022-12",
          "2023-01",
          "2023-02",
          "2023-03",
          "2023-04",
          "2023-05",
          "2023-06",
          "2023-07",
          "2023-08",
          "2023-09",
          "2023-10",
          "2023-11",
          "2023-12",
          "2024-01",
          "2024-02",
          "2024-03",
          "2024-04",
          "2024-05",
          "2024-06",
          "2024-07",
          "2024-08"
         ],
         "xaxis": "x",
         "y": {
          "bdata": "y+gLaSg5kkCQKQ8w/02SQIEUNAy5b5JA30gT14HikkAlDOePoyuSQEoIbYo75ZBAL28a0XEgkUCGHZ1YSgqRQCNLD2liFZFAbtnOTVoikUCeuOV8wyaRQCr1p9Q/MJFAqLdQWEokkUAkoxmxXNaQQGIQWDn0+5BALvPIa1r5kEBuxYqEvP2QQKGYhbeSFJFAWcwhGaPqkEBfLw8cSheRQO86zs747pBAs9F9Sy29kECA4V2aXB2RQG1HEenfDJFAVVVVVewYkUAOTXpeFDqRQEzOGorNyJBAFLaNQBvQkEBhY/DIJ9mQQGS2V4TdDpFAMzMzMzvikEAkca0wYfqQQKPRlT7xr5BA2TG5XiftkEBElpELUPaQQAeiDKGo7ZBAF+i4FDWTkEA13b2Z6fGQQOX5iupd15BADpcBnxzmkECHidiNe9+QQIjLzqO2H5FAxt74moDIkEAiJFwRuRqRQNB0KD5Qy5BATAOwk4LdkED+Mmd07OqQQCr0tnfmDpFAFGe/ni/0kEA+NqzVzCiRQJ9tSCuhK5FA1BSp4aC5kEDLK+WMnhmRQGTaTk7RXpFAGUdkzn4ikUAiXXejsjiRQMStf9OmSZFAKdPwxyokkUCtSLXFC1iRQDV+y5y5OpFAKBY68oFWkUA=",
          "dtype": "f8"
         },
         "yaxis": "y"
        }
       ],
       "layout": {
        "legend": {
         "title": {
          "text": "Policy Type"
         },
         "tracegroupgap": 0
        },
        "template": {
         "data": {
          "bar": [
           {
            "error_x": {
             "color": "#2a3f5f"
            },
            "error_y": {
             "color": "#2a3f5f"
            },
            "marker": {
             "line": {
              "color": "white",
              "width": 0.5
             },
             "pattern": {
              "fillmode": "overlay",
              "size": 10,
              "solidity": 0.2
             }
            },
            "type": "bar"
           }
          ],
          "barpolar": [
           {
            "marker": {
             "line": {
              "color": "white",
              "width": 0.5
             },
             "pattern": {
              "fillmode": "overlay",
              "size": 10,
              "solidity": 0.2
             }
            },
            "type": "barpolar"
           }
          ],
          "carpet": [
           {
            "aaxis": {
             "endlinecolor": "#2a3f5f",
             "gridcolor": "#C8D4E3",
             "linecolor": "#C8D4E3",
             "minorgridcolor": "#C8D4E3",
             "startlinecolor": "#2a3f5f"
            },
            "baxis": {
             "endlinecolor": "#2a3f5f",
             "gridcolor": "#C8D4E3",
             "linecolor": "#C8D4E3",
             "minorgridcolor": "#C8D4E3",
             "startlinecolor": "#2a3f5f"
            },
            "type": "carpet"
           }
          ],
          "choropleth": [
           {
            "colorbar": {
             "outlinewidth": 0,
             "ticks": ""
            },
            "type": "choropleth"
           }
          ],
          "contour": [
           {
            "colorbar": {
             "outlinewidth": 0,
             "ticks": ""
            },
            "colorscale": [
             [
              0,
              "#0d0887"
             ],
             [
              0.1111111111111111,
              "#46039f"
             ],
             [
              0.2222222222222222,
              "#7201a8"
             ],
             [
              0.3333333333333333,
              "#9c179e"
             ],
             [
              0.4444444444444444,
              "#bd3786"
             ],
             [
              0.5555555555555556,
              "#d8576b"
             ],
             [
              0.6666666666666666,
              "#ed7953"
             ],
             [
              0.7777777777777778,
              "#fb9f3a"
             ],
             [
              0.8888888888888888,
              "#fdca26"
             ],
             [
              1,
              "#f0f921"
             ]
            ],
            "type": "contour"
           }
          ],
          "contourcarpet": [
           {
            "colorbar": {
             "outlinewidth": 0,
             "ticks": ""
            },
            "type": "contourcarpet"
           }
          ],
          "heatmap": [
           {
            "colorbar": {
             "outlinewidth": 0,
             "ticks": ""
            },
            "colorscale": [
             [
              0,
              "#0d0887"
             ],
             [
              0.1111111111111111,
              "#46039f"
             ],
             [
              0.2222222222222222,
              "#7201a8"
             ],
             [
              0.3333333333333333,
              "#9c179e"
             ],
             [
              0.4444444444444444,
              "#bd3786"
             ],
             [
              0.5555555555555556,
              "#d8576b"
             ],
             [
              0.6666666666666666,
              "#ed7953"
             ],
             [
              0.7777777777777778,
              "#fb9f3a"
             ],
             [
              0.8888888888888888,
              "#fdca26"
             ],
             [
              1,
              "#f0f921"
             ]
            ],
            "type": "heatmap"
           }
          ],
          "histogram": [
           {
            "marker": {
             "pattern": {
              "fillmode": "overlay",
              "size": 10,
              "solidity": 0.2
             }
            },
            "type": "histogram"
           }
          ],
          "histogram2d": [
           {
            "colorbar": {
             "outlinewidth": 0,
             "ticks": ""
            },
            "colorscale": [
             [
              0,
              "#0d0887"
             ],
             [
              0.1111111111111111,
              "#46039f"
             ],
             [
              0.2222222222222222,
              "#7201a8"
             ],
             [
              0.3333333333333333,
              "#9c179e"
             ],
             [
              0.4444444444444444,
              "#bd3786"
             ],
             [
              0.5555555555555556,
              "#d8576b"
             ],
             [
              0.6666666666666666,
              "#ed7953"
             ],
             [
              0.7777777777777778,
              "#fb9f3a"
             ],
             [
              0.8888888888888888,
              "#fdca26"
             ],
             [
              1,
              "#f0f921"
             ]
            ],
            "type": "histogram2d"
           }
          ],
          "histogram2dcontour": [
           {
            "colorbar": {
             "outlinewidth": 0,
             "ticks": ""
            },
            "colorscale": [
             [
              0,
              "#0d0887"
             ],
             [
              0.1111111111111111,
              "#46039f"
             ],
             [
              0.2222222222222222,
              "#7201a8"
             ],
             [
              0.3333333333333333,
              "#9c179e"
             ],
             [
              0.4444444444444444,
              "#bd3786"
             ],
             [
              0.5555555555555556,
              "#d8576b"
             ],
             [
              0.6666666666666666,
              "#ed7953"
             ],
             [
              0.7777777777777778,
              "#fb9f3a"
             ],
             [
              0.8888888888888888,
              "#fdca26"
             ],
             [
              1,
              "#f0f921"
             ]
            ],
            "type": "histogram2dcontour"
           }
          ],
          "mesh3d": [
           {
            "colorbar": {
             "outlinewidth": 0,
             "ticks": ""
            },
            "type": "mesh3d"
           }
          ],
          "parcoords": [
           {
            "line": {
             "colorbar": {
              "outlinewidth": 0,
              "ticks": ""
             }
            },
            "type": "parcoords"
           }
          ],
          "pie": [
           {
            "automargin": true,
            "type": "pie"
           }
          ],
          "scatter": [
           {
            "fillpattern": {
             "fillmode": "overlay",
             "size": 10,
             "solidity": 0.2
            },
            "type": "scatter"
           }
          ],
          "scatter3d": [
           {
            "line": {
             "colorbar": {
              "outlinewidth": 0,
              "ticks": ""
             }
            },
            "marker": {
             "colorbar": {
              "outlinewidth": 0,
              "ticks": ""
             }
            },
            "type": "scatter3d"
           }
          ],
          "scattercarpet": [
           {
            "marker": {
             "colorbar": {
              "outlinewidth": 0,
              "ticks": ""
             }
            },
            "type": "scattercarpet"
           }
          ],
          "scattergeo": [
           {
            "marker": {
             "colorbar": {
              "outlinewidth": 0,
              "ticks": ""
             }
            },
            "type": "scattergeo"
           }
          ],
          "scattergl": [
           {
            "marker": {
             "colorbar": {
              "outlinewidth": 0,
              "ticks": ""
             }
            },
            "type": "scattergl"
           }
          ],
          "scattermap": [
           {
            "marker": {
             "colorbar": {
              "outlinewidth": 0,
              "ticks": ""
             }
            },
            "type": "scattermap"
           }
          ],
          "scattermapbox": [
           {
            "marker": {
             "colorbar": {
              "outlinewidth": 0,
              "ticks": ""
             }
            },
            "type": "scattermapbox"
           }
          ],
          "scatterpolar": [
           {
            "marker": {
             "colorbar": {
              "outlinewidth": 0,
              "ticks": ""
             }
            },
            "type": "scatterpolar"
           }
          ],
          "scatterpolargl": [
           {
            "marker": {
             "colorbar": {
              "outlinewidth": 0,
              "ticks": ""
             }
            },
            "type": "scatterpolargl"
           }
          ],
          "scatterternary": [
           {
            "marker": {
             "colorbar": {
              "outlinewidth": 0,
              "ticks": ""
             }
            },
            "type": "scatterternary"
           }
          ],
          "surface": [
           {
            "colorbar": {
             "outlinewidth": 0,
             "ticks": ""
            },
            "colorscale": [
             [
              0,
              "#0d0887"
             ],
             [
              0.1111111111111111,
              "#46039f"
             ],
             [
              0.2222222222222222,
              "#7201a8"
             ],
             [
              0.3333333333333333,
              "#9c179e"
             ],
             [
              0.4444444444444444,
              "#bd3786"
             ],
             [
              0.5555555555555556,
              "#d8576b"
             ],
             [
              0.6666666666666666,
              "#ed7953"
             ],
             [
              0.7777777777777778,
              "#fb9f3a"
             ],
             [
              0.8888888888888888,
              "#fdca26"
             ],
             [
              1,
              "#f0f921"
             ]
            ],
            "type": "surface"
           }
          ],
          "table": [
           {
            "cells": {
             "fill": {
              "color": "#EBF0F8"
             },
             "line": {
              "color": "white"
             }
            },
            "header": {
             "fill": {
              "color": "#C8D4E3"
             },
             "line": {
              "color": "white"
             }
            },
            "type": "table"
           }
          ]
         },
         "layout": {
          "annotationdefaults": {
           "arrowcolor": "#2a3f5f",
           "arrowhead": 0,
           "arrowwidth": 1
          },
          "autotypenumbers": "strict",
          "coloraxis": {
           "colorbar": {
            "outlinewidth": 0,
            "ticks": ""
           }
          },
          "colorscale": {
           "diverging": [
            [
             0,
             "#8e0152"
            ],
            [
             0.1,
             "#c51b7d"
            ],
            [
             0.2,
             "#de77ae"
            ],
            [
             0.3,
             "#f1b6da"
            ],
            [
             0.4,
             "#fde0ef"
            ],
            [
             0.5,
             "#f7f7f7"
            ],
            [
             0.6,
             "#e6f5d0"
            ],
            [
             0.7,
             "#b8e186"
            ],
            [
             0.8,
             "#7fbc41"
            ],
            [
             0.9,
             "#4d9221"
            ],
            [
             1,
             "#276419"
            ]
           ],
           "sequential": [
            [
             0,
             "#0d0887"
            ],
            [
             0.1111111111111111,
             "#46039f"
            ],
            [
             0.2222222222222222,
             "#7201a8"
            ],
            [
             0.3333333333333333,
             "#9c179e"
            ],
            [
             0.4444444444444444,
             "#bd3786"
            ],
            [
             0.5555555555555556,
             "#d8576b"
            ],
            [
             0.6666666666666666,
             "#ed7953"
            ],
            [
             0.7777777777777778,
             "#fb9f3a"
            ],
            [
             0.8888888888888888,
             "#fdca26"
            ],
            [
             1,
             "#f0f921"
            ]
           ],
           "sequentialminus": [
            [
             0,
             "#0d0887"
            ],
            [
             0.1111111111111111,
             "#46039f"
            ],
            [
             0.2222222222222222,
             "#7201a8"
            ],
            [
             0.3333333333333333,
             "#9c179e"
            ],
            [
             0.4444444444444444,
             "#bd3786"
            ],
            [
             0.5555555555555556,
             "#d8576b"
            ],
            [
             0.6666666666666666,
             "#ed7953"
            ],
            [
             0.7777777777777778,
             "#fb9f3a"
            ],
            [
             0.8888888888888888,
             "#fdca26"
            ],
            [
             1,
             "#f0f921"
            ]
           ]
          },
          "colorway": [
           "#636efa",
           "#EF553B",
           "#00cc96",
           "#ab63fa",
           "#FFA15A",
           "#19d3f3",
           "#FF6692",
           "#B6E880",
           "#FF97FF",
           "#FECB52"
          ],
          "font": {
           "color": "#2a3f5f"
          },
          "geo": {
           "bgcolor": "white",
           "lakecolor": "white",
           "landcolor": "white",
           "showlakes": true,
           "showland": true,
           "subunitcolor": "#C8D4E3"
          },
          "hoverlabel": {
           "align": "left"
          },
          "hovermode": "closest",
          "mapbox": {
           "style": "light"
          },
          "paper_bgcolor": "white",
          "plot_bgcolor": "white",
          "polar": {
           "angularaxis": {
            "gridcolor": "#EBF0F8",
            "linecolor": "#EBF0F8",
            "ticks": ""
           },
           "bgcolor": "white",
           "radialaxis": {
            "gridcolor": "#EBF0F8",
            "linecolor": "#EBF0F8",
            "ticks": ""
           }
          },
          "scene": {
           "xaxis": {
            "backgroundcolor": "white",
            "gridcolor": "#DFE8F3",
            "gridwidth": 2,
            "linecolor": "#EBF0F8",
            "showbackground": true,
            "ticks": "",
            "zerolinecolor": "#EBF0F8"
           },
           "yaxis": {
            "backgroundcolor": "white",
            "gridcolor": "#DFE8F3",
            "gridwidth": 2,
            "linecolor": "#EBF0F8",
            "showbackground": true,
            "ticks": "",
            "zerolinecolor": "#EBF0F8"
           },
           "zaxis": {
            "backgroundcolor": "white",
            "gridcolor": "#DFE8F3",
            "gridwidth": 2,
            "linecolor": "#EBF0F8",
            "showbackground": true,
            "ticks": "",
            "zerolinecolor": "#EBF0F8"
           }
          },
          "shapedefaults": {
           "line": {
            "color": "#2a3f5f"
           }
          },
          "ternary": {
           "aaxis": {
            "gridcolor": "#DFE8F3",
            "linecolor": "#A2B1C6",
            "ticks": ""
           },
           "baxis": {
            "gridcolor": "#DFE8F3",
            "linecolor": "#A2B1C6",
            "ticks": ""
           },
           "bgcolor": "white",
           "caxis": {
            "gridcolor": "#DFE8F3",
            "linecolor": "#A2B1C6",
            "ticks": ""
           }
          },
          "title": {
           "x": 0.05
          },
          "xaxis": {
           "automargin": true,
           "gridcolor": "#EBF0F8",
           "linecolor": "#EBF0F8",
           "ticks": "",
           "title": {
            "standoff": 15
           },
           "zerolinecolor": "#EBF0F8",
           "zerolinewidth": 2
          },
          "yaxis": {
           "automargin": true,
           "gridcolor": "#EBF0F8",
           "linecolor": "#EBF0F8",
           "ticks": "",
           "title": {
            "standoff": 15
           },
           "zerolinecolor": "#EBF0F8",
           "zerolinewidth": 2
          }
         }
        },
        "title": {
         "text": "Average Premium Over Time by Policy Type"
        },
        "xaxis": {
         "anchor": "y",
         "domain": [
          0,
          1
         ],
         "title": {
          "text": "Policy Month"
         }
        },
        "yaxis": {
         "anchor": "x",
         "domain": [
          0,
          1
         ],
         "title": {
          "text": "Average Premium"
         }
        }
       }
      }
     },
     "metadata": {},
     "output_type": "display_data"
    }
   ],
   "source": [
    "avg_premium_policy_type = df.groupby(['Policy Month', 'Policy Type'])['Premium Amount'].mean().reset_index()\n",
    "\n",
    "\n",
    "fig1 = px.line(avg_premium_policy_type,\n",
    "               x='Policy Month',\n",
    "               y='Premium Amount',\n",
    "               color='Policy Type',\n",
    "               title='Average Premium Over Time by Policy Type',\n",
    "               markers=True,\n",
    "               template='plotly_white')\n",
    "\n",
    "fig1.update_layout(xaxis_title='Policy Month',\n",
    "                   yaxis_title='Average Premium')\n",
    "\n",
    "fig1.show()\n"
   ]
  },
  {
   "cell_type": "code",
   "execution_count": 21,
   "id": "11127265",
   "metadata": {},
   "outputs": [],
   "source": [
    "### Average Premium Over Time by Smoking Habit"
   ]
  },
  {
   "cell_type": "code",
   "execution_count": 22,
   "id": "92c4fd0c",
   "metadata": {},
   "outputs": [
    {
     "data": {
      "application/vnd.plotly.v1+json": {
       "config": {
        "plotlyServerURL": "https://plot.ly"
       },
       "data": [
        {
         "hovertemplate": "Smoking Status=No<br>Policy Month=%{x}<br>Premium Amount=%{y}<extra></extra>",
         "legendgroup": "No",
         "line": {
          "color": "#636efa",
          "dash": "solid"
         },
         "marker": {
          "symbol": "circle"
         },
         "mode": "lines+markers",
         "name": "No",
         "orientation": "v",
         "showlegend": true,
         "type": "scatter",
         "x": [
          "2019-08",
          "2019-09",
          "2019-10",
          "2019-11",
          "2019-12",
          "2020-01",
          "2020-02",
          "2020-03",
          "2020-04",
          "2020-05",
          "2020-06",
          "2020-07",
          "2020-08",
          "2020-09",
          "2020-10",
          "2020-11",
          "2020-12",
          "2021-01",
          "2021-02",
          "2021-03",
          "2021-04",
          "2021-05",
          "2021-06",
          "2021-07",
          "2021-08",
          "2021-09",
          "2021-10",
          "2021-11",
          "2021-12",
          "2022-01",
          "2022-02",
          "2022-03",
          "2022-04",
          "2022-05",
          "2022-06",
          "2022-07",
          "2022-08",
          "2022-09",
          "2022-10",
          "2022-11",
          "2022-12",
          "2023-01",
          "2023-02",
          "2023-03",
          "2023-04",
          "2023-05",
          "2023-06",
          "2023-07",
          "2023-08",
          "2023-09",
          "2023-10",
          "2023-11",
          "2023-12",
          "2024-01",
          "2024-02",
          "2024-03",
          "2024-04",
          "2024-05",
          "2024-06",
          "2024-07",
          "2024-08"
         ],
         "xaxis": "x",
         "y": {
          "bdata": "Sy3muYZBkkCtqXhNSBOSQCulI5LCbJJA7TT34hhCkkDHCQOgQEqSQKCT8ZEAHJFAxeXZwAJZkUDNVARvUxaRQKkA1epfIZFAhpCxFD4RkUBU/1pxbfyQQCkwismg7pBAj/jk1v/akEA19EgutACRQIQxK40eDpFAKBjz9Y/tkEBL/UDoOSKRQK7wGDHZ8ZBAPLkKN4oMkUDYmCPj/9+QQIvWagnd+pBAcx8m6UUDkUAYpEglDTGRQPe5vcqyJJFAoMRFezgRkUD0dvhNVSqRQHv7XzbNDZFAcWBRfRL2kEBKRpMbHsGQQLMX/iSAA5FAbkJuG6RGkUAD5unGAfGQQI61665iupBAtqKgfGX8kEAiy1QnPBORQJyaHfGyBJFATJ4qn/nhkEAM/NQclN6QQON4jXjr8ZBAOuKYBEL5kEC841Mw5PWQQIFa6Btq8JBAg2fsavIBkUBSi7uwBh+RQNoU55Nv1ZBAcEJbklcvkUC/TzwAGFWRQKq1X35QFpFA+Sh/sh3bkEBVoE+m6jeRQHeVH9DoGpFAQg9HuXLPkECJ3WweAO2QQLc2/WLHNJFAVUNMsNJKkUBDV13DqlSRQLe8qvXFPJFAIYLC3EEkkUAltIsjUA2RQGP4bBCpNpFA2i7qF1J2kUA=",
          "dtype": "f8"
         },
         "yaxis": "y"
        },
        {
         "hovertemplate": "Smoking Status=Yes<br>Policy Month=%{x}<br>Premium Amount=%{y}<extra></extra>",
         "legendgroup": "Yes",
         "line": {
          "color": "#EF553B",
          "dash": "solid"
         },
         "marker": {
          "symbol": "circle"
         },
         "mode": "lines+markers",
         "name": "Yes",
         "orientation": "v",
         "showlegend": true,
         "type": "scatter",
         "x": [
          "2019-08",
          "2019-09",
          "2019-10",
          "2019-11",
          "2019-12",
          "2020-01",
          "2020-02",
          "2020-03",
          "2020-04",
          "2020-05",
          "2020-06",
          "2020-07",
          "2020-08",
          "2020-09",
          "2020-10",
          "2020-11",
          "2020-12",
          "2021-01",
          "2021-02",
          "2021-03",
          "2021-04",
          "2021-05",
          "2021-06",
          "2021-07",
          "2021-08",
          "2021-09",
          "2021-10",
          "2021-11",
          "2021-12",
          "2022-01",
          "2022-02",
          "2022-03",
          "2022-04",
          "2022-05",
          "2022-06",
          "2022-07",
          "2022-08",
          "2022-09",
          "2022-10",
          "2022-11",
          "2022-12",
          "2023-01",
          "2023-02",
          "2023-03",
          "2023-04",
          "2023-05",
          "2023-06",
          "2023-07",
          "2023-08",
          "2023-09",
          "2023-10",
          "2023-11",
          "2023-12",
          "2024-01",
          "2024-02",
          "2024-03",
          "2024-04",
          "2024-05",
          "2024-06",
          "2024-07",
          "2024-08"
         ],
         "xaxis": "x",
         "y": {
          "bdata": "p7y0bBCHkkDe0aFj0TmSQHJySEf1PZJA43RiaLx6kkCa2+/p2zmSQMq5lU4LCZFAu08BJGjikEDJTzcNz0uRQG9jPh2z2pBAEBTgXJ8GkUDDY+3pWRKRQG2IKnUS35BA47A9D678kECitWJ4OzWRQED/rV8/+ZBAMHlu5aEVkUAYu+8toOeQQJv4KEsYL5FAJapr430KkUDNGNfHoR2RQK1dO/k2+pBA0CMto1PRkEBXdRE4qhCRQKOAQ/N5xZBA1/WVP+sTkUB19yogmgmRQNxyF+RkyZBAFscVvJkPkUDg7Gd3L/aQQDFe+tPrwZBA5Lxffu7fkEDSYC71HeuQQIVxagcP3ZBA0/5pXeH5kEBSGVal/fmQQA3MQ+Q5+5BAE5VV4qnukEDlfpDRtPWQQKhm6z5vLpFAroLaDMwTkUDy1pjLCPaQQOumCG4fUJFAW3CBxv4VkUB0pC2uuRWRQBumQIZTOJFAVGAxMrzCkEACT1BDxfGQQLLcV04sCJFAGP68nnT3kEBc3ovhYvGQQFvADHXV95BAtnKEGz7gkECxKxiQ+ByRQAOBuGZxaJFArWf3j5Q5kUAgZTnp4CORQOddTeQhGpFAFBAH+GkLkUDL3erG6VmRQKAv8eoDMZFAg99pq96QkUA=",
          "dtype": "f8"
         },
         "yaxis": "y"
        }
       ],
       "layout": {
        "legend": {
         "title": {
          "text": "Smoking Status"
         },
         "tracegroupgap": 0
        },
        "template": {
         "data": {
          "bar": [
           {
            "error_x": {
             "color": "#2a3f5f"
            },
            "error_y": {
             "color": "#2a3f5f"
            },
            "marker": {
             "line": {
              "color": "white",
              "width": 0.5
             },
             "pattern": {
              "fillmode": "overlay",
              "size": 10,
              "solidity": 0.2
             }
            },
            "type": "bar"
           }
          ],
          "barpolar": [
           {
            "marker": {
             "line": {
              "color": "white",
              "width": 0.5
             },
             "pattern": {
              "fillmode": "overlay",
              "size": 10,
              "solidity": 0.2
             }
            },
            "type": "barpolar"
           }
          ],
          "carpet": [
           {
            "aaxis": {
             "endlinecolor": "#2a3f5f",
             "gridcolor": "#C8D4E3",
             "linecolor": "#C8D4E3",
             "minorgridcolor": "#C8D4E3",
             "startlinecolor": "#2a3f5f"
            },
            "baxis": {
             "endlinecolor": "#2a3f5f",
             "gridcolor": "#C8D4E3",
             "linecolor": "#C8D4E3",
             "minorgridcolor": "#C8D4E3",
             "startlinecolor": "#2a3f5f"
            },
            "type": "carpet"
           }
          ],
          "choropleth": [
           {
            "colorbar": {
             "outlinewidth": 0,
             "ticks": ""
            },
            "type": "choropleth"
           }
          ],
          "contour": [
           {
            "colorbar": {
             "outlinewidth": 0,
             "ticks": ""
            },
            "colorscale": [
             [
              0,
              "#0d0887"
             ],
             [
              0.1111111111111111,
              "#46039f"
             ],
             [
              0.2222222222222222,
              "#7201a8"
             ],
             [
              0.3333333333333333,
              "#9c179e"
             ],
             [
              0.4444444444444444,
              "#bd3786"
             ],
             [
              0.5555555555555556,
              "#d8576b"
             ],
             [
              0.6666666666666666,
              "#ed7953"
             ],
             [
              0.7777777777777778,
              "#fb9f3a"
             ],
             [
              0.8888888888888888,
              "#fdca26"
             ],
             [
              1,
              "#f0f921"
             ]
            ],
            "type": "contour"
           }
          ],
          "contourcarpet": [
           {
            "colorbar": {
             "outlinewidth": 0,
             "ticks": ""
            },
            "type": "contourcarpet"
           }
          ],
          "heatmap": [
           {
            "colorbar": {
             "outlinewidth": 0,
             "ticks": ""
            },
            "colorscale": [
             [
              0,
              "#0d0887"
             ],
             [
              0.1111111111111111,
              "#46039f"
             ],
             [
              0.2222222222222222,
              "#7201a8"
             ],
             [
              0.3333333333333333,
              "#9c179e"
             ],
             [
              0.4444444444444444,
              "#bd3786"
             ],
             [
              0.5555555555555556,
              "#d8576b"
             ],
             [
              0.6666666666666666,
              "#ed7953"
             ],
             [
              0.7777777777777778,
              "#fb9f3a"
             ],
             [
              0.8888888888888888,
              "#fdca26"
             ],
             [
              1,
              "#f0f921"
             ]
            ],
            "type": "heatmap"
           }
          ],
          "histogram": [
           {
            "marker": {
             "pattern": {
              "fillmode": "overlay",
              "size": 10,
              "solidity": 0.2
             }
            },
            "type": "histogram"
           }
          ],
          "histogram2d": [
           {
            "colorbar": {
             "outlinewidth": 0,
             "ticks": ""
            },
            "colorscale": [
             [
              0,
              "#0d0887"
             ],
             [
              0.1111111111111111,
              "#46039f"
             ],
             [
              0.2222222222222222,
              "#7201a8"
             ],
             [
              0.3333333333333333,
              "#9c179e"
             ],
             [
              0.4444444444444444,
              "#bd3786"
             ],
             [
              0.5555555555555556,
              "#d8576b"
             ],
             [
              0.6666666666666666,
              "#ed7953"
             ],
             [
              0.7777777777777778,
              "#fb9f3a"
             ],
             [
              0.8888888888888888,
              "#fdca26"
             ],
             [
              1,
              "#f0f921"
             ]
            ],
            "type": "histogram2d"
           }
          ],
          "histogram2dcontour": [
           {
            "colorbar": {
             "outlinewidth": 0,
             "ticks": ""
            },
            "colorscale": [
             [
              0,
              "#0d0887"
             ],
             [
              0.1111111111111111,
              "#46039f"
             ],
             [
              0.2222222222222222,
              "#7201a8"
             ],
             [
              0.3333333333333333,
              "#9c179e"
             ],
             [
              0.4444444444444444,
              "#bd3786"
             ],
             [
              0.5555555555555556,
              "#d8576b"
             ],
             [
              0.6666666666666666,
              "#ed7953"
             ],
             [
              0.7777777777777778,
              "#fb9f3a"
             ],
             [
              0.8888888888888888,
              "#fdca26"
             ],
             [
              1,
              "#f0f921"
             ]
            ],
            "type": "histogram2dcontour"
           }
          ],
          "mesh3d": [
           {
            "colorbar": {
             "outlinewidth": 0,
             "ticks": ""
            },
            "type": "mesh3d"
           }
          ],
          "parcoords": [
           {
            "line": {
             "colorbar": {
              "outlinewidth": 0,
              "ticks": ""
             }
            },
            "type": "parcoords"
           }
          ],
          "pie": [
           {
            "automargin": true,
            "type": "pie"
           }
          ],
          "scatter": [
           {
            "fillpattern": {
             "fillmode": "overlay",
             "size": 10,
             "solidity": 0.2
            },
            "type": "scatter"
           }
          ],
          "scatter3d": [
           {
            "line": {
             "colorbar": {
              "outlinewidth": 0,
              "ticks": ""
             }
            },
            "marker": {
             "colorbar": {
              "outlinewidth": 0,
              "ticks": ""
             }
            },
            "type": "scatter3d"
           }
          ],
          "scattercarpet": [
           {
            "marker": {
             "colorbar": {
              "outlinewidth": 0,
              "ticks": ""
             }
            },
            "type": "scattercarpet"
           }
          ],
          "scattergeo": [
           {
            "marker": {
             "colorbar": {
              "outlinewidth": 0,
              "ticks": ""
             }
            },
            "type": "scattergeo"
           }
          ],
          "scattergl": [
           {
            "marker": {
             "colorbar": {
              "outlinewidth": 0,
              "ticks": ""
             }
            },
            "type": "scattergl"
           }
          ],
          "scattermap": [
           {
            "marker": {
             "colorbar": {
              "outlinewidth": 0,
              "ticks": ""
             }
            },
            "type": "scattermap"
           }
          ],
          "scattermapbox": [
           {
            "marker": {
             "colorbar": {
              "outlinewidth": 0,
              "ticks": ""
             }
            },
            "type": "scattermapbox"
           }
          ],
          "scatterpolar": [
           {
            "marker": {
             "colorbar": {
              "outlinewidth": 0,
              "ticks": ""
             }
            },
            "type": "scatterpolar"
           }
          ],
          "scatterpolargl": [
           {
            "marker": {
             "colorbar": {
              "outlinewidth": 0,
              "ticks": ""
             }
            },
            "type": "scatterpolargl"
           }
          ],
          "scatterternary": [
           {
            "marker": {
             "colorbar": {
              "outlinewidth": 0,
              "ticks": ""
             }
            },
            "type": "scatterternary"
           }
          ],
          "surface": [
           {
            "colorbar": {
             "outlinewidth": 0,
             "ticks": ""
            },
            "colorscale": [
             [
              0,
              "#0d0887"
             ],
             [
              0.1111111111111111,
              "#46039f"
             ],
             [
              0.2222222222222222,
              "#7201a8"
             ],
             [
              0.3333333333333333,
              "#9c179e"
             ],
             [
              0.4444444444444444,
              "#bd3786"
             ],
             [
              0.5555555555555556,
              "#d8576b"
             ],
             [
              0.6666666666666666,
              "#ed7953"
             ],
             [
              0.7777777777777778,
              "#fb9f3a"
             ],
             [
              0.8888888888888888,
              "#fdca26"
             ],
             [
              1,
              "#f0f921"
             ]
            ],
            "type": "surface"
           }
          ],
          "table": [
           {
            "cells": {
             "fill": {
              "color": "#EBF0F8"
             },
             "line": {
              "color": "white"
             }
            },
            "header": {
             "fill": {
              "color": "#C8D4E3"
             },
             "line": {
              "color": "white"
             }
            },
            "type": "table"
           }
          ]
         },
         "layout": {
          "annotationdefaults": {
           "arrowcolor": "#2a3f5f",
           "arrowhead": 0,
           "arrowwidth": 1
          },
          "autotypenumbers": "strict",
          "coloraxis": {
           "colorbar": {
            "outlinewidth": 0,
            "ticks": ""
           }
          },
          "colorscale": {
           "diverging": [
            [
             0,
             "#8e0152"
            ],
            [
             0.1,
             "#c51b7d"
            ],
            [
             0.2,
             "#de77ae"
            ],
            [
             0.3,
             "#f1b6da"
            ],
            [
             0.4,
             "#fde0ef"
            ],
            [
             0.5,
             "#f7f7f7"
            ],
            [
             0.6,
             "#e6f5d0"
            ],
            [
             0.7,
             "#b8e186"
            ],
            [
             0.8,
             "#7fbc41"
            ],
            [
             0.9,
             "#4d9221"
            ],
            [
             1,
             "#276419"
            ]
           ],
           "sequential": [
            [
             0,
             "#0d0887"
            ],
            [
             0.1111111111111111,
             "#46039f"
            ],
            [
             0.2222222222222222,
             "#7201a8"
            ],
            [
             0.3333333333333333,
             "#9c179e"
            ],
            [
             0.4444444444444444,
             "#bd3786"
            ],
            [
             0.5555555555555556,
             "#d8576b"
            ],
            [
             0.6666666666666666,
             "#ed7953"
            ],
            [
             0.7777777777777778,
             "#fb9f3a"
            ],
            [
             0.8888888888888888,
             "#fdca26"
            ],
            [
             1,
             "#f0f921"
            ]
           ],
           "sequentialminus": [
            [
             0,
             "#0d0887"
            ],
            [
             0.1111111111111111,
             "#46039f"
            ],
            [
             0.2222222222222222,
             "#7201a8"
            ],
            [
             0.3333333333333333,
             "#9c179e"
            ],
            [
             0.4444444444444444,
             "#bd3786"
            ],
            [
             0.5555555555555556,
             "#d8576b"
            ],
            [
             0.6666666666666666,
             "#ed7953"
            ],
            [
             0.7777777777777778,
             "#fb9f3a"
            ],
            [
             0.8888888888888888,
             "#fdca26"
            ],
            [
             1,
             "#f0f921"
            ]
           ]
          },
          "colorway": [
           "#636efa",
           "#EF553B",
           "#00cc96",
           "#ab63fa",
           "#FFA15A",
           "#19d3f3",
           "#FF6692",
           "#B6E880",
           "#FF97FF",
           "#FECB52"
          ],
          "font": {
           "color": "#2a3f5f"
          },
          "geo": {
           "bgcolor": "white",
           "lakecolor": "white",
           "landcolor": "white",
           "showlakes": true,
           "showland": true,
           "subunitcolor": "#C8D4E3"
          },
          "hoverlabel": {
           "align": "left"
          },
          "hovermode": "closest",
          "mapbox": {
           "style": "light"
          },
          "paper_bgcolor": "white",
          "plot_bgcolor": "white",
          "polar": {
           "angularaxis": {
            "gridcolor": "#EBF0F8",
            "linecolor": "#EBF0F8",
            "ticks": ""
           },
           "bgcolor": "white",
           "radialaxis": {
            "gridcolor": "#EBF0F8",
            "linecolor": "#EBF0F8",
            "ticks": ""
           }
          },
          "scene": {
           "xaxis": {
            "backgroundcolor": "white",
            "gridcolor": "#DFE8F3",
            "gridwidth": 2,
            "linecolor": "#EBF0F8",
            "showbackground": true,
            "ticks": "",
            "zerolinecolor": "#EBF0F8"
           },
           "yaxis": {
            "backgroundcolor": "white",
            "gridcolor": "#DFE8F3",
            "gridwidth": 2,
            "linecolor": "#EBF0F8",
            "showbackground": true,
            "ticks": "",
            "zerolinecolor": "#EBF0F8"
           },
           "zaxis": {
            "backgroundcolor": "white",
            "gridcolor": "#DFE8F3",
            "gridwidth": 2,
            "linecolor": "#EBF0F8",
            "showbackground": true,
            "ticks": "",
            "zerolinecolor": "#EBF0F8"
           }
          },
          "shapedefaults": {
           "line": {
            "color": "#2a3f5f"
           }
          },
          "ternary": {
           "aaxis": {
            "gridcolor": "#DFE8F3",
            "linecolor": "#A2B1C6",
            "ticks": ""
           },
           "baxis": {
            "gridcolor": "#DFE8F3",
            "linecolor": "#A2B1C6",
            "ticks": ""
           },
           "bgcolor": "white",
           "caxis": {
            "gridcolor": "#DFE8F3",
            "linecolor": "#A2B1C6",
            "ticks": ""
           }
          },
          "title": {
           "x": 0.05
          },
          "xaxis": {
           "automargin": true,
           "gridcolor": "#EBF0F8",
           "linecolor": "#EBF0F8",
           "ticks": "",
           "title": {
            "standoff": 15
           },
           "zerolinecolor": "#EBF0F8",
           "zerolinewidth": 2
          },
          "yaxis": {
           "automargin": true,
           "gridcolor": "#EBF0F8",
           "linecolor": "#EBF0F8",
           "ticks": "",
           "title": {
            "standoff": 15
           },
           "zerolinecolor": "#EBF0F8",
           "zerolinewidth": 2
          }
         }
        },
        "title": {
         "text": "Average Premium Over Time by Smoking Habit"
        },
        "xaxis": {
         "anchor": "y",
         "domain": [
          0,
          1
         ],
         "title": {
          "text": "Policy Month"
         }
        },
        "yaxis": {
         "anchor": "x",
         "domain": [
          0,
          1
         ],
         "title": {
          "text": "Average Premium"
         }
        }
       }
      }
     },
     "metadata": {},
     "output_type": "display_data"
    }
   ],
   "source": [
    "avg_premium_smoking = df.groupby(['Policy Month', 'Smoking Status'])['Premium Amount'].mean().reset_index()\n",
    "\n",
    "fig3 = px.line(avg_premium_smoking,\n",
    "               x='Policy Month',\n",
    "               y='Premium Amount',\n",
    "               color='Smoking Status',\n",
    "               title='Average Premium Over Time by Smoking Habit',\n",
    "               markers=True,\n",
    "               template='plotly_white')\n",
    "\n",
    "fig3.update_layout(xaxis_title='Policy Month',\n",
    "                   yaxis_title='Average Premium')\n",
    "\n",
    "fig3.show()"
   ]
  },
  {
   "cell_type": "markdown",
   "id": "ec891add",
   "metadata": {},
   "source": [
    "## FEATURE ENGINEERING"
   ]
  },
  {
   "cell_type": "code",
   "execution_count": 23,
   "id": "8d2afb4a",
   "metadata": {},
   "outputs": [],
   "source": [
    "# Ensure datetime\n",
    "df['Policy Start Date'] = pd.to_datetime(df['Policy Start Date'])\n",
    "\n",
    "# Date-related features\n",
    "df['Policy Year'] = df['Policy Start Date'].dt.year\n",
    "df['Policy Month'] = df['Policy Start Date'].dt.month\n",
    "df['Policy Day'] = df['Policy Start Date'].dt.day\n",
    "df['Policy Weekday'] = df['Policy Start Date'].dt.weekday\n",
    "df.drop(columns=['Policy Start Date'], inplace=True)\n",
    "\n",
    "\n",
    "df['Age Group'] = pd.cut(df['Age'],\n",
    "                         bins=[18, 25, 35, 45, 60, 100],\n",
    "                         labels=['18-25', '26-35', '36-45', '46-60', '60+'])\n",
    "\n",
    "df['Credit Score Bucket'] = pd.cut(df['Credit Score'],\n",
    "                                   bins=[0, 600, 700, 800, 900],\n",
    "                                   labels=['Poor', 'Average', 'Good', 'Excellent'])\n"
   ]
  },
  {
   "cell_type": "code",
   "execution_count": 24,
   "id": "2c897035",
   "metadata": {},
   "outputs": [
    {
     "name": "stdout",
     "output_type": "stream",
     "text": [
      "Categorical columns: ['Gender', 'Marital Status', 'Education Level', 'Occupation', 'Location', 'Policy Type', 'Customer Feedback', 'Smoking Status', 'Exercise Frequency', 'Property Type', 'Age Group', 'Credit Score Bin', 'Credit Score Bucket']\n"
     ]
    }
   ],
   "source": [
    "categorical_cols = df.select_dtypes(include=['object', 'category']).columns.tolist()\n",
    "print(\"Categorical columns:\", categorical_cols)\n"
   ]
  },
  {
   "cell_type": "code",
   "execution_count": 25,
   "id": "b38683b6",
   "metadata": {},
   "outputs": [],
   "source": [
    "df_encoded = pd.get_dummies(df, columns=categorical_cols, drop_first=True)\n",
    "\n"
   ]
  },
  {
   "cell_type": "code",
   "execution_count": 26,
   "id": "0b248f5c",
   "metadata": {},
   "outputs": [
    {
     "name": "stdout",
     "output_type": "stream",
     "text": [
      "(1072844, 43)\n"
     ]
    },
    {
     "data": {
      "application/vnd.microsoft.datawrangler.viewer.v0+json": {
       "columns": [
        {
         "name": "id",
         "rawType": "int64",
         "type": "integer"
        },
        {
         "name": "Age",
         "rawType": "float64",
         "type": "float"
        },
        {
         "name": "Annual Income",
         "rawType": "float64",
         "type": "float"
        },
        {
         "name": "Number of Dependents",
         "rawType": "float64",
         "type": "float"
        },
        {
         "name": "Health Score",
         "rawType": "float64",
         "type": "float"
        },
        {
         "name": "Previous Claims",
         "rawType": "float64",
         "type": "float"
        },
        {
         "name": "Vehicle Age",
         "rawType": "float64",
         "type": "float"
        },
        {
         "name": "Credit Score",
         "rawType": "float64",
         "type": "float"
        },
        {
         "name": "Insurance Duration",
         "rawType": "float64",
         "type": "float"
        },
        {
         "name": "Premium Amount",
         "rawType": "float64",
         "type": "float"
        },
        {
         "name": "Policy Month",
         "rawType": "int32",
         "type": "integer"
        },
        {
         "name": "Policy Year",
         "rawType": "int32",
         "type": "integer"
        },
        {
         "name": "Policy Day",
         "rawType": "int32",
         "type": "integer"
        },
        {
         "name": "Policy Weekday",
         "rawType": "int32",
         "type": "integer"
        },
        {
         "name": "Gender_Male",
         "rawType": "bool",
         "type": "boolean"
        },
        {
         "name": "Marital Status_Married",
         "rawType": "bool",
         "type": "boolean"
        },
        {
         "name": "Marital Status_Single",
         "rawType": "bool",
         "type": "boolean"
        },
        {
         "name": "Education Level_High School",
         "rawType": "bool",
         "type": "boolean"
        },
        {
         "name": "Education Level_Master's",
         "rawType": "bool",
         "type": "boolean"
        },
        {
         "name": "Education Level_PhD",
         "rawType": "bool",
         "type": "boolean"
        },
        {
         "name": "Occupation_Self-Employed",
         "rawType": "bool",
         "type": "boolean"
        },
        {
         "name": "Occupation_Unemployed",
         "rawType": "bool",
         "type": "boolean"
        },
        {
         "name": "Location_Suburban",
         "rawType": "bool",
         "type": "boolean"
        },
        {
         "name": "Location_Urban",
         "rawType": "bool",
         "type": "boolean"
        },
        {
         "name": "Policy Type_Comprehensive",
         "rawType": "bool",
         "type": "boolean"
        },
        {
         "name": "Policy Type_Premium",
         "rawType": "bool",
         "type": "boolean"
        },
        {
         "name": "Customer Feedback_Good",
         "rawType": "bool",
         "type": "boolean"
        },
        {
         "name": "Customer Feedback_Poor",
         "rawType": "bool",
         "type": "boolean"
        },
        {
         "name": "Smoking Status_Yes",
         "rawType": "bool",
         "type": "boolean"
        },
        {
         "name": "Exercise Frequency_Monthly",
         "rawType": "bool",
         "type": "boolean"
        },
        {
         "name": "Exercise Frequency_Rarely",
         "rawType": "bool",
         "type": "boolean"
        },
        {
         "name": "Exercise Frequency_Weekly",
         "rawType": "bool",
         "type": "boolean"
        },
        {
         "name": "Property Type_Condo",
         "rawType": "bool",
         "type": "boolean"
        },
        {
         "name": "Property Type_House",
         "rawType": "bool",
         "type": "boolean"
        },
        {
         "name": "Age Group_26-35",
         "rawType": "bool",
         "type": "boolean"
        },
        {
         "name": "Age Group_36-45",
         "rawType": "bool",
         "type": "boolean"
        },
        {
         "name": "Age Group_46-60",
         "rawType": "bool",
         "type": "boolean"
        },
        {
         "name": "Age Group_60+",
         "rawType": "bool",
         "type": "boolean"
        },
        {
         "name": "Credit Score Bin_500-650",
         "rawType": "bool",
         "type": "boolean"
        },
        {
         "name": "Credit Score Bin_650-750",
         "rawType": "bool",
         "type": "boolean"
        },
        {
         "name": "Credit Score Bin_750-850",
         "rawType": "bool",
         "type": "boolean"
        },
        {
         "name": "Credit Score Bucket_Average",
         "rawType": "bool",
         "type": "boolean"
        },
        {
         "name": "Credit Score Bucket_Good",
         "rawType": "bool",
         "type": "boolean"
        },
        {
         "name": "Credit Score Bucket_Excellent",
         "rawType": "bool",
         "type": "boolean"
        }
       ],
       "ref": "ec1e41b4-b850-4568-9d38-0a4721cafdbc",
       "rows": [
        [
         "848669",
         "19.0",
         "14900.0",
         "0.0",
         "23.24688636601668",
         "0.0",
         "17.0",
         "552.0",
         "6.0",
         "4999.0",
         "11",
         "2022",
         "11",
         "4",
         "True",
         "False",
         "True",
         "True",
         "False",
         "False",
         "False",
         "False",
         "False",
         "True",
         "False",
         "False",
         "True",
         "False",
         "False",
         "False",
         "True",
         "False",
         "False",
         "True",
         "False",
         "False",
         "False",
         "False",
         "True",
         "False",
         "False",
         "False",
         "False",
         "False"
        ],
        [
         "767167",
         "51.0",
         "38988.0",
         "2.0",
         "26.00246901161892",
         "0.0",
         "10.0",
         "778.0",
         "2.0",
         "4997.0",
         "7",
         "2020",
         "6",
         "0",
         "True",
         "False",
         "False",
         "True",
         "False",
         "False",
         "False",
         "True",
         "False",
         "False",
         "False",
         "False",
         "True",
         "False",
         "True",
         "False",
         "True",
         "False",
         "True",
         "False",
         "False",
         "False",
         "True",
         "False",
         "False",
         "False",
         "True",
         "False",
         "True",
         "False"
        ],
        [
         "877994",
         "26.0",
         "79801.0",
         "3.0",
         "19.739326996864627",
         "1.0",
         "5.0",
         "571.0",
         "3.0",
         "4997.0",
         "6",
         "2021",
         "30",
         "2",
         "False",
         "False",
         "True",
         "False",
         "True",
         "False",
         "False",
         "True",
         "False",
         "False",
         "False",
         "True",
         "False",
         "False",
         "True",
         "False",
         "False",
         "True",
         "False",
         "False",
         "True",
         "False",
         "False",
         "False",
         "True",
         "False",
         "False",
         "False",
         "False",
         "False"
        ],
        [
         "1169248",
         "62.0",
         "8440.0",
         "3.0",
         "21.997464776344643",
         "0.0",
         "1.0",
         "581.0",
         "5.0",
         "4996.0",
         "1",
         "2020",
         "4",
         "5",
         "False",
         "True",
         "False",
         "False",
         "True",
         "False",
         "False",
         "True",
         "False",
         "True",
         "False",
         "True",
         "True",
         "False",
         "True",
         "False",
         "False",
         "False",
         "False",
         "False",
         "False",
         "False",
         "False",
         "True",
         "True",
         "False",
         "False",
         "False",
         "False",
         "False"
        ],
        [
         "75643",
         "52.0",
         "23435.0",
         "1.0",
         "13.285972277906478",
         "1.0",
         "15.0",
         "340.0",
         "8.0",
         "4994.0",
         "10",
         "2021",
         "16",
         "5",
         "False",
         "False",
         "True",
         "False",
         "True",
         "False",
         "False",
         "False",
         "False",
         "True",
         "False",
         "False",
         "False",
         "False",
         "False",
         "False",
         "False",
         "False",
         "False",
         "False",
         "False",
         "False",
         "True",
         "False",
         "False",
         "False",
         "False",
         "False",
         "False",
         "False"
        ]
       ],
       "shape": {
        "columns": 43,
        "rows": 5
       }
      },
      "text/html": [
       "<div>\n",
       "<style scoped>\n",
       "    .dataframe tbody tr th:only-of-type {\n",
       "        vertical-align: middle;\n",
       "    }\n",
       "\n",
       "    .dataframe tbody tr th {\n",
       "        vertical-align: top;\n",
       "    }\n",
       "\n",
       "    .dataframe thead th {\n",
       "        text-align: right;\n",
       "    }\n",
       "</style>\n",
       "<table border=\"1\" class=\"dataframe\">\n",
       "  <thead>\n",
       "    <tr style=\"text-align: right;\">\n",
       "      <th></th>\n",
       "      <th>Age</th>\n",
       "      <th>Annual Income</th>\n",
       "      <th>Number of Dependents</th>\n",
       "      <th>Health Score</th>\n",
       "      <th>Previous Claims</th>\n",
       "      <th>Vehicle Age</th>\n",
       "      <th>Credit Score</th>\n",
       "      <th>Insurance Duration</th>\n",
       "      <th>Premium Amount</th>\n",
       "      <th>Policy Month</th>\n",
       "      <th>...</th>\n",
       "      <th>Age Group_26-35</th>\n",
       "      <th>Age Group_36-45</th>\n",
       "      <th>Age Group_46-60</th>\n",
       "      <th>Age Group_60+</th>\n",
       "      <th>Credit Score Bin_500-650</th>\n",
       "      <th>Credit Score Bin_650-750</th>\n",
       "      <th>Credit Score Bin_750-850</th>\n",
       "      <th>Credit Score Bucket_Average</th>\n",
       "      <th>Credit Score Bucket_Good</th>\n",
       "      <th>Credit Score Bucket_Excellent</th>\n",
       "    </tr>\n",
       "    <tr>\n",
       "      <th>id</th>\n",
       "      <th></th>\n",
       "      <th></th>\n",
       "      <th></th>\n",
       "      <th></th>\n",
       "      <th></th>\n",
       "      <th></th>\n",
       "      <th></th>\n",
       "      <th></th>\n",
       "      <th></th>\n",
       "      <th></th>\n",
       "      <th></th>\n",
       "      <th></th>\n",
       "      <th></th>\n",
       "      <th></th>\n",
       "      <th></th>\n",
       "      <th></th>\n",
       "      <th></th>\n",
       "      <th></th>\n",
       "      <th></th>\n",
       "      <th></th>\n",
       "      <th></th>\n",
       "    </tr>\n",
       "  </thead>\n",
       "  <tbody>\n",
       "    <tr>\n",
       "      <th>848669</th>\n",
       "      <td>19.0</td>\n",
       "      <td>14900.0</td>\n",
       "      <td>0.0</td>\n",
       "      <td>23.246886</td>\n",
       "      <td>0.0</td>\n",
       "      <td>17.0</td>\n",
       "      <td>552.0</td>\n",
       "      <td>6.0</td>\n",
       "      <td>4999.0</td>\n",
       "      <td>11</td>\n",
       "      <td>...</td>\n",
       "      <td>False</td>\n",
       "      <td>False</td>\n",
       "      <td>False</td>\n",
       "      <td>False</td>\n",
       "      <td>True</td>\n",
       "      <td>False</td>\n",
       "      <td>False</td>\n",
       "      <td>False</td>\n",
       "      <td>False</td>\n",
       "      <td>False</td>\n",
       "    </tr>\n",
       "    <tr>\n",
       "      <th>767167</th>\n",
       "      <td>51.0</td>\n",
       "      <td>38988.0</td>\n",
       "      <td>2.0</td>\n",
       "      <td>26.002469</td>\n",
       "      <td>0.0</td>\n",
       "      <td>10.0</td>\n",
       "      <td>778.0</td>\n",
       "      <td>2.0</td>\n",
       "      <td>4997.0</td>\n",
       "      <td>7</td>\n",
       "      <td>...</td>\n",
       "      <td>False</td>\n",
       "      <td>False</td>\n",
       "      <td>True</td>\n",
       "      <td>False</td>\n",
       "      <td>False</td>\n",
       "      <td>False</td>\n",
       "      <td>True</td>\n",
       "      <td>False</td>\n",
       "      <td>True</td>\n",
       "      <td>False</td>\n",
       "    </tr>\n",
       "    <tr>\n",
       "      <th>877994</th>\n",
       "      <td>26.0</td>\n",
       "      <td>79801.0</td>\n",
       "      <td>3.0</td>\n",
       "      <td>19.739327</td>\n",
       "      <td>1.0</td>\n",
       "      <td>5.0</td>\n",
       "      <td>571.0</td>\n",
       "      <td>3.0</td>\n",
       "      <td>4997.0</td>\n",
       "      <td>6</td>\n",
       "      <td>...</td>\n",
       "      <td>True</td>\n",
       "      <td>False</td>\n",
       "      <td>False</td>\n",
       "      <td>False</td>\n",
       "      <td>True</td>\n",
       "      <td>False</td>\n",
       "      <td>False</td>\n",
       "      <td>False</td>\n",
       "      <td>False</td>\n",
       "      <td>False</td>\n",
       "    </tr>\n",
       "    <tr>\n",
       "      <th>1169248</th>\n",
       "      <td>62.0</td>\n",
       "      <td>8440.0</td>\n",
       "      <td>3.0</td>\n",
       "      <td>21.997465</td>\n",
       "      <td>0.0</td>\n",
       "      <td>1.0</td>\n",
       "      <td>581.0</td>\n",
       "      <td>5.0</td>\n",
       "      <td>4996.0</td>\n",
       "      <td>1</td>\n",
       "      <td>...</td>\n",
       "      <td>False</td>\n",
       "      <td>False</td>\n",
       "      <td>False</td>\n",
       "      <td>True</td>\n",
       "      <td>True</td>\n",
       "      <td>False</td>\n",
       "      <td>False</td>\n",
       "      <td>False</td>\n",
       "      <td>False</td>\n",
       "      <td>False</td>\n",
       "    </tr>\n",
       "    <tr>\n",
       "      <th>75643</th>\n",
       "      <td>52.0</td>\n",
       "      <td>23435.0</td>\n",
       "      <td>1.0</td>\n",
       "      <td>13.285972</td>\n",
       "      <td>1.0</td>\n",
       "      <td>15.0</td>\n",
       "      <td>340.0</td>\n",
       "      <td>8.0</td>\n",
       "      <td>4994.0</td>\n",
       "      <td>10</td>\n",
       "      <td>...</td>\n",
       "      <td>False</td>\n",
       "      <td>False</td>\n",
       "      <td>True</td>\n",
       "      <td>False</td>\n",
       "      <td>False</td>\n",
       "      <td>False</td>\n",
       "      <td>False</td>\n",
       "      <td>False</td>\n",
       "      <td>False</td>\n",
       "      <td>False</td>\n",
       "    </tr>\n",
       "  </tbody>\n",
       "</table>\n",
       "<p>5 rows × 43 columns</p>\n",
       "</div>"
      ],
      "text/plain": [
       "          Age  Annual Income  Number of Dependents  Health Score  \\\n",
       "id                                                                 \n",
       "848669   19.0        14900.0                   0.0     23.246886   \n",
       "767167   51.0        38988.0                   2.0     26.002469   \n",
       "877994   26.0        79801.0                   3.0     19.739327   \n",
       "1169248  62.0         8440.0                   3.0     21.997465   \n",
       "75643    52.0        23435.0                   1.0     13.285972   \n",
       "\n",
       "         Previous Claims  Vehicle Age  Credit Score  Insurance Duration  \\\n",
       "id                                                                        \n",
       "848669               0.0         17.0         552.0                 6.0   \n",
       "767167               0.0         10.0         778.0                 2.0   \n",
       "877994               1.0          5.0         571.0                 3.0   \n",
       "1169248              0.0          1.0         581.0                 5.0   \n",
       "75643                1.0         15.0         340.0                 8.0   \n",
       "\n",
       "         Premium Amount  Policy Month  ...  Age Group_26-35  Age Group_36-45  \\\n",
       "id                                     ...                                     \n",
       "848669           4999.0            11  ...            False            False   \n",
       "767167           4997.0             7  ...            False            False   \n",
       "877994           4997.0             6  ...             True            False   \n",
       "1169248          4996.0             1  ...            False            False   \n",
       "75643            4994.0            10  ...            False            False   \n",
       "\n",
       "         Age Group_46-60  Age Group_60+  Credit Score Bin_500-650  \\\n",
       "id                                                                  \n",
       "848669             False          False                      True   \n",
       "767167              True          False                     False   \n",
       "877994             False          False                      True   \n",
       "1169248            False           True                      True   \n",
       "75643               True          False                     False   \n",
       "\n",
       "         Credit Score Bin_650-750  Credit Score Bin_750-850  \\\n",
       "id                                                            \n",
       "848669                      False                     False   \n",
       "767167                      False                      True   \n",
       "877994                      False                     False   \n",
       "1169248                     False                     False   \n",
       "75643                       False                     False   \n",
       "\n",
       "         Credit Score Bucket_Average  Credit Score Bucket_Good  \\\n",
       "id                                                               \n",
       "848669                         False                     False   \n",
       "767167                         False                      True   \n",
       "877994                         False                     False   \n",
       "1169248                        False                     False   \n",
       "75643                          False                     False   \n",
       "\n",
       "         Credit Score Bucket_Excellent  \n",
       "id                                      \n",
       "848669                           False  \n",
       "767167                           False  \n",
       "877994                           False  \n",
       "1169248                          False  \n",
       "75643                            False  \n",
       "\n",
       "[5 rows x 43 columns]"
      ]
     },
     "execution_count": 26,
     "metadata": {},
     "output_type": "execute_result"
    }
   ],
   "source": [
    "print(df_encoded.shape)\n",
    "df_encoded.head()\n"
   ]
  },
  {
   "cell_type": "code",
   "execution_count": 27,
   "id": "8f3d023e",
   "metadata": {},
   "outputs": [
    {
     "data": {
      "application/vnd.microsoft.datawrangler.viewer.v0+json": {
       "columns": [
        {
         "name": "id",
         "rawType": "int64",
         "type": "integer"
        },
        {
         "name": "Age",
         "rawType": "int64",
         "type": "integer"
        },
        {
         "name": "Annual Income",
         "rawType": "int64",
         "type": "integer"
        },
        {
         "name": "Number of Dependents",
         "rawType": "int64",
         "type": "integer"
        },
        {
         "name": "Health Score",
         "rawType": "int64",
         "type": "integer"
        },
        {
         "name": "Previous Claims",
         "rawType": "int64",
         "type": "integer"
        },
        {
         "name": "Vehicle Age",
         "rawType": "int64",
         "type": "integer"
        },
        {
         "name": "Credit Score",
         "rawType": "int64",
         "type": "integer"
        },
        {
         "name": "Insurance Duration",
         "rawType": "int64",
         "type": "integer"
        },
        {
         "name": "Premium Amount",
         "rawType": "int64",
         "type": "integer"
        },
        {
         "name": "Policy Month",
         "rawType": "int64",
         "type": "integer"
        },
        {
         "name": "Policy Year",
         "rawType": "int64",
         "type": "integer"
        },
        {
         "name": "Policy Day",
         "rawType": "int64",
         "type": "integer"
        },
        {
         "name": "Policy Weekday",
         "rawType": "int64",
         "type": "integer"
        },
        {
         "name": "Gender_Male",
         "rawType": "int64",
         "type": "integer"
        },
        {
         "name": "Marital Status_Married",
         "rawType": "int64",
         "type": "integer"
        },
        {
         "name": "Marital Status_Single",
         "rawType": "int64",
         "type": "integer"
        },
        {
         "name": "Education Level_High School",
         "rawType": "int64",
         "type": "integer"
        },
        {
         "name": "Education Level_Master's",
         "rawType": "int64",
         "type": "integer"
        },
        {
         "name": "Education Level_PhD",
         "rawType": "int64",
         "type": "integer"
        },
        {
         "name": "Occupation_Self-Employed",
         "rawType": "int64",
         "type": "integer"
        },
        {
         "name": "Occupation_Unemployed",
         "rawType": "int64",
         "type": "integer"
        },
        {
         "name": "Location_Suburban",
         "rawType": "int64",
         "type": "integer"
        },
        {
         "name": "Location_Urban",
         "rawType": "int64",
         "type": "integer"
        },
        {
         "name": "Policy Type_Comprehensive",
         "rawType": "int64",
         "type": "integer"
        },
        {
         "name": "Policy Type_Premium",
         "rawType": "int64",
         "type": "integer"
        },
        {
         "name": "Customer Feedback_Good",
         "rawType": "int64",
         "type": "integer"
        },
        {
         "name": "Customer Feedback_Poor",
         "rawType": "int64",
         "type": "integer"
        },
        {
         "name": "Smoking Status_Yes",
         "rawType": "int64",
         "type": "integer"
        },
        {
         "name": "Exercise Frequency_Monthly",
         "rawType": "int64",
         "type": "integer"
        },
        {
         "name": "Exercise Frequency_Rarely",
         "rawType": "int64",
         "type": "integer"
        },
        {
         "name": "Exercise Frequency_Weekly",
         "rawType": "int64",
         "type": "integer"
        },
        {
         "name": "Property Type_Condo",
         "rawType": "int64",
         "type": "integer"
        },
        {
         "name": "Property Type_House",
         "rawType": "int64",
         "type": "integer"
        },
        {
         "name": "Age Group_26-35",
         "rawType": "int64",
         "type": "integer"
        },
        {
         "name": "Age Group_36-45",
         "rawType": "int64",
         "type": "integer"
        },
        {
         "name": "Age Group_46-60",
         "rawType": "int64",
         "type": "integer"
        },
        {
         "name": "Age Group_60+",
         "rawType": "int64",
         "type": "integer"
        },
        {
         "name": "Credit Score Bin_500-650",
         "rawType": "int64",
         "type": "integer"
        },
        {
         "name": "Credit Score Bin_650-750",
         "rawType": "int64",
         "type": "integer"
        },
        {
         "name": "Credit Score Bin_750-850",
         "rawType": "int64",
         "type": "integer"
        },
        {
         "name": "Credit Score Bucket_Average",
         "rawType": "int64",
         "type": "integer"
        },
        {
         "name": "Credit Score Bucket_Good",
         "rawType": "int64",
         "type": "integer"
        },
        {
         "name": "Credit Score Bucket_Excellent",
         "rawType": "int64",
         "type": "integer"
        }
       ],
       "ref": "a60d0899-acf8-43d5-8c2a-c55a0d26a668",
       "rows": [
        [
         "848669",
         "19",
         "14900",
         "0",
         "23",
         "0",
         "17",
         "552",
         "6",
         "4999",
         "11",
         "2022",
         "11",
         "4",
         "1",
         "0",
         "1",
         "1",
         "0",
         "0",
         "0",
         "0",
         "0",
         "1",
         "0",
         "0",
         "1",
         "0",
         "0",
         "0",
         "1",
         "0",
         "0",
         "1",
         "0",
         "0",
         "0",
         "0",
         "1",
         "0",
         "0",
         "0",
         "0",
         "0"
        ],
        [
         "767167",
         "51",
         "38988",
         "2",
         "26",
         "0",
         "10",
         "778",
         "2",
         "4997",
         "7",
         "2020",
         "6",
         "0",
         "1",
         "0",
         "0",
         "1",
         "0",
         "0",
         "0",
         "1",
         "0",
         "0",
         "0",
         "0",
         "1",
         "0",
         "1",
         "0",
         "1",
         "0",
         "1",
         "0",
         "0",
         "0",
         "1",
         "0",
         "0",
         "0",
         "1",
         "0",
         "1",
         "0"
        ],
        [
         "877994",
         "26",
         "79801",
         "3",
         "19",
         "1",
         "5",
         "571",
         "3",
         "4997",
         "6",
         "2021",
         "30",
         "2",
         "0",
         "0",
         "1",
         "0",
         "1",
         "0",
         "0",
         "1",
         "0",
         "0",
         "0",
         "1",
         "0",
         "0",
         "1",
         "0",
         "0",
         "1",
         "0",
         "0",
         "1",
         "0",
         "0",
         "0",
         "1",
         "0",
         "0",
         "0",
         "0",
         "0"
        ],
        [
         "1169248",
         "62",
         "8440",
         "3",
         "21",
         "0",
         "1",
         "581",
         "5",
         "4996",
         "1",
         "2020",
         "4",
         "5",
         "0",
         "1",
         "0",
         "0",
         "1",
         "0",
         "0",
         "1",
         "0",
         "1",
         "0",
         "1",
         "1",
         "0",
         "1",
         "0",
         "0",
         "0",
         "0",
         "0",
         "0",
         "0",
         "0",
         "1",
         "1",
         "0",
         "0",
         "0",
         "0",
         "0"
        ],
        [
         "75643",
         "52",
         "23435",
         "1",
         "13",
         "1",
         "15",
         "340",
         "8",
         "4994",
         "10",
         "2021",
         "16",
         "5",
         "0",
         "0",
         "1",
         "0",
         "1",
         "0",
         "0",
         "0",
         "0",
         "1",
         "0",
         "0",
         "0",
         "0",
         "0",
         "0",
         "0",
         "0",
         "0",
         "0",
         "0",
         "0",
         "1",
         "0",
         "0",
         "0",
         "0",
         "0",
         "0",
         "0"
        ]
       ],
       "shape": {
        "columns": 43,
        "rows": 5
       }
      },
      "text/html": [
       "<div>\n",
       "<style scoped>\n",
       "    .dataframe tbody tr th:only-of-type {\n",
       "        vertical-align: middle;\n",
       "    }\n",
       "\n",
       "    .dataframe tbody tr th {\n",
       "        vertical-align: top;\n",
       "    }\n",
       "\n",
       "    .dataframe thead th {\n",
       "        text-align: right;\n",
       "    }\n",
       "</style>\n",
       "<table border=\"1\" class=\"dataframe\">\n",
       "  <thead>\n",
       "    <tr style=\"text-align: right;\">\n",
       "      <th></th>\n",
       "      <th>Age</th>\n",
       "      <th>Annual Income</th>\n",
       "      <th>Number of Dependents</th>\n",
       "      <th>Health Score</th>\n",
       "      <th>Previous Claims</th>\n",
       "      <th>Vehicle Age</th>\n",
       "      <th>Credit Score</th>\n",
       "      <th>Insurance Duration</th>\n",
       "      <th>Premium Amount</th>\n",
       "      <th>Policy Month</th>\n",
       "      <th>...</th>\n",
       "      <th>Age Group_26-35</th>\n",
       "      <th>Age Group_36-45</th>\n",
       "      <th>Age Group_46-60</th>\n",
       "      <th>Age Group_60+</th>\n",
       "      <th>Credit Score Bin_500-650</th>\n",
       "      <th>Credit Score Bin_650-750</th>\n",
       "      <th>Credit Score Bin_750-850</th>\n",
       "      <th>Credit Score Bucket_Average</th>\n",
       "      <th>Credit Score Bucket_Good</th>\n",
       "      <th>Credit Score Bucket_Excellent</th>\n",
       "    </tr>\n",
       "    <tr>\n",
       "      <th>id</th>\n",
       "      <th></th>\n",
       "      <th></th>\n",
       "      <th></th>\n",
       "      <th></th>\n",
       "      <th></th>\n",
       "      <th></th>\n",
       "      <th></th>\n",
       "      <th></th>\n",
       "      <th></th>\n",
       "      <th></th>\n",
       "      <th></th>\n",
       "      <th></th>\n",
       "      <th></th>\n",
       "      <th></th>\n",
       "      <th></th>\n",
       "      <th></th>\n",
       "      <th></th>\n",
       "      <th></th>\n",
       "      <th></th>\n",
       "      <th></th>\n",
       "      <th></th>\n",
       "    </tr>\n",
       "  </thead>\n",
       "  <tbody>\n",
       "    <tr>\n",
       "      <th>848669</th>\n",
       "      <td>19</td>\n",
       "      <td>14900</td>\n",
       "      <td>0</td>\n",
       "      <td>23</td>\n",
       "      <td>0</td>\n",
       "      <td>17</td>\n",
       "      <td>552</td>\n",
       "      <td>6</td>\n",
       "      <td>4999</td>\n",
       "      <td>11</td>\n",
       "      <td>...</td>\n",
       "      <td>0</td>\n",
       "      <td>0</td>\n",
       "      <td>0</td>\n",
       "      <td>0</td>\n",
       "      <td>1</td>\n",
       "      <td>0</td>\n",
       "      <td>0</td>\n",
       "      <td>0</td>\n",
       "      <td>0</td>\n",
       "      <td>0</td>\n",
       "    </tr>\n",
       "    <tr>\n",
       "      <th>767167</th>\n",
       "      <td>51</td>\n",
       "      <td>38988</td>\n",
       "      <td>2</td>\n",
       "      <td>26</td>\n",
       "      <td>0</td>\n",
       "      <td>10</td>\n",
       "      <td>778</td>\n",
       "      <td>2</td>\n",
       "      <td>4997</td>\n",
       "      <td>7</td>\n",
       "      <td>...</td>\n",
       "      <td>0</td>\n",
       "      <td>0</td>\n",
       "      <td>1</td>\n",
       "      <td>0</td>\n",
       "      <td>0</td>\n",
       "      <td>0</td>\n",
       "      <td>1</td>\n",
       "      <td>0</td>\n",
       "      <td>1</td>\n",
       "      <td>0</td>\n",
       "    </tr>\n",
       "    <tr>\n",
       "      <th>877994</th>\n",
       "      <td>26</td>\n",
       "      <td>79801</td>\n",
       "      <td>3</td>\n",
       "      <td>19</td>\n",
       "      <td>1</td>\n",
       "      <td>5</td>\n",
       "      <td>571</td>\n",
       "      <td>3</td>\n",
       "      <td>4997</td>\n",
       "      <td>6</td>\n",
       "      <td>...</td>\n",
       "      <td>1</td>\n",
       "      <td>0</td>\n",
       "      <td>0</td>\n",
       "      <td>0</td>\n",
       "      <td>1</td>\n",
       "      <td>0</td>\n",
       "      <td>0</td>\n",
       "      <td>0</td>\n",
       "      <td>0</td>\n",
       "      <td>0</td>\n",
       "    </tr>\n",
       "    <tr>\n",
       "      <th>1169248</th>\n",
       "      <td>62</td>\n",
       "      <td>8440</td>\n",
       "      <td>3</td>\n",
       "      <td>21</td>\n",
       "      <td>0</td>\n",
       "      <td>1</td>\n",
       "      <td>581</td>\n",
       "      <td>5</td>\n",
       "      <td>4996</td>\n",
       "      <td>1</td>\n",
       "      <td>...</td>\n",
       "      <td>0</td>\n",
       "      <td>0</td>\n",
       "      <td>0</td>\n",
       "      <td>1</td>\n",
       "      <td>1</td>\n",
       "      <td>0</td>\n",
       "      <td>0</td>\n",
       "      <td>0</td>\n",
       "      <td>0</td>\n",
       "      <td>0</td>\n",
       "    </tr>\n",
       "    <tr>\n",
       "      <th>75643</th>\n",
       "      <td>52</td>\n",
       "      <td>23435</td>\n",
       "      <td>1</td>\n",
       "      <td>13</td>\n",
       "      <td>1</td>\n",
       "      <td>15</td>\n",
       "      <td>340</td>\n",
       "      <td>8</td>\n",
       "      <td>4994</td>\n",
       "      <td>10</td>\n",
       "      <td>...</td>\n",
       "      <td>0</td>\n",
       "      <td>0</td>\n",
       "      <td>1</td>\n",
       "      <td>0</td>\n",
       "      <td>0</td>\n",
       "      <td>0</td>\n",
       "      <td>0</td>\n",
       "      <td>0</td>\n",
       "      <td>0</td>\n",
       "      <td>0</td>\n",
       "    </tr>\n",
       "  </tbody>\n",
       "</table>\n",
       "<p>5 rows × 43 columns</p>\n",
       "</div>"
      ],
      "text/plain": [
       "         Age  Annual Income  Number of Dependents  Health Score  \\\n",
       "id                                                                \n",
       "848669    19          14900                     0            23   \n",
       "767167    51          38988                     2            26   \n",
       "877994    26          79801                     3            19   \n",
       "1169248   62           8440                     3            21   \n",
       "75643     52          23435                     1            13   \n",
       "\n",
       "         Previous Claims  Vehicle Age  Credit Score  Insurance Duration  \\\n",
       "id                                                                        \n",
       "848669                 0           17           552                   6   \n",
       "767167                 0           10           778                   2   \n",
       "877994                 1            5           571                   3   \n",
       "1169248                0            1           581                   5   \n",
       "75643                  1           15           340                   8   \n",
       "\n",
       "         Premium Amount  Policy Month  ...  Age Group_26-35  Age Group_36-45  \\\n",
       "id                                     ...                                     \n",
       "848669             4999            11  ...                0                0   \n",
       "767167             4997             7  ...                0                0   \n",
       "877994             4997             6  ...                1                0   \n",
       "1169248            4996             1  ...                0                0   \n",
       "75643              4994            10  ...                0                0   \n",
       "\n",
       "         Age Group_46-60  Age Group_60+  Credit Score Bin_500-650  \\\n",
       "id                                                                  \n",
       "848669                 0              0                         1   \n",
       "767167                 1              0                         0   \n",
       "877994                 0              0                         1   \n",
       "1169248                0              1                         1   \n",
       "75643                  1              0                         0   \n",
       "\n",
       "         Credit Score Bin_650-750  Credit Score Bin_750-850  \\\n",
       "id                                                            \n",
       "848669                          0                         0   \n",
       "767167                          0                         1   \n",
       "877994                          0                         0   \n",
       "1169248                         0                         0   \n",
       "75643                           0                         0   \n",
       "\n",
       "         Credit Score Bucket_Average  Credit Score Bucket_Good  \\\n",
       "id                                                               \n",
       "848669                             0                         0   \n",
       "767167                             0                         1   \n",
       "877994                             0                         0   \n",
       "1169248                            0                         0   \n",
       "75643                              0                         0   \n",
       "\n",
       "         Credit Score Bucket_Excellent  \n",
       "id                                      \n",
       "848669                               0  \n",
       "767167                               0  \n",
       "877994                               0  \n",
       "1169248                              0  \n",
       "75643                                0  \n",
       "\n",
       "[5 rows x 43 columns]"
      ]
     },
     "execution_count": 27,
     "metadata": {},
     "output_type": "execute_result"
    }
   ],
   "source": [
    "df_encoded = df_encoded.astype(int)\n",
    "df_encoded.drop(columns=['ID'], inplace=True, errors='ignore')\n",
    "df_encoded.head()\n"
   ]
  },
  {
   "cell_type": "code",
   "execution_count": 28,
   "id": "d784d0ed",
   "metadata": {},
   "outputs": [
    {
     "data": {
      "application/vnd.microsoft.datawrangler.viewer.v0+json": {
       "columns": [
        {
         "name": "id",
         "rawType": "int64",
         "type": "integer"
        },
        {
         "name": "Age",
         "rawType": "int64",
         "type": "integer"
        },
        {
         "name": "Annual Income",
         "rawType": "int64",
         "type": "integer"
        },
        {
         "name": "Number of Dependents",
         "rawType": "int64",
         "type": "integer"
        },
        {
         "name": "Health Score",
         "rawType": "int64",
         "type": "integer"
        },
        {
         "name": "Previous Claims",
         "rawType": "int64",
         "type": "integer"
        },
        {
         "name": "Vehicle Age",
         "rawType": "int64",
         "type": "integer"
        },
        {
         "name": "Credit Score",
         "rawType": "int64",
         "type": "integer"
        },
        {
         "name": "Insurance Duration",
         "rawType": "int64",
         "type": "integer"
        },
        {
         "name": "Premium Amount",
         "rawType": "int64",
         "type": "integer"
        },
        {
         "name": "Policy Month",
         "rawType": "int64",
         "type": "integer"
        },
        {
         "name": "Policy Year",
         "rawType": "int64",
         "type": "integer"
        },
        {
         "name": "Policy Day",
         "rawType": "int64",
         "type": "integer"
        },
        {
         "name": "Policy Weekday",
         "rawType": "int64",
         "type": "integer"
        },
        {
         "name": "Gender_Male",
         "rawType": "int64",
         "type": "integer"
        },
        {
         "name": "Marital Status_Married",
         "rawType": "int64",
         "type": "integer"
        },
        {
         "name": "Marital Status_Single",
         "rawType": "int64",
         "type": "integer"
        },
        {
         "name": "Education Level_High School",
         "rawType": "int64",
         "type": "integer"
        },
        {
         "name": "Education Level_Master's",
         "rawType": "int64",
         "type": "integer"
        },
        {
         "name": "Education Level_PhD",
         "rawType": "int64",
         "type": "integer"
        },
        {
         "name": "Occupation_Self-Employed",
         "rawType": "int64",
         "type": "integer"
        },
        {
         "name": "Occupation_Unemployed",
         "rawType": "int64",
         "type": "integer"
        },
        {
         "name": "Location_Suburban",
         "rawType": "int64",
         "type": "integer"
        },
        {
         "name": "Location_Urban",
         "rawType": "int64",
         "type": "integer"
        },
        {
         "name": "Policy Type_Comprehensive",
         "rawType": "int64",
         "type": "integer"
        },
        {
         "name": "Policy Type_Premium",
         "rawType": "int64",
         "type": "integer"
        },
        {
         "name": "Customer Feedback_Good",
         "rawType": "int64",
         "type": "integer"
        },
        {
         "name": "Customer Feedback_Poor",
         "rawType": "int64",
         "type": "integer"
        },
        {
         "name": "Smoking Status_Yes",
         "rawType": "int64",
         "type": "integer"
        },
        {
         "name": "Exercise Frequency_Monthly",
         "rawType": "int64",
         "type": "integer"
        },
        {
         "name": "Exercise Frequency_Rarely",
         "rawType": "int64",
         "type": "integer"
        },
        {
         "name": "Exercise Frequency_Weekly",
         "rawType": "int64",
         "type": "integer"
        },
        {
         "name": "Property Type_Condo",
         "rawType": "int64",
         "type": "integer"
        },
        {
         "name": "Property Type_House",
         "rawType": "int64",
         "type": "integer"
        },
        {
         "name": "Age Group_26-35",
         "rawType": "int64",
         "type": "integer"
        },
        {
         "name": "Age Group_36-45",
         "rawType": "int64",
         "type": "integer"
        },
        {
         "name": "Age Group_46-60",
         "rawType": "int64",
         "type": "integer"
        },
        {
         "name": "Age Group_60+",
         "rawType": "int64",
         "type": "integer"
        },
        {
         "name": "Credit Score Bin_500-650",
         "rawType": "int64",
         "type": "integer"
        },
        {
         "name": "Credit Score Bin_650-750",
         "rawType": "int64",
         "type": "integer"
        },
        {
         "name": "Credit Score Bin_750-850",
         "rawType": "int64",
         "type": "integer"
        },
        {
         "name": "Credit Score Bucket_Average",
         "rawType": "int64",
         "type": "integer"
        },
        {
         "name": "Credit Score Bucket_Good",
         "rawType": "int64",
         "type": "integer"
        },
        {
         "name": "Credit Score Bucket_Excellent",
         "rawType": "int64",
         "type": "integer"
        }
       ],
       "ref": "3ce1a6a3-98a8-4353-9464-414da26cff91",
       "rows": [
        [
         "848669",
         "19",
         "14900",
         "0",
         "23",
         "0",
         "17",
         "552",
         "6",
         "4999",
         "11",
         "2022",
         "11",
         "4",
         "1",
         "0",
         "1",
         "1",
         "0",
         "0",
         "0",
         "0",
         "0",
         "1",
         "0",
         "0",
         "1",
         "0",
         "0",
         "0",
         "1",
         "0",
         "0",
         "1",
         "0",
         "0",
         "0",
         "0",
         "1",
         "0",
         "0",
         "0",
         "0",
         "0"
        ],
        [
         "767167",
         "51",
         "38988",
         "2",
         "26",
         "0",
         "10",
         "778",
         "2",
         "4997",
         "7",
         "2020",
         "6",
         "0",
         "1",
         "0",
         "0",
         "1",
         "0",
         "0",
         "0",
         "1",
         "0",
         "0",
         "0",
         "0",
         "1",
         "0",
         "1",
         "0",
         "1",
         "0",
         "1",
         "0",
         "0",
         "0",
         "1",
         "0",
         "0",
         "0",
         "1",
         "0",
         "1",
         "0"
        ],
        [
         "877994",
         "26",
         "79801",
         "3",
         "19",
         "1",
         "5",
         "571",
         "3",
         "4997",
         "6",
         "2021",
         "30",
         "2",
         "0",
         "0",
         "1",
         "0",
         "1",
         "0",
         "0",
         "1",
         "0",
         "0",
         "0",
         "1",
         "0",
         "0",
         "1",
         "0",
         "0",
         "1",
         "0",
         "0",
         "1",
         "0",
         "0",
         "0",
         "1",
         "0",
         "0",
         "0",
         "0",
         "0"
        ],
        [
         "1169248",
         "62",
         "8440",
         "3",
         "21",
         "0",
         "1",
         "581",
         "5",
         "4996",
         "1",
         "2020",
         "4",
         "5",
         "0",
         "1",
         "0",
         "0",
         "1",
         "0",
         "0",
         "1",
         "0",
         "1",
         "0",
         "1",
         "1",
         "0",
         "1",
         "0",
         "0",
         "0",
         "0",
         "0",
         "0",
         "0",
         "0",
         "1",
         "1",
         "0",
         "0",
         "0",
         "0",
         "0"
        ],
        [
         "75643",
         "52",
         "23435",
         "1",
         "13",
         "1",
         "15",
         "340",
         "8",
         "4994",
         "10",
         "2021",
         "16",
         "5",
         "0",
         "0",
         "1",
         "0",
         "1",
         "0",
         "0",
         "0",
         "0",
         "1",
         "0",
         "0",
         "0",
         "0",
         "0",
         "0",
         "0",
         "0",
         "0",
         "0",
         "0",
         "0",
         "1",
         "0",
         "0",
         "0",
         "0",
         "0",
         "0",
         "0"
        ],
        [
         "556721",
         "48",
         "38517",
         "2",
         "9",
         "1",
         "6",
         "712",
         "8",
         "4992",
         "1",
         "2021",
         "13",
         "2",
         "1",
         "1",
         "0",
         "0",
         "1",
         "0",
         "0",
         "0",
         "0",
         "1",
         "1",
         "0",
         "0",
         "1",
         "1",
         "1",
         "0",
         "0",
         "0",
         "1",
         "0",
         "0",
         "1",
         "0",
         "0",
         "1",
         "0",
         "0",
         "1",
         "0"
        ],
        [
         "1045482",
         "46",
         "2914",
         "0",
         "29",
         "1",
         "2",
         "815",
         "4",
         "4991",
         "10",
         "2021",
         "10",
         "6",
         "1",
         "1",
         "0",
         "0",
         "0",
         "1",
         "0",
         "0",
         "0",
         "1",
         "0",
         "1",
         "0",
         "1",
         "0",
         "1",
         "0",
         "0",
         "0",
         "0",
         "0",
         "0",
         "1",
         "0",
         "0",
         "0",
         "1",
         "0",
         "0",
         "1"
        ],
        [
         "351335",
         "30",
         "16087",
         "1",
         "40",
         "1",
         "10",
         "650",
         "1",
         "4988",
         "6",
         "2020",
         "3",
         "2",
         "1",
         "1",
         "0",
         "0",
         "0",
         "0",
         "0",
         "0",
         "0",
         "0",
         "0",
         "1",
         "1",
         "0",
         "0",
         "0",
         "0",
         "1",
         "0",
         "0",
         "1",
         "0",
         "0",
         "0",
         "1",
         "0",
         "0",
         "1",
         "0",
         "0"
        ],
        [
         "307139",
         "52",
         "8892",
         "4",
         "30",
         "0",
         "19",
         "595",
         "4",
         "4988",
         "5",
         "2021",
         "15",
         "5",
         "1",
         "1",
         "0",
         "0",
         "0",
         "0",
         "1",
         "0",
         "1",
         "0",
         "0",
         "1",
         "0",
         "1",
         "0",
         "1",
         "0",
         "0",
         "1",
         "0",
         "0",
         "0",
         "1",
         "0",
         "1",
         "0",
         "0",
         "0",
         "0",
         "0"
        ],
        [
         "119186",
         "23",
         "52418",
         "2",
         "23",
         "2",
         "19",
         "376",
         "2",
         "4988",
         "8",
         "2022",
         "15",
         "0",
         "0",
         "0",
         "1",
         "0",
         "0",
         "1",
         "0",
         "1",
         "0",
         "1",
         "1",
         "0",
         "0",
         "0",
         "1",
         "1",
         "0",
         "0",
         "1",
         "0",
         "0",
         "0",
         "0",
         "0",
         "0",
         "0",
         "0",
         "0",
         "0",
         "0"
        ],
        [
         "840921",
         "42",
         "17604",
         "3",
         "18",
         "1",
         "7",
         "765",
         "7",
         "4988",
         "9",
         "2019",
         "20",
         "4",
         "0",
         "0",
         "1",
         "0",
         "0",
         "0",
         "1",
         "0",
         "1",
         "0",
         "0",
         "0",
         "0",
         "1",
         "0",
         "0",
         "1",
         "0",
         "0",
         "0",
         "0",
         "1",
         "0",
         "0",
         "0",
         "0",
         "1",
         "0",
         "1",
         "0"
        ],
        [
         "348356",
         "23",
         "59829",
         "3",
         "23",
         "1",
         "11",
         "595",
         "7",
         "4988",
         "5",
         "2023",
         "15",
         "0",
         "0",
         "1",
         "0",
         "0",
         "0",
         "1",
         "0",
         "0",
         "0",
         "0",
         "1",
         "0",
         "0",
         "0",
         "0",
         "0",
         "0",
         "0",
         "0",
         "0",
         "0",
         "0",
         "0",
         "0",
         "1",
         "0",
         "0",
         "0",
         "0",
         "0"
        ],
        [
         "267649",
         "48",
         "2428",
         "1",
         "40",
         "1",
         "11",
         "696",
         "5",
         "4988",
         "8",
         "2021",
         "15",
         "6",
         "1",
         "0",
         "1",
         "0",
         "0",
         "0",
         "0",
         "0",
         "0",
         "0",
         "1",
         "0",
         "0",
         "0",
         "1",
         "0",
         "1",
         "0",
         "0",
         "1",
         "0",
         "0",
         "1",
         "0",
         "0",
         "1",
         "0",
         "1",
         "0",
         "0"
        ],
        [
         "995321",
         "47",
         "28399",
         "4",
         "47",
         "1",
         "11",
         "486",
         "5",
         "4988",
         "8",
         "2024",
         "2",
         "4",
         "0",
         "1",
         "0",
         "1",
         "0",
         "0",
         "0",
         "1",
         "0",
         "0",
         "1",
         "0",
         "1",
         "0",
         "0",
         "0",
         "0",
         "1",
         "0",
         "1",
         "0",
         "0",
         "1",
         "0",
         "0",
         "0",
         "0",
         "0",
         "0",
         "0"
        ],
        [
         "1196798",
         "63",
         "72961",
         "2",
         "17",
         "2",
         "14",
         "634",
         "5",
         "4988",
         "11",
         "2019",
         "29",
         "4",
         "0",
         "0",
         "0",
         "1",
         "0",
         "0",
         "0",
         "0",
         "0",
         "0",
         "1",
         "0",
         "0",
         "0",
         "0",
         "1",
         "0",
         "0",
         "1",
         "0",
         "0",
         "0",
         "0",
         "1",
         "1",
         "0",
         "0",
         "1",
         "0",
         "0"
        ],
        [
         "669083",
         "24",
         "53868",
         "1",
         "31",
         "1",
         "1",
         "303",
         "9",
         "4988",
         "3",
         "2022",
         "20",
         "6",
         "0",
         "0",
         "1",
         "0",
         "1",
         "0",
         "0",
         "0",
         "0",
         "1",
         "0",
         "1",
         "1",
         "0",
         "0",
         "1",
         "0",
         "0",
         "0",
         "0",
         "0",
         "0",
         "0",
         "0",
         "0",
         "0",
         "0",
         "0",
         "0",
         "0"
        ],
        [
         "378477",
         "31",
         "65382",
         "2",
         "31",
         "1",
         "14",
         "303",
         "3",
         "4988",
         "12",
         "2021",
         "12",
         "6",
         "1",
         "1",
         "0",
         "0",
         "1",
         "0",
         "0",
         "0",
         "0",
         "1",
         "1",
         "0",
         "1",
         "0",
         "0",
         "0",
         "1",
         "0",
         "0",
         "1",
         "1",
         "0",
         "0",
         "0",
         "0",
         "0",
         "0",
         "0",
         "0",
         "0"
        ],
        [
         "1079127",
         "52",
         "47207",
         "1",
         "23",
         "0",
         "11",
         "319",
         "5",
         "4987",
         "9",
         "2022",
         "18",
         "6",
         "0",
         "0",
         "0",
         "0",
         "0",
         "0",
         "0",
         "0",
         "1",
         "0",
         "0",
         "1",
         "1",
         "0",
         "1",
         "0",
         "1",
         "0",
         "0",
         "1",
         "0",
         "0",
         "1",
         "0",
         "0",
         "0",
         "0",
         "0",
         "0",
         "0"
        ],
        [
         "61875",
         "37",
         "17086",
         "1",
         "50",
         "0",
         "10",
         "591",
         "5",
         "4987",
         "1",
         "2023",
         "30",
         "0",
         "0",
         "0",
         "0",
         "0",
         "1",
         "0",
         "0",
         "0",
         "1",
         "0",
         "0",
         "1",
         "0",
         "1",
         "1",
         "0",
         "0",
         "0",
         "1",
         "0",
         "0",
         "1",
         "0",
         "0",
         "1",
         "0",
         "0",
         "0",
         "0",
         "0"
        ],
        [
         "333906",
         "19",
         "55739",
         "1",
         "39",
         "1",
         "10",
         "303",
         "5",
         "4987",
         "3",
         "2022",
         "6",
         "6",
         "0",
         "0",
         "1",
         "1",
         "0",
         "0",
         "0",
         "1",
         "0",
         "1",
         "1",
         "0",
         "1",
         "0",
         "1",
         "1",
         "0",
         "0",
         "0",
         "0",
         "0",
         "0",
         "0",
         "0",
         "0",
         "0",
         "0",
         "0",
         "0",
         "0"
        ],
        [
         "155275",
         "35",
         "7692",
         "3",
         "38",
         "2",
         "19",
         "516",
         "9",
         "4986",
         "11",
         "2019",
         "4",
         "0",
         "1",
         "0",
         "0",
         "0",
         "1",
         "0",
         "0",
         "0",
         "1",
         "0",
         "1",
         "0",
         "0",
         "1",
         "1",
         "1",
         "0",
         "0",
         "0",
         "1",
         "1",
         "0",
         "0",
         "0",
         "1",
         "0",
         "0",
         "0",
         "0",
         "0"
        ],
        [
         "641059",
         "28",
         "31495",
         "2",
         "20",
         "1",
         "1",
         "595",
         "5",
         "4986",
         "11",
         "2020",
         "12",
         "3",
         "1",
         "0",
         "0",
         "0",
         "0",
         "0",
         "0",
         "1",
         "1",
         "0",
         "0",
         "1",
         "0",
         "0",
         "0",
         "0",
         "1",
         "0",
         "1",
         "0",
         "1",
         "0",
         "0",
         "0",
         "1",
         "0",
         "0",
         "0",
         "0",
         "0"
        ],
        [
         "487447",
         "35",
         "22191",
         "1",
         "8",
         "1",
         "6",
         "717",
         "9",
         "4986",
         "11",
         "2019",
         "11",
         "0",
         "1",
         "0",
         "1",
         "1",
         "0",
         "0",
         "0",
         "1",
         "1",
         "0",
         "0",
         "0",
         "1",
         "0",
         "1",
         "1",
         "0",
         "0",
         "0",
         "1",
         "1",
         "0",
         "0",
         "0",
         "0",
         "1",
         "0",
         "0",
         "1",
         "0"
        ],
        [
         "145709",
         "22",
         "15122",
         "0",
         "10",
         "0",
         "0",
         "539",
         "4",
         "4985",
         "6",
         "2022",
         "13",
         "0",
         "1",
         "0",
         "1",
         "0",
         "1",
         "0",
         "1",
         "0",
         "0",
         "0",
         "0",
         "1",
         "1",
         "0",
         "0",
         "0",
         "0",
         "0",
         "0",
         "0",
         "0",
         "0",
         "0",
         "0",
         "1",
         "0",
         "0",
         "0",
         "0",
         "0"
        ],
        [
         "895877",
         "53",
         "13141",
         "2",
         "51",
         "2",
         "5",
         "307",
         "4",
         "4985",
         "3",
         "2023",
         "12",
         "6",
         "0",
         "0",
         "0",
         "0",
         "0",
         "1",
         "0",
         "1",
         "0",
         "0",
         "1",
         "0",
         "1",
         "0",
         "0",
         "0",
         "0",
         "1",
         "1",
         "0",
         "0",
         "0",
         "1",
         "0",
         "0",
         "0",
         "0",
         "0",
         "0",
         "0"
        ],
        [
         "54982",
         "48",
         "83825",
         "4",
         "25",
         "2",
         "11",
         "731",
         "7",
         "4984",
         "10",
         "2019",
         "22",
         "1",
         "1",
         "0",
         "0",
         "0",
         "0",
         "1",
         "1",
         "0",
         "1",
         "0",
         "0",
         "1",
         "1",
         "0",
         "1",
         "0",
         "1",
         "0",
         "0",
         "0",
         "0",
         "0",
         "1",
         "0",
         "0",
         "1",
         "0",
         "0",
         "1",
         "0"
        ],
        [
         "1097643",
         "51",
         "11928",
         "0",
         "23",
         "1",
         "5",
         "331",
         "8",
         "4984",
         "12",
         "2021",
         "21",
         "1",
         "1",
         "0",
         "0",
         "1",
         "0",
         "0",
         "1",
         "0",
         "0",
         "1",
         "0",
         "0",
         "0",
         "0",
         "1",
         "0",
         "0",
         "1",
         "0",
         "0",
         "0",
         "0",
         "1",
         "0",
         "0",
         "0",
         "0",
         "0",
         "0",
         "0"
        ],
        [
         "1094272",
         "52",
         "3133",
         "2",
         "24",
         "1",
         "1",
         "438",
         "1",
         "4983",
         "4",
         "2023",
         "16",
         "6",
         "0",
         "0",
         "1",
         "0",
         "0",
         "1",
         "1",
         "0",
         "0",
         "1",
         "0",
         "1",
         "0",
         "1",
         "1",
         "1",
         "0",
         "0",
         "0",
         "0",
         "0",
         "0",
         "1",
         "0",
         "0",
         "0",
         "0",
         "0",
         "0",
         "0"
        ],
        [
         "336983",
         "58",
         "27983",
         "3",
         "31",
         "2",
         "3",
         "722",
         "9",
         "4983",
         "6",
         "2023",
         "15",
         "3",
         "1",
         "0",
         "0",
         "0",
         "0",
         "0",
         "0",
         "1",
         "0",
         "0",
         "0",
         "0",
         "0",
         "1",
         "1",
         "0",
         "0",
         "0",
         "1",
         "0",
         "0",
         "0",
         "1",
         "0",
         "0",
         "1",
         "0",
         "0",
         "1",
         "0"
        ],
        [
         "846918",
         "48",
         "733",
         "2",
         "23",
         "2",
         "18",
         "600",
         "4",
         "4983",
         "12",
         "2020",
         "30",
         "2",
         "1",
         "0",
         "1",
         "0",
         "0",
         "0",
         "0",
         "0",
         "0",
         "1",
         "0",
         "1",
         "0",
         "0",
         "0",
         "0",
         "0",
         "0",
         "0",
         "1",
         "0",
         "0",
         "1",
         "0",
         "1",
         "0",
         "0",
         "0",
         "0",
         "0"
        ],
        [
         "1054164",
         "21",
         "53325",
         "1",
         "24",
         "2",
         "15",
         "813",
         "3",
         "4983",
         "8",
         "2022",
         "12",
         "4",
         "1",
         "1",
         "0",
         "0",
         "0",
         "0",
         "0",
         "0",
         "0",
         "0",
         "0",
         "0",
         "0",
         "0",
         "0",
         "0",
         "1",
         "0",
         "0",
         "1",
         "0",
         "0",
         "0",
         "0",
         "0",
         "0",
         "1",
         "0",
         "0",
         "1"
        ],
        [
         "211089",
         "57",
         "1223",
         "4",
         "3",
         "0",
         "2",
         "494",
         "8",
         "4983",
         "11",
         "2021",
         "17",
         "2",
         "1",
         "0",
         "0",
         "0",
         "0",
         "0",
         "0",
         "0",
         "0",
         "0",
         "0",
         "1",
         "0",
         "1",
         "1",
         "0",
         "1",
         "0",
         "0",
         "0",
         "0",
         "0",
         "1",
         "0",
         "0",
         "0",
         "0",
         "0",
         "0",
         "0"
        ],
        [
         "1067816",
         "21",
         "42797",
         "2",
         "12",
         "1",
         "16",
         "777",
         "3",
         "4982",
         "10",
         "2023",
         "6",
         "4",
         "0",
         "1",
         "0",
         "0",
         "0",
         "0",
         "0",
         "0",
         "1",
         "0",
         "0",
         "0",
         "1",
         "0",
         "1",
         "0",
         "1",
         "0",
         "1",
         "0",
         "0",
         "0",
         "0",
         "0",
         "0",
         "0",
         "1",
         "0",
         "1",
         "0"
        ],
        [
         "647840",
         "63",
         "62495",
         "4",
         "36",
         "1",
         "1",
         "582",
         "7",
         "4982",
         "5",
         "2024",
         "9",
         "3",
         "0",
         "1",
         "0",
         "0",
         "0",
         "0",
         "0",
         "1",
         "0",
         "1",
         "1",
         "0",
         "0",
         "0",
         "0",
         "0",
         "1",
         "0",
         "0",
         "0",
         "0",
         "0",
         "0",
         "1",
         "1",
         "0",
         "0",
         "0",
         "0",
         "0"
        ],
        [
         "70754",
         "31",
         "76298",
         "3",
         "24",
         "1",
         "16",
         "595",
         "5",
         "4982",
         "2",
         "2022",
         "15",
         "1",
         "0",
         "1",
         "0",
         "1",
         "0",
         "0",
         "0",
         "0",
         "1",
         "0",
         "1",
         "0",
         "0",
         "0",
         "0",
         "0",
         "0",
         "1",
         "0",
         "1",
         "1",
         "0",
         "0",
         "0",
         "1",
         "0",
         "0",
         "0",
         "0",
         "0"
        ],
        [
         "663274",
         "58",
         "72572",
         "0",
         "19",
         "1",
         "10",
         "595",
         "1",
         "4982",
         "1",
         "2022",
         "26",
         "2",
         "0",
         "0",
         "0",
         "1",
         "0",
         "0",
         "0",
         "1",
         "0",
         "1",
         "0",
         "0",
         "0",
         "1",
         "1",
         "1",
         "0",
         "0",
         "1",
         "0",
         "0",
         "0",
         "1",
         "0",
         "1",
         "0",
         "0",
         "0",
         "0",
         "0"
        ],
        [
         "1059869",
         "50",
         "7983",
         "2",
         "15",
         "1",
         "18",
         "595",
         "8",
         "4982",
         "2",
         "2021",
         "7",
         "6",
         "1",
         "0",
         "0",
         "0",
         "0",
         "1",
         "0",
         "0",
         "0",
         "1",
         "0",
         "1",
         "0",
         "1",
         "0",
         "1",
         "0",
         "0",
         "0",
         "1",
         "0",
         "0",
         "1",
         "0",
         "1",
         "0",
         "0",
         "0",
         "0",
         "0"
        ],
        [
         "12013",
         "47",
         "4941",
         "4",
         "34",
         "1",
         "15",
         "587",
         "7",
         "4982",
         "3",
         "2020",
         "18",
         "2",
         "0",
         "1",
         "0",
         "1",
         "0",
         "0",
         "1",
         "0",
         "1",
         "0",
         "0",
         "0",
         "0",
         "0",
         "0",
         "1",
         "0",
         "0",
         "1",
         "0",
         "0",
         "0",
         "1",
         "0",
         "1",
         "0",
         "0",
         "0",
         "0",
         "0"
        ],
        [
         "174743",
         "34",
         "5682",
         "3",
         "16",
         "1",
         "7",
         "400",
         "7",
         "4982",
         "12",
         "2022",
         "1",
         "3",
         "0",
         "0",
         "1",
         "0",
         "1",
         "0",
         "0",
         "0",
         "0",
         "0",
         "0",
         "0",
         "1",
         "0",
         "0",
         "0",
         "0",
         "0",
         "1",
         "0",
         "1",
         "0",
         "0",
         "0",
         "0",
         "0",
         "0",
         "0",
         "0",
         "0"
        ],
        [
         "90462",
         "59",
         "19133",
         "2",
         "23",
         "1",
         "6",
         "330",
         "6",
         "4982",
         "5",
         "2024",
         "15",
         "2",
         "1",
         "1",
         "0",
         "1",
         "0",
         "0",
         "1",
         "0",
         "1",
         "0",
         "0",
         "1",
         "0",
         "0",
         "1",
         "0",
         "1",
         "0",
         "0",
         "0",
         "0",
         "0",
         "1",
         "0",
         "0",
         "0",
         "0",
         "0",
         "0",
         "0"
        ],
        [
         "476041",
         "53",
         "48836",
         "0",
         "21",
         "2",
         "13",
         "516",
         "9",
         "4982",
         "6",
         "2022",
         "5",
         "6",
         "1",
         "1",
         "0",
         "0",
         "1",
         "0",
         "0",
         "0",
         "0",
         "0",
         "1",
         "0",
         "0",
         "1",
         "1",
         "0",
         "1",
         "0",
         "1",
         "0",
         "0",
         "0",
         "1",
         "0",
         "1",
         "0",
         "0",
         "0",
         "0",
         "0"
        ],
        [
         "1068027",
         "43",
         "26791",
         "3",
         "32",
         "1",
         "17",
         "632",
         "7",
         "4982",
         "2",
         "2023",
         "23",
         "3",
         "0",
         "0",
         "1",
         "0",
         "1",
         "0",
         "0",
         "1",
         "0",
         "1",
         "0",
         "0",
         "0",
         "0",
         "0",
         "0",
         "0",
         "1",
         "1",
         "0",
         "0",
         "1",
         "0",
         "0",
         "1",
         "0",
         "0",
         "1",
         "0",
         "0"
        ],
        [
         "807641",
         "21",
         "41003",
         "0",
         "25",
         "1",
         "15",
         "613",
         "2",
         "4982",
         "6",
         "2021",
         "27",
         "6",
         "0",
         "1",
         "0",
         "0",
         "0",
         "1",
         "0",
         "0",
         "0",
         "0",
         "0",
         "0",
         "1",
         "0",
         "0",
         "0",
         "0",
         "1",
         "1",
         "0",
         "0",
         "0",
         "0",
         "0",
         "1",
         "0",
         "0",
         "1",
         "0",
         "0"
        ],
        [
         "1184212",
         "51",
         "44633",
         "4",
         "18",
         "0",
         "9",
         "595",
         "4",
         "4982",
         "9",
         "2023",
         "22",
         "4",
         "0",
         "1",
         "0",
         "0",
         "1",
         "0",
         "0",
         "0",
         "1",
         "0",
         "1",
         "0",
         "1",
         "0",
         "0",
         "0",
         "1",
         "0",
         "0",
         "1",
         "0",
         "0",
         "1",
         "0",
         "1",
         "0",
         "0",
         "0",
         "0",
         "0"
        ],
        [
         "225443",
         "50",
         "12239",
         "0",
         "18",
         "1",
         "1",
         "316",
         "7",
         "4982",
         "1",
         "2022",
         "4",
         "1",
         "0",
         "0",
         "0",
         "0",
         "1",
         "0",
         "0",
         "0",
         "1",
         "0",
         "0",
         "1",
         "0",
         "0",
         "1",
         "0",
         "0",
         "1",
         "0",
         "0",
         "0",
         "0",
         "1",
         "0",
         "0",
         "0",
         "0",
         "0",
         "0",
         "0"
        ],
        [
         "46065",
         "39",
         "16894",
         "1",
         "12",
         "1",
         "18",
         "644",
         "7",
         "4982",
         "6",
         "2022",
         "17",
         "4",
         "0",
         "0",
         "1",
         "0",
         "0",
         "0",
         "1",
         "0",
         "0",
         "0",
         "0",
         "0",
         "0",
         "0",
         "0",
         "0",
         "0",
         "0",
         "0",
         "0",
         "0",
         "1",
         "0",
         "0",
         "1",
         "0",
         "0",
         "1",
         "0",
         "0"
        ],
        [
         "979106",
         "28",
         "75530",
         "2",
         "7",
         "1",
         "17",
         "494",
         "8",
         "4981",
         "4",
         "2021",
         "2",
         "4",
         "1",
         "1",
         "0",
         "0",
         "0",
         "1",
         "0",
         "0",
         "0",
         "0",
         "0",
         "1",
         "0",
         "0",
         "1",
         "1",
         "0",
         "0",
         "1",
         "0",
         "1",
         "0",
         "0",
         "0",
         "0",
         "0",
         "0",
         "0",
         "0",
         "0"
        ],
        [
         "234124",
         "49",
         "6925",
         "2",
         "41",
         "0",
         "6",
         "757",
         "2",
         "4981",
         "11",
         "2020",
         "29",
         "6",
         "0",
         "0",
         "1",
         "0",
         "0",
         "1",
         "0",
         "0",
         "0",
         "0",
         "0",
         "1",
         "0",
         "0",
         "1",
         "0",
         "0",
         "1",
         "0",
         "1",
         "0",
         "0",
         "1",
         "0",
         "0",
         "0",
         "1",
         "0",
         "1",
         "0"
        ],
        [
         "293832",
         "60",
         "11975",
         "2",
         "24",
         "1",
         "13",
         "829",
         "7",
         "4981",
         "8",
         "2020",
         "12",
         "2",
         "1",
         "0",
         "1",
         "0",
         "0",
         "0",
         "0",
         "0",
         "0",
         "1",
         "1",
         "0",
         "0",
         "0",
         "0",
         "0",
         "0",
         "0",
         "0",
         "0",
         "0",
         "0",
         "1",
         "0",
         "0",
         "0",
         "1",
         "0",
         "0",
         "1"
        ],
        [
         "455369",
         "22",
         "14092",
         "2",
         "40",
         "2",
         "3",
         "751",
         "8",
         "4981",
         "3",
         "2024",
         "7",
         "3",
         "0",
         "0",
         "1",
         "0",
         "1",
         "0",
         "0",
         "0",
         "1",
         "0",
         "1",
         "0",
         "0",
         "0",
         "0",
         "0",
         "1",
         "0",
         "0",
         "1",
         "0",
         "0",
         "0",
         "0",
         "0",
         "0",
         "1",
         "0",
         "1",
         "0"
        ]
       ],
       "shape": {
        "columns": 43,
        "rows": 1072844
       }
      },
      "text/html": [
       "<div>\n",
       "<style scoped>\n",
       "    .dataframe tbody tr th:only-of-type {\n",
       "        vertical-align: middle;\n",
       "    }\n",
       "\n",
       "    .dataframe tbody tr th {\n",
       "        vertical-align: top;\n",
       "    }\n",
       "\n",
       "    .dataframe thead th {\n",
       "        text-align: right;\n",
       "    }\n",
       "</style>\n",
       "<table border=\"1\" class=\"dataframe\">\n",
       "  <thead>\n",
       "    <tr style=\"text-align: right;\">\n",
       "      <th></th>\n",
       "      <th>Age</th>\n",
       "      <th>Annual Income</th>\n",
       "      <th>Number of Dependents</th>\n",
       "      <th>Health Score</th>\n",
       "      <th>Previous Claims</th>\n",
       "      <th>Vehicle Age</th>\n",
       "      <th>Credit Score</th>\n",
       "      <th>Insurance Duration</th>\n",
       "      <th>Premium Amount</th>\n",
       "      <th>Policy Month</th>\n",
       "      <th>...</th>\n",
       "      <th>Age Group_26-35</th>\n",
       "      <th>Age Group_36-45</th>\n",
       "      <th>Age Group_46-60</th>\n",
       "      <th>Age Group_60+</th>\n",
       "      <th>Credit Score Bin_500-650</th>\n",
       "      <th>Credit Score Bin_650-750</th>\n",
       "      <th>Credit Score Bin_750-850</th>\n",
       "      <th>Credit Score Bucket_Average</th>\n",
       "      <th>Credit Score Bucket_Good</th>\n",
       "      <th>Credit Score Bucket_Excellent</th>\n",
       "    </tr>\n",
       "    <tr>\n",
       "      <th>id</th>\n",
       "      <th></th>\n",
       "      <th></th>\n",
       "      <th></th>\n",
       "      <th></th>\n",
       "      <th></th>\n",
       "      <th></th>\n",
       "      <th></th>\n",
       "      <th></th>\n",
       "      <th></th>\n",
       "      <th></th>\n",
       "      <th></th>\n",
       "      <th></th>\n",
       "      <th></th>\n",
       "      <th></th>\n",
       "      <th></th>\n",
       "      <th></th>\n",
       "      <th></th>\n",
       "      <th></th>\n",
       "      <th></th>\n",
       "      <th></th>\n",
       "      <th></th>\n",
       "    </tr>\n",
       "  </thead>\n",
       "  <tbody>\n",
       "    <tr>\n",
       "      <th>848669</th>\n",
       "      <td>19</td>\n",
       "      <td>14900</td>\n",
       "      <td>0</td>\n",
       "      <td>23</td>\n",
       "      <td>0</td>\n",
       "      <td>17</td>\n",
       "      <td>552</td>\n",
       "      <td>6</td>\n",
       "      <td>4999</td>\n",
       "      <td>11</td>\n",
       "      <td>...</td>\n",
       "      <td>0</td>\n",
       "      <td>0</td>\n",
       "      <td>0</td>\n",
       "      <td>0</td>\n",
       "      <td>1</td>\n",
       "      <td>0</td>\n",
       "      <td>0</td>\n",
       "      <td>0</td>\n",
       "      <td>0</td>\n",
       "      <td>0</td>\n",
       "    </tr>\n",
       "    <tr>\n",
       "      <th>767167</th>\n",
       "      <td>51</td>\n",
       "      <td>38988</td>\n",
       "      <td>2</td>\n",
       "      <td>26</td>\n",
       "      <td>0</td>\n",
       "      <td>10</td>\n",
       "      <td>778</td>\n",
       "      <td>2</td>\n",
       "      <td>4997</td>\n",
       "      <td>7</td>\n",
       "      <td>...</td>\n",
       "      <td>0</td>\n",
       "      <td>0</td>\n",
       "      <td>1</td>\n",
       "      <td>0</td>\n",
       "      <td>0</td>\n",
       "      <td>0</td>\n",
       "      <td>1</td>\n",
       "      <td>0</td>\n",
       "      <td>1</td>\n",
       "      <td>0</td>\n",
       "    </tr>\n",
       "    <tr>\n",
       "      <th>877994</th>\n",
       "      <td>26</td>\n",
       "      <td>79801</td>\n",
       "      <td>3</td>\n",
       "      <td>19</td>\n",
       "      <td>1</td>\n",
       "      <td>5</td>\n",
       "      <td>571</td>\n",
       "      <td>3</td>\n",
       "      <td>4997</td>\n",
       "      <td>6</td>\n",
       "      <td>...</td>\n",
       "      <td>1</td>\n",
       "      <td>0</td>\n",
       "      <td>0</td>\n",
       "      <td>0</td>\n",
       "      <td>1</td>\n",
       "      <td>0</td>\n",
       "      <td>0</td>\n",
       "      <td>0</td>\n",
       "      <td>0</td>\n",
       "      <td>0</td>\n",
       "    </tr>\n",
       "    <tr>\n",
       "      <th>1169248</th>\n",
       "      <td>62</td>\n",
       "      <td>8440</td>\n",
       "      <td>3</td>\n",
       "      <td>21</td>\n",
       "      <td>0</td>\n",
       "      <td>1</td>\n",
       "      <td>581</td>\n",
       "      <td>5</td>\n",
       "      <td>4996</td>\n",
       "      <td>1</td>\n",
       "      <td>...</td>\n",
       "      <td>0</td>\n",
       "      <td>0</td>\n",
       "      <td>0</td>\n",
       "      <td>1</td>\n",
       "      <td>1</td>\n",
       "      <td>0</td>\n",
       "      <td>0</td>\n",
       "      <td>0</td>\n",
       "      <td>0</td>\n",
       "      <td>0</td>\n",
       "    </tr>\n",
       "    <tr>\n",
       "      <th>75643</th>\n",
       "      <td>52</td>\n",
       "      <td>23435</td>\n",
       "      <td>1</td>\n",
       "      <td>13</td>\n",
       "      <td>1</td>\n",
       "      <td>15</td>\n",
       "      <td>340</td>\n",
       "      <td>8</td>\n",
       "      <td>4994</td>\n",
       "      <td>10</td>\n",
       "      <td>...</td>\n",
       "      <td>0</td>\n",
       "      <td>0</td>\n",
       "      <td>1</td>\n",
       "      <td>0</td>\n",
       "      <td>0</td>\n",
       "      <td>0</td>\n",
       "      <td>0</td>\n",
       "      <td>0</td>\n",
       "      <td>0</td>\n",
       "      <td>0</td>\n",
       "    </tr>\n",
       "    <tr>\n",
       "      <th>...</th>\n",
       "      <td>...</td>\n",
       "      <td>...</td>\n",
       "      <td>...</td>\n",
       "      <td>...</td>\n",
       "      <td>...</td>\n",
       "      <td>...</td>\n",
       "      <td>...</td>\n",
       "      <td>...</td>\n",
       "      <td>...</td>\n",
       "      <td>...</td>\n",
       "      <td>...</td>\n",
       "      <td>...</td>\n",
       "      <td>...</td>\n",
       "      <td>...</td>\n",
       "      <td>...</td>\n",
       "      <td>...</td>\n",
       "      <td>...</td>\n",
       "      <td>...</td>\n",
       "      <td>...</td>\n",
       "      <td>...</td>\n",
       "      <td>...</td>\n",
       "    </tr>\n",
       "    <tr>\n",
       "      <th>481123</th>\n",
       "      <td>60</td>\n",
       "      <td>3347</td>\n",
       "      <td>0</td>\n",
       "      <td>10</td>\n",
       "      <td>1</td>\n",
       "      <td>12</td>\n",
       "      <td>775</td>\n",
       "      <td>3</td>\n",
       "      <td>20</td>\n",
       "      <td>2</td>\n",
       "      <td>...</td>\n",
       "      <td>0</td>\n",
       "      <td>0</td>\n",
       "      <td>1</td>\n",
       "      <td>0</td>\n",
       "      <td>0</td>\n",
       "      <td>0</td>\n",
       "      <td>1</td>\n",
       "      <td>0</td>\n",
       "      <td>1</td>\n",
       "      <td>0</td>\n",
       "    </tr>\n",
       "    <tr>\n",
       "      <th>7366</th>\n",
       "      <td>50</td>\n",
       "      <td>23911</td>\n",
       "      <td>0</td>\n",
       "      <td>23</td>\n",
       "      <td>1</td>\n",
       "      <td>14</td>\n",
       "      <td>493</td>\n",
       "      <td>8</td>\n",
       "      <td>20</td>\n",
       "      <td>6</td>\n",
       "      <td>...</td>\n",
       "      <td>0</td>\n",
       "      <td>0</td>\n",
       "      <td>1</td>\n",
       "      <td>0</td>\n",
       "      <td>0</td>\n",
       "      <td>0</td>\n",
       "      <td>0</td>\n",
       "      <td>0</td>\n",
       "      <td>0</td>\n",
       "      <td>0</td>\n",
       "    </tr>\n",
       "    <tr>\n",
       "      <th>919749</th>\n",
       "      <td>62</td>\n",
       "      <td>27991</td>\n",
       "      <td>4</td>\n",
       "      <td>30</td>\n",
       "      <td>1</td>\n",
       "      <td>2</td>\n",
       "      <td>307</td>\n",
       "      <td>7</td>\n",
       "      <td>20</td>\n",
       "      <td>8</td>\n",
       "      <td>...</td>\n",
       "      <td>0</td>\n",
       "      <td>0</td>\n",
       "      <td>0</td>\n",
       "      <td>1</td>\n",
       "      <td>0</td>\n",
       "      <td>0</td>\n",
       "      <td>0</td>\n",
       "      <td>0</td>\n",
       "      <td>0</td>\n",
       "      <td>0</td>\n",
       "    </tr>\n",
       "    <tr>\n",
       "      <th>347948</th>\n",
       "      <td>36</td>\n",
       "      <td>1289</td>\n",
       "      <td>4</td>\n",
       "      <td>19</td>\n",
       "      <td>1</td>\n",
       "      <td>13</td>\n",
       "      <td>836</td>\n",
       "      <td>7</td>\n",
       "      <td>20</td>\n",
       "      <td>8</td>\n",
       "      <td>...</td>\n",
       "      <td>0</td>\n",
       "      <td>1</td>\n",
       "      <td>0</td>\n",
       "      <td>0</td>\n",
       "      <td>0</td>\n",
       "      <td>0</td>\n",
       "      <td>1</td>\n",
       "      <td>0</td>\n",
       "      <td>0</td>\n",
       "      <td>1</td>\n",
       "    </tr>\n",
       "    <tr>\n",
       "      <th>834982</th>\n",
       "      <td>36</td>\n",
       "      <td>8006</td>\n",
       "      <td>3</td>\n",
       "      <td>28</td>\n",
       "      <td>2</td>\n",
       "      <td>2</td>\n",
       "      <td>814</td>\n",
       "      <td>1</td>\n",
       "      <td>20</td>\n",
       "      <td>10</td>\n",
       "      <td>...</td>\n",
       "      <td>0</td>\n",
       "      <td>1</td>\n",
       "      <td>0</td>\n",
       "      <td>0</td>\n",
       "      <td>0</td>\n",
       "      <td>0</td>\n",
       "      <td>1</td>\n",
       "      <td>0</td>\n",
       "      <td>0</td>\n",
       "      <td>1</td>\n",
       "    </tr>\n",
       "  </tbody>\n",
       "</table>\n",
       "<p>1072844 rows × 43 columns</p>\n",
       "</div>"
      ],
      "text/plain": [
       "         Age  Annual Income  Number of Dependents  Health Score  \\\n",
       "id                                                                \n",
       "848669    19          14900                     0            23   \n",
       "767167    51          38988                     2            26   \n",
       "877994    26          79801                     3            19   \n",
       "1169248   62           8440                     3            21   \n",
       "75643     52          23435                     1            13   \n",
       "...      ...            ...                   ...           ...   \n",
       "481123    60           3347                     0            10   \n",
       "7366      50          23911                     0            23   \n",
       "919749    62          27991                     4            30   \n",
       "347948    36           1289                     4            19   \n",
       "834982    36           8006                     3            28   \n",
       "\n",
       "         Previous Claims  Vehicle Age  Credit Score  Insurance Duration  \\\n",
       "id                                                                        \n",
       "848669                 0           17           552                   6   \n",
       "767167                 0           10           778                   2   \n",
       "877994                 1            5           571                   3   \n",
       "1169248                0            1           581                   5   \n",
       "75643                  1           15           340                   8   \n",
       "...                  ...          ...           ...                 ...   \n",
       "481123                 1           12           775                   3   \n",
       "7366                   1           14           493                   8   \n",
       "919749                 1            2           307                   7   \n",
       "347948                 1           13           836                   7   \n",
       "834982                 2            2           814                   1   \n",
       "\n",
       "         Premium Amount  Policy Month  ...  Age Group_26-35  Age Group_36-45  \\\n",
       "id                                     ...                                     \n",
       "848669             4999            11  ...                0                0   \n",
       "767167             4997             7  ...                0                0   \n",
       "877994             4997             6  ...                1                0   \n",
       "1169248            4996             1  ...                0                0   \n",
       "75643              4994            10  ...                0                0   \n",
       "...                 ...           ...  ...              ...              ...   \n",
       "481123               20             2  ...                0                0   \n",
       "7366                 20             6  ...                0                0   \n",
       "919749               20             8  ...                0                0   \n",
       "347948               20             8  ...                0                1   \n",
       "834982               20            10  ...                0                1   \n",
       "\n",
       "         Age Group_46-60  Age Group_60+  Credit Score Bin_500-650  \\\n",
       "id                                                                  \n",
       "848669                 0              0                         1   \n",
       "767167                 1              0                         0   \n",
       "877994                 0              0                         1   \n",
       "1169248                0              1                         1   \n",
       "75643                  1              0                         0   \n",
       "...                  ...            ...                       ...   \n",
       "481123                 1              0                         0   \n",
       "7366                   1              0                         0   \n",
       "919749                 0              1                         0   \n",
       "347948                 0              0                         0   \n",
       "834982                 0              0                         0   \n",
       "\n",
       "         Credit Score Bin_650-750  Credit Score Bin_750-850  \\\n",
       "id                                                            \n",
       "848669                          0                         0   \n",
       "767167                          0                         1   \n",
       "877994                          0                         0   \n",
       "1169248                         0                         0   \n",
       "75643                           0                         0   \n",
       "...                           ...                       ...   \n",
       "481123                          0                         1   \n",
       "7366                            0                         0   \n",
       "919749                          0                         0   \n",
       "347948                          0                         1   \n",
       "834982                          0                         1   \n",
       "\n",
       "         Credit Score Bucket_Average  Credit Score Bucket_Good  \\\n",
       "id                                                               \n",
       "848669                             0                         0   \n",
       "767167                             0                         1   \n",
       "877994                             0                         0   \n",
       "1169248                            0                         0   \n",
       "75643                              0                         0   \n",
       "...                              ...                       ...   \n",
       "481123                             0                         1   \n",
       "7366                               0                         0   \n",
       "919749                             0                         0   \n",
       "347948                             0                         0   \n",
       "834982                             0                         0   \n",
       "\n",
       "         Credit Score Bucket_Excellent  \n",
       "id                                      \n",
       "848669                               0  \n",
       "767167                               0  \n",
       "877994                               0  \n",
       "1169248                              0  \n",
       "75643                                0  \n",
       "...                                ...  \n",
       "481123                               0  \n",
       "7366                                 0  \n",
       "919749                               0  \n",
       "347948                               1  \n",
       "834982                               1  \n",
       "\n",
       "[1072844 rows x 43 columns]"
      ]
     },
     "execution_count": 28,
     "metadata": {},
     "output_type": "execute_result"
    }
   ],
   "source": [
    "df_encoded "
   ]
  },
  {
   "cell_type": "code",
   "execution_count": 29,
   "id": "f29a0b83",
   "metadata": {},
   "outputs": [],
   "source": [
    "\n",
    "## Model development"
   ]
  },
  {
   "cell_type": "code",
   "execution_count": 30,
   "id": "6128349b",
   "metadata": {},
   "outputs": [
    {
     "name": "stdout",
     "output_type": "stream",
     "text": [
      "X_train shape: (858275, 42)\n",
      "X_test shape: (214569, 42)\n",
      "y_train shape: (858275,)\n",
      "y_test shape: (214569,)\n"
     ]
    }
   ],
   "source": [
    "# Define X and y\n",
    "X = df_encoded.drop(columns=['Premium Amount'])  # Change to your actual target\n",
    "y = df_encoded['Premium Amount']\n",
    "\n",
    "# Train-test split\n",
    "X_train, X_test, y_train, y_test = train_test_split(X, y, test_size=0.2, random_state=42)\n",
    "print(\"X_train shape:\", X_train.shape)\n",
    "print(\"X_test shape:\", X_test.shape)\n",
    "print(\"y_train shape:\", y_train.shape)\n",
    "print(\"y_test shape:\", y_test.shape)"
   ]
  },
  {
   "cell_type": "code",
   "execution_count": 31,
   "id": "0cdbd576",
   "metadata": {},
   "outputs": [],
   "source": [
    "def evaluate_model(model, X_train, X_test, y_train, y_test):\n",
    "    model.fit(X_train, y_train)\n",
    "    y_pred = model.predict(X_test)\n",
    "    \n",
    "    mae = mean_absolute_error(y_test, y_pred)\n",
    "    mse = mean_squared_error(y_test, y_pred)\n",
    "    rmse = np.sqrt(mse)\n",
    "    r2 = r2_score(y_test, y_pred)\n",
    "    \n",
    "    return {'Model': model.__class__.__name__,\n",
    "            'MAE': mae,\n",
    "            'MSE': mse,\n",
    "            'RMSE': rmse,\n",
    "            'R2 Score': r2}\n"
   ]
  },
  {
   "cell_type": "code",
   "execution_count": null,
   "id": "28dee663",
   "metadata": {},
   "outputs": [
    {
     "data": {
      "application/vnd.microsoft.datawrangler.viewer.v0+json": {
       "columns": [
        {
         "name": "index",
         "rawType": "int64",
         "type": "integer"
        },
        {
         "name": "Model",
         "rawType": "object",
         "type": "string"
        },
        {
         "name": "MAE",
         "rawType": "float64",
         "type": "float"
        },
        {
         "name": "MSE",
         "rawType": "float64",
         "type": "float"
        },
        {
         "name": "RMSE",
         "rawType": "float64",
         "type": "float"
        },
        {
         "name": "R2 Score",
         "rawType": "float64",
         "type": "float"
        }
       ],
       "conversionMethod": "pd.DataFrame",
       "ref": "1661aafc-cd2a-445d-9154-9ae4b3aec432",
       "rows": [
        [
         "0",
         "DecisionTreeRegressor",
         "887.9906743285377",
         "1482319.6818878776",
         "1217.5055161632235",
         "-1.0543246708046001"
        ],
        [
         "1",
         "LinearRegression",
         "652.5030577996425",
         "719488.4837260074",
         "848.2266700157496",
         "0.002871674350518716"
        ],
        [
         "2",
         "RandomForestRegressor",
         "646.0783268319283",
         "705931.2302341199",
         "840.1971377207375",
         "0.02166046914090103"
        ],
        [
         "3",
         "XGBRegressor",
         "631.3822631835938",
         "692757.625",
         "832.3206263213714",
         "0.03991740942001343"
        ]
       ],
       "shape": {
        "columns": 5,
        "rows": 4
       }
      },
      "text/html": [
       "<div>\n",
       "<style scoped>\n",
       "    .dataframe tbody tr th:only-of-type {\n",
       "        vertical-align: middle;\n",
       "    }\n",
       "\n",
       "    .dataframe tbody tr th {\n",
       "        vertical-align: top;\n",
       "    }\n",
       "\n",
       "    .dataframe thead th {\n",
       "        text-align: right;\n",
       "    }\n",
       "</style>\n",
       "<table border=\"1\" class=\"dataframe\">\n",
       "  <thead>\n",
       "    <tr style=\"text-align: right;\">\n",
       "      <th></th>\n",
       "      <th>Model</th>\n",
       "      <th>MAE</th>\n",
       "      <th>MSE</th>\n",
       "      <th>RMSE</th>\n",
       "      <th>R2 Score</th>\n",
       "    </tr>\n",
       "  </thead>\n",
       "  <tbody>\n",
       "    <tr>\n",
       "      <th>0</th>\n",
       "      <td>DecisionTreeRegressor</td>\n",
       "      <td>887.990674</td>\n",
       "      <td>1.482320e+06</td>\n",
       "      <td>1217.505516</td>\n",
       "      <td>-1.054325</td>\n",
       "    </tr>\n",
       "    <tr>\n",
       "      <th>1</th>\n",
       "      <td>LinearRegression</td>\n",
       "      <td>652.503058</td>\n",
       "      <td>7.194885e+05</td>\n",
       "      <td>848.226670</td>\n",
       "      <td>0.002872</td>\n",
       "    </tr>\n",
       "    <tr>\n",
       "      <th>2</th>\n",
       "      <td>RandomForestRegressor</td>\n",
       "      <td>646.078327</td>\n",
       "      <td>7.059312e+05</td>\n",
       "      <td>840.197138</td>\n",
       "      <td>0.021660</td>\n",
       "    </tr>\n",
       "    <tr>\n",
       "      <th>3</th>\n",
       "      <td>XGBRegressor</td>\n",
       "      <td>631.382263</td>\n",
       "      <td>6.927576e+05</td>\n",
       "      <td>832.320626</td>\n",
       "      <td>0.039917</td>\n",
       "    </tr>\n",
       "  </tbody>\n",
       "</table>\n",
       "</div>"
      ],
      "text/plain": [
       "                   Model         MAE           MSE         RMSE  R2 Score\n",
       "0  DecisionTreeRegressor  887.990674  1.482320e+06  1217.505516 -1.054325\n",
       "1       LinearRegression  652.503058  7.194885e+05   848.226670  0.002872\n",
       "2  RandomForestRegressor  646.078327  7.059312e+05   840.197138  0.021660\n",
       "3           XGBRegressor  631.382263  6.927576e+05   832.320626  0.039917"
      ]
     },
     "execution_count": 81,
     "metadata": {},
     "output_type": "execute_result"
    }
   ],
   "source": [
    "models = [\n",
    "    LinearRegression(),\n",
    "    DecisionTreeRegressor(random_state=42),\n",
    "    RandomForestRegressor(n_estimators=100, random_state=42),\n",
    "    XGBRegressor(n_estimators=100, random_state=42, verbosity=0)\n",
    "]\n",
    "\n",
    "results = []\n",
    "\n",
    "for model in models:\n",
    "    result = evaluate_model(model, X_train, X_test, y_train, y_test)\n",
    "    results.append(result)\n",
    "\n",
    "# Create a results DataFrame\n",
    "results_df = pd.DataFrame(results).sort_values(by='R2 Score')\n",
    "results_df.reset_index(drop=True, inplace=True)\n",
    "results_df\n"
   ]
  },
  {
   "cell_type": "code",
   "execution_count": null,
   "id": "5f579b57",
   "metadata": {},
   "outputs": [
    {
     "name": "stdout",
     "output_type": "stream",
     "text": [
      "Best Model based on RMSE: XGBRegressor\n"
     ]
    }
   ],
   "source": [
    "best_model_name = results_df.iloc[0]['Model']\n",
    "print(f\"Best Model based on RMSE: {best_model_name}\")\n"
   ]
  },
  {
   "cell_type": "markdown",
   "id": "20d1edd9",
   "metadata": {},
   "source": [
    "## Finding the best hyperparameters for XGB Regressor using GridSearchCV."
   ]
  },
  {
   "cell_type": "code",
   "execution_count": null,
   "id": "ea320839",
   "metadata": {},
   "outputs": [
    {
     "name": "stdout",
     "output_type": "stream",
     "text": [
      "Fitting 5 folds for each of 162 candidates, totalling 810 fits\n",
      "[CV] END colsample_bytree=0.7, learning_rate=0.01, max_depth=3, n_estimators=100, subsample=0.7; total time=   9.5s\n",
      "[CV] END colsample_bytree=0.7, learning_rate=0.01, max_depth=3, n_estimators=100, subsample=0.7; total time=   9.5s\n",
      "[CV] END colsample_bytree=0.7, learning_rate=0.01, max_depth=3, n_estimators=100, subsample=0.8; total time=   9.5s\n",
      "[CV] END colsample_bytree=0.7, learning_rate=0.01, max_depth=3, n_estimators=100, subsample=0.8; total time=   9.5s\n",
      "[CV] END colsample_bytree=0.7, learning_rate=0.01, max_depth=3, n_estimators=100, subsample=0.8; total time=   9.5s\n",
      "[CV] END colsample_bytree=0.7, learning_rate=0.01, max_depth=3, n_estimators=100, subsample=0.7; total time=   9.6s\n",
      "[CV] END colsample_bytree=0.7, learning_rate=0.01, max_depth=3, n_estimators=100, subsample=0.7; total time=   9.6s\n",
      "[CV] END colsample_bytree=0.7, learning_rate=0.01, max_depth=3, n_estimators=100, subsample=0.7; total time=   9.7s\n",
      "[CV] END colsample_bytree=0.7, learning_rate=0.01, max_depth=3, n_estimators=100, subsample=1.0; total time=   7.1s\n",
      "[CV] END colsample_bytree=0.7, learning_rate=0.01, max_depth=3, n_estimators=100, subsample=1.0; total time=   7.2s\n",
      "[CV] END colsample_bytree=0.7, learning_rate=0.01, max_depth=3, n_estimators=100, subsample=0.8; total time=   7.4s\n",
      "[CV] END colsample_bytree=0.7, learning_rate=0.01, max_depth=3, n_estimators=100, subsample=1.0; total time=   7.2s\n",
      "[CV] END colsample_bytree=0.7, learning_rate=0.01, max_depth=3, n_estimators=100, subsample=1.0; total time=   7.2s\n",
      "[CV] END colsample_bytree=0.7, learning_rate=0.01, max_depth=3, n_estimators=100, subsample=0.8; total time=   8.0s\n",
      "[CV] END colsample_bytree=0.7, learning_rate=0.01, max_depth=3, n_estimators=100, subsample=1.0; total time=   7.9s\n",
      "[CV] END colsample_bytree=0.7, learning_rate=0.01, max_depth=3, n_estimators=200, subsample=0.7; total time=  13.2s\n",
      "[CV] END colsample_bytree=0.7, learning_rate=0.01, max_depth=3, n_estimators=200, subsample=0.8; total time=  13.1s\n",
      "[CV] END colsample_bytree=0.7, learning_rate=0.01, max_depth=3, n_estimators=200, subsample=0.7; total time=  13.6s\n",
      "[CV] END colsample_bytree=0.7, learning_rate=0.01, max_depth=3, n_estimators=200, subsample=0.8; total time=  13.1s\n",
      "[CV] END colsample_bytree=0.7, learning_rate=0.01, max_depth=3, n_estimators=200, subsample=0.7; total time=  13.7s\n",
      "[CV] END colsample_bytree=0.7, learning_rate=0.01, max_depth=3, n_estimators=200, subsample=0.7; total time=  13.8s\n",
      "[CV] END colsample_bytree=0.7, learning_rate=0.01, max_depth=3, n_estimators=200, subsample=0.8; total time=  13.2s\n",
      "[CV] END colsample_bytree=0.7, learning_rate=0.01, max_depth=3, n_estimators=200, subsample=0.7; total time=  13.8s\n",
      "[CV] END colsample_bytree=0.7, learning_rate=0.01, max_depth=3, n_estimators=200, subsample=0.8; total time=  13.3s\n",
      "[CV] END colsample_bytree=0.7, learning_rate=0.01, max_depth=5, n_estimators=100, subsample=0.7; total time=  11.1s\n",
      "[CV] END colsample_bytree=0.7, learning_rate=0.01, max_depth=3, n_estimators=200, subsample=1.0; total time=  13.8s\n",
      "[CV] END colsample_bytree=0.7, learning_rate=0.01, max_depth=3, n_estimators=200, subsample=1.0; total time=  14.0s\n",
      "[CV] END colsample_bytree=0.7, learning_rate=0.01, max_depth=3, n_estimators=200, subsample=0.8; total time=  14.5s\n",
      "[CV] END colsample_bytree=0.7, learning_rate=0.01, max_depth=3, n_estimators=200, subsample=1.0; total time=  14.0s\n",
      "[CV] END colsample_bytree=0.7, learning_rate=0.01, max_depth=3, n_estimators=200, subsample=1.0; total time=  14.1s\n",
      "[CV] END colsample_bytree=0.7, learning_rate=0.01, max_depth=3, n_estimators=200, subsample=1.0; total time=  14.2s\n",
      "[CV] END colsample_bytree=0.7, learning_rate=0.01, max_depth=5, n_estimators=100, subsample=0.7; total time=  11.4s\n",
      "[CV] END colsample_bytree=0.7, learning_rate=0.01, max_depth=5, n_estimators=100, subsample=0.7; total time=  10.7s\n",
      "[CV] END colsample_bytree=0.7, learning_rate=0.01, max_depth=5, n_estimators=100, subsample=0.7; total time=  10.5s\n",
      "[CV] END colsample_bytree=0.7, learning_rate=0.01, max_depth=5, n_estimators=100, subsample=0.8; total time=  10.5s\n",
      "[CV] END colsample_bytree=0.7, learning_rate=0.01, max_depth=5, n_estimators=100, subsample=0.8; total time=  10.2s\n",
      "[CV] END colsample_bytree=0.7, learning_rate=0.01, max_depth=5, n_estimators=100, subsample=0.7; total time=  10.5s\n",
      "[CV] END colsample_bytree=0.7, learning_rate=0.01, max_depth=5, n_estimators=100, subsample=0.8; total time=  10.3s\n",
      "[CV] END colsample_bytree=0.7, learning_rate=0.01, max_depth=5, n_estimators=100, subsample=0.8; total time=  10.8s\n",
      "[CV] END colsample_bytree=0.7, learning_rate=0.01, max_depth=5, n_estimators=100, subsample=0.8; total time=  10.6s\n",
      "[CV] END colsample_bytree=0.7, learning_rate=0.01, max_depth=5, n_estimators=100, subsample=1.0; total time=  10.0s\n",
      "[CV] END colsample_bytree=0.7, learning_rate=0.01, max_depth=5, n_estimators=100, subsample=1.0; total time=  10.6s\n",
      "[CV] END colsample_bytree=0.7, learning_rate=0.01, max_depth=5, n_estimators=100, subsample=1.0; total time=  10.7s\n",
      "[CV] END colsample_bytree=0.7, learning_rate=0.01, max_depth=5, n_estimators=100, subsample=1.0; total time=  10.8s\n",
      "[CV] END colsample_bytree=0.7, learning_rate=0.01, max_depth=5, n_estimators=100, subsample=1.0; total time=  11.2s\n",
      "[CV] END colsample_bytree=0.7, learning_rate=0.01, max_depth=5, n_estimators=200, subsample=0.7; total time=  20.3s\n",
      "[CV] END colsample_bytree=0.7, learning_rate=0.01, max_depth=5, n_estimators=200, subsample=0.7; total time=  20.3s\n",
      "[CV] END colsample_bytree=0.7, learning_rate=0.01, max_depth=5, n_estimators=200, subsample=0.7; total time=  20.2s\n",
      "[CV] END colsample_bytree=0.7, learning_rate=0.01, max_depth=5, n_estimators=200, subsample=0.7; total time=  19.8s\n",
      "[CV] END colsample_bytree=0.7, learning_rate=0.01, max_depth=5, n_estimators=200, subsample=0.7; total time=  20.1s\n",
      "[CV] END colsample_bytree=0.7, learning_rate=0.01, max_depth=5, n_estimators=200, subsample=0.8; total time=  20.1s\n",
      "[CV] END colsample_bytree=0.7, learning_rate=0.01, max_depth=5, n_estimators=200, subsample=0.8; total time=  20.1s\n",
      "[CV] END colsample_bytree=0.7, learning_rate=0.01, max_depth=5, n_estimators=200, subsample=0.8; total time=  20.0s\n",
      "[CV] END colsample_bytree=0.7, learning_rate=0.01, max_depth=5, n_estimators=200, subsample=0.8; total time=  20.0s\n",
      "[CV] END colsample_bytree=0.7, learning_rate=0.01, max_depth=5, n_estimators=200, subsample=0.8; total time=  19.8s\n",
      "[CV] END colsample_bytree=0.7, learning_rate=0.01, max_depth=5, n_estimators=200, subsample=1.0; total time=  18.8s\n",
      "[CV] END colsample_bytree=0.7, learning_rate=0.01, max_depth=7, n_estimators=100, subsample=0.7; total time=  13.9s\n",
      "[CV] END colsample_bytree=0.7, learning_rate=0.01, max_depth=5, n_estimators=200, subsample=1.0; total time=  19.0s\n",
      "[CV] END colsample_bytree=0.7, learning_rate=0.01, max_depth=5, n_estimators=200, subsample=1.0; total time=  18.5s\n",
      "[CV] END colsample_bytree=0.7, learning_rate=0.01, max_depth=5, n_estimators=200, subsample=1.0; total time=  18.3s\n",
      "[CV] END colsample_bytree=0.7, learning_rate=0.01, max_depth=5, n_estimators=200, subsample=1.0; total time=  18.5s\n",
      "[CV] END colsample_bytree=0.7, learning_rate=0.01, max_depth=7, n_estimators=100, subsample=0.7; total time=  13.6s\n",
      "[CV] END colsample_bytree=0.7, learning_rate=0.01, max_depth=7, n_estimators=100, subsample=0.7; total time=  13.9s\n",
      "[CV] END colsample_bytree=0.7, learning_rate=0.01, max_depth=7, n_estimators=100, subsample=0.7; total time=  13.4s\n",
      "[CV] END colsample_bytree=0.7, learning_rate=0.01, max_depth=7, n_estimators=100, subsample=0.7; total time=  15.3s\n",
      "[CV] END colsample_bytree=0.7, learning_rate=0.01, max_depth=7, n_estimators=100, subsample=0.8; total time=  14.9s\n",
      "[CV] END colsample_bytree=0.7, learning_rate=0.01, max_depth=7, n_estimators=100, subsample=0.8; total time=  15.1s\n",
      "[CV] END colsample_bytree=0.7, learning_rate=0.01, max_depth=7, n_estimators=100, subsample=0.8; total time=  15.1s\n",
      "[CV] END colsample_bytree=0.7, learning_rate=0.01, max_depth=7, n_estimators=100, subsample=0.8; total time=  15.4s\n",
      "[CV] END colsample_bytree=0.7, learning_rate=0.01, max_depth=7, n_estimators=100, subsample=0.8; total time=  15.3s\n",
      "[CV] END colsample_bytree=0.7, learning_rate=0.01, max_depth=7, n_estimators=100, subsample=1.0; total time=  15.5s\n",
      "[CV] END colsample_bytree=0.7, learning_rate=0.01, max_depth=7, n_estimators=100, subsample=1.0; total time=  14.6s\n",
      "[CV] END colsample_bytree=0.7, learning_rate=0.01, max_depth=7, n_estimators=100, subsample=1.0; total time=  12.9s\n",
      "[CV] END colsample_bytree=0.7, learning_rate=0.01, max_depth=7, n_estimators=100, subsample=1.0; total time=  13.2s\n",
      "[CV] END colsample_bytree=0.7, learning_rate=0.01, max_depth=7, n_estimators=100, subsample=1.0; total time=  13.2s\n",
      "[CV] END colsample_bytree=0.7, learning_rate=0.01, max_depth=7, n_estimators=200, subsample=0.7; total time=  24.9s\n",
      "[CV] END colsample_bytree=0.7, learning_rate=0.01, max_depth=7, n_estimators=200, subsample=0.7; total time=  25.0s\n",
      "[CV] END colsample_bytree=0.7, learning_rate=0.01, max_depth=7, n_estimators=200, subsample=0.7; total time=  24.2s\n",
      "[CV] END colsample_bytree=0.7, learning_rate=0.01, max_depth=7, n_estimators=200, subsample=0.7; total time=  23.9s\n",
      "[CV] END colsample_bytree=0.7, learning_rate=0.01, max_depth=7, n_estimators=200, subsample=0.7; total time=  24.9s\n",
      "[CV] END colsample_bytree=0.7, learning_rate=0.01, max_depth=7, n_estimators=200, subsample=0.8; total time=  24.2s\n",
      "[CV] END colsample_bytree=0.7, learning_rate=0.01, max_depth=7, n_estimators=200, subsample=0.8; total time=  24.6s\n",
      "[CV] END colsample_bytree=0.7, learning_rate=0.01, max_depth=7, n_estimators=200, subsample=0.8; total time=  24.7s\n",
      "[CV] END colsample_bytree=0.7, learning_rate=0.1, max_depth=3, n_estimators=100, subsample=0.7; total time=   8.1s\n",
      "[CV] END colsample_bytree=0.7, learning_rate=0.01, max_depth=7, n_estimators=200, subsample=0.8; total time=  24.6s\n",
      "[CV] END colsample_bytree=0.7, learning_rate=0.01, max_depth=7, n_estimators=200, subsample=0.8; total time=  24.7s\n",
      "[CV] END colsample_bytree=0.7, learning_rate=0.01, max_depth=7, n_estimators=200, subsample=1.0; total time=  24.0s\n",
      "[CV] END colsample_bytree=0.7, learning_rate=0.1, max_depth=3, n_estimators=100, subsample=0.7; total time=   8.2s\n",
      "[CV] END colsample_bytree=0.7, learning_rate=0.01, max_depth=7, n_estimators=200, subsample=1.0; total time=  24.6s\n",
      "[CV] END colsample_bytree=0.7, learning_rate=0.01, max_depth=7, n_estimators=200, subsample=1.0; total time=  23.7s\n",
      "[CV] END colsample_bytree=0.7, learning_rate=0.01, max_depth=7, n_estimators=200, subsample=1.0; total time=  23.4s\n",
      "[CV] END colsample_bytree=0.7, learning_rate=0.1, max_depth=3, n_estimators=100, subsample=0.7; total time=   8.4s\n",
      "[CV] END colsample_bytree=0.7, learning_rate=0.1, max_depth=3, n_estimators=100, subsample=0.7; total time=   8.4s\n",
      "[CV] END colsample_bytree=0.7, learning_rate=0.01, max_depth=7, n_estimators=200, subsample=1.0; total time=  24.2s\n",
      "[CV] END colsample_bytree=0.7, learning_rate=0.1, max_depth=3, n_estimators=100, subsample=0.8; total time=   8.3s\n",
      "[CV] END colsample_bytree=0.7, learning_rate=0.1, max_depth=3, n_estimators=100, subsample=0.7; total time=   8.5s\n",
      "[CV] END colsample_bytree=0.7, learning_rate=0.1, max_depth=3, n_estimators=100, subsample=0.8; total time=   8.5s\n",
      "[CV] END colsample_bytree=0.7, learning_rate=0.1, max_depth=3, n_estimators=100, subsample=0.8; total time=   8.5s\n",
      "[CV] END colsample_bytree=0.7, learning_rate=0.1, max_depth=3, n_estimators=100, subsample=0.8; total time=   8.2s\n",
      "[CV] END colsample_bytree=0.7, learning_rate=0.1, max_depth=3, n_estimators=100, subsample=0.8; total time=   8.4s\n",
      "[CV] END colsample_bytree=0.7, learning_rate=0.1, max_depth=3, n_estimators=100, subsample=1.0; total time=   8.1s\n",
      "[CV] END colsample_bytree=0.7, learning_rate=0.1, max_depth=3, n_estimators=100, subsample=1.0; total time=   8.7s\n",
      "[CV] END colsample_bytree=0.7, learning_rate=0.1, max_depth=3, n_estimators=100, subsample=1.0; total time=   8.4s\n",
      "[CV] END colsample_bytree=0.7, learning_rate=0.1, max_depth=3, n_estimators=100, subsample=1.0; total time=   8.2s\n",
      "[CV] END colsample_bytree=0.7, learning_rate=0.1, max_depth=3, n_estimators=100, subsample=1.0; total time=   8.5s\n",
      "[CV] END colsample_bytree=0.7, learning_rate=0.1, max_depth=3, n_estimators=200, subsample=0.7; total time=  14.6s\n",
      "[CV] END colsample_bytree=0.7, learning_rate=0.1, max_depth=3, n_estimators=200, subsample=0.7; total time=  14.9s\n",
      "[CV] END colsample_bytree=0.7, learning_rate=0.1, max_depth=3, n_estimators=200, subsample=0.7; total time=  15.3s\n",
      "[CV] END colsample_bytree=0.7, learning_rate=0.1, max_depth=3, n_estimators=200, subsample=0.7; total time=  15.1s\n",
      "[CV] END colsample_bytree=0.7, learning_rate=0.1, max_depth=3, n_estimators=200, subsample=0.7; total time=  15.0s\n",
      "[CV] END colsample_bytree=0.7, learning_rate=0.1, max_depth=3, n_estimators=200, subsample=0.8; total time=  15.0s\n",
      "[CV] END colsample_bytree=0.7, learning_rate=0.1, max_depth=3, n_estimators=200, subsample=0.8; total time=  15.0s\n",
      "[CV] END colsample_bytree=0.7, learning_rate=0.1, max_depth=3, n_estimators=200, subsample=0.8; total time=  14.6s\n",
      "[CV] END colsample_bytree=0.7, learning_rate=0.1, max_depth=3, n_estimators=200, subsample=0.8; total time=  14.6s\n",
      "[CV] END colsample_bytree=0.7, learning_rate=0.1, max_depth=3, n_estimators=200, subsample=0.8; total time=  14.6s\n",
      "[CV] END colsample_bytree=0.7, learning_rate=0.1, max_depth=3, n_estimators=200, subsample=1.0; total time=  13.4s\n",
      "[CV] END colsample_bytree=0.7, learning_rate=0.1, max_depth=3, n_estimators=200, subsample=1.0; total time=  13.6s\n",
      "[CV] END colsample_bytree=0.7, learning_rate=0.1, max_depth=3, n_estimators=200, subsample=1.0; total time=  13.6s\n",
      "[CV] END colsample_bytree=0.7, learning_rate=0.1, max_depth=5, n_estimators=100, subsample=0.7; total time=  10.7s\n",
      "[CV] END colsample_bytree=0.7, learning_rate=0.1, max_depth=3, n_estimators=200, subsample=1.0; total time=  13.0s\n",
      "[CV] END colsample_bytree=0.7, learning_rate=0.1, max_depth=3, n_estimators=200, subsample=1.0; total time=  13.1s\n",
      "[CV] END colsample_bytree=0.7, learning_rate=0.1, max_depth=5, n_estimators=100, subsample=0.7; total time=  10.3s\n",
      "[CV] END colsample_bytree=0.7, learning_rate=0.1, max_depth=5, n_estimators=100, subsample=0.7; total time=  10.1s\n",
      "[CV] END colsample_bytree=0.7, learning_rate=0.1, max_depth=5, n_estimators=100, subsample=0.7; total time=   9.9s\n",
      "[CV] END colsample_bytree=0.7, learning_rate=0.1, max_depth=5, n_estimators=100, subsample=0.7; total time=  10.3s\n",
      "[CV] END colsample_bytree=0.7, learning_rate=0.1, max_depth=5, n_estimators=100, subsample=0.8; total time=   9.9s\n",
      "[CV] END colsample_bytree=0.7, learning_rate=0.1, max_depth=5, n_estimators=100, subsample=0.8; total time=  10.1s\n",
      "[CV] END colsample_bytree=0.7, learning_rate=0.1, max_depth=5, n_estimators=100, subsample=0.8; total time=   9.7s\n",
      "[CV] END colsample_bytree=0.7, learning_rate=0.1, max_depth=5, n_estimators=100, subsample=0.8; total time=  10.1s\n",
      "[CV] END colsample_bytree=0.7, learning_rate=0.1, max_depth=5, n_estimators=100, subsample=0.8; total time=   9.9s\n",
      "[CV] END colsample_bytree=0.7, learning_rate=0.1, max_depth=5, n_estimators=100, subsample=1.0; total time=   9.2s\n",
      "[CV] END colsample_bytree=0.7, learning_rate=0.1, max_depth=5, n_estimators=100, subsample=1.0; total time=   9.4s\n",
      "[CV] END colsample_bytree=0.7, learning_rate=0.1, max_depth=5, n_estimators=100, subsample=1.0; total time=   9.4s\n",
      "[CV] END colsample_bytree=0.7, learning_rate=0.1, max_depth=5, n_estimators=100, subsample=1.0; total time=   9.4s\n",
      "[CV] END colsample_bytree=0.7, learning_rate=0.1, max_depth=5, n_estimators=100, subsample=1.0; total time=   9.6s\n",
      "[CV] END colsample_bytree=0.7, learning_rate=0.1, max_depth=5, n_estimators=200, subsample=0.7; total time=  17.2s\n",
      "[CV] END colsample_bytree=0.7, learning_rate=0.1, max_depth=5, n_estimators=200, subsample=0.7; total time=  17.9s\n",
      "[CV] END colsample_bytree=0.7, learning_rate=0.1, max_depth=5, n_estimators=200, subsample=0.7; total time=  18.0s\n",
      "[CV] END colsample_bytree=0.7, learning_rate=0.1, max_depth=5, n_estimators=200, subsample=0.7; total time=  17.5s\n",
      "[CV] END colsample_bytree=0.7, learning_rate=0.1, max_depth=5, n_estimators=200, subsample=0.7; total time=  17.4s\n",
      "[CV] END colsample_bytree=0.7, learning_rate=0.1, max_depth=5, n_estimators=200, subsample=0.8; total time=  17.5s\n",
      "[CV] END colsample_bytree=0.7, learning_rate=0.1, max_depth=5, n_estimators=200, subsample=0.8; total time=  17.3s\n",
      "[CV] END colsample_bytree=0.7, learning_rate=0.1, max_depth=5, n_estimators=200, subsample=0.8; total time=  17.3s\n",
      "[CV] END colsample_bytree=0.7, learning_rate=0.1, max_depth=5, n_estimators=200, subsample=0.8; total time=  17.1s\n",
      "[CV] END colsample_bytree=0.7, learning_rate=0.1, max_depth=5, n_estimators=200, subsample=0.8; total time=  17.4s\n",
      "[CV] END colsample_bytree=0.7, learning_rate=0.1, max_depth=7, n_estimators=100, subsample=0.7; total time=  13.3s\n",
      "[CV] END colsample_bytree=0.7, learning_rate=0.1, max_depth=5, n_estimators=200, subsample=1.0; total time=  16.7s\n",
      "[CV] END colsample_bytree=0.7, learning_rate=0.1, max_depth=5, n_estimators=200, subsample=1.0; total time=  16.7s\n",
      "[CV] END colsample_bytree=0.7, learning_rate=0.1, max_depth=5, n_estimators=200, subsample=1.0; total time=  17.1s\n",
      "[CV] END colsample_bytree=0.7, learning_rate=0.1, max_depth=5, n_estimators=200, subsample=1.0; total time=  17.1s\n",
      "[CV] END colsample_bytree=0.7, learning_rate=0.1, max_depth=5, n_estimators=200, subsample=1.0; total time=  17.2s\n",
      "[CV] END colsample_bytree=0.7, learning_rate=0.1, max_depth=7, n_estimators=100, subsample=0.7; total time=  13.6s\n",
      "[CV] END colsample_bytree=0.7, learning_rate=0.1, max_depth=7, n_estimators=100, subsample=0.7; total time=  13.6s\n",
      "[CV] END colsample_bytree=0.7, learning_rate=0.1, max_depth=7, n_estimators=100, subsample=0.7; total time=  13.9s\n",
      "[CV] END colsample_bytree=0.7, learning_rate=0.1, max_depth=7, n_estimators=100, subsample=0.7; total time=  13.8s\n",
      "[CV] END colsample_bytree=0.7, learning_rate=0.1, max_depth=7, n_estimators=100, subsample=0.8; total time=  13.8s\n",
      "[CV] END colsample_bytree=0.7, learning_rate=0.1, max_depth=7, n_estimators=100, subsample=0.8; total time=  13.7s\n",
      "[CV] END colsample_bytree=0.7, learning_rate=0.1, max_depth=7, n_estimators=100, subsample=0.8; total time=  14.0s\n",
      "[CV] END colsample_bytree=0.7, learning_rate=0.1, max_depth=7, n_estimators=100, subsample=0.8; total time=  13.7s\n",
      "[CV] END colsample_bytree=0.7, learning_rate=0.1, max_depth=7, n_estimators=100, subsample=0.8; total time=  14.3s\n",
      "[CV] END colsample_bytree=0.7, learning_rate=0.1, max_depth=7, n_estimators=100, subsample=1.0; total time=  13.6s\n",
      "[CV] END colsample_bytree=0.7, learning_rate=0.1, max_depth=7, n_estimators=100, subsample=1.0; total time=  13.6s\n",
      "[CV] END colsample_bytree=0.7, learning_rate=0.1, max_depth=7, n_estimators=100, subsample=1.0; total time=  13.6s\n",
      "[CV] END colsample_bytree=0.7, learning_rate=0.1, max_depth=7, n_estimators=100, subsample=1.0; total time=  13.8s\n",
      "[CV] END colsample_bytree=0.7, learning_rate=0.1, max_depth=7, n_estimators=100, subsample=1.0; total time=  13.8s\n",
      "[CV] END colsample_bytree=0.7, learning_rate=0.1, max_depth=7, n_estimators=200, subsample=0.7; total time=  25.5s\n",
      "[CV] END colsample_bytree=0.7, learning_rate=0.1, max_depth=7, n_estimators=200, subsample=0.7; total time=  26.0s\n",
      "[CV] END colsample_bytree=0.7, learning_rate=0.1, max_depth=7, n_estimators=200, subsample=0.7; total time=  26.0s\n",
      "[CV] END colsample_bytree=0.7, learning_rate=0.1, max_depth=7, n_estimators=200, subsample=0.7; total time=  25.8s\n",
      "[CV] END colsample_bytree=0.7, learning_rate=0.1, max_depth=7, n_estimators=200, subsample=0.7; total time=  25.6s\n",
      "[CV] END colsample_bytree=0.7, learning_rate=0.1, max_depth=7, n_estimators=200, subsample=0.8; total time=  25.1s\n",
      "[CV] END colsample_bytree=0.7, learning_rate=0.1, max_depth=7, n_estimators=200, subsample=0.8; total time=  24.8s\n",
      "[CV] END colsample_bytree=0.7, learning_rate=0.1, max_depth=7, n_estimators=200, subsample=0.8; total time=  24.6s\n",
      "[CV] END colsample_bytree=0.7, learning_rate=0.2, max_depth=3, n_estimators=100, subsample=0.7; total time=  53.0s\n",
      "[CV] END colsample_bytree=0.7, learning_rate=0.1, max_depth=7, n_estimators=200, subsample=0.8; total time= 1.1min\n",
      "[CV] END colsample_bytree=0.7, learning_rate=0.1, max_depth=7, n_estimators=200, subsample=0.8; total time= 1.1min\n",
      "[CV] END colsample_bytree=0.7, learning_rate=0.2, max_depth=3, n_estimators=100, subsample=0.7; total time=   7.0s\n",
      "[CV] END colsample_bytree=0.7, learning_rate=0.1, max_depth=7, n_estimators=200, subsample=1.0; total time= 1.1min\n",
      "[CV] END colsample_bytree=0.7, learning_rate=0.1, max_depth=7, n_estimators=200, subsample=1.0; total time= 1.1min\n",
      "[CV] END colsample_bytree=0.7, learning_rate=0.1, max_depth=7, n_estimators=200, subsample=1.0; total time= 1.1min\n",
      "[CV] END colsample_bytree=0.7, learning_rate=0.1, max_depth=7, n_estimators=200, subsample=1.0; total time= 1.1min\n",
      "[CV] END colsample_bytree=0.7, learning_rate=0.2, max_depth=3, n_estimators=100, subsample=0.7; total time=   7.6s\n",
      "[CV] END colsample_bytree=0.7, learning_rate=0.1, max_depth=7, n_estimators=200, subsample=1.0; total time= 1.1min\n",
      "[CV] END colsample_bytree=0.7, learning_rate=0.2, max_depth=3, n_estimators=100, subsample=0.7; total time=   7.7s\n",
      "[CV] END colsample_bytree=0.7, learning_rate=0.2, max_depth=3, n_estimators=100, subsample=0.7; total time=   7.6s\n",
      "[CV] END colsample_bytree=0.7, learning_rate=0.2, max_depth=3, n_estimators=100, subsample=0.8; total time=   7.5s\n",
      "[CV] END colsample_bytree=0.7, learning_rate=0.2, max_depth=3, n_estimators=100, subsample=0.8; total time=   7.8s\n",
      "[CV] END colsample_bytree=0.7, learning_rate=0.2, max_depth=3, n_estimators=100, subsample=0.8; total time=   7.5s\n",
      "[CV] END colsample_bytree=0.7, learning_rate=0.2, max_depth=3, n_estimators=100, subsample=0.8; total time=   7.8s\n",
      "[CV] END colsample_bytree=0.7, learning_rate=0.2, max_depth=3, n_estimators=100, subsample=1.0; total time=   7.3s\n",
      "[CV] END colsample_bytree=0.7, learning_rate=0.2, max_depth=3, n_estimators=100, subsample=0.8; total time=   8.1s\n",
      "[CV] END colsample_bytree=0.7, learning_rate=0.2, max_depth=3, n_estimators=100, subsample=1.0; total time=   7.5s\n",
      "[CV] END colsample_bytree=0.7, learning_rate=0.2, max_depth=3, n_estimators=100, subsample=1.0; total time=   7.6s\n",
      "[CV] END colsample_bytree=0.7, learning_rate=0.2, max_depth=3, n_estimators=100, subsample=1.0; total time=   7.5s\n",
      "[CV] END colsample_bytree=0.7, learning_rate=0.2, max_depth=3, n_estimators=100, subsample=1.0; total time=   7.6s\n",
      "[CV] END colsample_bytree=0.7, learning_rate=0.2, max_depth=3, n_estimators=200, subsample=0.7; total time=  13.7s\n",
      "[CV] END colsample_bytree=0.7, learning_rate=0.2, max_depth=3, n_estimators=200, subsample=0.7; total time=  13.7s\n",
      "[CV] END colsample_bytree=0.7, learning_rate=0.2, max_depth=3, n_estimators=200, subsample=0.7; total time=  13.3s\n",
      "[CV] END colsample_bytree=0.7, learning_rate=0.2, max_depth=3, n_estimators=200, subsample=0.7; total time=  13.9s\n",
      "[CV] END colsample_bytree=0.7, learning_rate=0.2, max_depth=3, n_estimators=200, subsample=0.7; total time=  13.7s\n",
      "[CV] END colsample_bytree=0.7, learning_rate=0.2, max_depth=3, n_estimators=200, subsample=0.8; total time=  13.5s\n",
      "[CV] END colsample_bytree=0.7, learning_rate=0.2, max_depth=3, n_estimators=200, subsample=0.8; total time=  13.3s\n",
      "[CV] END colsample_bytree=0.7, learning_rate=0.2, max_depth=3, n_estimators=200, subsample=0.8; total time=  13.3s\n",
      "[CV] END colsample_bytree=0.7, learning_rate=0.2, max_depth=3, n_estimators=200, subsample=1.0; total time=  12.5s\n",
      "[CV] END colsample_bytree=0.7, learning_rate=0.2, max_depth=3, n_estimators=200, subsample=1.0; total time=  12.7s\n",
      "[CV] END colsample_bytree=0.7, learning_rate=0.2, max_depth=3, n_estimators=200, subsample=0.8; total time=  13.6s\n",
      "[CV] END colsample_bytree=0.7, learning_rate=0.2, max_depth=3, n_estimators=200, subsample=1.0; total time=  12.3s\n",
      "[CV] END colsample_bytree=0.7, learning_rate=0.2, max_depth=3, n_estimators=200, subsample=0.8; total time=  13.5s\n",
      "[CV] END colsample_bytree=0.7, learning_rate=0.2, max_depth=5, n_estimators=100, subsample=0.7; total time=   9.9s\n",
      "[CV] END colsample_bytree=0.7, learning_rate=0.2, max_depth=3, n_estimators=200, subsample=1.0; total time=  12.4s\n",
      "[CV] END colsample_bytree=0.7, learning_rate=0.2, max_depth=3, n_estimators=200, subsample=1.0; total time=  12.4s\n",
      "[CV] END colsample_bytree=0.7, learning_rate=0.2, max_depth=5, n_estimators=100, subsample=0.7; total time=  10.4s\n",
      "[CV] END colsample_bytree=0.7, learning_rate=0.2, max_depth=5, n_estimators=100, subsample=0.7; total time=  10.7s\n",
      "[CV] END colsample_bytree=0.7, learning_rate=0.2, max_depth=5, n_estimators=100, subsample=0.7; total time=  10.6s\n",
      "[CV] END colsample_bytree=0.7, learning_rate=0.2, max_depth=5, n_estimators=100, subsample=0.7; total time=  10.4s\n",
      "[CV] END colsample_bytree=0.7, learning_rate=0.2, max_depth=5, n_estimators=100, subsample=0.8; total time=  10.2s\n",
      "[CV] END colsample_bytree=0.7, learning_rate=0.2, max_depth=5, n_estimators=100, subsample=0.8; total time=  10.3s\n",
      "[CV] END colsample_bytree=0.7, learning_rate=0.2, max_depth=5, n_estimators=100, subsample=0.8; total time=  10.1s\n",
      "[CV] END colsample_bytree=0.7, learning_rate=0.2, max_depth=5, n_estimators=100, subsample=0.8; total time=   9.9s\n",
      "[CV] END colsample_bytree=0.7, learning_rate=0.2, max_depth=5, n_estimators=100, subsample=1.0; total time=   9.0s\n",
      "[CV] END colsample_bytree=0.7, learning_rate=0.2, max_depth=5, n_estimators=100, subsample=1.0; total time=   9.0s\n",
      "[CV] END colsample_bytree=0.7, learning_rate=0.2, max_depth=5, n_estimators=100, subsample=1.0; total time=   9.2s\n",
      "[CV] END colsample_bytree=0.7, learning_rate=0.2, max_depth=5, n_estimators=100, subsample=1.0; total time=   9.6s\n",
      "[CV] END colsample_bytree=0.7, learning_rate=0.2, max_depth=5, n_estimators=100, subsample=0.8; total time=   9.8s\n",
      "[CV] END colsample_bytree=0.7, learning_rate=0.2, max_depth=5, n_estimators=100, subsample=1.0; total time=   9.2s\n",
      "[CV] END colsample_bytree=0.7, learning_rate=0.2, max_depth=5, n_estimators=200, subsample=0.7; total time=  17.6s\n",
      "[CV] END colsample_bytree=0.7, learning_rate=0.2, max_depth=5, n_estimators=200, subsample=0.7; total time=  17.8s\n",
      "[CV] END colsample_bytree=0.7, learning_rate=0.2, max_depth=5, n_estimators=200, subsample=0.7; total time=  17.7s\n",
      "[CV] END colsample_bytree=0.7, learning_rate=0.2, max_depth=5, n_estimators=200, subsample=0.7; total time=  17.6s\n",
      "[CV] END colsample_bytree=0.7, learning_rate=0.2, max_depth=5, n_estimators=200, subsample=0.7; total time=  18.0s\n",
      "[CV] END colsample_bytree=0.7, learning_rate=0.2, max_depth=5, n_estimators=200, subsample=0.8; total time=  17.4s\n",
      "[CV] END colsample_bytree=0.7, learning_rate=0.2, max_depth=5, n_estimators=200, subsample=0.8; total time=  17.9s\n",
      "[CV] END colsample_bytree=0.7, learning_rate=0.2, max_depth=5, n_estimators=200, subsample=0.8; total time=  17.9s\n",
      "[CV] END colsample_bytree=0.7, learning_rate=0.2, max_depth=5, n_estimators=200, subsample=0.8; total time=  18.4s\n",
      "[CV] END colsample_bytree=0.7, learning_rate=0.2, max_depth=5, n_estimators=200, subsample=0.8; total time=  18.1s\n",
      "[CV] END colsample_bytree=0.7, learning_rate=0.2, max_depth=7, n_estimators=100, subsample=0.7; total time=  13.7s\n",
      "[CV] END colsample_bytree=0.7, learning_rate=0.2, max_depth=5, n_estimators=200, subsample=1.0; total time=  17.3s\n",
      "[CV] END colsample_bytree=0.7, learning_rate=0.2, max_depth=5, n_estimators=200, subsample=1.0; total time=  17.5s\n",
      "[CV] END colsample_bytree=0.7, learning_rate=0.2, max_depth=5, n_estimators=200, subsample=1.0; total time=  17.8s\n",
      "[CV] END colsample_bytree=0.7, learning_rate=0.2, max_depth=5, n_estimators=200, subsample=1.0; total time=  18.1s\n",
      "[CV] END colsample_bytree=0.7, learning_rate=0.2, max_depth=5, n_estimators=200, subsample=1.0; total time=  18.0s\n",
      "[CV] END colsample_bytree=0.7, learning_rate=0.2, max_depth=7, n_estimators=100, subsample=0.7; total time=  14.7s\n",
      "[CV] END colsample_bytree=0.7, learning_rate=0.2, max_depth=7, n_estimators=100, subsample=0.7; total time=  14.4s\n",
      "[CV] END colsample_bytree=0.7, learning_rate=0.2, max_depth=7, n_estimators=100, subsample=0.7; total time=  14.8s\n",
      "[CV] END colsample_bytree=0.7, learning_rate=0.2, max_depth=7, n_estimators=100, subsample=0.8; total time=  14.8s\n",
      "[CV] END colsample_bytree=0.7, learning_rate=0.2, max_depth=7, n_estimators=100, subsample=0.7; total time=  15.3s\n",
      "[CV] END colsample_bytree=0.7, learning_rate=0.2, max_depth=7, n_estimators=100, subsample=0.8; total time=  14.7s\n",
      "[CV] END colsample_bytree=0.7, learning_rate=0.2, max_depth=7, n_estimators=100, subsample=0.8; total time=  14.7s\n",
      "[CV] END colsample_bytree=0.7, learning_rate=0.2, max_depth=7, n_estimators=100, subsample=0.8; total time=  15.3s\n",
      "[CV] END colsample_bytree=0.7, learning_rate=0.2, max_depth=7, n_estimators=100, subsample=1.0; total time=  15.8s\n",
      "[CV] END colsample_bytree=0.7, learning_rate=0.2, max_depth=7, n_estimators=100, subsample=0.8; total time=  16.5s\n",
      "[CV] END colsample_bytree=0.7, learning_rate=0.2, max_depth=7, n_estimators=100, subsample=1.0; total time=  15.4s\n",
      "[CV] END colsample_bytree=0.7, learning_rate=0.2, max_depth=7, n_estimators=100, subsample=1.0; total time=  15.1s\n",
      "[CV] END colsample_bytree=0.7, learning_rate=0.2, max_depth=7, n_estimators=100, subsample=1.0; total time=  15.6s\n",
      "[CV] END colsample_bytree=0.7, learning_rate=0.2, max_depth=7, n_estimators=100, subsample=1.0; total time=  15.8s\n",
      "[CV] END colsample_bytree=0.7, learning_rate=0.2, max_depth=7, n_estimators=200, subsample=0.7; total time=  30.0s\n",
      "[CV] END colsample_bytree=0.7, learning_rate=0.2, max_depth=7, n_estimators=200, subsample=0.7; total time=  30.2s\n",
      "[CV] END colsample_bytree=0.7, learning_rate=0.2, max_depth=7, n_estimators=200, subsample=0.7; total time=  30.6s\n",
      "[CV] END colsample_bytree=0.7, learning_rate=0.2, max_depth=7, n_estimators=200, subsample=0.7; total time=  30.3s\n",
      "[CV] END colsample_bytree=0.7, learning_rate=0.2, max_depth=7, n_estimators=200, subsample=0.7; total time=  31.6s\n",
      "[CV] END colsample_bytree=0.7, learning_rate=0.2, max_depth=7, n_estimators=200, subsample=0.8; total time=  31.3s\n",
      "[CV] END colsample_bytree=0.7, learning_rate=0.2, max_depth=7, n_estimators=200, subsample=0.8; total time=  31.3s\n",
      "[CV] END colsample_bytree=0.7, learning_rate=0.2, max_depth=7, n_estimators=200, subsample=0.8; total time=  31.2s\n",
      "[CV] END colsample_bytree=0.8, learning_rate=0.01, max_depth=3, n_estimators=100, subsample=0.7; total time=  13.4s\n",
      "[CV] END colsample_bytree=0.7, learning_rate=0.2, max_depth=7, n_estimators=200, subsample=0.8; total time=  35.5s\n",
      "[CV] END colsample_bytree=0.7, learning_rate=0.2, max_depth=7, n_estimators=200, subsample=0.8; total time=  34.9s\n",
      "[CV] END colsample_bytree=0.7, learning_rate=0.2, max_depth=7, n_estimators=200, subsample=1.0; total time=  32.6s\n",
      "[CV] END colsample_bytree=0.7, learning_rate=0.2, max_depth=7, n_estimators=200, subsample=1.0; total time=  32.8s\n",
      "[CV] END colsample_bytree=0.8, learning_rate=0.01, max_depth=3, n_estimators=100, subsample=0.7; total time=  13.9s\n",
      "[CV] END colsample_bytree=0.7, learning_rate=0.2, max_depth=7, n_estimators=200, subsample=1.0; total time=  32.0s\n",
      "[CV] END colsample_bytree=0.7, learning_rate=0.2, max_depth=7, n_estimators=200, subsample=1.0; total time=  31.9s\n",
      "[CV] END colsample_bytree=0.7, learning_rate=0.2, max_depth=7, n_estimators=200, subsample=1.0; total time=  32.0s\n",
      "[CV] END colsample_bytree=0.8, learning_rate=0.01, max_depth=3, n_estimators=100, subsample=0.7; total time=  12.5s\n",
      "[CV] END colsample_bytree=0.8, learning_rate=0.01, max_depth=3, n_estimators=100, subsample=0.7; total time=  12.6s\n",
      "[CV] END colsample_bytree=0.8, learning_rate=0.01, max_depth=3, n_estimators=100, subsample=0.8; total time=  12.2s\n",
      "[CV] END colsample_bytree=0.8, learning_rate=0.01, max_depth=3, n_estimators=100, subsample=0.7; total time=  12.3s\n",
      "[CV] END colsample_bytree=0.8, learning_rate=0.01, max_depth=3, n_estimators=100, subsample=0.8; total time=  12.5s\n",
      "[CV] END colsample_bytree=0.8, learning_rate=0.01, max_depth=3, n_estimators=100, subsample=0.8; total time=  12.6s\n",
      "[CV] END colsample_bytree=0.8, learning_rate=0.01, max_depth=3, n_estimators=100, subsample=1.0; total time=  12.3s\n",
      "[CV] END colsample_bytree=0.8, learning_rate=0.01, max_depth=3, n_estimators=100, subsample=0.8; total time=  12.8s\n",
      "[CV] END colsample_bytree=0.8, learning_rate=0.01, max_depth=3, n_estimators=100, subsample=1.0; total time=  12.1s\n",
      "[CV] END colsample_bytree=0.8, learning_rate=0.01, max_depth=3, n_estimators=100, subsample=0.8; total time=  13.0s\n",
      "[CV] END colsample_bytree=0.8, learning_rate=0.01, max_depth=3, n_estimators=100, subsample=1.0; total time=  11.5s\n",
      "[CV] END colsample_bytree=0.8, learning_rate=0.01, max_depth=3, n_estimators=100, subsample=1.0; total time=  11.8s\n",
      "[CV] END colsample_bytree=0.8, learning_rate=0.01, max_depth=3, n_estimators=100, subsample=1.0; total time=  11.3s\n",
      "[CV] END colsample_bytree=0.8, learning_rate=0.01, max_depth=3, n_estimators=200, subsample=0.7; total time=  19.9s\n",
      "[CV] END colsample_bytree=0.8, learning_rate=0.01, max_depth=3, n_estimators=200, subsample=0.7; total time=  20.0s\n",
      "[CV] END colsample_bytree=0.8, learning_rate=0.01, max_depth=3, n_estimators=200, subsample=0.7; total time=  19.8s\n",
      "[CV] END colsample_bytree=0.8, learning_rate=0.01, max_depth=3, n_estimators=200, subsample=0.7; total time=  19.9s\n",
      "[CV] END colsample_bytree=0.8, learning_rate=0.01, max_depth=3, n_estimators=200, subsample=0.7; total time=  19.9s\n",
      "[CV] END colsample_bytree=0.8, learning_rate=0.01, max_depth=3, n_estimators=200, subsample=0.8; total time=  19.1s\n",
      "[CV] END colsample_bytree=0.8, learning_rate=0.01, max_depth=3, n_estimators=200, subsample=0.8; total time=  19.2s\n",
      "[CV] END colsample_bytree=0.8, learning_rate=0.01, max_depth=3, n_estimators=200, subsample=0.8; total time=  19.0s\n",
      "[CV] END colsample_bytree=0.8, learning_rate=0.01, max_depth=3, n_estimators=200, subsample=0.8; total time=  18.1s\n",
      "[CV] END colsample_bytree=0.8, learning_rate=0.01, max_depth=3, n_estimators=200, subsample=1.0; total time=  17.1s\n",
      "[CV] END colsample_bytree=0.8, learning_rate=0.01, max_depth=3, n_estimators=200, subsample=1.0; total time=  17.0s\n",
      "[CV] END colsample_bytree=0.8, learning_rate=0.01, max_depth=3, n_estimators=200, subsample=1.0; total time=  17.3s\n",
      "[CV] END colsample_bytree=0.8, learning_rate=0.01, max_depth=3, n_estimators=200, subsample=0.8; total time=  18.2s\n",
      "[CV] END colsample_bytree=0.8, learning_rate=0.01, max_depth=5, n_estimators=100, subsample=0.7; total time=  13.1s\n",
      "[CV] END colsample_bytree=0.8, learning_rate=0.01, max_depth=3, n_estimators=200, subsample=1.0; total time=  16.7s\n",
      "[CV] END colsample_bytree=0.8, learning_rate=0.01, max_depth=3, n_estimators=200, subsample=1.0; total time=  16.4s\n",
      "[CV] END colsample_bytree=0.8, learning_rate=0.01, max_depth=5, n_estimators=100, subsample=0.7; total time=  12.6s\n",
      "[CV] END colsample_bytree=0.8, learning_rate=0.01, max_depth=5, n_estimators=100, subsample=0.7; total time=  12.6s\n",
      "[CV] END colsample_bytree=0.8, learning_rate=0.01, max_depth=5, n_estimators=100, subsample=0.7; total time=  12.5s\n",
      "[CV] END colsample_bytree=0.8, learning_rate=0.01, max_depth=5, n_estimators=100, subsample=0.7; total time=  12.7s\n",
      "[CV] END colsample_bytree=0.8, learning_rate=0.01, max_depth=5, n_estimators=100, subsample=0.8; total time=  12.8s\n",
      "[CV] END colsample_bytree=0.8, learning_rate=0.01, max_depth=5, n_estimators=100, subsample=0.8; total time=  12.5s\n",
      "[CV] END colsample_bytree=0.8, learning_rate=0.01, max_depth=5, n_estimators=100, subsample=0.8; total time=  12.3s\n",
      "[CV] END colsample_bytree=0.8, learning_rate=0.01, max_depth=5, n_estimators=100, subsample=0.8; total time=  12.3s\n",
      "[CV] END colsample_bytree=0.8, learning_rate=0.01, max_depth=5, n_estimators=100, subsample=0.8; total time=  12.2s\n",
      "[CV] END colsample_bytree=0.8, learning_rate=0.01, max_depth=5, n_estimators=100, subsample=1.0; total time=  12.0s\n",
      "[CV] END colsample_bytree=0.8, learning_rate=0.01, max_depth=5, n_estimators=100, subsample=1.0; total time=  12.0s\n",
      "[CV] END colsample_bytree=0.8, learning_rate=0.01, max_depth=5, n_estimators=100, subsample=1.0; total time=  11.8s\n",
      "[CV] END colsample_bytree=0.8, learning_rate=0.01, max_depth=5, n_estimators=100, subsample=1.0; total time=  11.5s\n",
      "[CV] END colsample_bytree=0.8, learning_rate=0.01, max_depth=5, n_estimators=100, subsample=1.0; total time=  11.6s\n",
      "[CV] END colsample_bytree=0.8, learning_rate=0.01, max_depth=5, n_estimators=200, subsample=0.7; total time=  21.3s\n",
      "[CV] END colsample_bytree=0.8, learning_rate=0.01, max_depth=5, n_estimators=200, subsample=0.7; total time=  21.5s\n",
      "[CV] END colsample_bytree=0.8, learning_rate=0.01, max_depth=5, n_estimators=200, subsample=0.7; total time=  20.8s\n",
      "[CV] END colsample_bytree=0.8, learning_rate=0.01, max_depth=5, n_estimators=200, subsample=0.8; total time=  20.8s\n",
      "[CV] END colsample_bytree=0.8, learning_rate=0.01, max_depth=5, n_estimators=200, subsample=0.7; total time=  20.9s\n",
      "[CV] END colsample_bytree=0.8, learning_rate=0.01, max_depth=5, n_estimators=200, subsample=0.7; total time=  21.0s\n",
      "[CV] END colsample_bytree=0.8, learning_rate=0.01, max_depth=5, n_estimators=200, subsample=0.8; total time=  21.0s\n",
      "[CV] END colsample_bytree=0.8, learning_rate=0.01, max_depth=5, n_estimators=200, subsample=0.8; total time=  21.0s\n",
      "[CV] END colsample_bytree=0.8, learning_rate=0.01, max_depth=5, n_estimators=200, subsample=0.8; total time=  20.5s\n",
      "[CV] END colsample_bytree=0.8, learning_rate=0.01, max_depth=5, n_estimators=200, subsample=0.8; total time=  20.7s\n",
      "[CV] END colsample_bytree=0.8, learning_rate=0.01, max_depth=7, n_estimators=100, subsample=0.7; total time=  14.8s\n",
      "[CV] END colsample_bytree=0.8, learning_rate=0.01, max_depth=5, n_estimators=200, subsample=1.0; total time=  20.0s\n",
      "[CV] END colsample_bytree=0.8, learning_rate=0.01, max_depth=5, n_estimators=200, subsample=1.0; total time=  19.9s\n",
      "[CV] END colsample_bytree=0.8, learning_rate=0.01, max_depth=5, n_estimators=200, subsample=1.0; total time=  20.0s\n",
      "[CV] END colsample_bytree=0.8, learning_rate=0.01, max_depth=5, n_estimators=200, subsample=1.0; total time=  20.1s\n",
      "[CV] END colsample_bytree=0.8, learning_rate=0.01, max_depth=5, n_estimators=200, subsample=1.0; total time=  20.0s\n",
      "[CV] END colsample_bytree=0.8, learning_rate=0.01, max_depth=7, n_estimators=100, subsample=0.7; total time=  15.5s\n",
      "[CV] END colsample_bytree=0.8, learning_rate=0.01, max_depth=7, n_estimators=100, subsample=0.7; total time=  15.3s\n",
      "[CV] END colsample_bytree=0.8, learning_rate=0.01, max_depth=7, n_estimators=100, subsample=0.7; total time=  16.3s\n",
      "[CV] END colsample_bytree=0.8, learning_rate=0.01, max_depth=7, n_estimators=100, subsample=0.7; total time=  16.6s\n",
      "[CV] END colsample_bytree=0.8, learning_rate=0.01, max_depth=7, n_estimators=100, subsample=0.8; total time=  17.4s\n",
      "[CV] END colsample_bytree=0.8, learning_rate=0.01, max_depth=7, n_estimators=100, subsample=0.8; total time=  17.3s\n",
      "[CV] END colsample_bytree=0.8, learning_rate=0.01, max_depth=7, n_estimators=100, subsample=0.8; total time=  17.7s\n",
      "[CV] END colsample_bytree=0.8, learning_rate=0.01, max_depth=7, n_estimators=100, subsample=0.8; total time=  17.9s\n",
      "[CV] END colsample_bytree=0.8, learning_rate=0.01, max_depth=7, n_estimators=100, subsample=1.0; total time=  18.8s\n",
      "[CV] END colsample_bytree=0.8, learning_rate=0.01, max_depth=7, n_estimators=100, subsample=0.8; total time=  19.3s\n",
      "[CV] END colsample_bytree=0.8, learning_rate=0.01, max_depth=7, n_estimators=100, subsample=1.0; total time=  18.6s\n",
      "[CV] END colsample_bytree=0.8, learning_rate=0.01, max_depth=7, n_estimators=100, subsample=1.0; total time=  18.2s\n",
      "[CV] END colsample_bytree=0.8, learning_rate=0.01, max_depth=7, n_estimators=100, subsample=1.0; total time=  17.8s\n",
      "[CV] END colsample_bytree=0.8, learning_rate=0.01, max_depth=7, n_estimators=100, subsample=1.0; total time=  18.2s\n",
      "[CV] END colsample_bytree=0.8, learning_rate=0.01, max_depth=7, n_estimators=200, subsample=0.7; total time=  34.0s\n",
      "[CV] END colsample_bytree=0.8, learning_rate=0.01, max_depth=7, n_estimators=200, subsample=0.7; total time=  33.2s\n",
      "[CV] END colsample_bytree=0.8, learning_rate=0.01, max_depth=7, n_estimators=200, subsample=0.7; total time=  32.2s\n",
      "[CV] END colsample_bytree=0.8, learning_rate=0.01, max_depth=7, n_estimators=200, subsample=0.7; total time=  32.2s\n",
      "[CV] END colsample_bytree=0.8, learning_rate=0.01, max_depth=7, n_estimators=200, subsample=0.7; total time=  31.8s\n",
      "[CV] END colsample_bytree=0.8, learning_rate=0.01, max_depth=7, n_estimators=200, subsample=0.8; total time=  31.3s\n",
      "[CV] END colsample_bytree=0.8, learning_rate=0.01, max_depth=7, n_estimators=200, subsample=0.8; total time=  30.7s\n",
      "[CV] END colsample_bytree=0.8, learning_rate=0.01, max_depth=7, n_estimators=200, subsample=0.8; total time=  30.4s\n",
      "[CV] END colsample_bytree=0.8, learning_rate=0.1, max_depth=3, n_estimators=100, subsample=0.7; total time=   9.4s\n",
      "[CV] END colsample_bytree=0.8, learning_rate=0.01, max_depth=7, n_estimators=200, subsample=0.8; total time=  28.6s\n",
      "[CV] END colsample_bytree=0.8, learning_rate=0.01, max_depth=7, n_estimators=200, subsample=0.8; total time=  29.0s\n",
      "[CV] END colsample_bytree=0.8, learning_rate=0.1, max_depth=3, n_estimators=100, subsample=0.7; total time=   9.4s\n",
      "[CV] END colsample_bytree=0.8, learning_rate=0.01, max_depth=7, n_estimators=200, subsample=1.0; total time=  27.1s\n",
      "[CV] END colsample_bytree=0.8, learning_rate=0.01, max_depth=7, n_estimators=200, subsample=1.0; total time=  27.3s\n",
      "[CV] END colsample_bytree=0.8, learning_rate=0.1, max_depth=3, n_estimators=100, subsample=0.7; total time=   9.2s\n",
      "[CV] END colsample_bytree=0.8, learning_rate=0.1, max_depth=3, n_estimators=100, subsample=0.7; total time=   9.3s\n",
      "[CV] END colsample_bytree=0.8, learning_rate=0.01, max_depth=7, n_estimators=200, subsample=1.0; total time=  27.2s\n",
      "[CV] END colsample_bytree=0.8, learning_rate=0.01, max_depth=7, n_estimators=200, subsample=1.0; total time=  26.7s\n",
      "[CV] END colsample_bytree=0.8, learning_rate=0.01, max_depth=7, n_estimators=200, subsample=1.0; total time=  27.0s\n",
      "[CV] END colsample_bytree=0.8, learning_rate=0.1, max_depth=3, n_estimators=100, subsample=0.7; total time=   9.4s\n",
      "[CV] END colsample_bytree=0.8, learning_rate=0.1, max_depth=3, n_estimators=100, subsample=0.8; total time=   9.3s\n",
      "[CV] END colsample_bytree=0.8, learning_rate=0.1, max_depth=3, n_estimators=100, subsample=0.8; total time=   9.4s\n",
      "[CV] END colsample_bytree=0.8, learning_rate=0.1, max_depth=3, n_estimators=100, subsample=0.8; total time=   8.9s\n",
      "[CV] END colsample_bytree=0.8, learning_rate=0.1, max_depth=3, n_estimators=100, subsample=0.8; total time=   8.5s\n",
      "[CV] END colsample_bytree=0.8, learning_rate=0.1, max_depth=3, n_estimators=100, subsample=0.8; total time=   8.7s\n",
      "[CV] END colsample_bytree=0.8, learning_rate=0.1, max_depth=3, n_estimators=100, subsample=1.0; total time=   8.2s\n",
      "[CV] END colsample_bytree=0.8, learning_rate=0.1, max_depth=3, n_estimators=100, subsample=1.0; total time=   8.2s\n",
      "[CV] END colsample_bytree=0.8, learning_rate=0.1, max_depth=3, n_estimators=100, subsample=1.0; total time=   8.5s\n",
      "[CV] END colsample_bytree=0.8, learning_rate=0.1, max_depth=3, n_estimators=100, subsample=1.0; total time=   8.3s\n",
      "[CV] END colsample_bytree=0.8, learning_rate=0.1, max_depth=3, n_estimators=100, subsample=1.0; total time=   8.6s\n",
      "[CV] END colsample_bytree=0.8, learning_rate=0.1, max_depth=3, n_estimators=200, subsample=0.7; total time=  15.0s\n",
      "[CV] END colsample_bytree=0.8, learning_rate=0.1, max_depth=3, n_estimators=200, subsample=0.7; total time=  15.5s\n",
      "[CV] END colsample_bytree=0.8, learning_rate=0.1, max_depth=3, n_estimators=200, subsample=0.7; total time=  15.4s\n",
      "[CV] END colsample_bytree=0.8, learning_rate=0.1, max_depth=3, n_estimators=200, subsample=0.7; total time=  15.3s\n",
      "[CV] END colsample_bytree=0.8, learning_rate=0.1, max_depth=3, n_estimators=200, subsample=0.7; total time=  15.4s\n",
      "[CV] END colsample_bytree=0.8, learning_rate=0.1, max_depth=3, n_estimators=200, subsample=0.8; total time=  14.8s\n",
      "[CV] END colsample_bytree=0.8, learning_rate=0.1, max_depth=3, n_estimators=200, subsample=0.8; total time=  14.9s\n",
      "[CV] END colsample_bytree=0.8, learning_rate=0.1, max_depth=3, n_estimators=200, subsample=0.8; total time=  15.1s\n",
      "[CV] END colsample_bytree=0.8, learning_rate=0.1, max_depth=3, n_estimators=200, subsample=1.0; total time=  14.1s\n",
      "[CV] END colsample_bytree=0.8, learning_rate=0.1, max_depth=3, n_estimators=200, subsample=0.8; total time=  15.3s\n",
      "[CV] END colsample_bytree=0.8, learning_rate=0.1, max_depth=3, n_estimators=200, subsample=0.8; total time=  15.6s\n",
      "[CV] END colsample_bytree=0.8, learning_rate=0.1, max_depth=3, n_estimators=200, subsample=1.0; total time=  14.4s\n",
      "[CV] END colsample_bytree=0.8, learning_rate=0.1, max_depth=3, n_estimators=200, subsample=1.0; total time=  14.6s\n",
      "[CV] END colsample_bytree=0.8, learning_rate=0.1, max_depth=5, n_estimators=100, subsample=0.7; total time=  12.0s\n",
      "[CV] END colsample_bytree=0.8, learning_rate=0.1, max_depth=3, n_estimators=200, subsample=1.0; total time=  15.1s\n",
      "[CV] END colsample_bytree=0.8, learning_rate=0.1, max_depth=3, n_estimators=200, subsample=1.0; total time=  15.1s\n",
      "[CV] END colsample_bytree=0.8, learning_rate=0.1, max_depth=5, n_estimators=100, subsample=0.7; total time=  12.0s\n",
      "[CV] END colsample_bytree=0.8, learning_rate=0.1, max_depth=5, n_estimators=100, subsample=0.7; total time=  12.3s\n",
      "[CV] END colsample_bytree=0.8, learning_rate=0.1, max_depth=5, n_estimators=100, subsample=0.7; total time=  12.4s\n",
      "[CV] END colsample_bytree=0.8, learning_rate=0.1, max_depth=5, n_estimators=100, subsample=0.7; total time=  12.2s\n",
      "[CV] END colsample_bytree=0.8, learning_rate=0.1, max_depth=5, n_estimators=100, subsample=0.8; total time=  12.4s\n",
      "[CV] END colsample_bytree=0.8, learning_rate=0.1, max_depth=5, n_estimators=100, subsample=0.8; total time=  12.7s\n",
      "[CV] END colsample_bytree=0.8, learning_rate=0.1, max_depth=5, n_estimators=100, subsample=0.8; total time=  13.1s\n",
      "[CV] END colsample_bytree=0.8, learning_rate=0.1, max_depth=5, n_estimators=100, subsample=0.8; total time=  12.7s\n",
      "[CV] END colsample_bytree=0.8, learning_rate=0.1, max_depth=5, n_estimators=100, subsample=1.0; total time=  12.6s\n",
      "[CV] END colsample_bytree=0.8, learning_rate=0.1, max_depth=5, n_estimators=100, subsample=1.0; total time=  12.5s\n",
      "[CV] END colsample_bytree=0.8, learning_rate=0.1, max_depth=5, n_estimators=100, subsample=0.8; total time=  13.4s\n",
      "[CV] END colsample_bytree=0.8, learning_rate=0.1, max_depth=5, n_estimators=100, subsample=1.0; total time=  13.0s\n",
      "[CV] END colsample_bytree=0.8, learning_rate=0.1, max_depth=5, n_estimators=100, subsample=1.0; total time=  12.7s\n",
      "[CV] END colsample_bytree=0.8, learning_rate=0.1, max_depth=5, n_estimators=100, subsample=1.0; total time=  12.3s\n",
      "[CV] END colsample_bytree=0.8, learning_rate=0.1, max_depth=5, n_estimators=200, subsample=0.7; total time=  22.3s\n",
      "[CV] END colsample_bytree=0.8, learning_rate=0.1, max_depth=5, n_estimators=200, subsample=0.7; total time=  22.2s\n",
      "[CV] END colsample_bytree=0.8, learning_rate=0.1, max_depth=5, n_estimators=200, subsample=0.7; total time=  21.9s\n",
      "[CV] END colsample_bytree=0.8, learning_rate=0.1, max_depth=5, n_estimators=200, subsample=0.7; total time=  22.3s\n",
      "[CV] END colsample_bytree=0.8, learning_rate=0.1, max_depth=5, n_estimators=200, subsample=0.8; total time=  21.6s\n",
      "[CV] END colsample_bytree=0.8, learning_rate=0.1, max_depth=5, n_estimators=200, subsample=0.7; total time=  22.9s\n",
      "[CV] END colsample_bytree=0.8, learning_rate=0.1, max_depth=5, n_estimators=200, subsample=0.8; total time=  21.7s\n",
      "[CV] END colsample_bytree=0.8, learning_rate=0.1, max_depth=5, n_estimators=200, subsample=0.8; total time=  21.2s\n",
      "[CV] END colsample_bytree=0.8, learning_rate=0.1, max_depth=5, n_estimators=200, subsample=0.8; total time=  21.0s\n",
      "[CV] END colsample_bytree=0.8, learning_rate=0.1, max_depth=5, n_estimators=200, subsample=0.8; total time=  21.1s\n",
      "[CV] END colsample_bytree=0.8, learning_rate=0.1, max_depth=7, n_estimators=100, subsample=0.7; total time=  14.8s\n",
      "[CV] END colsample_bytree=0.8, learning_rate=0.1, max_depth=5, n_estimators=200, subsample=1.0; total time=  19.4s\n",
      "[CV] END colsample_bytree=0.8, learning_rate=0.1, max_depth=5, n_estimators=200, subsample=1.0; total time=  19.3s\n",
      "[CV] END colsample_bytree=0.8, learning_rate=0.1, max_depth=5, n_estimators=200, subsample=1.0; total time=  19.3s\n",
      "[CV] END colsample_bytree=0.8, learning_rate=0.1, max_depth=5, n_estimators=200, subsample=1.0; total time=  19.5s\n",
      "[CV] END colsample_bytree=0.8, learning_rate=0.1, max_depth=5, n_estimators=200, subsample=1.0; total time=  19.5s\n",
      "[CV] END colsample_bytree=0.8, learning_rate=0.1, max_depth=7, n_estimators=100, subsample=0.7; total time=  14.8s\n",
      "[CV] END colsample_bytree=0.8, learning_rate=0.1, max_depth=7, n_estimators=100, subsample=0.7; total time=  14.6s\n",
      "[CV] END colsample_bytree=0.8, learning_rate=0.1, max_depth=7, n_estimators=100, subsample=0.7; total time=  15.1s\n",
      "[CV] END colsample_bytree=0.8, learning_rate=0.1, max_depth=7, n_estimators=100, subsample=0.7; total time=  15.6s\n",
      "[CV] END colsample_bytree=0.8, learning_rate=0.1, max_depth=7, n_estimators=100, subsample=0.8; total time=  15.5s\n",
      "[CV] END colsample_bytree=0.8, learning_rate=0.1, max_depth=7, n_estimators=100, subsample=0.8; total time=  15.5s\n",
      "[CV] END colsample_bytree=0.8, learning_rate=0.1, max_depth=7, n_estimators=100, subsample=0.8; total time=  15.6s\n",
      "[CV] END colsample_bytree=0.8, learning_rate=0.1, max_depth=7, n_estimators=100, subsample=0.8; total time=  16.1s\n",
      "[CV] END colsample_bytree=0.8, learning_rate=0.1, max_depth=7, n_estimators=100, subsample=1.0; total time=  48.7s\n",
      "[CV] END colsample_bytree=0.8, learning_rate=0.1, max_depth=7, n_estimators=100, subsample=0.8; total time=  49.9s\n",
      "[CV] END colsample_bytree=0.8, learning_rate=0.1, max_depth=7, n_estimators=100, subsample=1.0; total time=  48.7s\n",
      "[CV] END colsample_bytree=0.8, learning_rate=0.1, max_depth=7, n_estimators=100, subsample=1.0; total time=  48.0s\n",
      "[CV] END colsample_bytree=0.8, learning_rate=0.1, max_depth=7, n_estimators=100, subsample=1.0; total time=  48.5s\n",
      "[CV] END colsample_bytree=0.8, learning_rate=0.1, max_depth=7, n_estimators=100, subsample=1.0; total time=  48.0s\n",
      "[CV] END colsample_bytree=0.8, learning_rate=0.1, max_depth=7, n_estimators=200, subsample=0.7; total time=  58.7s\n",
      "[CV] END colsample_bytree=0.8, learning_rate=0.1, max_depth=7, n_estimators=200, subsample=0.7; total time=  58.3s\n",
      "[CV] END colsample_bytree=0.8, learning_rate=0.1, max_depth=7, n_estimators=200, subsample=0.7; total time=  24.7s\n",
      "[CV] END colsample_bytree=0.8, learning_rate=0.1, max_depth=7, n_estimators=200, subsample=0.7; total time=  24.6s\n",
      "[CV] END colsample_bytree=0.8, learning_rate=0.1, max_depth=7, n_estimators=200, subsample=0.7; total time=  25.3s\n",
      "[CV] END colsample_bytree=0.8, learning_rate=0.1, max_depth=7, n_estimators=200, subsample=0.8; total time=  23.8s\n",
      "[CV] END colsample_bytree=0.8, learning_rate=0.1, max_depth=7, n_estimators=200, subsample=0.8; total time=  24.8s\n",
      "[CV] END colsample_bytree=0.8, learning_rate=0.1, max_depth=7, n_estimators=200, subsample=0.8; total time=  24.9s\n",
      "[CV] END colsample_bytree=0.8, learning_rate=0.2, max_depth=3, n_estimators=100, subsample=0.7; total time=   9.1s\n",
      "[CV] END colsample_bytree=0.8, learning_rate=0.1, max_depth=7, n_estimators=200, subsample=0.8; total time=  25.4s\n",
      "[CV] END colsample_bytree=0.8, learning_rate=0.1, max_depth=7, n_estimators=200, subsample=0.8; total time=  25.0s\n",
      "[CV] END colsample_bytree=0.8, learning_rate=0.2, max_depth=3, n_estimators=100, subsample=0.7; total time=   8.1s\n",
      "[CV] END colsample_bytree=0.8, learning_rate=0.1, max_depth=7, n_estimators=200, subsample=1.0; total time=  23.3s\n",
      "[CV] END colsample_bytree=0.8, learning_rate=0.1, max_depth=7, n_estimators=200, subsample=1.0; total time=  23.5s\n",
      "[CV] END colsample_bytree=0.8, learning_rate=0.1, max_depth=7, n_estimators=200, subsample=1.0; total time=  21.9s\n",
      "[CV] END colsample_bytree=0.8, learning_rate=0.2, max_depth=3, n_estimators=100, subsample=0.7; total time=   8.1s\n",
      "[CV] END colsample_bytree=0.8, learning_rate=0.2, max_depth=3, n_estimators=100, subsample=0.7; total time=   8.2s\n",
      "[CV] END colsample_bytree=0.8, learning_rate=0.1, max_depth=7, n_estimators=200, subsample=1.0; total time=  21.7s\n",
      "[CV] END colsample_bytree=0.8, learning_rate=0.1, max_depth=7, n_estimators=200, subsample=1.0; total time=  21.7s\n",
      "[CV] END colsample_bytree=0.8, learning_rate=0.2, max_depth=3, n_estimators=100, subsample=0.7; total time=   7.8s\n",
      "[CV] END colsample_bytree=0.8, learning_rate=0.2, max_depth=3, n_estimators=100, subsample=0.8; total time=   7.6s\n",
      "[CV] END colsample_bytree=0.8, learning_rate=0.2, max_depth=3, n_estimators=100, subsample=0.8; total time=   7.8s\n",
      "[CV] END colsample_bytree=0.8, learning_rate=0.2, max_depth=3, n_estimators=100, subsample=0.8; total time=   7.4s\n",
      "[CV] END colsample_bytree=0.8, learning_rate=0.2, max_depth=3, n_estimators=100, subsample=0.8; total time=   7.9s\n",
      "[CV] END colsample_bytree=0.8, learning_rate=0.2, max_depth=3, n_estimators=100, subsample=1.0; total time=   7.4s\n",
      "[CV] END colsample_bytree=0.8, learning_rate=0.2, max_depth=3, n_estimators=100, subsample=0.8; total time=   7.9s\n",
      "[CV] END colsample_bytree=0.8, learning_rate=0.2, max_depth=3, n_estimators=100, subsample=1.0; total time=   7.3s\n",
      "[CV] END colsample_bytree=0.8, learning_rate=0.2, max_depth=3, n_estimators=100, subsample=1.0; total time=   7.4s\n",
      "[CV] END colsample_bytree=0.8, learning_rate=0.2, max_depth=3, n_estimators=100, subsample=1.0; total time=   7.3s\n",
      "[CV] END colsample_bytree=0.8, learning_rate=0.2, max_depth=3, n_estimators=100, subsample=1.0; total time=   7.5s\n",
      "[CV] END colsample_bytree=0.8, learning_rate=0.2, max_depth=3, n_estimators=200, subsample=0.7; total time=  13.6s\n",
      "[CV] END colsample_bytree=0.8, learning_rate=0.2, max_depth=3, n_estimators=200, subsample=0.7; total time=  13.4s\n",
      "[CV] END colsample_bytree=0.8, learning_rate=0.2, max_depth=3, n_estimators=200, subsample=0.7; total time=  13.4s\n",
      "[CV] END colsample_bytree=0.8, learning_rate=0.2, max_depth=3, n_estimators=200, subsample=0.7; total time=  13.2s\n",
      "[CV] END colsample_bytree=0.8, learning_rate=0.2, max_depth=3, n_estimators=200, subsample=0.7; total time=  13.5s\n",
      "[CV] END colsample_bytree=0.8, learning_rate=0.2, max_depth=3, n_estimators=200, subsample=0.8; total time=  13.4s\n",
      "[CV] END colsample_bytree=0.8, learning_rate=0.2, max_depth=3, n_estimators=200, subsample=0.8; total time=  13.7s\n",
      "[CV] END colsample_bytree=0.8, learning_rate=0.2, max_depth=3, n_estimators=200, subsample=0.8; total time=  14.0s\n",
      "[CV] END colsample_bytree=0.8, learning_rate=0.2, max_depth=3, n_estimators=200, subsample=0.8; total time=  13.8s\n",
      "[CV] END colsample_bytree=0.8, learning_rate=0.2, max_depth=3, n_estimators=200, subsample=1.0; total time=  13.3s\n",
      "[CV] END colsample_bytree=0.8, learning_rate=0.2, max_depth=3, n_estimators=200, subsample=1.0; total time=  13.3s\n",
      "[CV] END colsample_bytree=0.8, learning_rate=0.2, max_depth=3, n_estimators=200, subsample=0.8; total time=  14.2s\n",
      "[CV] END colsample_bytree=0.8, learning_rate=0.2, max_depth=3, n_estimators=200, subsample=1.0; total time=  13.4s\n",
      "[CV] END colsample_bytree=0.8, learning_rate=0.2, max_depth=5, n_estimators=100, subsample=0.7; total time=  10.9s\n",
      "[CV] END colsample_bytree=0.8, learning_rate=0.2, max_depth=3, n_estimators=200, subsample=1.0; total time=  13.4s\n",
      "[CV] END colsample_bytree=0.8, learning_rate=0.2, max_depth=3, n_estimators=200, subsample=1.0; total time=  13.7s\n",
      "[CV] END colsample_bytree=0.8, learning_rate=0.2, max_depth=5, n_estimators=100, subsample=0.7; total time=  11.5s\n",
      "[CV] END colsample_bytree=0.8, learning_rate=0.2, max_depth=5, n_estimators=100, subsample=0.7; total time=  11.3s\n",
      "[CV] END colsample_bytree=0.8, learning_rate=0.2, max_depth=5, n_estimators=100, subsample=0.8; total time=  11.1s\n",
      "[CV] END colsample_bytree=0.8, learning_rate=0.2, max_depth=5, n_estimators=100, subsample=0.7; total time=  11.6s\n",
      "[CV] END colsample_bytree=0.8, learning_rate=0.2, max_depth=5, n_estimators=100, subsample=0.7; total time=  12.0s\n",
      "[CV] END colsample_bytree=0.8, learning_rate=0.2, max_depth=5, n_estimators=100, subsample=0.8; total time=  12.1s\n",
      "[CV] END colsample_bytree=0.8, learning_rate=0.2, max_depth=5, n_estimators=100, subsample=0.8; total time=  11.7s\n",
      "[CV] END colsample_bytree=0.8, learning_rate=0.2, max_depth=5, n_estimators=100, subsample=0.8; total time=  12.1s\n",
      "[CV] END colsample_bytree=0.8, learning_rate=0.2, max_depth=5, n_estimators=100, subsample=1.0; total time=  12.2s\n",
      "[CV] END colsample_bytree=0.8, learning_rate=0.2, max_depth=5, n_estimators=100, subsample=1.0; total time=  12.3s\n",
      "[CV] END colsample_bytree=0.8, learning_rate=0.2, max_depth=5, n_estimators=100, subsample=1.0; total time=  12.2s\n",
      "[CV] END colsample_bytree=0.8, learning_rate=0.2, max_depth=5, n_estimators=100, subsample=0.8; total time=  13.4s\n",
      "[CV] END colsample_bytree=0.8, learning_rate=0.2, max_depth=5, n_estimators=100, subsample=1.0; total time=  12.5s\n",
      "[CV] END colsample_bytree=0.8, learning_rate=0.2, max_depth=5, n_estimators=100, subsample=1.0; total time=  12.2s\n",
      "[CV] END colsample_bytree=0.8, learning_rate=0.2, max_depth=5, n_estimators=200, subsample=0.7; total time=  22.5s\n",
      "[CV] END colsample_bytree=0.8, learning_rate=0.2, max_depth=5, n_estimators=200, subsample=0.7; total time=  22.6s\n",
      "[CV] END colsample_bytree=0.8, learning_rate=0.2, max_depth=5, n_estimators=200, subsample=0.7; total time=  22.4s\n",
      "[CV] END colsample_bytree=0.8, learning_rate=0.2, max_depth=5, n_estimators=200, subsample=0.7; total time=  22.1s\n",
      "[CV] END colsample_bytree=0.8, learning_rate=0.2, max_depth=5, n_estimators=200, subsample=0.8; total time=  21.8s\n",
      "[CV] END colsample_bytree=0.8, learning_rate=0.2, max_depth=5, n_estimators=200, subsample=0.7; total time=  22.3s\n",
      "[CV] END colsample_bytree=0.8, learning_rate=0.2, max_depth=5, n_estimators=200, subsample=0.8; total time=  21.8s\n",
      "[CV] END colsample_bytree=0.8, learning_rate=0.2, max_depth=5, n_estimators=200, subsample=0.8; total time=  21.4s\n",
      "[CV] END colsample_bytree=0.8, learning_rate=0.2, max_depth=5, n_estimators=200, subsample=0.8; total time=  22.8s\n",
      "[CV] END colsample_bytree=0.8, learning_rate=0.2, max_depth=5, n_estimators=200, subsample=0.8; total time=  23.1s\n",
      "[CV] END colsample_bytree=0.8, learning_rate=0.2, max_depth=7, n_estimators=100, subsample=0.7; total time=  17.3s\n",
      "[CV] END colsample_bytree=0.8, learning_rate=0.2, max_depth=5, n_estimators=200, subsample=1.0; total time=  21.2s\n",
      "[CV] END colsample_bytree=0.8, learning_rate=0.2, max_depth=5, n_estimators=200, subsample=1.0; total time=  21.7s\n",
      "[CV] END colsample_bytree=0.8, learning_rate=0.2, max_depth=5, n_estimators=200, subsample=1.0; total time=  22.1s\n",
      "[CV] END colsample_bytree=0.8, learning_rate=0.2, max_depth=5, n_estimators=200, subsample=1.0; total time=  22.1s\n",
      "[CV] END colsample_bytree=0.8, learning_rate=0.2, max_depth=5, n_estimators=200, subsample=1.0; total time=  22.4s\n",
      "[CV] END colsample_bytree=0.8, learning_rate=0.2, max_depth=7, n_estimators=100, subsample=0.7; total time=  18.8s\n",
      "[CV] END colsample_bytree=0.8, learning_rate=0.2, max_depth=7, n_estimators=100, subsample=0.7; total time=  18.5s\n",
      "[CV] END colsample_bytree=0.8, learning_rate=0.2, max_depth=7, n_estimators=100, subsample=0.7; total time=  18.9s\n",
      "[CV] END colsample_bytree=0.8, learning_rate=0.2, max_depth=7, n_estimators=100, subsample=0.8; total time=  19.1s\n",
      "[CV] END colsample_bytree=0.8, learning_rate=0.2, max_depth=7, n_estimators=100, subsample=0.7; total time=  19.9s\n",
      "[CV] END colsample_bytree=0.8, learning_rate=0.2, max_depth=7, n_estimators=100, subsample=0.8; total time=  19.8s\n",
      "[CV] END colsample_bytree=0.8, learning_rate=0.2, max_depth=7, n_estimators=100, subsample=0.8; total time=  20.4s\n",
      "[CV] END colsample_bytree=0.8, learning_rate=0.2, max_depth=7, n_estimators=100, subsample=0.8; total time=  19.8s\n",
      "[CV] END colsample_bytree=0.8, learning_rate=0.2, max_depth=7, n_estimators=100, subsample=0.8; total time=  21.8s\n",
      "[CV] END colsample_bytree=0.8, learning_rate=0.2, max_depth=7, n_estimators=100, subsample=1.0; total time=  20.8s\n",
      "[CV] END colsample_bytree=0.8, learning_rate=0.2, max_depth=7, n_estimators=100, subsample=1.0; total time=  21.1s\n",
      "[CV] END colsample_bytree=0.8, learning_rate=0.2, max_depth=7, n_estimators=100, subsample=1.0; total time=  21.2s\n",
      "[CV] END colsample_bytree=0.8, learning_rate=0.2, max_depth=7, n_estimators=100, subsample=1.0; total time=  20.8s\n",
      "[CV] END colsample_bytree=0.8, learning_rate=0.2, max_depth=7, n_estimators=100, subsample=1.0; total time=  21.3s\n",
      "[CV] END colsample_bytree=0.8, learning_rate=0.2, max_depth=7, n_estimators=200, subsample=0.7; total time=  40.0s\n",
      "[CV] END colsample_bytree=0.8, learning_rate=0.2, max_depth=7, n_estimators=200, subsample=0.7; total time=  39.7s\n",
      "[CV] END colsample_bytree=0.8, learning_rate=0.2, max_depth=7, n_estimators=200, subsample=0.7; total time=  39.3s\n",
      "[CV] END colsample_bytree=0.8, learning_rate=0.2, max_depth=7, n_estimators=200, subsample=0.7; total time=  39.9s\n",
      "[CV] END colsample_bytree=0.8, learning_rate=0.2, max_depth=7, n_estimators=200, subsample=0.7; total time=  40.4s\n",
      "[CV] END colsample_bytree=0.8, learning_rate=0.2, max_depth=7, n_estimators=200, subsample=0.8; total time=  39.4s\n",
      "[CV] END colsample_bytree=0.8, learning_rate=0.2, max_depth=7, n_estimators=200, subsample=0.8; total time=  39.5s\n",
      "[CV] END colsample_bytree=0.8, learning_rate=0.2, max_depth=7, n_estimators=200, subsample=0.8; total time=  39.7s\n",
      "[CV] END colsample_bytree=1.0, learning_rate=0.01, max_depth=3, n_estimators=100, subsample=0.7; total time=  18.9s\n",
      "[CV] END colsample_bytree=0.8, learning_rate=0.2, max_depth=7, n_estimators=200, subsample=0.8; total time=  44.2s\n",
      "[CV] END colsample_bytree=0.8, learning_rate=0.2, max_depth=7, n_estimators=200, subsample=0.8; total time=  44.3s\n",
      "[CV] END colsample_bytree=0.8, learning_rate=0.2, max_depth=7, n_estimators=200, subsample=1.0; total time=  41.1s\n",
      "[CV] END colsample_bytree=0.8, learning_rate=0.2, max_depth=7, n_estimators=200, subsample=1.0; total time=  41.6s\n",
      "[CV] END colsample_bytree=1.0, learning_rate=0.01, max_depth=3, n_estimators=100, subsample=0.7; total time=  16.2s\n",
      "[CV] END colsample_bytree=0.8, learning_rate=0.2, max_depth=7, n_estimators=200, subsample=1.0; total time=  41.1s\n",
      "[CV] END colsample_bytree=0.8, learning_rate=0.2, max_depth=7, n_estimators=200, subsample=1.0; total time=  42.5s\n",
      "[CV] END colsample_bytree=0.8, learning_rate=0.2, max_depth=7, n_estimators=200, subsample=1.0; total time=  41.4s\n",
      "[CV] END colsample_bytree=1.0, learning_rate=0.01, max_depth=3, n_estimators=100, subsample=0.7; total time=  16.4s\n",
      "[CV] END colsample_bytree=1.0, learning_rate=0.01, max_depth=3, n_estimators=100, subsample=0.7; total time=  16.8s\n",
      "[CV] END colsample_bytree=1.0, learning_rate=0.01, max_depth=3, n_estimators=100, subsample=0.8; total time=  15.2s\n",
      "[CV] END colsample_bytree=1.0, learning_rate=0.01, max_depth=3, n_estimators=100, subsample=0.7; total time=  15.6s\n",
      "[CV] END colsample_bytree=1.0, learning_rate=0.01, max_depth=3, n_estimators=100, subsample=0.8; total time=  15.3s\n",
      "[CV] END colsample_bytree=1.0, learning_rate=0.01, max_depth=3, n_estimators=100, subsample=0.8; total time=  14.1s\n",
      "[CV] END colsample_bytree=1.0, learning_rate=0.01, max_depth=3, n_estimators=100, subsample=1.0; total time=  13.0s\n",
      "[CV] END colsample_bytree=1.0, learning_rate=0.01, max_depth=3, n_estimators=100, subsample=0.8; total time=  14.1s\n",
      "[CV] END colsample_bytree=1.0, learning_rate=0.01, max_depth=3, n_estimators=100, subsample=0.8; total time=  13.9s\n",
      "[CV] END colsample_bytree=1.0, learning_rate=0.01, max_depth=3, n_estimators=100, subsample=1.0; total time=  13.3s\n",
      "[CV] END colsample_bytree=1.0, learning_rate=0.01, max_depth=3, n_estimators=100, subsample=1.0; total time=  12.7s\n",
      "[CV] END colsample_bytree=1.0, learning_rate=0.01, max_depth=3, n_estimators=100, subsample=1.0; total time=  13.3s\n",
      "[CV] END colsample_bytree=1.0, learning_rate=0.01, max_depth=3, n_estimators=100, subsample=1.0; total time=  13.0s\n",
      "[CV] END colsample_bytree=1.0, learning_rate=0.01, max_depth=3, n_estimators=200, subsample=0.7; total time=  21.8s\n",
      "[CV] END colsample_bytree=1.0, learning_rate=0.01, max_depth=3, n_estimators=200, subsample=0.7; total time=  22.2s\n",
      "[CV] END colsample_bytree=1.0, learning_rate=0.01, max_depth=3, n_estimators=200, subsample=0.7; total time=  22.3s\n",
      "[CV] END colsample_bytree=1.0, learning_rate=0.01, max_depth=3, n_estimators=200, subsample=0.7; total time=  22.2s\n",
      "[CV] END colsample_bytree=1.0, learning_rate=0.01, max_depth=3, n_estimators=200, subsample=0.7; total time=  22.5s\n",
      "[CV] END colsample_bytree=1.0, learning_rate=0.01, max_depth=3, n_estimators=200, subsample=0.8; total time=  21.5s\n",
      "[CV] END colsample_bytree=1.0, learning_rate=0.01, max_depth=3, n_estimators=200, subsample=0.8; total time=  21.6s\n",
      "[CV] END colsample_bytree=1.0, learning_rate=0.01, max_depth=3, n_estimators=200, subsample=0.8; total time=  21.3s\n",
      "[CV] END colsample_bytree=1.0, learning_rate=0.01, max_depth=3, n_estimators=200, subsample=1.0; total time=  20.0s\n",
      "[CV] END colsample_bytree=1.0, learning_rate=0.01, max_depth=3, n_estimators=200, subsample=1.0; total time=  19.9s\n",
      "[CV] END colsample_bytree=1.0, learning_rate=0.01, max_depth=3, n_estimators=200, subsample=1.0; total time=  19.9s\n",
      "[CV] END colsample_bytree=1.0, learning_rate=0.01, max_depth=3, n_estimators=200, subsample=0.8; total time=  21.2s\n",
      "[CV] END colsample_bytree=1.0, learning_rate=0.01, max_depth=3, n_estimators=200, subsample=0.8; total time=  21.9s\n",
      "[CV] END colsample_bytree=1.0, learning_rate=0.01, max_depth=5, n_estimators=100, subsample=0.7; total time=  15.7s\n",
      "[CV] END colsample_bytree=1.0, learning_rate=0.01, max_depth=3, n_estimators=200, subsample=1.0; total time=  19.4s\n",
      "[CV] END colsample_bytree=1.0, learning_rate=0.01, max_depth=3, n_estimators=200, subsample=1.0; total time=  19.5s\n",
      "[CV] END colsample_bytree=1.0, learning_rate=0.01, max_depth=5, n_estimators=100, subsample=0.7; total time=  15.8s\n",
      "[CV] END colsample_bytree=1.0, learning_rate=0.01, max_depth=5, n_estimators=100, subsample=0.7; total time=  16.2s\n",
      "[CV] END colsample_bytree=1.0, learning_rate=0.01, max_depth=5, n_estimators=100, subsample=0.7; total time=  16.0s\n",
      "[CV] END colsample_bytree=1.0, learning_rate=0.01, max_depth=5, n_estimators=100, subsample=0.7; total time=  15.8s\n",
      "[CV] END colsample_bytree=1.0, learning_rate=0.01, max_depth=5, n_estimators=100, subsample=0.8; total time=  15.9s\n",
      "[CV] END colsample_bytree=1.0, learning_rate=0.01, max_depth=5, n_estimators=100, subsample=0.8; total time=  16.2s\n",
      "[CV] END colsample_bytree=1.0, learning_rate=0.01, max_depth=5, n_estimators=100, subsample=0.8; total time=  16.1s\n",
      "[CV] END colsample_bytree=1.0, learning_rate=0.01, max_depth=5, n_estimators=100, subsample=0.8; total time=  16.2s\n",
      "[CV] END colsample_bytree=1.0, learning_rate=0.01, max_depth=5, n_estimators=100, subsample=1.0; total time=  15.3s\n",
      "[CV] END colsample_bytree=1.0, learning_rate=0.01, max_depth=5, n_estimators=100, subsample=0.8; total time=  15.8s\n",
      "[CV] END colsample_bytree=1.0, learning_rate=0.01, max_depth=5, n_estimators=100, subsample=1.0; total time=  15.2s\n",
      "[CV] END colsample_bytree=1.0, learning_rate=0.01, max_depth=5, n_estimators=100, subsample=1.0; total time=  15.6s\n",
      "[CV] END colsample_bytree=1.0, learning_rate=0.01, max_depth=5, n_estimators=100, subsample=1.0; total time=  15.3s\n",
      "[CV] END colsample_bytree=1.0, learning_rate=0.01, max_depth=5, n_estimators=100, subsample=1.0; total time=  15.3s\n",
      "[CV] END colsample_bytree=1.0, learning_rate=0.01, max_depth=5, n_estimators=200, subsample=0.7; total time=  29.2s\n",
      "[CV] END colsample_bytree=1.0, learning_rate=0.01, max_depth=5, n_estimators=200, subsample=0.7; total time=  29.6s\n",
      "[CV] END colsample_bytree=1.0, learning_rate=0.01, max_depth=5, n_estimators=200, subsample=0.7; total time=  30.4s\n",
      "[CV] END colsample_bytree=1.0, learning_rate=0.01, max_depth=5, n_estimators=200, subsample=0.7; total time=  30.6s\n",
      "[CV] END colsample_bytree=1.0, learning_rate=0.01, max_depth=5, n_estimators=200, subsample=0.8; total time=  30.5s\n",
      "[CV] END colsample_bytree=1.0, learning_rate=0.01, max_depth=5, n_estimators=200, subsample=0.7; total time=  30.9s\n",
      "[CV] END colsample_bytree=1.0, learning_rate=0.01, max_depth=5, n_estimators=200, subsample=0.8; total time=  30.1s\n",
      "[CV] END colsample_bytree=1.0, learning_rate=0.01, max_depth=5, n_estimators=200, subsample=0.8; total time=  30.0s\n",
      "[CV] END colsample_bytree=1.0, learning_rate=0.01, max_depth=5, n_estimators=200, subsample=0.8; total time=  29.7s\n",
      "[CV] END colsample_bytree=1.0, learning_rate=0.01, max_depth=5, n_estimators=200, subsample=0.8; total time=  30.1s\n",
      "[CV] END colsample_bytree=1.0, learning_rate=0.01, max_depth=7, n_estimators=100, subsample=0.7; total time=  20.7s\n",
      "[CV] END colsample_bytree=1.0, learning_rate=0.01, max_depth=5, n_estimators=200, subsample=1.0; total time=  27.5s\n",
      "[CV] END colsample_bytree=1.0, learning_rate=0.01, max_depth=5, n_estimators=200, subsample=1.0; total time=  28.3s\n",
      "[CV] END colsample_bytree=1.0, learning_rate=0.01, max_depth=5, n_estimators=200, subsample=1.0; total time=  27.5s\n",
      "[CV] END colsample_bytree=1.0, learning_rate=0.01, max_depth=5, n_estimators=200, subsample=1.0; total time=  28.0s\n",
      "[CV] END colsample_bytree=1.0, learning_rate=0.01, max_depth=5, n_estimators=200, subsample=1.0; total time=  28.0s\n",
      "[CV] END colsample_bytree=1.0, learning_rate=0.01, max_depth=7, n_estimators=100, subsample=0.7; total time=  19.9s\n",
      "[CV] END colsample_bytree=1.0, learning_rate=0.01, max_depth=7, n_estimators=100, subsample=0.7; total time=  20.3s\n",
      "[CV] END colsample_bytree=1.0, learning_rate=0.01, max_depth=7, n_estimators=100, subsample=0.7; total time=  20.2s\n",
      "[CV] END colsample_bytree=1.0, learning_rate=0.01, max_depth=7, n_estimators=100, subsample=0.7; total time=  20.4s\n",
      "[CV] END colsample_bytree=1.0, learning_rate=0.01, max_depth=7, n_estimators=100, subsample=0.8; total time=  20.3s\n",
      "[CV] END colsample_bytree=1.0, learning_rate=0.01, max_depth=7, n_estimators=100, subsample=0.8; total time=  20.5s\n",
      "[CV] END colsample_bytree=1.0, learning_rate=0.01, max_depth=7, n_estimators=100, subsample=0.8; total time=  20.2s\n",
      "[CV] END colsample_bytree=1.0, learning_rate=0.01, max_depth=7, n_estimators=100, subsample=0.8; total time=  20.4s\n",
      "[CV] END colsample_bytree=1.0, learning_rate=0.01, max_depth=7, n_estimators=100, subsample=0.8; total time=  20.2s\n",
      "[CV] END colsample_bytree=1.0, learning_rate=0.01, max_depth=7, n_estimators=100, subsample=1.0; total time=  19.5s\n",
      "[CV] END colsample_bytree=1.0, learning_rate=0.01, max_depth=7, n_estimators=100, subsample=1.0; total time=  19.4s\n",
      "[CV] END colsample_bytree=1.0, learning_rate=0.01, max_depth=7, n_estimators=100, subsample=1.0; total time=  19.5s\n",
      "[CV] END colsample_bytree=1.0, learning_rate=0.01, max_depth=7, n_estimators=100, subsample=1.0; total time=  19.6s\n",
      "[CV] END colsample_bytree=1.0, learning_rate=0.01, max_depth=7, n_estimators=100, subsample=1.0; total time=  20.0s\n",
      "[CV] END colsample_bytree=1.0, learning_rate=0.01, max_depth=7, n_estimators=200, subsample=0.7; total time=  36.5s\n",
      "[CV] END colsample_bytree=1.0, learning_rate=0.01, max_depth=7, n_estimators=200, subsample=0.7; total time=  37.2s\n",
      "[CV] END colsample_bytree=1.0, learning_rate=0.01, max_depth=7, n_estimators=200, subsample=0.7; total time=  35.7s\n",
      "[CV] END colsample_bytree=1.0, learning_rate=0.01, max_depth=7, n_estimators=200, subsample=0.7; total time=  36.4s\n",
      "[CV] END colsample_bytree=1.0, learning_rate=0.01, max_depth=7, n_estimators=200, subsample=0.7; total time=  35.6s\n",
      "[CV] END colsample_bytree=1.0, learning_rate=0.01, max_depth=7, n_estimators=200, subsample=0.8; total time=  35.4s\n",
      "[CV] END colsample_bytree=1.0, learning_rate=0.01, max_depth=7, n_estimators=200, subsample=0.8; total time=  35.4s\n",
      "[CV] END colsample_bytree=1.0, learning_rate=0.01, max_depth=7, n_estimators=200, subsample=0.8; total time=  35.0s\n",
      "[CV] END colsample_bytree=1.0, learning_rate=0.1, max_depth=3, n_estimators=100, subsample=0.7; total time=  12.0s\n",
      "[CV] END colsample_bytree=1.0, learning_rate=0.01, max_depth=7, n_estimators=200, subsample=0.8; total time=  34.1s\n",
      "[CV] END colsample_bytree=1.0, learning_rate=0.01, max_depth=7, n_estimators=200, subsample=0.8; total time=  34.2s\n",
      "[CV] END colsample_bytree=1.0, learning_rate=0.1, max_depth=3, n_estimators=100, subsample=0.7; total time=  12.0s\n",
      "[CV] END colsample_bytree=1.0, learning_rate=0.01, max_depth=7, n_estimators=200, subsample=1.0; total time=  33.8s\n",
      "[CV] END colsample_bytree=1.0, learning_rate=0.01, max_depth=7, n_estimators=200, subsample=1.0; total time=  34.3s\n",
      "[CV] END colsample_bytree=1.0, learning_rate=0.1, max_depth=3, n_estimators=100, subsample=0.7; total time=  12.2s\n",
      "[CV] END colsample_bytree=1.0, learning_rate=0.1, max_depth=3, n_estimators=100, subsample=0.7; total time=  12.3s\n",
      "[CV] END colsample_bytree=1.0, learning_rate=0.01, max_depth=7, n_estimators=200, subsample=1.0; total time=  34.2s\n",
      "[CV] END colsample_bytree=1.0, learning_rate=0.01, max_depth=7, n_estimators=200, subsample=1.0; total time=  34.0s\n",
      "[CV] END colsample_bytree=1.0, learning_rate=0.01, max_depth=7, n_estimators=200, subsample=1.0; total time=  33.5s\n",
      "[CV] END colsample_bytree=1.0, learning_rate=0.1, max_depth=3, n_estimators=100, subsample=0.7; total time=  12.6s\n",
      "[CV] END colsample_bytree=1.0, learning_rate=0.1, max_depth=3, n_estimators=100, subsample=0.8; total time=  13.1s\n",
      "[CV] END colsample_bytree=1.0, learning_rate=0.1, max_depth=3, n_estimators=100, subsample=0.8; total time=  13.0s\n",
      "[CV] END colsample_bytree=1.0, learning_rate=0.1, max_depth=3, n_estimators=100, subsample=0.8; total time=  13.2s\n",
      "[CV] END colsample_bytree=1.0, learning_rate=0.1, max_depth=3, n_estimators=100, subsample=0.8; total time=  12.9s\n",
      "[CV] END colsample_bytree=1.0, learning_rate=0.1, max_depth=3, n_estimators=100, subsample=0.8; total time=  13.5s\n",
      "[CV] END colsample_bytree=1.0, learning_rate=0.1, max_depth=3, n_estimators=100, subsample=1.0; total time=  12.8s\n",
      "[CV] END colsample_bytree=1.0, learning_rate=0.1, max_depth=3, n_estimators=100, subsample=1.0; total time=  12.9s\n",
      "[CV] END colsample_bytree=1.0, learning_rate=0.1, max_depth=3, n_estimators=100, subsample=1.0; total time=  12.3s\n",
      "[CV] END colsample_bytree=1.0, learning_rate=0.1, max_depth=3, n_estimators=100, subsample=1.0; total time=  11.8s\n",
      "[CV] END colsample_bytree=1.0, learning_rate=0.1, max_depth=3, n_estimators=100, subsample=1.0; total time=  11.8s\n",
      "[CV] END colsample_bytree=1.0, learning_rate=0.1, max_depth=3, n_estimators=200, subsample=0.7; total time=  19.3s\n",
      "[CV] END colsample_bytree=1.0, learning_rate=0.1, max_depth=3, n_estimators=200, subsample=0.7; total time=  19.0s\n",
      "[CV] END colsample_bytree=1.0, learning_rate=0.1, max_depth=3, n_estimators=200, subsample=0.7; total time=  19.0s\n",
      "[CV] END colsample_bytree=1.0, learning_rate=0.1, max_depth=3, n_estimators=200, subsample=0.7; total time=  18.5s\n",
      "[CV] END colsample_bytree=1.0, learning_rate=0.1, max_depth=3, n_estimators=200, subsample=0.7; total time=  18.6s\n",
      "[CV] END colsample_bytree=1.0, learning_rate=0.1, max_depth=3, n_estimators=200, subsample=0.8; total time=  17.7s\n",
      "[CV] END colsample_bytree=1.0, learning_rate=0.1, max_depth=3, n_estimators=200, subsample=0.8; total time=  17.4s\n",
      "[CV] END colsample_bytree=1.0, learning_rate=0.1, max_depth=3, n_estimators=200, subsample=0.8; total time=  17.1s\n",
      "[CV] END colsample_bytree=1.0, learning_rate=0.1, max_depth=3, n_estimators=200, subsample=0.8; total time=  17.2s\n",
      "[CV] END colsample_bytree=1.0, learning_rate=0.1, max_depth=3, n_estimators=200, subsample=0.8; total time=  17.6s\n",
      "[CV] END colsample_bytree=1.0, learning_rate=0.1, max_depth=3, n_estimators=200, subsample=1.0; total time=  16.3s\n",
      "[CV] END colsample_bytree=1.0, learning_rate=0.1, max_depth=3, n_estimators=200, subsample=1.0; total time=  16.4s\n",
      "[CV] END colsample_bytree=1.0, learning_rate=0.1, max_depth=3, n_estimators=200, subsample=1.0; total time=  16.4s\n",
      "[CV] END colsample_bytree=1.0, learning_rate=0.1, max_depth=5, n_estimators=100, subsample=0.7; total time=  13.4s\n",
      "[CV] END colsample_bytree=1.0, learning_rate=0.1, max_depth=3, n_estimators=200, subsample=1.0; total time=  16.3s\n",
      "[CV] END colsample_bytree=1.0, learning_rate=0.1, max_depth=3, n_estimators=200, subsample=1.0; total time=  17.2s\n",
      "[CV] END colsample_bytree=1.0, learning_rate=0.1, max_depth=5, n_estimators=100, subsample=0.7; total time=  14.6s\n",
      "[CV] END colsample_bytree=1.0, learning_rate=0.1, max_depth=5, n_estimators=100, subsample=0.7; total time=  14.3s\n",
      "[CV] END colsample_bytree=1.0, learning_rate=0.1, max_depth=5, n_estimators=100, subsample=0.7; total time=  14.6s\n",
      "[CV] END colsample_bytree=1.0, learning_rate=0.1, max_depth=5, n_estimators=100, subsample=0.7; total time=  14.5s\n",
      "[CV] END colsample_bytree=1.0, learning_rate=0.1, max_depth=5, n_estimators=100, subsample=0.8; total time=  14.4s\n",
      "[CV] END colsample_bytree=1.0, learning_rate=0.1, max_depth=5, n_estimators=100, subsample=0.8; total time=  14.4s\n",
      "[CV] END colsample_bytree=1.0, learning_rate=0.1, max_depth=5, n_estimators=100, subsample=0.8; total time=  14.3s\n",
      "[CV] END colsample_bytree=1.0, learning_rate=0.1, max_depth=5, n_estimators=100, subsample=0.8; total time=  14.0s\n",
      "[CV] END colsample_bytree=1.0, learning_rate=0.1, max_depth=5, n_estimators=100, subsample=1.0; total time=  13.1s\n",
      "[CV] END colsample_bytree=1.0, learning_rate=0.1, max_depth=5, n_estimators=100, subsample=0.8; total time=  14.0s\n",
      "[CV] END colsample_bytree=1.0, learning_rate=0.1, max_depth=5, n_estimators=100, subsample=1.0; total time=  13.2s\n",
      "[CV] END colsample_bytree=1.0, learning_rate=0.1, max_depth=5, n_estimators=100, subsample=1.0; total time=  13.7s\n",
      "[CV] END colsample_bytree=1.0, learning_rate=0.1, max_depth=5, n_estimators=100, subsample=1.0; total time=  14.1s\n",
      "[CV] END colsample_bytree=1.0, learning_rate=0.1, max_depth=5, n_estimators=100, subsample=1.0; total time=  14.7s\n",
      "[CV] END colsample_bytree=1.0, learning_rate=0.1, max_depth=5, n_estimators=200, subsample=0.7; total time=  26.4s\n",
      "[CV] END colsample_bytree=1.0, learning_rate=0.1, max_depth=5, n_estimators=200, subsample=0.7; total time=  26.6s\n",
      "[CV] END colsample_bytree=1.0, learning_rate=0.1, max_depth=5, n_estimators=200, subsample=0.7; total time=  26.1s\n",
      "[CV] END colsample_bytree=1.0, learning_rate=0.1, max_depth=5, n_estimators=200, subsample=0.7; total time=  26.4s\n",
      "[CV] END colsample_bytree=1.0, learning_rate=0.1, max_depth=5, n_estimators=200, subsample=0.7; total time=  26.4s\n",
      "[CV] END colsample_bytree=1.0, learning_rate=0.1, max_depth=5, n_estimators=200, subsample=0.8; total time=  26.1s\n",
      "[CV] END colsample_bytree=1.0, learning_rate=0.1, max_depth=5, n_estimators=200, subsample=0.8; total time=  25.7s\n",
      "[CV] END colsample_bytree=1.0, learning_rate=0.1, max_depth=5, n_estimators=200, subsample=0.8; total time=  25.1s\n",
      "[CV] END colsample_bytree=1.0, learning_rate=0.1, max_depth=5, n_estimators=200, subsample=0.8; total time=  24.6s\n",
      "[CV] END colsample_bytree=1.0, learning_rate=0.1, max_depth=5, n_estimators=200, subsample=0.8; total time=  24.0s\n",
      "[CV] END colsample_bytree=1.0, learning_rate=0.1, max_depth=7, n_estimators=100, subsample=0.7; total time=  16.9s\n",
      "[CV] END colsample_bytree=1.0, learning_rate=0.1, max_depth=5, n_estimators=200, subsample=1.0; total time=  22.6s\n",
      "[CV] END colsample_bytree=1.0, learning_rate=0.1, max_depth=5, n_estimators=200, subsample=1.0; total time=  22.1s\n",
      "[CV] END colsample_bytree=1.0, learning_rate=0.1, max_depth=5, n_estimators=200, subsample=1.0; total time=  22.0s\n",
      "[CV] END colsample_bytree=1.0, learning_rate=0.1, max_depth=5, n_estimators=200, subsample=1.0; total time=  21.9s\n",
      "[CV] END colsample_bytree=1.0, learning_rate=0.1, max_depth=5, n_estimators=200, subsample=1.0; total time=  22.1s\n",
      "[CV] END colsample_bytree=1.0, learning_rate=0.1, max_depth=7, n_estimators=100, subsample=0.7; total time=  16.1s\n",
      "[CV] END colsample_bytree=1.0, learning_rate=0.1, max_depth=7, n_estimators=100, subsample=0.7; total time=  15.5s\n",
      "[CV] END colsample_bytree=1.0, learning_rate=0.1, max_depth=7, n_estimators=100, subsample=0.7; total time=  15.2s\n",
      "[CV] END colsample_bytree=1.0, learning_rate=0.1, max_depth=7, n_estimators=100, subsample=0.7; total time=  15.4s\n",
      "[CV] END colsample_bytree=1.0, learning_rate=0.1, max_depth=7, n_estimators=100, subsample=0.8; total time=  15.2s\n",
      "[CV] END colsample_bytree=1.0, learning_rate=0.1, max_depth=7, n_estimators=100, subsample=0.8; total time=  15.6s\n",
      "[CV] END colsample_bytree=1.0, learning_rate=0.1, max_depth=7, n_estimators=100, subsample=0.8; total time=  15.1s\n",
      "[CV] END colsample_bytree=1.0, learning_rate=0.1, max_depth=7, n_estimators=100, subsample=0.8; total time=  15.5s\n",
      "[CV] END colsample_bytree=1.0, learning_rate=0.1, max_depth=7, n_estimators=100, subsample=0.8; total time=  15.7s\n",
      "[CV] END colsample_bytree=1.0, learning_rate=0.1, max_depth=7, n_estimators=100, subsample=1.0; total time=  14.7s\n",
      "[CV] END colsample_bytree=1.0, learning_rate=0.1, max_depth=7, n_estimators=100, subsample=1.0; total time=  14.7s\n",
      "[CV] END colsample_bytree=1.0, learning_rate=0.1, max_depth=7, n_estimators=100, subsample=1.0; total time=  15.0s\n",
      "[CV] END colsample_bytree=1.0, learning_rate=0.1, max_depth=7, n_estimators=100, subsample=1.0; total time=  15.2s\n",
      "[CV] END colsample_bytree=1.0, learning_rate=0.1, max_depth=7, n_estimators=100, subsample=1.0; total time=  15.0s\n",
      "[CV] END colsample_bytree=1.0, learning_rate=0.1, max_depth=7, n_estimators=200, subsample=0.7; total time=  28.1s\n",
      "[CV] END colsample_bytree=1.0, learning_rate=0.1, max_depth=7, n_estimators=200, subsample=0.7; total time=  28.1s\n",
      "[CV] END colsample_bytree=1.0, learning_rate=0.1, max_depth=7, n_estimators=200, subsample=0.7; total time=  27.8s\n",
      "[CV] END colsample_bytree=1.0, learning_rate=0.1, max_depth=7, n_estimators=200, subsample=0.7; total time=  27.3s\n",
      "[CV] END colsample_bytree=1.0, learning_rate=0.1, max_depth=7, n_estimators=200, subsample=0.7; total time=  27.3s\n",
      "[CV] END colsample_bytree=1.0, learning_rate=0.1, max_depth=7, n_estimators=200, subsample=0.8; total time=  26.4s\n",
      "[CV] END colsample_bytree=1.0, learning_rate=0.1, max_depth=7, n_estimators=200, subsample=0.8; total time=  27.4s\n",
      "[CV] END colsample_bytree=1.0, learning_rate=0.1, max_depth=7, n_estimators=200, subsample=0.8; total time=  26.8s\n",
      "[CV] END colsample_bytree=1.0, learning_rate=0.2, max_depth=3, n_estimators=100, subsample=0.7; total time=   9.8s\n",
      "[CV] END colsample_bytree=1.0, learning_rate=0.1, max_depth=7, n_estimators=200, subsample=0.8; total time=  27.5s\n",
      "[CV] END colsample_bytree=1.0, learning_rate=0.1, max_depth=7, n_estimators=200, subsample=0.8; total time=  27.3s\n",
      "[CV] END colsample_bytree=1.0, learning_rate=0.2, max_depth=3, n_estimators=100, subsample=0.7; total time=  10.4s\n",
      "[CV] END colsample_bytree=1.0, learning_rate=0.1, max_depth=7, n_estimators=200, subsample=1.0; total time=  25.2s\n",
      "[CV] END colsample_bytree=1.0, learning_rate=0.1, max_depth=7, n_estimators=200, subsample=1.0; total time=  24.9s\n",
      "[CV] END colsample_bytree=1.0, learning_rate=0.1, max_depth=7, n_estimators=200, subsample=1.0; total time=  25.3s\n",
      "[CV] END colsample_bytree=1.0, learning_rate=0.1, max_depth=7, n_estimators=200, subsample=1.0; total time=  25.3s\n",
      "[CV] END colsample_bytree=1.0, learning_rate=0.2, max_depth=3, n_estimators=100, subsample=0.7; total time=   9.9s\n",
      "[CV] END colsample_bytree=1.0, learning_rate=0.1, max_depth=7, n_estimators=200, subsample=1.0; total time=  25.5s\n",
      "[CV] END colsample_bytree=1.0, learning_rate=0.2, max_depth=3, n_estimators=100, subsample=0.7; total time=  10.3s\n",
      "[CV] END colsample_bytree=1.0, learning_rate=0.2, max_depth=3, n_estimators=100, subsample=0.7; total time=  10.4s\n",
      "[CV] END colsample_bytree=1.0, learning_rate=0.2, max_depth=3, n_estimators=100, subsample=0.8; total time=  10.1s\n",
      "[CV] END colsample_bytree=1.0, learning_rate=0.2, max_depth=3, n_estimators=100, subsample=0.8; total time=  10.2s\n",
      "[CV] END colsample_bytree=1.0, learning_rate=0.2, max_depth=3, n_estimators=100, subsample=0.8; total time=  10.4s\n",
      "[CV] END colsample_bytree=1.0, learning_rate=0.2, max_depth=3, n_estimators=100, subsample=0.8; total time=  10.4s\n",
      "[CV] END colsample_bytree=1.0, learning_rate=0.2, max_depth=3, n_estimators=100, subsample=1.0; total time=   9.8s\n",
      "[CV] END colsample_bytree=1.0, learning_rate=0.2, max_depth=3, n_estimators=100, subsample=0.8; total time=  10.7s\n",
      "[CV] END colsample_bytree=1.0, learning_rate=0.2, max_depth=3, n_estimators=100, subsample=1.0; total time=  10.0s\n",
      "[CV] END colsample_bytree=1.0, learning_rate=0.2, max_depth=3, n_estimators=100, subsample=1.0; total time=   9.9s\n",
      "[CV] END colsample_bytree=1.0, learning_rate=0.2, max_depth=3, n_estimators=100, subsample=1.0; total time=   9.9s\n",
      "[CV] END colsample_bytree=1.0, learning_rate=0.2, max_depth=3, n_estimators=100, subsample=1.0; total time=   9.6s\n",
      "[CV] END colsample_bytree=1.0, learning_rate=0.2, max_depth=3, n_estimators=200, subsample=0.7; total time=  18.2s\n",
      "[CV] END colsample_bytree=1.0, learning_rate=0.2, max_depth=3, n_estimators=200, subsample=0.7; total time=  18.1s\n",
      "[CV] END colsample_bytree=1.0, learning_rate=0.2, max_depth=3, n_estimators=200, subsample=0.7; total time=  18.2s\n",
      "[CV] END colsample_bytree=1.0, learning_rate=0.2, max_depth=3, n_estimators=200, subsample=0.7; total time=  17.9s\n",
      "[CV] END colsample_bytree=1.0, learning_rate=0.2, max_depth=3, n_estimators=200, subsample=0.7; total time=  18.2s\n",
      "[CV] END colsample_bytree=1.0, learning_rate=0.2, max_depth=3, n_estimators=200, subsample=0.8; total time=  17.4s\n",
      "[CV] END colsample_bytree=1.0, learning_rate=0.2, max_depth=3, n_estimators=200, subsample=0.8; total time=  17.4s\n",
      "[CV] END colsample_bytree=1.0, learning_rate=0.2, max_depth=3, n_estimators=200, subsample=0.8; total time=  17.4s\n",
      "[CV] END colsample_bytree=1.0, learning_rate=0.2, max_depth=3, n_estimators=200, subsample=1.0; total time=  15.4s\n",
      "[CV] END colsample_bytree=1.0, learning_rate=0.2, max_depth=3, n_estimators=200, subsample=1.0; total time=  16.1s\n",
      "[CV] END colsample_bytree=1.0, learning_rate=0.2, max_depth=3, n_estimators=200, subsample=0.8; total time=  17.3s\n",
      "[CV] END colsample_bytree=1.0, learning_rate=0.2, max_depth=3, n_estimators=200, subsample=0.8; total time=  17.4s\n",
      "[CV] END colsample_bytree=1.0, learning_rate=0.2, max_depth=3, n_estimators=200, subsample=1.0; total time=  16.4s\n",
      "[CV] END colsample_bytree=1.0, learning_rate=0.2, max_depth=5, n_estimators=100, subsample=0.7; total time=  13.0s\n",
      "[CV] END colsample_bytree=1.0, learning_rate=0.2, max_depth=3, n_estimators=200, subsample=1.0; total time=  15.8s\n",
      "[CV] END colsample_bytree=1.0, learning_rate=0.2, max_depth=3, n_estimators=200, subsample=1.0; total time=  16.1s\n",
      "[CV] END colsample_bytree=1.0, learning_rate=0.2, max_depth=5, n_estimators=100, subsample=0.7; total time=  12.9s\n",
      "[CV] END colsample_bytree=1.0, learning_rate=0.2, max_depth=5, n_estimators=100, subsample=0.7; total time=  12.4s\n",
      "[CV] END colsample_bytree=1.0, learning_rate=0.2, max_depth=5, n_estimators=100, subsample=0.7; total time=  12.5s\n",
      "[CV] END colsample_bytree=1.0, learning_rate=0.2, max_depth=5, n_estimators=100, subsample=0.8; total time=  12.5s\n",
      "[CV] END colsample_bytree=1.0, learning_rate=0.2, max_depth=5, n_estimators=100, subsample=0.7; total time=  12.6s\n",
      "[CV] END colsample_bytree=1.0, learning_rate=0.2, max_depth=5, n_estimators=100, subsample=0.8; total time=  12.2s\n",
      "[CV] END colsample_bytree=1.0, learning_rate=0.2, max_depth=5, n_estimators=100, subsample=0.8; total time=  12.5s\n",
      "[CV] END colsample_bytree=1.0, learning_rate=0.2, max_depth=5, n_estimators=100, subsample=0.8; total time=  12.3s\n",
      "[CV] END colsample_bytree=1.0, learning_rate=0.2, max_depth=5, n_estimators=100, subsample=1.0; total time=  12.1s\n",
      "[CV] END colsample_bytree=1.0, learning_rate=0.2, max_depth=5, n_estimators=100, subsample=1.0; total time=  12.5s\n",
      "[CV] END colsample_bytree=1.0, learning_rate=0.2, max_depth=5, n_estimators=100, subsample=0.8; total time=  13.3s\n",
      "[CV] END colsample_bytree=1.0, learning_rate=0.2, max_depth=5, n_estimators=100, subsample=1.0; total time=  12.7s\n",
      "[CV] END colsample_bytree=1.0, learning_rate=0.2, max_depth=5, n_estimators=100, subsample=1.0; total time=  12.9s\n",
      "[CV] END colsample_bytree=1.0, learning_rate=0.2, max_depth=5, n_estimators=100, subsample=1.0; total time=  12.9s\n",
      "[CV] END colsample_bytree=1.0, learning_rate=0.2, max_depth=5, n_estimators=200, subsample=0.7; total time=  28.0s\n",
      "[CV] END colsample_bytree=1.0, learning_rate=0.2, max_depth=5, n_estimators=200, subsample=0.7; total time=  28.4s\n",
      "[CV] END colsample_bytree=1.0, learning_rate=0.2, max_depth=5, n_estimators=200, subsample=0.7; total time=  30.0s\n",
      "[CV] END colsample_bytree=1.0, learning_rate=0.2, max_depth=5, n_estimators=200, subsample=0.7; total time=  30.2s\n",
      "[CV] END colsample_bytree=1.0, learning_rate=0.2, max_depth=5, n_estimators=200, subsample=0.7; total time=  30.6s\n",
      "[CV] END colsample_bytree=1.0, learning_rate=0.2, max_depth=5, n_estimators=200, subsample=0.8; total time=  29.9s\n",
      "[CV] END colsample_bytree=1.0, learning_rate=0.2, max_depth=5, n_estimators=200, subsample=0.8; total time=  29.8s\n",
      "[CV] END colsample_bytree=1.0, learning_rate=0.2, max_depth=5, n_estimators=200, subsample=0.8; total time=  29.8s\n",
      "[CV] END colsample_bytree=1.0, learning_rate=0.2, max_depth=5, n_estimators=200, subsample=0.8; total time=  32.2s\n",
      "[CV] END colsample_bytree=1.0, learning_rate=0.2, max_depth=7, n_estimators=100, subsample=0.7; total time=  20.8s\n",
      "[CV] END colsample_bytree=1.0, learning_rate=0.2, max_depth=5, n_estimators=200, subsample=0.8; total time=  32.6s\n",
      "[CV] END colsample_bytree=1.0, learning_rate=0.2, max_depth=5, n_estimators=200, subsample=1.0; total time=  27.6s\n",
      "[CV] END colsample_bytree=1.0, learning_rate=0.2, max_depth=5, n_estimators=200, subsample=1.0; total time=  28.2s\n",
      "[CV] END colsample_bytree=1.0, learning_rate=0.2, max_depth=5, n_estimators=200, subsample=1.0; total time=  27.7s\n",
      "[CV] END colsample_bytree=1.0, learning_rate=0.2, max_depth=5, n_estimators=200, subsample=1.0; total time=  27.9s\n",
      "[CV] END colsample_bytree=1.0, learning_rate=0.2, max_depth=5, n_estimators=200, subsample=1.0; total time=  27.9s\n",
      "[CV] END colsample_bytree=1.0, learning_rate=0.2, max_depth=7, n_estimators=100, subsample=0.7; total time=  20.1s\n",
      "[CV] END colsample_bytree=1.0, learning_rate=0.2, max_depth=7, n_estimators=100, subsample=0.7; total time=  19.6s\n",
      "[CV] END colsample_bytree=1.0, learning_rate=0.2, max_depth=7, n_estimators=100, subsample=0.7; total time=  19.9s\n",
      "[CV] END colsample_bytree=1.0, learning_rate=0.2, max_depth=7, n_estimators=100, subsample=0.7; total time=  19.2s\n",
      "[CV] END colsample_bytree=1.0, learning_rate=0.2, max_depth=7, n_estimators=100, subsample=0.8; total time=  18.7s\n",
      "[CV] END colsample_bytree=1.0, learning_rate=0.2, max_depth=7, n_estimators=100, subsample=0.8; total time=  19.4s\n",
      "[CV] END colsample_bytree=1.0, learning_rate=0.2, max_depth=7, n_estimators=100, subsample=0.8; total time=  18.9s\n",
      "[CV] END colsample_bytree=1.0, learning_rate=0.2, max_depth=7, n_estimators=100, subsample=0.8; total time=  18.9s\n",
      "[CV] END colsample_bytree=1.0, learning_rate=0.2, max_depth=7, n_estimators=100, subsample=1.0; total time=  16.4s\n",
      "[CV] END colsample_bytree=1.0, learning_rate=0.2, max_depth=7, n_estimators=100, subsample=1.0; total time=  17.3s\n",
      "[CV] END colsample_bytree=1.0, learning_rate=0.2, max_depth=7, n_estimators=100, subsample=0.8; total time=  18.4s\n",
      "[CV] END colsample_bytree=1.0, learning_rate=0.2, max_depth=7, n_estimators=100, subsample=1.0; total time=  16.5s\n",
      "[CV] END colsample_bytree=1.0, learning_rate=0.2, max_depth=7, n_estimators=100, subsample=1.0; total time=  16.7s\n",
      "[CV] END colsample_bytree=1.0, learning_rate=0.2, max_depth=7, n_estimators=100, subsample=1.0; total time=  16.7s\n",
      "[CV] END colsample_bytree=1.0, learning_rate=0.2, max_depth=7, n_estimators=200, subsample=0.7; total time=  32.5s\n",
      "[CV] END colsample_bytree=1.0, learning_rate=0.2, max_depth=7, n_estimators=200, subsample=0.7; total time=  33.5s\n",
      "[CV] END colsample_bytree=1.0, learning_rate=0.2, max_depth=7, n_estimators=200, subsample=0.7; total time=  31.7s\n",
      "[CV] END colsample_bytree=1.0, learning_rate=0.2, max_depth=7, n_estimators=200, subsample=0.7; total time=  32.4s\n",
      "[CV] END colsample_bytree=1.0, learning_rate=0.2, max_depth=7, n_estimators=200, subsample=0.7; total time=  32.0s\n",
      "[CV] END colsample_bytree=1.0, learning_rate=0.2, max_depth=7, n_estimators=200, subsample=0.8; total time=  32.0s\n",
      "[CV] END colsample_bytree=1.0, learning_rate=0.2, max_depth=7, n_estimators=200, subsample=0.8; total time=  31.2s\n",
      "[CV] END colsample_bytree=1.0, learning_rate=0.2, max_depth=7, n_estimators=200, subsample=0.8; total time=  31.3s\n",
      "[CV] END colsample_bytree=1.0, learning_rate=0.2, max_depth=7, n_estimators=200, subsample=0.8; total time=  29.6s\n",
      "[CV] END colsample_bytree=1.0, learning_rate=0.2, max_depth=7, n_estimators=200, subsample=0.8; total time=  29.1s\n",
      "[CV] END colsample_bytree=1.0, learning_rate=0.2, max_depth=7, n_estimators=200, subsample=1.0; total time=  24.1s\n",
      "[CV] END colsample_bytree=1.0, learning_rate=0.2, max_depth=7, n_estimators=200, subsample=1.0; total time=  23.4s\n",
      "[CV] END colsample_bytree=1.0, learning_rate=0.2, max_depth=7, n_estimators=200, subsample=1.0; total time=  23.0s\n",
      "[CV] END colsample_bytree=1.0, learning_rate=0.2, max_depth=7, n_estimators=200, subsample=1.0; total time=  22.0s\n",
      "[CV] END colsample_bytree=1.0, learning_rate=0.2, max_depth=7, n_estimators=200, subsample=1.0; total time=  21.9s\n",
      "Best Parameters: {'colsample_bytree': 1.0, 'learning_rate': 0.1, 'max_depth': 7, 'n_estimators': 100, 'subsample': 1.0}\n",
      "Best XGBoost Model RMSE: 831.31\n",
      "R² Score: 0.042\n"
     ]
    }
   ],
   "source": [
    "param_grid = {\n",
    "    'n_estimators': [100, 200],\n",
    "    'max_depth': [3, 5, 7],\n",
    "    'learning_rate': [0.01, 0.1, 0.2],\n",
    "    'subsample': [0.7, 0.8, 1.0],\n",
    "    'colsample_bytree': [0.7, 0.8, 1.0]\n",
    "}\n",
    "\n",
    "xgb = XGBRegressor(random_state=42, verbosity=0)\n",
    "\n",
    "grid_search = GridSearchCV(\n",
    "    estimator=xgb,\n",
    "    param_grid=param_grid,\n",
    "    cv=5,\n",
    "    scoring='neg_root_mean_squared_error',  # or 'r2', 'neg_mean_absolute_error'\n",
    "    n_jobs=-1,\n",
    "    verbose=2\n",
    ")\n",
    "\n",
    "grid_search.fit(X_train, y_train)\n",
    "\n",
    "print(\"Best Parameters:\", grid_search.best_params_)\n",
    "best_model = grid_search.best_estimator_\n",
    "\n",
    "# Evaluate on Test Data\n",
    "y_pred = best_model.predict(X_test)\n",
    "\n",
    "rmse = np.sqrt(mean_squared_error(y_test, y_pred))\n",
    "r2 = r2_score(y_test, y_pred)\n",
    "\n",
    "print(f\"Best XGBoost Model RMSE: {rmse:.2f}\")\n",
    "print(f\"R² Score: {r2:.3f}\")\n",
    "\n"
   ]
  },
  {
   "cell_type": "code",
   "execution_count": null,
   "id": "4caf9658",
   "metadata": {},
   "outputs": [
    {
     "name": "stdout",
     "output_type": "stream",
     "text": [
      "Best Parameters: {'colsample_bytree': 1.0, 'learning_rate': 0.1, 'max_depth': 7, 'n_estimators': 100, 'subsample': 1.0}\n",
      "Best Model: XGBRegressor(base_score=None, booster=None, callbacks=None,\n",
      "             colsample_bylevel=None, colsample_bynode=None,\n",
      "             colsample_bytree=1.0, device=None, early_stopping_rounds=None,\n",
      "             enable_categorical=False, eval_metric=None, feature_types=None,\n",
      "             gamma=None, grow_policy=None, importance_type=None,\n",
      "             interaction_constraints=None, learning_rate=0.1, max_bin=None,\n",
      "             max_cat_threshold=None, max_cat_to_onehot=None,\n",
      "             max_delta_step=None, max_depth=7, max_leaves=None,\n",
      "             min_child_weight=None, missing=nan, monotone_constraints=None,\n",
      "             multi_strategy=None, n_estimators=100, n_jobs=None,\n",
      "             num_parallel_tree=None, random_state=42, ...)\n",
      "Best Model RMSE: 831.3116142578546\n",
      "Best Model R² Score: 0.0422438383102417\n"
     ]
    }
   ],
   "source": [
    "best_params= grid_search.best_params_ \n",
    "best_model = grid_search.best_estimator_\n",
    "print(\"Best Parameters:\", best_params)\n",
    "print(\"Best Model:\", best_model)\n",
    "print(\"Best Model RMSE:\", rmse)\n",
    "print(\"Best Model R² Score:\", r2)"
   ]
  },
  {
   "cell_type": "markdown",
   "id": "3819d8b2",
   "metadata": {},
   "source": [
    "## Finding the best hyperparameters for Random Forest Regressor using RandomizedSearchCV\n",
    "## ==============================================================================="
   ]
  },
  {
   "cell_type": "code",
   "execution_count": null,
   "id": "ef52d9c3",
   "metadata": {},
   "outputs": [
    {
     "name": "stdout",
     "output_type": "stream",
     "text": [
      "Fitting 5 folds for each of 50 candidates, totalling 250 fits\n",
      "[CV] END max_depth=10, max_features=sqrt, min_samples_leaf=2, min_samples_split=10, n_estimators=400; total time= 7.3min\n",
      "[CV] END max_depth=10, max_features=sqrt, min_samples_leaf=2, min_samples_split=10, n_estimators=400; total time= 7.3min\n",
      "[CV] END max_depth=10, max_features=sqrt, min_samples_leaf=2, min_samples_split=10, n_estimators=400; total time= 7.3min\n"
     ]
    }
   ],
   "source": [
    "# Define parameter grid\n",
    "param_dist = {\n",
    "    'n_estimators': [100, 200, 300, 400, 500],\n",
    "    'max_depth': [10, 20, 30, 50],\n",
    "    'min_samples_split': [2, 5, 10],\n",
    "    'min_samples_leaf': [1, 2, 4],\n",
    "    'max_features': ['auto', 'sqrt', 'log2']\n",
    "}\n",
    "\n",
    "# Create the model\n",
    "rf = RandomForestRegressor(random_state=42)\n",
    "\n",
    "# Create the randomized search with 5-fold CV\n",
    "random_search = RandomizedSearchCV(\n",
    "    estimator=rf,\n",
    "    param_distributions=param_dist,\n",
    "    n_iter=50,                # Number of combinations to try\n",
    "    cv=5,\n",
    "    verbose=2,\n",
    "    n_jobs=-1,\n",
    "    scoring='r2',\n",
    "    random_state=42\n",
    ")\n",
    "\n",
    "# Fit on training data\n",
    "random_search.fit(X_train, y_train)\n",
    "\n",
    "# Best model and parameters\n",
    "print(\"Best Parameters:\", random_search.best_params_)\n",
    "print(\"Best R2 Score (CV):\", random_search.best_score_)\n",
    "\n",
    "# Evaluate on test set\n",
    "best_model = random_search.best_estimator_\n",
    "y_pred = best_model.predict(X_test)\n",
    "print(\"Test R2 Score:\", r2_score(y_test, y_pred))\n",
    "\n"
   ]
  },
  {
   "cell_type": "code",
   "execution_count": null,
   "id": "c132d3a4",
   "metadata": {},
   "outputs": [
    {
     "name": "stdout",
     "output_type": "stream",
     "text": [
      "Fitting 5 folds for each of 48 candidates, totalling 240 fits\n",
      "[CV] END max_depth=5, max_features=auto, min_samples_leaf=1, min_samples_split=2, n_estimators=100; total time=   1.7s[CV] END max_depth=5, max_features=auto, min_samples_leaf=1, min_samples_split=2, n_estimators=200; total time=   1.7s\n",
      "\n",
      "[CV] END max_depth=5, max_features=auto, min_samples_leaf=1, min_samples_split=2, n_estimators=100; total time=   1.7s\n",
      "[CV] END max_depth=5, max_features=auto, min_samples_leaf=1, min_samples_split=2, n_estimators=200; total time=   1.7s\n",
      "[CV] END max_depth=5, max_features=auto, min_samples_leaf=1, min_samples_split=2, n_estimators=100; total time=   1.7s\n",
      "[CV] END max_depth=5, max_features=auto, min_samples_leaf=1, min_samples_split=2, n_estimators=100; total time=   1.7s\n",
      "[CV] END max_depth=5, max_features=auto, min_samples_leaf=1, min_samples_split=2, n_estimators=200; total time=   1.7s\n",
      "[CV] END max_depth=5, max_features=auto, min_samples_leaf=1, min_samples_split=2, n_estimators=100; total time=   1.7s\n",
      "[CV] END max_depth=5, max_features=auto, min_samples_leaf=1, min_samples_split=2, n_estimators=200; total time=   0.3s\n",
      "[CV] END max_depth=5, max_features=auto, min_samples_leaf=1, min_samples_split=2, n_estimators=200; total time=   0.3s\n",
      "[CV] END max_depth=5, max_features=auto, min_samples_leaf=1, min_samples_split=5, n_estimators=100; total time=   0.3s\n",
      "[CV] END max_depth=5, max_features=auto, min_samples_leaf=1, min_samples_split=5, n_estimators=100; total time=   0.3s\n",
      "[CV] END max_depth=5, max_features=auto, min_samples_leaf=1, min_samples_split=5, n_estimators=100; total time=   0.4s\n",
      "[CV] END max_depth=5, max_features=auto, min_samples_leaf=1, min_samples_split=5, n_estimators=100; total time=   0.4s\n",
      "[CV] END max_depth=5, max_features=auto, min_samples_leaf=1, min_samples_split=5, n_estimators=100; total time=   0.3s\n",
      "[CV] END max_depth=5, max_features=auto, min_samples_leaf=1, min_samples_split=5, n_estimators=200; total time=   0.3s\n",
      "[CV] END max_depth=5, max_features=auto, min_samples_leaf=1, min_samples_split=5, n_estimators=200; total time=   0.3s\n",
      "[CV] END max_depth=5, max_features=auto, min_samples_leaf=1, min_samples_split=5, n_estimators=200; total time=   0.3s\n",
      "[CV] END max_depth=5, max_features=auto, min_samples_leaf=2, min_samples_split=2, n_estimators=100; total time=   0.3s\n",
      "[CV] END max_depth=5, max_features=auto, min_samples_leaf=1, min_samples_split=5, n_estimators=200; total time=   0.3s\n",
      "[CV] END max_depth=5, max_features=auto, min_samples_leaf=1, min_samples_split=5, n_estimators=200; total time=   0.3s\n",
      "[CV] END max_depth=5, max_features=auto, min_samples_leaf=2, min_samples_split=2, n_estimators=100; total time=   0.3s\n",
      "[CV] END max_depth=5, max_features=auto, min_samples_leaf=2, min_samples_split=2, n_estimators=100; total time=   0.3s\n",
      "[CV] END max_depth=5, max_features=auto, min_samples_leaf=2, min_samples_split=2, n_estimators=100; total time=   0.3s\n",
      "[CV] END max_depth=5, max_features=auto, min_samples_leaf=2, min_samples_split=2, n_estimators=200; total time=   0.2s\n",
      "[CV] END max_depth=5, max_features=auto, min_samples_leaf=2, min_samples_split=2, n_estimators=100; total time=   0.3s\n",
      "[CV] END max_depth=5, max_features=auto, min_samples_leaf=2, min_samples_split=2, n_estimators=200; total time=   0.3s\n",
      "[CV] END max_depth=5, max_features=auto, min_samples_leaf=2, min_samples_split=2, n_estimators=200; total time=   0.3s\n",
      "[CV] END max_depth=5, max_features=auto, min_samples_leaf=2, min_samples_split=2, n_estimators=200; total time=   0.3s\n",
      "[CV] END max_depth=5, max_features=auto, min_samples_leaf=2, min_samples_split=2, n_estimators=200; total time=   0.3s\n",
      "[CV] END max_depth=5, max_features=auto, min_samples_leaf=2, min_samples_split=5, n_estimators=100; total time=   0.3s\n",
      "[CV] END max_depth=5, max_features=auto, min_samples_leaf=2, min_samples_split=5, n_estimators=100; total time=   0.3s\n",
      "[CV] END max_depth=5, max_features=auto, min_samples_leaf=2, min_samples_split=5, n_estimators=100; total time=   0.2s\n",
      "[CV] END max_depth=5, max_features=auto, min_samples_leaf=2, min_samples_split=5, n_estimators=200; total time=   0.3s\n",
      "[CV] END max_depth=5, max_features=auto, min_samples_leaf=2, min_samples_split=5, n_estimators=100; total time=   0.3s\n",
      "[CV] END max_depth=5, max_features=auto, min_samples_leaf=2, min_samples_split=5, n_estimators=200; total time=   0.3s\n",
      "[CV] END max_depth=5, max_features=auto, min_samples_leaf=2, min_samples_split=5, n_estimators=200; total time=   0.3s\n",
      "[CV] END max_depth=5, max_features=auto, min_samples_leaf=2, min_samples_split=5, n_estimators=200; total time=   0.3s\n",
      "[CV] END max_depth=5, max_features=auto, min_samples_leaf=2, min_samples_split=5, n_estimators=100; total time=   0.3s\n",
      "[CV] END max_depth=5, max_features=auto, min_samples_leaf=2, min_samples_split=5, n_estimators=200; total time=   0.3s\n",
      "[CV] END max_depth=5, max_features=sqrt, min_samples_leaf=1, min_samples_split=2, n_estimators=100; total time= 1.1min\n",
      "[CV] END max_depth=5, max_features=sqrt, min_samples_leaf=1, min_samples_split=2, n_estimators=100; total time= 1.1min\n",
      "[CV] END max_depth=5, max_features=sqrt, min_samples_leaf=1, min_samples_split=2, n_estimators=100; total time= 1.2min\n",
      "[CV] END max_depth=5, max_features=sqrt, min_samples_leaf=1, min_samples_split=2, n_estimators=100; total time= 1.2min\n",
      "[CV] END max_depth=5, max_features=sqrt, min_samples_leaf=1, min_samples_split=2, n_estimators=100; total time= 1.2min\n",
      "[CV] END max_depth=5, max_features=sqrt, min_samples_leaf=1, min_samples_split=2, n_estimators=200; total time= 2.2min\n",
      "[CV] END max_depth=5, max_features=sqrt, min_samples_leaf=1, min_samples_split=2, n_estimators=200; total time= 2.2min\n",
      "[CV] END max_depth=5, max_features=sqrt, min_samples_leaf=1, min_samples_split=2, n_estimators=200; total time= 2.2min\n",
      "[CV] END max_depth=5, max_features=sqrt, min_samples_leaf=1, min_samples_split=5, n_estimators=100; total time= 1.0min\n",
      "[CV] END max_depth=5, max_features=sqrt, min_samples_leaf=1, min_samples_split=5, n_estimators=100; total time= 1.1min\n",
      "[CV] END max_depth=5, max_features=sqrt, min_samples_leaf=1, min_samples_split=5, n_estimators=100; total time= 1.1min\n",
      "[CV] END max_depth=5, max_features=sqrt, min_samples_leaf=1, min_samples_split=2, n_estimators=200; total time= 2.1min\n",
      "[CV] END max_depth=5, max_features=sqrt, min_samples_leaf=1, min_samples_split=2, n_estimators=200; total time= 2.1min\n",
      "[CV] END max_depth=5, max_features=sqrt, min_samples_leaf=1, min_samples_split=5, n_estimators=100; total time= 1.1min\n",
      "[CV] END max_depth=5, max_features=sqrt, min_samples_leaf=1, min_samples_split=5, n_estimators=100; total time= 1.1min\n",
      "[CV] END max_depth=5, max_features=sqrt, min_samples_leaf=1, min_samples_split=5, n_estimators=200; total time= 2.1min\n",
      "[CV] END max_depth=5, max_features=sqrt, min_samples_leaf=1, min_samples_split=5, n_estimators=200; total time= 2.1min\n",
      "[CV] END max_depth=5, max_features=sqrt, min_samples_leaf=2, min_samples_split=2, n_estimators=100; total time= 1.0min\n",
      "[CV] END max_depth=5, max_features=sqrt, min_samples_leaf=2, min_samples_split=2, n_estimators=100; total time= 1.1min\n",
      "[CV] END max_depth=5, max_features=sqrt, min_samples_leaf=1, min_samples_split=5, n_estimators=200; total time= 2.2min\n",
      "[CV] END max_depth=5, max_features=sqrt, min_samples_leaf=1, min_samples_split=5, n_estimators=200; total time= 2.2min\n",
      "[CV] END max_depth=5, max_features=sqrt, min_samples_leaf=2, min_samples_split=2, n_estimators=100; total time= 1.1min\n",
      "[CV] END max_depth=5, max_features=sqrt, min_samples_leaf=1, min_samples_split=5, n_estimators=200; total time= 2.2min\n",
      "[CV] END max_depth=5, max_features=sqrt, min_samples_leaf=2, min_samples_split=2, n_estimators=100; total time= 1.1min\n",
      "[CV] END max_depth=5, max_features=sqrt, min_samples_leaf=2, min_samples_split=2, n_estimators=100; total time= 1.1min\n",
      "[CV] END max_depth=5, max_features=sqrt, min_samples_leaf=2, min_samples_split=2, n_estimators=200; total time= 2.2min\n",
      "[CV] END max_depth=5, max_features=sqrt, min_samples_leaf=2, min_samples_split=5, n_estimators=100; total time= 1.1min\n",
      "[CV] END max_depth=5, max_features=sqrt, min_samples_leaf=2, min_samples_split=2, n_estimators=200; total time= 2.2min\n",
      "[CV] END max_depth=5, max_features=sqrt, min_samples_leaf=2, min_samples_split=5, n_estimators=100; total time= 1.1min\n",
      "[CV] END max_depth=5, max_features=sqrt, min_samples_leaf=2, min_samples_split=5, n_estimators=100; total time= 1.1min\n",
      "[CV] END max_depth=5, max_features=sqrt, min_samples_leaf=2, min_samples_split=2, n_estimators=200; total time= 2.2min\n",
      "[CV] END max_depth=5, max_features=sqrt, min_samples_leaf=2, min_samples_split=2, n_estimators=200; total time= 2.2min\n",
      "[CV] END max_depth=5, max_features=sqrt, min_samples_leaf=2, min_samples_split=2, n_estimators=200; total time= 2.2min\n",
      "[CV] END max_depth=10, max_features=auto, min_samples_leaf=1, min_samples_split=2, n_estimators=100; total time=   0.3s\n",
      "[CV] END max_depth=10, max_features=auto, min_samples_leaf=1, min_samples_split=2, n_estimators=100; total time=   0.2s\n",
      "[CV] END max_depth=10, max_features=auto, min_samples_leaf=1, min_samples_split=2, n_estimators=100; total time=   0.2s\n",
      "[CV] END max_depth=10, max_features=auto, min_samples_leaf=1, min_samples_split=2, n_estimators=100; total time=   0.2s\n",
      "[CV] END max_depth=10, max_features=auto, min_samples_leaf=1, min_samples_split=2, n_estimators=100; total time=   0.2s\n",
      "[CV] END max_depth=10, max_features=auto, min_samples_leaf=1, min_samples_split=2, n_estimators=200; total time=   0.2s\n",
      "[CV] END max_depth=10, max_features=auto, min_samples_leaf=1, min_samples_split=2, n_estimators=200; total time=   0.2s\n",
      "[CV] END max_depth=10, max_features=auto, min_samples_leaf=1, min_samples_split=2, n_estimators=200; total time=   0.4s\n",
      "[CV] END max_depth=10, max_features=auto, min_samples_leaf=1, min_samples_split=2, n_estimators=200; total time=   0.2s\n",
      "[CV] END max_depth=10, max_features=auto, min_samples_leaf=1, min_samples_split=2, n_estimators=200; total time=   0.2s\n",
      "[CV] END max_depth=10, max_features=auto, min_samples_leaf=1, min_samples_split=5, n_estimators=100; total time=   0.2s\n",
      "[CV] END max_depth=10, max_features=auto, min_samples_leaf=1, min_samples_split=5, n_estimators=100; total time=   0.2s\n",
      "[CV] END max_depth=10, max_features=auto, min_samples_leaf=1, min_samples_split=5, n_estimators=100; total time=   0.2s\n",
      "[CV] END max_depth=10, max_features=auto, min_samples_leaf=1, min_samples_split=5, n_estimators=100; total time=   0.2s\n",
      "[CV] END max_depth=10, max_features=auto, min_samples_leaf=1, min_samples_split=5, n_estimators=100; total time=   0.2s\n",
      "[CV] END max_depth=10, max_features=auto, min_samples_leaf=1, min_samples_split=5, n_estimators=200; total time=   0.2s\n",
      "[CV] END max_depth=10, max_features=auto, min_samples_leaf=1, min_samples_split=5, n_estimators=200; total time=   0.2s\n",
      "[CV] END max_depth=10, max_features=auto, min_samples_leaf=1, min_samples_split=5, n_estimators=200; total time=   0.2s\n",
      "[CV] END max_depth=10, max_features=auto, min_samples_leaf=1, min_samples_split=5, n_estimators=200; total time=   0.2s\n",
      "[CV] END max_depth=10, max_features=auto, min_samples_leaf=1, min_samples_split=5, n_estimators=200; total time=   0.2s\n",
      "[CV] END max_depth=10, max_features=auto, min_samples_leaf=2, min_samples_split=2, n_estimators=100; total time=   0.2s\n",
      "[CV] END max_depth=10, max_features=auto, min_samples_leaf=2, min_samples_split=2, n_estimators=100; total time=   0.2s\n",
      "[CV] END max_depth=10, max_features=auto, min_samples_leaf=2, min_samples_split=2, n_estimators=100; total time=   0.2s\n",
      "[CV] END max_depth=10, max_features=auto, min_samples_leaf=2, min_samples_split=2, n_estimators=100; total time=   0.2s\n",
      "[CV] END max_depth=10, max_features=auto, min_samples_leaf=2, min_samples_split=2, n_estimators=100; total time=   0.2s\n",
      "[CV] END max_depth=10, max_features=auto, min_samples_leaf=2, min_samples_split=2, n_estimators=200; total time=   0.2s\n",
      "[CV] END max_depth=10, max_features=auto, min_samples_leaf=2, min_samples_split=2, n_estimators=200; total time=   0.2s\n",
      "[CV] END max_depth=10, max_features=auto, min_samples_leaf=2, min_samples_split=2, n_estimators=200; total time=   0.2s\n",
      "[CV] END max_depth=10, max_features=auto, min_samples_leaf=2, min_samples_split=2, n_estimators=200; total time=   0.2s\n",
      "[CV] END max_depth=10, max_features=auto, min_samples_leaf=2, min_samples_split=2, n_estimators=200; total time=   0.2s\n",
      "[CV] END max_depth=10, max_features=auto, min_samples_leaf=2, min_samples_split=5, n_estimators=100; total time=   0.2s\n",
      "[CV] END max_depth=10, max_features=auto, min_samples_leaf=2, min_samples_split=5, n_estimators=100; total time=   0.2s\n",
      "[CV] END max_depth=10, max_features=auto, min_samples_leaf=2, min_samples_split=5, n_estimators=100; total time=   0.2s\n",
      "[CV] END max_depth=10, max_features=auto, min_samples_leaf=2, min_samples_split=5, n_estimators=100; total time=   0.2s\n",
      "[CV] END max_depth=10, max_features=auto, min_samples_leaf=2, min_samples_split=5, n_estimators=100; total time=   0.2s\n",
      "[CV] END max_depth=10, max_features=auto, min_samples_leaf=2, min_samples_split=5, n_estimators=200; total time=   0.2s\n",
      "[CV] END max_depth=10, max_features=auto, min_samples_leaf=2, min_samples_split=5, n_estimators=200; total time=   0.2s\n",
      "[CV] END max_depth=10, max_features=auto, min_samples_leaf=2, min_samples_split=5, n_estimators=200; total time=   0.2s\n",
      "[CV] END max_depth=10, max_features=auto, min_samples_leaf=2, min_samples_split=5, n_estimators=200; total time=   0.2s\n",
      "[CV] END max_depth=10, max_features=auto, min_samples_leaf=2, min_samples_split=5, n_estimators=200; total time=   0.2s\n",
      "[CV] END max_depth=5, max_features=sqrt, min_samples_leaf=2, min_samples_split=5, n_estimators=100; total time= 1.1min\n",
      "[CV] END max_depth=5, max_features=sqrt, min_samples_leaf=2, min_samples_split=5, n_estimators=100; total time= 1.2min\n",
      "[CV] END max_depth=5, max_features=sqrt, min_samples_leaf=2, min_samples_split=5, n_estimators=200; total time= 2.2min\n",
      "[CV] END max_depth=5, max_features=sqrt, min_samples_leaf=2, min_samples_split=5, n_estimators=200; total time= 2.2min\n",
      "[CV] END max_depth=5, max_features=sqrt, min_samples_leaf=2, min_samples_split=5, n_estimators=200; total time= 2.2min\n",
      "[CV] END max_depth=5, max_features=sqrt, min_samples_leaf=2, min_samples_split=5, n_estimators=200; total time= 2.3min\n",
      "[CV] END max_depth=5, max_features=sqrt, min_samples_leaf=2, min_samples_split=5, n_estimators=200; total time= 2.2min\n",
      "[CV] END max_depth=10, max_features=sqrt, min_samples_leaf=1, min_samples_split=2, n_estimators=100; total time= 2.1min\n",
      "[CV] END max_depth=10, max_features=sqrt, min_samples_leaf=1, min_samples_split=2, n_estimators=100; total time= 2.1min\n",
      "[CV] END max_depth=10, max_features=sqrt, min_samples_leaf=1, min_samples_split=2, n_estimators=100; total time= 2.1min\n",
      "[CV] END max_depth=10, max_features=sqrt, min_samples_leaf=1, min_samples_split=2, n_estimators=100; total time= 2.0min\n",
      "[CV] END max_depth=10, max_features=sqrt, min_samples_leaf=1, min_samples_split=2, n_estimators=100; total time= 2.0min\n",
      "[CV] END max_depth=10, max_features=sqrt, min_samples_leaf=1, min_samples_split=5, n_estimators=100; total time= 2.0min\n",
      "[CV] END max_depth=10, max_features=sqrt, min_samples_leaf=1, min_samples_split=2, n_estimators=200; total time= 4.0min\n",
      "[CV] END max_depth=10, max_features=sqrt, min_samples_leaf=1, min_samples_split=5, n_estimators=100; total time= 2.1min\n",
      "[CV] END max_depth=10, max_features=sqrt, min_samples_leaf=1, min_samples_split=5, n_estimators=100; total time= 2.1min\n",
      "[CV] END max_depth=10, max_features=sqrt, min_samples_leaf=1, min_samples_split=2, n_estimators=200; total time= 4.1min\n",
      "[CV] END max_depth=10, max_features=sqrt, min_samples_leaf=1, min_samples_split=2, n_estimators=200; total time= 4.1min\n",
      "[CV] END max_depth=10, max_features=sqrt, min_samples_leaf=1, min_samples_split=2, n_estimators=200; total time= 4.1min\n",
      "[CV] END max_depth=10, max_features=sqrt, min_samples_leaf=1, min_samples_split=5, n_estimators=100; total time= 2.0min\n",
      "[CV] END max_depth=10, max_features=sqrt, min_samples_leaf=1, min_samples_split=2, n_estimators=200; total time= 4.1min\n",
      "[CV] END max_depth=10, max_features=sqrt, min_samples_leaf=1, min_samples_split=5, n_estimators=100; total time= 2.0min\n",
      "[CV] END max_depth=10, max_features=sqrt, min_samples_leaf=2, min_samples_split=2, n_estimators=100; total time= 3.6min\n",
      "[CV] END max_depth=10, max_features=sqrt, min_samples_leaf=2, min_samples_split=2, n_estimators=100; total time= 3.6min\n",
      "[CV] END max_depth=10, max_features=sqrt, min_samples_leaf=1, min_samples_split=5, n_estimators=200; total time= 5.6min\n",
      "[CV] END max_depth=10, max_features=sqrt, min_samples_leaf=1, min_samples_split=5, n_estimators=200; total time= 5.5min\n",
      "[CV] END max_depth=10, max_features=sqrt, min_samples_leaf=2, min_samples_split=2, n_estimators=100; total time= 3.6min\n",
      "[CV] END max_depth=10, max_features=sqrt, min_samples_leaf=1, min_samples_split=5, n_estimators=200; total time= 5.6min\n",
      "[CV] END max_depth=10, max_features=sqrt, min_samples_leaf=1, min_samples_split=5, n_estimators=200; total time= 5.6min\n",
      "[CV] END max_depth=10, max_features=sqrt, min_samples_leaf=1, min_samples_split=5, n_estimators=200; total time= 5.6min\n",
      "[CV] END max_depth=10, max_features=sqrt, min_samples_leaf=2, min_samples_split=2, n_estimators=100; total time= 1.9min\n",
      "[CV] END max_depth=10, max_features=sqrt, min_samples_leaf=2, min_samples_split=2, n_estimators=100; total time= 1.9min\n",
      "[CV] END max_depth=10, max_features=sqrt, min_samples_leaf=2, min_samples_split=5, n_estimators=100; total time= 2.0min\n",
      "[CV] END max_depth=10, max_features=sqrt, min_samples_leaf=2, min_samples_split=5, n_estimators=100; total time= 2.1min\n",
      "[CV] END max_depth=10, max_features=sqrt, min_samples_leaf=2, min_samples_split=5, n_estimators=100; total time= 2.0min\n",
      "[CV] END max_depth=10, max_features=sqrt, min_samples_leaf=2, min_samples_split=2, n_estimators=200; total time= 4.0min\n",
      "[CV] END max_depth=10, max_features=sqrt, min_samples_leaf=2, min_samples_split=2, n_estimators=200; total time= 4.0min\n",
      "[CV] END max_depth=10, max_features=sqrt, min_samples_leaf=2, min_samples_split=2, n_estimators=200; total time= 4.0min\n",
      "[CV] END max_depth=10, max_features=sqrt, min_samples_leaf=2, min_samples_split=2, n_estimators=200; total time= 4.0min\n",
      "[CV] END max_depth=10, max_features=sqrt, min_samples_leaf=2, min_samples_split=2, n_estimators=200; total time= 4.0min\n",
      "[CV] END max_depth=20, max_features=auto, min_samples_leaf=1, min_samples_split=2, n_estimators=100; total time=   0.4s\n",
      "[CV] END max_depth=20, max_features=auto, min_samples_leaf=1, min_samples_split=2, n_estimators=100; total time=   0.3s\n",
      "[CV] END max_depth=20, max_features=auto, min_samples_leaf=1, min_samples_split=2, n_estimators=100; total time=   0.3s\n",
      "[CV] END max_depth=20, max_features=auto, min_samples_leaf=1, min_samples_split=2, n_estimators=100; total time=   0.2s\n",
      "[CV] END max_depth=20, max_features=auto, min_samples_leaf=1, min_samples_split=2, n_estimators=100; total time=   0.2s\n",
      "[CV] END max_depth=20, max_features=auto, min_samples_leaf=1, min_samples_split=2, n_estimators=200; total time=   0.2s\n",
      "[CV] END max_depth=20, max_features=auto, min_samples_leaf=1, min_samples_split=2, n_estimators=200; total time=   0.2s\n",
      "[CV] END max_depth=20, max_features=auto, min_samples_leaf=1, min_samples_split=2, n_estimators=200; total time=   0.2s\n",
      "[CV] END max_depth=20, max_features=auto, min_samples_leaf=1, min_samples_split=2, n_estimators=200; total time=   0.2s\n",
      "[CV] END max_depth=20, max_features=auto, min_samples_leaf=1, min_samples_split=2, n_estimators=200; total time=   0.2s\n",
      "[CV] END max_depth=20, max_features=auto, min_samples_leaf=1, min_samples_split=5, n_estimators=100; total time=   0.2s\n",
      "[CV] END max_depth=20, max_features=auto, min_samples_leaf=1, min_samples_split=5, n_estimators=100; total time=   0.1s\n",
      "[CV] END max_depth=20, max_features=auto, min_samples_leaf=1, min_samples_split=5, n_estimators=100; total time=   0.2s\n",
      "[CV] END max_depth=20, max_features=auto, min_samples_leaf=1, min_samples_split=5, n_estimators=100; total time=   0.2s\n",
      "[CV] END max_depth=20, max_features=auto, min_samples_leaf=1, min_samples_split=5, n_estimators=100; total time=   0.2s\n",
      "[CV] END max_depth=20, max_features=auto, min_samples_leaf=1, min_samples_split=5, n_estimators=200; total time=   0.2s\n",
      "[CV] END max_depth=20, max_features=auto, min_samples_leaf=1, min_samples_split=5, n_estimators=200; total time=   0.1s\n",
      "[CV] END max_depth=20, max_features=auto, min_samples_leaf=1, min_samples_split=5, n_estimators=200; total time=   0.1s\n",
      "[CV] END max_depth=20, max_features=auto, min_samples_leaf=1, min_samples_split=5, n_estimators=200; total time=   0.2s\n",
      "[CV] END max_depth=10, max_features=sqrt, min_samples_leaf=2, min_samples_split=5, n_estimators=100; total time= 2.0min\n",
      "[CV] END max_depth=20, max_features=auto, min_samples_leaf=1, min_samples_split=5, n_estimators=200; total time=   0.2s\n",
      "[CV] END max_depth=20, max_features=auto, min_samples_leaf=2, min_samples_split=2, n_estimators=100; total time=   0.2s\n",
      "[CV] END max_depth=20, max_features=auto, min_samples_leaf=2, min_samples_split=2, n_estimators=100; total time=   0.2s\n",
      "[CV] END max_depth=20, max_features=auto, min_samples_leaf=2, min_samples_split=2, n_estimators=100; total time=   0.2s\n",
      "[CV] END max_depth=20, max_features=auto, min_samples_leaf=2, min_samples_split=2, n_estimators=100; total time=   0.2s\n",
      "[CV] END max_depth=20, max_features=auto, min_samples_leaf=2, min_samples_split=2, n_estimators=100; total time=   0.2s\n",
      "[CV] END max_depth=20, max_features=auto, min_samples_leaf=2, min_samples_split=2, n_estimators=200; total time=   0.2s\n",
      "[CV] END max_depth=20, max_features=auto, min_samples_leaf=2, min_samples_split=2, n_estimators=200; total time=   0.2s\n",
      "[CV] END max_depth=20, max_features=auto, min_samples_leaf=2, min_samples_split=2, n_estimators=200; total time=   0.2s\n",
      "[CV] END max_depth=20, max_features=auto, min_samples_leaf=2, min_samples_split=2, n_estimators=200; total time=   0.2s\n",
      "[CV] END max_depth=20, max_features=auto, min_samples_leaf=2, min_samples_split=2, n_estimators=200; total time=   0.2s\n",
      "[CV] END max_depth=20, max_features=auto, min_samples_leaf=2, min_samples_split=5, n_estimators=100; total time=   0.2s\n",
      "[CV] END max_depth=20, max_features=auto, min_samples_leaf=2, min_samples_split=5, n_estimators=100; total time=   0.2s\n",
      "[CV] END max_depth=20, max_features=auto, min_samples_leaf=2, min_samples_split=5, n_estimators=100; total time=   0.2s\n",
      "[CV] END max_depth=20, max_features=auto, min_samples_leaf=2, min_samples_split=5, n_estimators=100; total time=   0.2s\n",
      "[CV] END max_depth=20, max_features=auto, min_samples_leaf=2, min_samples_split=5, n_estimators=100; total time=   0.2s\n",
      "[CV] END max_depth=20, max_features=auto, min_samples_leaf=2, min_samples_split=5, n_estimators=200; total time=   0.2s\n",
      "[CV] END max_depth=20, max_features=auto, min_samples_leaf=2, min_samples_split=5, n_estimators=200; total time=   0.2s\n",
      "[CV] END max_depth=20, max_features=auto, min_samples_leaf=2, min_samples_split=5, n_estimators=200; total time=   0.2s\n",
      "[CV] END max_depth=20, max_features=auto, min_samples_leaf=2, min_samples_split=5, n_estimators=200; total time=   0.2s\n",
      "[CV] END max_depth=20, max_features=auto, min_samples_leaf=2, min_samples_split=5, n_estimators=200; total time=   0.2s\n",
      "[CV] END max_depth=10, max_features=sqrt, min_samples_leaf=2, min_samples_split=5, n_estimators=100; total time= 2.0min\n",
      "[CV] END max_depth=10, max_features=sqrt, min_samples_leaf=2, min_samples_split=5, n_estimators=200; total time= 4.0min\n",
      "[CV] END max_depth=10, max_features=sqrt, min_samples_leaf=2, min_samples_split=5, n_estimators=200; total time= 3.9min\n",
      "[CV] END max_depth=10, max_features=sqrt, min_samples_leaf=2, min_samples_split=5, n_estimators=200; total time= 3.9min\n",
      "[CV] END max_depth=10, max_features=sqrt, min_samples_leaf=2, min_samples_split=5, n_estimators=200; total time= 3.9min\n",
      "[CV] END max_depth=20, max_features=sqrt, min_samples_leaf=1, min_samples_split=2, n_estimators=100; total time= 3.8min\n",
      "[CV] END max_depth=10, max_features=sqrt, min_samples_leaf=2, min_samples_split=5, n_estimators=200; total time= 3.9min\n",
      "[CV] END max_depth=20, max_features=sqrt, min_samples_leaf=1, min_samples_split=2, n_estimators=100; total time= 3.8min\n",
      "[CV] END max_depth=20, max_features=sqrt, min_samples_leaf=1, min_samples_split=2, n_estimators=100; total time= 3.7min\n",
      "[CV] END max_depth=20, max_features=sqrt, min_samples_leaf=1, min_samples_split=2, n_estimators=100; total time= 3.7min\n",
      "[CV] END max_depth=20, max_features=sqrt, min_samples_leaf=1, min_samples_split=2, n_estimators=100; total time= 3.6min\n",
      "[CV] END max_depth=20, max_features=sqrt, min_samples_leaf=1, min_samples_split=5, n_estimators=100; total time= 3.5min\n",
      "[CV] END max_depth=20, max_features=sqrt, min_samples_leaf=1, min_samples_split=5, n_estimators=100; total time= 3.5min\n",
      "[CV] END max_depth=20, max_features=sqrt, min_samples_leaf=1, min_samples_split=5, n_estimators=100; total time= 3.5min\n",
      "[CV] END max_depth=20, max_features=sqrt, min_samples_leaf=1, min_samples_split=2, n_estimators=200; total time= 7.4min\n",
      "[CV] END max_depth=20, max_features=sqrt, min_samples_leaf=1, min_samples_split=2, n_estimators=200; total time= 7.4min\n",
      "[CV] END max_depth=20, max_features=sqrt, min_samples_leaf=1, min_samples_split=2, n_estimators=200; total time= 7.4min\n",
      "[CV] END max_depth=20, max_features=sqrt, min_samples_leaf=1, min_samples_split=2, n_estimators=200; total time= 7.4min\n",
      "[CV] END max_depth=20, max_features=sqrt, min_samples_leaf=1, min_samples_split=2, n_estimators=200; total time= 7.4min\n",
      "[CV] END max_depth=20, max_features=sqrt, min_samples_leaf=1, min_samples_split=5, n_estimators=100; total time= 3.4min\n",
      "[CV] END max_depth=20, max_features=sqrt, min_samples_leaf=1, min_samples_split=5, n_estimators=100; total time= 3.4min\n",
      "[CV] END max_depth=20, max_features=sqrt, min_samples_leaf=2, min_samples_split=2, n_estimators=100; total time= 3.5min\n",
      "[CV] END max_depth=20, max_features=sqrt, min_samples_leaf=2, min_samples_split=2, n_estimators=100; total time= 3.5min\n",
      "[CV] END max_depth=20, max_features=sqrt, min_samples_leaf=2, min_samples_split=2, n_estimators=100; total time= 3.5min\n",
      "[CV] END max_depth=20, max_features=sqrt, min_samples_leaf=1, min_samples_split=5, n_estimators=200; total time= 6.9min\n",
      "[CV] END max_depth=20, max_features=sqrt, min_samples_leaf=1, min_samples_split=5, n_estimators=200; total time= 6.9min\n",
      "[CV] END max_depth=20, max_features=sqrt, min_samples_leaf=1, min_samples_split=5, n_estimators=200; total time= 6.9min\n",
      "[CV] END max_depth=20, max_features=sqrt, min_samples_leaf=1, min_samples_split=5, n_estimators=200; total time= 6.9min\n",
      "[CV] END max_depth=20, max_features=sqrt, min_samples_leaf=1, min_samples_split=5, n_estimators=200; total time= 7.0min\n",
      "[CV] END max_depth=20, max_features=sqrt, min_samples_leaf=2, min_samples_split=2, n_estimators=100; total time= 3.5min\n",
      "[CV] END max_depth=20, max_features=sqrt, min_samples_leaf=2, min_samples_split=2, n_estimators=100; total time= 3.4min\n",
      "[CV] END max_depth=20, max_features=sqrt, min_samples_leaf=2, min_samples_split=5, n_estimators=100; total time= 3.5min\n",
      "[CV] END max_depth=20, max_features=sqrt, min_samples_leaf=2, min_samples_split=5, n_estimators=100; total time= 3.6min\n",
      "[CV] END max_depth=20, max_features=sqrt, min_samples_leaf=2, min_samples_split=5, n_estimators=100; total time= 3.6min\n",
      "[CV] END max_depth=20, max_features=sqrt, min_samples_leaf=2, min_samples_split=2, n_estimators=200; total time= 7.0min\n",
      "[CV] END max_depth=20, max_features=sqrt, min_samples_leaf=2, min_samples_split=2, n_estimators=200; total time= 6.9min\n",
      "[CV] END max_depth=20, max_features=sqrt, min_samples_leaf=2, min_samples_split=2, n_estimators=200; total time= 6.9min\n",
      "[CV] END max_depth=20, max_features=sqrt, min_samples_leaf=2, min_samples_split=5, n_estimators=100; total time= 3.4min\n",
      "[CV] END max_depth=20, max_features=sqrt, min_samples_leaf=2, min_samples_split=5, n_estimators=100; total time= 3.4min\n",
      "[CV] END max_depth=20, max_features=sqrt, min_samples_leaf=2, min_samples_split=2, n_estimators=200; total time= 7.0min\n",
      "[CV] END max_depth=20, max_features=sqrt, min_samples_leaf=2, min_samples_split=2, n_estimators=200; total time= 7.0min\n",
      "[CV] END max_depth=20, max_features=sqrt, min_samples_leaf=2, min_samples_split=5, n_estimators=200; total time= 5.8min\n",
      "[CV] END max_depth=20, max_features=sqrt, min_samples_leaf=2, min_samples_split=5, n_estimators=200; total time= 5.1min\n",
      "[CV] END max_depth=20, max_features=sqrt, min_samples_leaf=2, min_samples_split=5, n_estimators=200; total time= 4.7min\n",
      "[CV] END max_depth=20, max_features=sqrt, min_samples_leaf=2, min_samples_split=5, n_estimators=200; total time= 4.5min\n",
      "[CV] END max_depth=20, max_features=sqrt, min_samples_leaf=2, min_samples_split=5, n_estimators=200; total time= 4.5min\n",
      "Best Parameters: {'max_depth': 20, 'max_features': 'sqrt', 'min_samples_leaf': 2, 'min_samples_split': 2, 'n_estimators': 200}\n",
      "Best R2 Score (CV): 0.027507502197624434\n",
      "Test R2 Score: 0.028140389148605394\n"
     ]
    }
   ],
   "source": [
    "## finding the best parameters for the random forest model using the grid search\n",
    "\n",
    "# Define the parameter grid (fewer combinations than RandomizedSearchCV to save time)\n",
    "param_grid = {\n",
    "    'n_estimators': [100, 200],\n",
    "    'max_depth': [5, 10, 20],\n",
    "    'min_samples_split': [2, 5],\n",
    "    'min_samples_leaf': [1, 2],\n",
    "    'max_features': ['auto', 'sqrt']\n",
    "}\n",
    "\n",
    "# Initialize the model\n",
    "rf = RandomForestRegressor(random_state=42)\n",
    "\n",
    "# Set up GridSearchCV\n",
    "grid_search = GridSearchCV(\n",
    "    estimator=rf,\n",
    "    param_grid=param_grid,\n",
    "    cv=5,\n",
    "    verbose=2,\n",
    "    n_jobs=-1,\n",
    "    scoring='r2'\n",
    ")\n",
    "\n",
    "# Fit on training data\n",
    "grid_search.fit(X_train, y_train)\n",
    "\n",
    "# Best model and parameters\n",
    "print(\"Best Parameters:\", grid_search.best_params_)\n",
    "print(\"Best R2 Score (CV):\", grid_search.best_score_)\n",
    "\n",
    "# Evaluate on test set\n",
    "best_model = grid_search.best_estimator_\n",
    "y_pred = best_model.predict(X_test)\n",
    "print(\"Test R2 Score:\", r2_score(y_test, y_pred))\n"
   ]
  },
  {
   "cell_type": "code",
   "execution_count": null,
   "id": "293c57da",
   "metadata": {},
   "outputs": [
    {
     "name": "stdout",
     "output_type": "stream",
     "text": [
      "Best Parameters: {'max_depth': 20, 'max_features': 'sqrt', 'min_samples_leaf': 2, 'min_samples_split': 2, 'n_estimators': 200}\n"
     ]
    }
   ],
   "source": [
    "print(\"Best Parameters:\", grid_search.best_params_)\n"
   ]
  },
  {
   "cell_type": "markdown",
   "id": "a4623e59",
   "metadata": {},
   "source": [
    "## Building an ML pipeline"
   ]
  },
  {
   "cell_type": "code",
   "execution_count": null,
   "id": "3e31fa27",
   "metadata": {},
   "outputs": [],
   "source": [
    "\n",
    "class SmartPremiumPipeline:\n",
    "    def __init__(self):\n",
    "        self.model = None\n",
    "        self.preprocessor = None\n",
    "        self.fitted = False\n",
    "\n",
    "    def _clean_data(self, df):\n",
    "        if 'Policy Start Date' in df.columns:\n",
    "            df['Policy Start Date'] = pd.to_datetime(df['Policy Start Date'], errors='coerce')\n",
    "            df['Policy_Year'] = df['Policy Start Date'].dt.year\n",
    "            df['Policy_Month'] = df['Policy Start Date'].dt.month\n",
    "            df['Policy_Weekday'] = df['Policy Start Date'].dt.weekday\n",
    "\n",
    "        if 'Age' in df.columns:\n",
    "            df['Age Group'] = pd.cut(df['Age'], bins=[18, 25, 35, 45, 60, 100],\n",
    "                                     labels=['18-25', '26-35', '36-45', '46-60', '60+'])\n",
    "\n",
    "        if 'Credit Score' in df.columns:\n",
    "            df['CreditScoreGroup'] = pd.cut(df['Credit Score'], bins=[300, 500, 650, 750, 850],\n",
    "                                            labels=['Poor', 'Average', 'Good', 'Excellent'])\n",
    "\n",
    "        return df\n",
    "\n",
    "    def _remove_outliers(self, df, numerical_cols):\n",
    "        for col in numerical_cols:\n",
    "            Q1 = df[col].quantile(0.25)\n",
    "            Q3 = df[col].quantile(0.75)\n",
    "            IQR = Q3 - Q1\n",
    "            lower_bound = Q1 - 1.5 * IQR\n",
    "            upper_bound = Q3 + 1.5 * IQR\n",
    "            df = df[(df[col] >= lower_bound) & (df[col] <= upper_bound)]\n",
    "        return df\n",
    "\n",
    "    def fit(self, df, target_column, model_name='RandomForest', model_params={}):\n",
    "        df = df.copy()\n",
    "\n",
    "        num_cols = df.select_dtypes(include=['int64', 'float64']).columns.tolist()\n",
    "        cat_cols = df.select_dtypes(include=['object', 'category', 'bool']).columns.tolist()\n",
    "\n",
    "        for col in num_cols:\n",
    "            df[col].fillna(df[col].median(), inplace=True)\n",
    "        for col in cat_cols:\n",
    "            df[col].fillna(df[col].mode()[0], inplace=True)\n",
    "\n",
    "        df.drop_duplicates(inplace=True)\n",
    "\n",
    "        if target_column in num_cols:\n",
    "            num_cols.remove(target_column)\n",
    "        df = self._remove_outliers(df, num_cols)\n",
    "\n",
    "        df = self._clean_data(df)\n",
    "\n",
    "        cat_features = df.select_dtypes(include=['object', 'category']).columns.tolist()\n",
    "        num_features = df.select_dtypes(include=['int64', 'float64']).drop(columns=[target_column]).columns.tolist()\n",
    "\n",
    "        self.preprocessor = ColumnTransformer([\n",
    "            ('num', 'passthrough', num_features),\n",
    "            ('cat', OneHotEncoder(drop='first', handle_unknown='ignore'), cat_features)\n",
    "        ])\n",
    "\n",
    "        X = df.drop(columns=[target_column])\n",
    "        y = df[target_column]\n",
    "\n",
    "        X_train, X_test, y_train, y_test = train_test_split(X, y, test_size=0.2, random_state=42)\n",
    "\n",
    "        #with mlflow.start_run():\n",
    "        if model_name == 'RandomForest':\n",
    "            model = RandomForestRegressor(random_state=42, **model_params)\n",
    "        elif model_name == 'XGBoost':\n",
    "            from xgboost import XGBRegressor\n",
    "            model = XGBRegressor(random_state=42, **model_params)\n",
    "        elif model_name == 'LinearRegression':\n",
    "            model = LinearRegression(**model_params)\n",
    "        elif model_name == 'DecisionTree':\n",
    "            model = DecisionTreeRegressor(random_state=42, **model_params)\n",
    "        else:\n",
    "            raise ValueError(\"Unsupported model\")\n",
    "\n",
    "        self.model = Pipeline(steps=[\n",
    "            ('preprocessor', self.preprocessor),\n",
    "            ('regressor', model)\n",
    "        ])\n",
    "        with mlflow.start_run(run_name=f\"{model_name}_Run\"):\n",
    "            self.model.fit(X_train, y_train)\n",
    "            self.fitted = True\n",
    "\n",
    "            y_pred = self.model.predict(X_test)\n",
    "            rmse = np.sqrt(mean_squared_error(y_test, y_pred))\n",
    "            mae = mean_absolute_error(y_test, y_pred)\n",
    "            r2 = r2_score(y_test, y_pred)\n",
    "\n",
    "            print(\"Model Evaluation:\", model_name)\n",
    "            print(\"RMSE:\", rmse)\n",
    "            print(\"MAE:\", mae)\n",
    "            print(\"R^2 Score:\", r2)\n",
    "\n",
    "            if model_name in ['RandomForest', 'XGBoost']:\n",
    "                save_path = f\"saved_models/{model_name}_model.pkl\"\n",
    "                os.makedirs(\"saved_models\", exist_ok=True)\n",
    "                joblib.dump(self.model, save_path)\n",
    "                print(f\"{model_name} saved to {save_path}\")\n",
    "\n",
    "            mlflow.log_param(\"model_name\", model_name)\n",
    "            mlflow.log_params(model_params)\n",
    "            mlflow.log_metric(\"rmse\", rmse)\n",
    "            mlflow.log_metric(\"mae\", mae)\n",
    "            mlflow.log_metric(\"r2_score\", r2)\n",
    "            mlflow.sklearn.log_model(self.model, artifact_path=f\"model_{model_name}\")\n",
    "\n",
    "        \n",
    "\n",
    "    def predict(self, df):\n",
    "        if not self.fitted:\n",
    "            raise Exception(\"Model not fitted. Please call fit() first.\")\n",
    "\n",
    "        df = df.copy()\n",
    "\n",
    "        for col in df.select_dtypes(include=['int64', 'float64']).columns:\n",
    "            df[col].fillna(df[col].median(), inplace=True)\n",
    "        for col in df.select_dtypes(include=['object', 'category', 'bool']).columns:\n",
    "            df[col].fillna(df[col].mode()[0], inplace=True)\n",
    "\n",
    "        df = self._clean_data(df)\n",
    "        \n",
    "        cat_features = df.select_dtypes(include=['object', 'category']).columns.tolist()\n",
    "        num_features = df.select_dtypes(include=['int64', 'float64']).columns.tolist()\n",
    "\n",
    "        self.preprocessor = ColumnTransformer([\n",
    "            ('num', 'passthrough', num_features),\n",
    "            ('cat', OneHotEncoder(drop='first', handle_unknown='ignore'), cat_features)\n",
    "        ])\n",
    "\n",
    "        predictions = self.model.predict(df)\n",
    "        return predictions\n"
   ]
  },
  {
   "cell_type": "markdown",
   "id": "33e0f5e5",
   "metadata": {},
   "source": [
    "### Pipeline usage: "
   ]
  },
  {
   "cell_type": "code",
   "execution_count": 39,
   "id": "a238a80c",
   "metadata": {},
   "outputs": [
    {
     "name": "stdout",
     "output_type": "stream",
     "text": [
      "Model Evaluation: RandomForest\n",
      "RMSE: 837.2234600088482\n",
      "MAE: 641.8410466143658\n",
      "R^2 Score: 0.02693749927046729\n",
      "RandomForest saved to saved_models/RandomForest_model.pkl\n"
     ]
    },
    {
     "name": "stderr",
     "output_type": "stream",
     "text": [
      "\u001b[31m2025/05/21 20:45:29 WARNING mlflow.models.model: Model logged without a signature and input example. Please set `input_example` parameter when logging the model to auto infer the model signature.\u001b[0m\n"
     ]
    },
    {
     "name": "stdout",
     "output_type": "stream",
     "text": [
      "🏃 View run RandomForest_Run at: http://127.0.0.1:5000/#/experiments/400738423036369297/runs/b7b91992904b45f793ed3d90b33dc1b7\n",
      "🧪 View experiment at: http://127.0.0.1:5000/#/experiments/400738423036369297\n",
      "Model Evaluation: XGBoost\n",
      "RMSE: 832.3211166922358\n",
      "MAE: 632.8499102357459\n",
      "R^2 Score: 0.03829962783299734\n",
      "XGBoost saved to saved_models/XGBoost_model.pkl\n"
     ]
    },
    {
     "name": "stderr",
     "output_type": "stream",
     "text": [
      "\u001b[31m2025/05/21 20:45:51 WARNING mlflow.models.model: Model logged without a signature and input example. Please set `input_example` parameter when logging the model to auto infer the model signature.\u001b[0m\n"
     ]
    },
    {
     "name": "stdout",
     "output_type": "stream",
     "text": [
      "🏃 View run XGBoost_Run at: http://127.0.0.1:5000/#/experiments/400738423036369297/runs/3b05c8dcd2bb4e9896e302720df3d1ed\n",
      "🧪 View experiment at: http://127.0.0.1:5000/#/experiments/400738423036369297\n",
      "Model Evaluation: DecisionTree\n",
      "RMSE: 837.0955898532806\n",
      "MAE: 639.6704786479111\n",
      "R^2 Score: 0.0197902196541766\n"
     ]
    },
    {
     "name": "stderr",
     "output_type": "stream",
     "text": [
      "\u001b[31m2025/05/21 20:46:01 WARNING mlflow.models.model: Model logged without a signature and input example. Please set `input_example` parameter when logging the model to auto infer the model signature.\u001b[0m\n"
     ]
    },
    {
     "name": "stdout",
     "output_type": "stream",
     "text": [
      "🏃 View run DecisionTree_Run at: http://127.0.0.1:5000/#/experiments/400738423036369297/runs/f67786508492467a8dfde01bad138cb1\n",
      "🧪 View experiment at: http://127.0.0.1:5000/#/experiments/400738423036369297\n",
      "Model Evaluation: LinearRegression\n",
      "RMSE: 847.3757942193572\n",
      "MAE: 652.0898106863131\n",
      "R^2 Score: 0.003195326120823405\n"
     ]
    },
    {
     "name": "stderr",
     "output_type": "stream",
     "text": [
      "\u001b[31m2025/05/21 20:46:10 WARNING mlflow.models.model: Model logged without a signature and input example. Please set `input_example` parameter when logging the model to auto infer the model signature.\u001b[0m\n"
     ]
    },
    {
     "name": "stdout",
     "output_type": "stream",
     "text": [
      "🏃 View run LinearRegression_Run at: http://127.0.0.1:5000/#/experiments/400738423036369297/runs/0e011d573636440a9943ab7a0abfdabb\n",
      "🧪 View experiment at: http://127.0.0.1:5000/#/experiments/400738423036369297\n",
      "         Predicted Premium Amount\n",
      "id                               \n",
      "1200000               1093.360818\n",
      "1200001               1012.029201\n",
      "1200002               1104.497643\n",
      "1200003               1065.499084\n",
      "1200004               1108.025568\n"
     ]
    }
   ],
   "source": [
    "# Step 1: Load your data\n",
    "\n",
    "train_df = pd.read_csv(\"/Users/muralidharanv/Documents/GUVI /PROJECTS/Smart Premium/DATA/playground-series-s4e12 (1)/train.csv\",index_col=0)\n",
    "test_df = pd.read_csv('/Users/muralidharanv/Documents/GUVI /PROJECTS/Smart Premium/DATA/playground-series-s4e12 (1)/test.csv', index_col=0)\n",
    "\n",
    "# Step 2: Initialize the pipeline\n",
    "\n",
    "pipeline = SmartPremiumPipeline()\n",
    "\n",
    "# Step 3: Define the target column\n",
    "target_column = \"Premium Amount\"\n",
    "\n",
    "# Step 4: Fit the model using different algorithms\n",
    "# Random Forest\n",
    "pipeline.fit(train_df, target_column, model_name=\"RandomForest\", model_params={\"max_depth\": 20, \"max_features\": 'sqrt', \"min_samples_leaf\": 2, \"min_samples_split\": 2, \"n_estimators\": 200})\n",
    "\n",
    "# XGBoost\n",
    "pipeline.fit(train_df, target_column, model_name=\"XGBoost\", model_params={\"n_estimators\": 100, \"max_depth\": 7, \"colsample_bytree\": 1.0, \"learning_rate\": 0.1, \"subsample\": 1.0})\n",
    "\n",
    "# Decision Tree\n",
    "pipeline.fit(df, target_column, model_name=\"DecisionTree\", model_params={\"max_depth\": 5})\n",
    "\n",
    "# Linear Regression\n",
    "pipeline.fit(train_df, target_column, model_name=\"LinearRegression\")\n",
    "\n",
    "# Step 5: Make predictions on new data (same features as training data, minus target column)\n",
    "predictions = pipeline.predict(test_df)\n",
    "\n",
    "# Step 6:  Save predictions\n",
    "test_df['Predicted Premium Amount'] = predictions\n",
    "print(test_df[['Predicted Premium Amount']].head())\n",
    "\n",
    "\n"
   ]
  },
  {
   "cell_type": "code",
   "execution_count": 38,
   "id": "484bfb12",
   "metadata": {},
   "outputs": [],
   "source": [
    "# ml flow tracking server\n",
    "mlflow.set_experiment(\"SmartPremium_First_Test_Experiment\")\n",
    "mlflow.set_tracking_uri(uri=\"http://127.0.0.1:5000\") # Replace with your MLflow server URI\n"
   ]
  },
  {
   "cell_type": "code",
   "execution_count": null,
   "id": "9c75f25a",
   "metadata": {},
   "outputs": [],
   "source": []
  },
  {
   "cell_type": "code",
   "execution_count": null,
   "id": "1db312c0",
   "metadata": {},
   "outputs": [],
   "source": []
  },
  {
   "cell_type": "code",
   "execution_count": null,
   "id": "43bce0db",
   "metadata": {},
   "outputs": [],
   "source": []
  },
  {
   "cell_type": "code",
   "execution_count": null,
   "id": "5c8874eb",
   "metadata": {},
   "outputs": [],
   "source": []
  },
  {
   "cell_type": "code",
   "execution_count": null,
   "id": "5dae0e10",
   "metadata": {},
   "outputs": [],
   "source": []
  },
  {
   "cell_type": "code",
   "execution_count": null,
   "id": "fa3aa829",
   "metadata": {},
   "outputs": [],
   "source": []
  },
  {
   "cell_type": "code",
   "execution_count": null,
   "id": "1f165d4e",
   "metadata": {},
   "outputs": [],
   "source": []
  },
  {
   "cell_type": "code",
   "execution_count": null,
   "id": "9c035a03",
   "metadata": {},
   "outputs": [],
   "source": []
  },
  {
   "cell_type": "code",
   "execution_count": null,
   "id": "8d64fa05",
   "metadata": {},
   "outputs": [],
   "source": []
  },
  {
   "cell_type": "code",
   "execution_count": null,
   "id": "f59b146c",
   "metadata": {},
   "outputs": [],
   "source": []
  },
  {
   "cell_type": "code",
   "execution_count": null,
   "id": "20ee4b9b",
   "metadata": {},
   "outputs": [],
   "source": []
  },
  {
   "cell_type": "code",
   "execution_count": null,
   "id": "22b6454d",
   "metadata": {},
   "outputs": [],
   "source": []
  },
  {
   "cell_type": "code",
   "execution_count": null,
   "id": "a2ad2ca4",
   "metadata": {},
   "outputs": [],
   "source": []
  },
  {
   "cell_type": "code",
   "execution_count": null,
   "id": "85af0666",
   "metadata": {},
   "outputs": [],
   "source": []
  },
  {
   "cell_type": "code",
   "execution_count": null,
   "id": "5ec84368",
   "metadata": {},
   "outputs": [],
   "source": []
  },
  {
   "cell_type": "code",
   "execution_count": null,
   "id": "3fd5f961",
   "metadata": {},
   "outputs": [],
   "source": []
  },
  {
   "cell_type": "code",
   "execution_count": null,
   "id": "2b1c4d88",
   "metadata": {},
   "outputs": [],
   "source": []
  },
  {
   "cell_type": "code",
   "execution_count": null,
   "id": "5daa8b82",
   "metadata": {},
   "outputs": [],
   "source": []
  },
  {
   "cell_type": "code",
   "execution_count": null,
   "id": "abc19678",
   "metadata": {},
   "outputs": [],
   "source": []
  },
  {
   "cell_type": "code",
   "execution_count": null,
   "id": "19726ab7",
   "metadata": {},
   "outputs": [],
   "source": []
  },
  {
   "cell_type": "code",
   "execution_count": null,
   "id": "d5b0279e",
   "metadata": {},
   "outputs": [],
   "source": []
  },
  {
   "cell_type": "code",
   "execution_count": null,
   "id": "932fd9ae",
   "metadata": {},
   "outputs": [],
   "source": []
  },
  {
   "cell_type": "code",
   "execution_count": null,
   "id": "de86332a",
   "metadata": {},
   "outputs": [],
   "source": []
  },
  {
   "cell_type": "code",
   "execution_count": null,
   "id": "7b76df24",
   "metadata": {},
   "outputs": [],
   "source": []
  },
  {
   "cell_type": "code",
   "execution_count": null,
   "id": "3f219832",
   "metadata": {},
   "outputs": [],
   "source": []
  },
  {
   "cell_type": "code",
   "execution_count": null,
   "id": "ef1d4748",
   "metadata": {},
   "outputs": [],
   "source": []
  },
  {
   "cell_type": "code",
   "execution_count": null,
   "id": "1dc7ea5d",
   "metadata": {},
   "outputs": [],
   "source": []
  },
  {
   "cell_type": "code",
   "execution_count": null,
   "id": "102f1171",
   "metadata": {},
   "outputs": [],
   "source": []
  }
 ],
 "metadata": {
  "kernelspec": {
   "display_name": ".venv",
   "language": "python",
   "name": "python3"
  },
  "language_info": {
   "codemirror_mode": {
    "name": "ipython",
    "version": 3
   },
   "file_extension": ".py",
   "mimetype": "text/x-python",
   "name": "python",
   "nbconvert_exporter": "python",
   "pygments_lexer": "ipython3",
   "version": "3.9.6"
  }
 },
 "nbformat": 4,
 "nbformat_minor": 5
}
